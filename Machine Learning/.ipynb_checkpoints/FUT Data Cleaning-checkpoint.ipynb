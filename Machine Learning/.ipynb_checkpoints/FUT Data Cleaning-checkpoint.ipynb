{
 "cells": [
  {
   "cell_type": "markdown",
   "metadata": {},
   "source": [
    "**PREAMBLE**"
   ]
  },
  {
   "cell_type": "code",
   "execution_count": 1,
   "metadata": {},
   "outputs": [],
   "source": [
    "import pandas as pd\n",
    "import numpy as np\n",
    "import math\n",
    "\n",
    "# Import matplotlib for plotting and use magic command for Jupyter Notebooks\n",
    "import matplotlib.pyplot as plt\n",
    "%matplotlib inline"
   ]
  },
  {
   "cell_type": "markdown",
   "metadata": {},
   "source": [
    "<div class=\"alert alert-success\">\n",
    "\n",
    "# *LOADING THE DATA*\n",
    "    \n",
    " "
   ]
  },
  {
   "cell_type": "markdown",
   "metadata": {},
   "source": [
    "**Importing Data from CSV**"
   ]
  },
  {
   "cell_type": "code",
   "execution_count": 2,
   "metadata": {},
   "outputs": [
    {
     "name": "stderr",
     "output_type": "stream",
     "text": [
      "/home/anirudhpisharam/anaconda3/lib/python3.7/site-packages/IPython/core/interactiveshell.py:3058: DtypeWarning: Columns (5) have mixed types. Specify dtype option on import or set low_memory=False.\n",
      "  interactivity=interactivity, compiler=compiler, result=result)\n"
     ]
    }
   ],
   "source": [
    "fut_20_df = pd.read_csv(\"Data/fut_bin20_players.csv\")\n",
    "fut_19_df = pd.read_csv(\"Data/fut_bin19_players.csv\")\n",
    "fut_18_df = pd.read_csv(\"Data/fut_bin18_players.csv\")\n",
    "fut_17_df = pd.read_csv(\"Data/fut_bin17_players.csv\")\n",
    "fut_16_df = pd.read_csv(\"Data/fut_bin16_players.csv\")"
   ]
  },
  {
   "cell_type": "code",
   "execution_count": 3,
   "metadata": {},
   "outputs": [],
   "source": [
    "# using apply function to create a new column \n",
    "fut_16_df['Year'] = fut_16_df.apply(lambda row: \"2016\", axis = 1)\n",
    "fut_17_df['Year'] = fut_17_df.apply(lambda row: \"2017\", axis = 1)\n",
    "fut_18_df['Year'] = fut_18_df.apply(lambda row: \"2018\", axis = 1)\n",
    "fut_19_df['Year'] = fut_19_df.apply(lambda row: \"2019\", axis = 1)\n",
    "fut_20_df['Year'] = fut_20_df.apply(lambda row: \"2020\", axis = 1)\n",
    "\n",
    "Players_Merge = pd.concat([fut_16_df, fut_17_df, fut_18_df, fut_19_df, fut_20_df], ignore_index=True)    # For FUT 16-20                                                                                            \n",
    "Players_Merge_20 = fut_20_df                                                                             # For FUT 20 Only\n",
    "Players_Merge_3 = pd.concat([fut_18_df,fut_19_df,fut_20_df])                                             # For Last 3 Seasons only\n",
    "Players_Mege_first_2 = pd.concat([fut_16_df,fut_17_df])                                                  # For First 2 Seasons only"
   ]
  },
  {
   "cell_type": "markdown",
   "metadata": {},
   "source": [
    "**Store the dataframe**"
   ]
  },
  {
   "cell_type": "code",
   "execution_count": 4,
   "metadata": {},
   "outputs": [],
   "source": [
    "fut_full = Players_Merge                                                                    # For FUT 16-20                                                \n",
    "# fut_full = Players_Merge_20                                                                 # For FUT 20 Only\n",
    "#fut_full = Players_Merge_3                                                                  # For Last 3 seasons Only\n",
    "# fut_full = Players_Merge_first_2                                                            # For First 2 seasons Only"
   ]
  },
  {
   "cell_type": "markdown",
   "metadata": {},
   "source": [
    "**Clean the Dataset**"
   ]
  },
  {
   "cell_type": "code",
   "execution_count": 5,
   "metadata": {},
   "outputs": [],
   "source": [
    "fut = fut_full.drop(['futbin_id','player_extended_name','player_name','revision','date_of_birth',\n",
    "                     'added_date','xbox_last', 'xbox_min', 'xbox_max','xbox_prp',  'cb', 'rb', 'lb',\n",
    "                     'rwb', 'lwb', 'cdm', 'cm', 'rm', 'lm', 'cam', 'cf', 'rf', 'lf', 'rw', 'lw',\n",
    "                     'pc_last', 'pc_min', 'pc_max', 'pc_prp','traits', 'specialities', 'base_id',\n",
    "                     'resource_id','league','nationality','club','ps4_prp'],axis=1)"
   ]
  },
  {
   "cell_type": "code",
   "execution_count": 6,
   "metadata": {},
   "outputs": [],
   "source": [
    "fut = pd.get_dummies(fut)\n",
    "fut = fut.fillna(0)"
   ]
  },
  {
   "cell_type": "code",
   "execution_count": 7,
   "metadata": {},
   "outputs": [
    {
     "name": "stdout",
     "output_type": "stream",
     "text": [
      "The number of columns in the dataframe is: 88\n"
     ]
    }
   ],
   "source": [
    "#To remove the \"origin\" variable\n",
    "fut = fut.loc[:,~fut.columns.str.startswith('origin_')]\n",
    "print('The number of columns in the dataframe is:', len(fut.columns.tolist()))"
   ]
  },
  {
   "cell_type": "code",
   "execution_count": 8,
   "metadata": {},
   "outputs": [],
   "source": [
    "features = fut\n",
    "features = features[features['ps4_min']>0]\n",
    "features = features[features['ps4_min']>0]\n",
    "features = features[features['ps4_last']>0]\n",
    "\n",
    "#Converting Prices to Log\n",
    "features['ln_ps4_min'] = np.log(features['ps4_min'])\n",
    "features['ln_ps4_max'] = np.log(features['ps4_max'])\n",
    "features['ln_ps4_last'] = np.log(features['ps4_last'])\n",
    "\n",
    "features['ln_avg_price'] = (features['ln_ps4_min']+features['ln_ps4_max'])/2 \n",
    "\n",
    "Main_Dataframe = features.drop(['ps4_min','ps4_max','ps4_last'],axis=1)\n",
    "\n",
    "Main_Dataframe.to_csv('Data/FUT_ML_cleaned_data.csv')"
   ]
  }
 ],
 "metadata": {
  "kernelspec": {
   "display_name": "Python 3",
   "language": "python",
   "name": "python3"
  },
  "language_info": {
   "codemirror_mode": {
    "name": "ipython",
    "version": 3
   },
   "file_extension": ".py",
   "mimetype": "text/x-python",
   "name": "python",
   "nbconvert_exporter": "python",
   "pygments_lexer": "ipython3",
   "version": "3.7.4"
  }
 },
 "nbformat": 4,
 "nbformat_minor": 4
}
