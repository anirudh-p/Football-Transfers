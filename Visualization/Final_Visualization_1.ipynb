{
 "cells": [
  {
   "cell_type": "markdown",
   "metadata": {},
   "source": [
    "<div class=\"alert alert-info\" role=\"alert\">\n",
    "  \n",
    "**PREAMBLE** <br>\n",
    "We require the following packages for our subsequent analysis\n",
    "\n",
    "</div>"
   ]
  },
  {
   "cell_type": "code",
   "execution_count": 1,
   "metadata": {},
   "outputs": [
    {
     "data": {
      "text/html": [
       "        <script type=\"text/javascript\">\n",
       "        window.PlotlyConfig = {MathJaxConfig: 'local'};\n",
       "        if (window.MathJax) {MathJax.Hub.Config({SVG: {font: \"STIX-Web\"}});}\n",
       "        if (typeof require !== 'undefined') {\n",
       "        require.undef(\"plotly\");\n",
       "        requirejs.config({\n",
       "            paths: {\n",
       "                'plotly': ['https://cdn.plot.ly/plotly-latest.min']\n",
       "            }\n",
       "        });\n",
       "        require(['plotly'], function(Plotly) {\n",
       "            window._Plotly = Plotly;\n",
       "        });\n",
       "        }\n",
       "        </script>\n",
       "        "
      ]
     },
     "metadata": {},
     "output_type": "display_data"
    }
   ],
   "source": [
    "import numpy as np # linear algebra\n",
    "import pandas as pd # data processing, CSV file I/O (e.g. pd.read_csv)\n",
    "\n",
    "# charts\n",
    "import seaborn as sns \n",
    "import matplotlib.pyplot as plt\n",
    "import squarify #TreeMap\n",
    "\n",
    "# import graph objects as \"go\"\n",
    "import plotly.graph_objs as go\n",
    "\n",
    "# For exercise 4 and 5\n",
    "import plotly.express as px\n",
    "\n",
    "#for offline plotting using plotly\n",
    "from plotly.offline import download_plotlyjs, init_notebook_mode, plot, iplot\n",
    "\n",
    "#for in-notebooks plot using plotly\n",
    "init_notebook_mode(connected=True)\n",
    "\n",
    "%matplotlib inline\n",
    "from IPython.display import display\n",
    "# ignore warning, uncomment the two lines below only if warnings are spurious\n",
    "# import warnings\n",
    "# warnings.filterwarnings(\"ignore\")\n",
    "\n",
    "from ipywidgets import interact, interactive, fixed, interact_manual\n",
    "import ipywidgets as widgets"
   ]
  },
  {
   "cell_type": "markdown",
   "metadata": {},
   "source": [
    "<div class=\"alert alert-info\" role=\"alert\">\n",
    "    \n",
    "**DATASET** <br>\n",
    "We will use the data from the Transfermarkt website for all transfers between 2005 and 2019. This data was obtained by Webscraping using the Beautiful Soup package, the details of which are avaiable in our Github Page.\n",
    "</div>"
   ]
  },
  {
   "cell_type": "code",
   "execution_count": 2,
   "metadata": {},
   "outputs": [],
   "source": [
    "Test_1 = pd.read_csv(\"transfer_data_Final_Master_2010_2011_Jul.csv\")\n",
    "Test_2 = pd.read_csv(\"transfer_data_Final_Master_2011_Aug_2012_Jun.csv\")\n",
    "Test_3 = pd.read_csv(\"transfer_data_Final_Master_2012_Jul_2015.csv\")\n",
    "Test_4 = pd.read_csv(\"transfer_data_Final_Master_2016_Aug_Dec.csv\")\n",
    "Test_5 = pd.read_csv(\"transfer_data_Final_Master_2016_Jan_Jul.csv\")\n",
    "Test_6 = pd.read_csv(\"transfer_data_Final_Master_2017.csv\")\n",
    "Test_7 = pd.read_csv(\"transfer_data_Final_Master_2018.csv\")\n",
    "Test_8 = pd.read_csv(\"transfer_data_Final_Master_2019.csv\")\n",
    "Test_9 = pd.read_csv(\"transfer_data_Final_Master_2005.csv\")\n",
    "Test_10 = pd.read_csv(\"transfer_data_Final_Master_2006.csv\")\n",
    "Test_11 = pd.read_csv(\"transfer_data_Final_Master_2008.csv\")\n",
    "Test_12 = pd.read_csv(\"transfer_data_Final_Master_2009.csv\")\n",
    "Test_13 = pd.read_csv(\"transfer_data_Final_Master_2007.csv\")\n",
    "Test_14 = pd.read_csv(\"transfer_data_Final_Master_2007_Apr.csv\")\n",
    "Test_EDA = pd.concat([Test_1, Test_2, Test_3,\n",
    "                      Test_4, Test_5, Test_6, \n",
    "                      Test_7, Test_8, Test_9, \n",
    "                      Test_10, Test_11, Test_12, \n",
    "                      Test_13, Test_14], ignore_index=True)"
   ]
  },
  {
   "cell_type": "markdown",
   "metadata": {},
   "source": [
    "<div class=\"alert alert-info\" role=\"alert\">\n",
    "\n",
    "**DATA CLEANING** <br>\n",
    "We need to cleaning the dataset, including club names, and standardize the float variables such as Market Valuation and Transfer Fee ('Transfer'). We also create a new column, known as Surplus/Deficit. We define and understand each of the variables here: <br>\n",
    "1. Date: The data on which the Player Transfer details were completed.\n",
    "2. Name: Name of the Player for which the transfer took place.\n",
    "3. Age: This represents the age of the player at the time of the transfer.\n",
    "4. Position: This is the primary position at which the player plays.\n",
    "5. Nationality: The players' nationality at the time of the transfer.\n",
    "6. Club Left: The existing club of the player which he leaves on the Transfer Date. This club receives the Transfer Fee.\n",
    "7. Club Joined: This is the new club for the player which he joins on the Transfer Date. This club pays the Transfer Fee.\n",
    "8. Market Valuation: The value of the player at the time of the Transfer as determined by Transfermarkt.\n",
    "9. Transfer: This represents the actual fee paid by the \"Club Joined\" to complete the transfer of the player.\n",
    "10. Surplus/Deficit: This is essentially the difference between Transfer Fee and Market Valuation. When the difference between Transfer Fee and Market Valuation is positive, it is termed as Surplus (from the perspective of \"CLub left\"). When the difference between Transfer Fee and Market Valuation is negative, it is termed as Deficit (from the perspective of \"CLub left\").\n",
    "11. Year: The year in which the Transfer took place. We create this variable to ease our Time-Series Analysis.\n",
    "    \n",
    "</div>"
   ]
  },
  {
   "cell_type": "code",
   "execution_count": 3,
   "metadata": {},
   "outputs": [
    {
     "data": {
      "text/html": [
       "<div>\n",
       "<style scoped>\n",
       "    .dataframe tbody tr th:only-of-type {\n",
       "        vertical-align: middle;\n",
       "    }\n",
       "\n",
       "    .dataframe tbody tr th {\n",
       "        vertical-align: top;\n",
       "    }\n",
       "\n",
       "    .dataframe thead th {\n",
       "        text-align: right;\n",
       "    }\n",
       "</style>\n",
       "<table border=\"1\" class=\"dataframe\">\n",
       "  <thead>\n",
       "    <tr style=\"text-align: right;\">\n",
       "      <th></th>\n",
       "      <th>index</th>\n",
       "      <th>Date</th>\n",
       "      <th>Name</th>\n",
       "      <th>Age</th>\n",
       "      <th>Position</th>\n",
       "      <th>Nationality</th>\n",
       "      <th>Club Left</th>\n",
       "      <th>League Left</th>\n",
       "      <th>Club Joined</th>\n",
       "      <th>League Joined</th>\n",
       "      <th>Market Valuation</th>\n",
       "      <th>Transfer</th>\n",
       "      <th>Surplus/Deficit</th>\n",
       "      <th>Year</th>\n",
       "    </tr>\n",
       "  </thead>\n",
       "  <tbody>\n",
       "    <tr>\n",
       "      <td>0</td>\n",
       "      <td>0</td>\n",
       "      <td>2010-01-01</td>\n",
       "      <td>Douglas Costa</td>\n",
       "      <td>19.0</td>\n",
       "      <td>Right Winger</td>\n",
       "      <td>Brazil</td>\n",
       "      <td>Grêmio</td>\n",
       "      <td>Série A</td>\n",
       "      <td>Shakhtar D.</td>\n",
       "      <td>NaN</td>\n",
       "      <td>4000000.0</td>\n",
       "      <td>8000000.0</td>\n",
       "      <td>4000000.0</td>\n",
       "      <td>2010</td>\n",
       "    </tr>\n",
       "    <tr>\n",
       "      <td>1</td>\n",
       "      <td>1</td>\n",
       "      <td>2010-01-01</td>\n",
       "      <td>Florent Sinama-Pongolle</td>\n",
       "      <td>25.0</td>\n",
       "      <td>Second Striker</td>\n",
       "      <td>France</td>\n",
       "      <td>Atlético Madrid</td>\n",
       "      <td>LaLiga</td>\n",
       "      <td>Sporting CP</td>\n",
       "      <td>NaN</td>\n",
       "      <td>7000000.0</td>\n",
       "      <td>6500000.0</td>\n",
       "      <td>-500000.0</td>\n",
       "      <td>2010</td>\n",
       "    </tr>\n",
       "    <tr>\n",
       "      <td>2</td>\n",
       "      <td>2</td>\n",
       "      <td>2010-01-01</td>\n",
       "      <td>Alex Teixeira</td>\n",
       "      <td>19.0</td>\n",
       "      <td>Left Winger</td>\n",
       "      <td>Brazil</td>\n",
       "      <td>Vasco da Gama</td>\n",
       "      <td>Série A</td>\n",
       "      <td>Shakhtar D.</td>\n",
       "      <td>NaN</td>\n",
       "      <td>3500000.0</td>\n",
       "      <td>6000000.0</td>\n",
       "      <td>2500000.0</td>\n",
       "      <td>2010</td>\n",
       "    </tr>\n",
       "    <tr>\n",
       "      <td>3</td>\n",
       "      <td>3</td>\n",
       "      <td>2010-01-01</td>\n",
       "      <td>Keisuke Honda</td>\n",
       "      <td>23.0</td>\n",
       "      <td>Attacking Midfield</td>\n",
       "      <td>Japan</td>\n",
       "      <td>VVV-Venlo</td>\n",
       "      <td>Eredivisie</td>\n",
       "      <td>CSKA Moscow</td>\n",
       "      <td>NaN</td>\n",
       "      <td>3000000.0</td>\n",
       "      <td>6000000.0</td>\n",
       "      <td>3000000.0</td>\n",
       "      <td>2010</td>\n",
       "    </tr>\n",
       "    <tr>\n",
       "      <td>4</td>\n",
       "      <td>4</td>\n",
       "      <td>2010-01-01</td>\n",
       "      <td>Younès Kaboul</td>\n",
       "      <td>23.0</td>\n",
       "      <td>Centre-Back</td>\n",
       "      <td>France</td>\n",
       "      <td>Portsmouth</td>\n",
       "      <td>Premier League</td>\n",
       "      <td>Spurs</td>\n",
       "      <td>NaN</td>\n",
       "      <td>5700000.0</td>\n",
       "      <td>5900000.0</td>\n",
       "      <td>200000.0</td>\n",
       "      <td>2010</td>\n",
       "    </tr>\n",
       "    <tr>\n",
       "      <td>...</td>\n",
       "      <td>...</td>\n",
       "      <td>...</td>\n",
       "      <td>...</td>\n",
       "      <td>...</td>\n",
       "      <td>...</td>\n",
       "      <td>...</td>\n",
       "      <td>...</td>\n",
       "      <td>...</td>\n",
       "      <td>...</td>\n",
       "      <td>...</td>\n",
       "      <td>...</td>\n",
       "      <td>...</td>\n",
       "      <td>...</td>\n",
       "      <td>...</td>\n",
       "    </tr>\n",
       "    <tr>\n",
       "      <td>61835</td>\n",
       "      <td>63255</td>\n",
       "      <td>2007-09-25</td>\n",
       "      <td>Thomas Sowunmi</td>\n",
       "      <td>29.0</td>\n",
       "      <td>Centre-Forward</td>\n",
       "      <td>Hungary</td>\n",
       "      <td>Without Club</td>\n",
       "      <td>NaN</td>\n",
       "      <td>Vasas FC</td>\n",
       "      <td>NaN</td>\n",
       "      <td>300000.0</td>\n",
       "      <td>0.0</td>\n",
       "      <td>-300000.0</td>\n",
       "      <td>2007</td>\n",
       "    </tr>\n",
       "    <tr>\n",
       "      <td>61836</td>\n",
       "      <td>63256</td>\n",
       "      <td>2007-09-28</td>\n",
       "      <td>Onur Karali</td>\n",
       "      <td>25.0</td>\n",
       "      <td>Midfielder</td>\n",
       "      <td>Turkey</td>\n",
       "      <td>Osmaniyespor</td>\n",
       "      <td>Turkey\\t\\t</td>\n",
       "      <td>Altinova Bld</td>\n",
       "      <td>NaN</td>\n",
       "      <td>200000.0</td>\n",
       "      <td>0.0</td>\n",
       "      <td>-200000.0</td>\n",
       "      <td>2007</td>\n",
       "    </tr>\n",
       "    <tr>\n",
       "      <td>61837</td>\n",
       "      <td>63257</td>\n",
       "      <td>2007-09-28</td>\n",
       "      <td>Enver Isik</td>\n",
       "      <td>22.0</td>\n",
       "      <td>Right Winger</td>\n",
       "      <td>Turkey</td>\n",
       "      <td>Kayserispor</td>\n",
       "      <td>Süper Lig</td>\n",
       "      <td>Göztepe</td>\n",
       "      <td>NaN</td>\n",
       "      <td>250000.0</td>\n",
       "      <td>0.0</td>\n",
       "      <td>-250000.0</td>\n",
       "      <td>2007</td>\n",
       "    </tr>\n",
       "    <tr>\n",
       "      <td>61838</td>\n",
       "      <td>63258</td>\n",
       "      <td>2007-09-28</td>\n",
       "      <td>Mustafa Özzengi</td>\n",
       "      <td>20.0</td>\n",
       "      <td>Goalkeeper</td>\n",
       "      <td>Turkey</td>\n",
       "      <td>Galatasaray U21</td>\n",
       "      <td>Turkey\\t\\t</td>\n",
       "      <td>Bakirköyspor</td>\n",
       "      <td>NaN</td>\n",
       "      <td>50000.0</td>\n",
       "      <td>0.0</td>\n",
       "      <td>-50000.0</td>\n",
       "      <td>2007</td>\n",
       "    </tr>\n",
       "    <tr>\n",
       "      <td>61839</td>\n",
       "      <td>63259</td>\n",
       "      <td>2007-09-28</td>\n",
       "      <td>Damián Lanza</td>\n",
       "      <td>25.0</td>\n",
       "      <td>Goalkeeper</td>\n",
       "      <td>Ecuador</td>\n",
       "      <td>Without Club</td>\n",
       "      <td>NaN</td>\n",
       "      <td>Genoa</td>\n",
       "      <td>NaN</td>\n",
       "      <td>500000.0</td>\n",
       "      <td>0.0</td>\n",
       "      <td>-500000.0</td>\n",
       "      <td>2007</td>\n",
       "    </tr>\n",
       "  </tbody>\n",
       "</table>\n",
       "<p>61840 rows × 14 columns</p>\n",
       "</div>"
      ],
      "text/plain": [
       "       index       Date                     Name   Age            Position  \\\n",
       "0          0 2010-01-01            Douglas Costa  19.0        Right Winger   \n",
       "1          1 2010-01-01  Florent Sinama-Pongolle  25.0      Second Striker   \n",
       "2          2 2010-01-01            Alex Teixeira  19.0         Left Winger   \n",
       "3          3 2010-01-01            Keisuke Honda  23.0  Attacking Midfield   \n",
       "4          4 2010-01-01            Younès Kaboul  23.0         Centre-Back   \n",
       "...      ...        ...                      ...   ...                 ...   \n",
       "61835  63255 2007-09-25           Thomas Sowunmi  29.0      Centre-Forward   \n",
       "61836  63256 2007-09-28              Onur Karali  25.0          Midfielder   \n",
       "61837  63257 2007-09-28               Enver Isik  22.0        Right Winger   \n",
       "61838  63258 2007-09-28          Mustafa Özzengi  20.0          Goalkeeper   \n",
       "61839  63259 2007-09-28             Damián Lanza  25.0          Goalkeeper   \n",
       "\n",
       "      Nationality         Club Left       League Left    Club Joined  \\\n",
       "0          Brazil           Grêmio           Série A    Shakhtar D.    \n",
       "1          France  Atlético Madrid            LaLiga    Sporting CP    \n",
       "2          Brazil    Vasco da Gama           Série A    Shakhtar D.    \n",
       "3           Japan        VVV-Venlo        Eredivisie    CSKA Moscow    \n",
       "4          France       Portsmouth    Premier League          Spurs    \n",
       "...           ...               ...               ...            ...   \n",
       "61835     Hungary     Without Club                NaN      Vasas FC    \n",
       "61836      Turkey     Osmaniyespor         Turkey\\t\\t  Altinova Bld    \n",
       "61837      Turkey      Kayserispor         Süper Lig        Göztepe    \n",
       "61838      Turkey  Galatasaray U21         Turkey\\t\\t  Bakirköyspor    \n",
       "61839     Ecuador     Without Club                NaN         Genoa    \n",
       "\n",
       "       League Joined  Market Valuation   Transfer  Surplus/Deficit  Year  \n",
       "0                NaN         4000000.0  8000000.0        4000000.0  2010  \n",
       "1                NaN         7000000.0  6500000.0        -500000.0  2010  \n",
       "2                NaN         3500000.0  6000000.0        2500000.0  2010  \n",
       "3                NaN         3000000.0  6000000.0        3000000.0  2010  \n",
       "4                NaN         5700000.0  5900000.0         200000.0  2010  \n",
       "...              ...               ...        ...              ...   ...  \n",
       "61835            NaN          300000.0        0.0        -300000.0  2007  \n",
       "61836            NaN          200000.0        0.0        -200000.0  2007  \n",
       "61837            NaN          250000.0        0.0        -250000.0  2007  \n",
       "61838            NaN           50000.0        0.0         -50000.0  2007  \n",
       "61839            NaN          500000.0        0.0        -500000.0  2007  \n",
       "\n",
       "[61840 rows x 14 columns]"
      ]
     },
     "execution_count": 3,
     "metadata": {},
     "output_type": "execute_result"
    }
   ],
   "source": [
    "# Cleaning the name for the column Club left\n",
    "New = Test_EDA['Club Left'].str.replace('\\n', '')\n",
    "New = New.to_frame(name = 'Club_Left')\n",
    "\n",
    "# Cleaning the name for the column Club Joined\n",
    "New1 = Test_EDA['Club Joined'].str.replace('\\n', '')\n",
    "New1 = New1.to_frame(name = 'Club_Joined')\n",
    "\n",
    "# Cleanning Transfer Data\n",
    "New2 = Test_EDA['Transfer'].str.replace('?', '0')\n",
    "New2 = New2.to_frame(name = 'Transfer_Fee')\n",
    "\n",
    "New2[\"Transfer_Fee\"]=New2[\"Transfer_Fee\"].str.replace(\"Free transfer\",\"0\")\n",
    "New2[\"Transfer_Fee\"]=New2[\"Transfer_Fee\"].str.replace(\"-\",\"0\")\n",
    "New2[\"Transfer_Fee\"]=New2[\"Transfer_Fee\"].str.replace(\",\",\"\")\n",
    "New2[\"Transfer_Fee\"]=New2[\"Transfer_Fee\"].str.replace(\"draft\",\"0\")\n",
    "New2[\"Transfer_Fee\"]=New2[\"Transfer_Fee\"].str.replace(\"Draft\",\"0\")\n",
    "New2[\"Transfer_Fee\"]=New2[\"Transfer_Fee\"].str.replace(\" mil. €\",\"0000\")\n",
    "New2[\"Transfer_Fee\"]=New2[\"Transfer_Fee\"].str.replace(\" K €\",\"000\")\n",
    "New2[\"Transfer_Fee\"]=New2[\"Transfer_Fee\"].str.replace(\" €\",\"\")\n",
    "\n",
    "# Cleaning Market Valuation data\n",
    "New3 = Test_EDA['Market Valuation'].str.replace(',', '')\n",
    "New3 = New3.to_frame(name = 'Market_Valuation')\n",
    "New3[\"Market_Valuation\"]=New3[\"Market_Valuation\"].str.replace(\" mil. €\",\"0000\")\n",
    "New3[\"Market_Valuation\"]=New3[\"Market_Valuation\"].str.replace(\" K €\",\"000\")\n",
    "\n",
    "#Replacing with original data\n",
    "Test_EDA[\"Club Left\"]=New[\"Club_Left\"]\n",
    "Test_EDA[\"Club Joined\"]=New1[\"Club_Joined\"]\n",
    "Test_EDA[\"Transfer\"]=New2[\"Transfer_Fee\"]\n",
    "Test_EDA[\"Market Valuation\"]=New3[\"Market_Valuation\"]\n",
    "\n",
    "# Converting the Date from object ot a datetime format\n",
    "Test_EDA['Date'] = pd.to_datetime(Test_EDA['Date'], errors='coerce')\n",
    "\n",
    "# Removing retired players\n",
    "Test_EDA.rename(columns={\"Club Joined\": \"Club_Joined\"}, inplace=True)\n",
    "Test_EDA=Test_EDA[~Test_EDA.Club_Joined.str.contains(\"Retired\")]\n",
    "Test_EDA.rename(columns={\"Club_Joined\": \"Club Joined\"}, inplace=True)\n",
    "\n",
    "Test_EDA.reset_index(inplace=True)\n",
    "\n",
    "#Converting to float\n",
    "Test_EDA[\"Transfer\"]=Test_EDA['Transfer'].apply(lambda x:float(x))\n",
    "Test_EDA[\"Market Valuation\"]=Test_EDA[\"Market Valuation\"].apply(lambda x:float(x))\n",
    "Test_EDA[\"Age\"]=Test_EDA['Age'].apply(lambda x:float(x))\n",
    "\n",
    "#Adding surplus/deficit column\n",
    "Test_EDA.rename(columns={\"Market Valuation\": \"Market_Valuation\"}, inplace=True)\n",
    "Test_EDA[\"Surplus/Deficit\"]=Test_EDA.Transfer-Test_EDA.Market_Valuation\n",
    "Test_EDA.rename(columns={\"Market_Valuation\": \"Market Valuation\"}, inplace=True)\n",
    "\n",
    "#Adding year column\n",
    "Test_EDA[\"Year\"]=pd.DatetimeIndex(Test_EDA[\"Date\"]).year\n",
    "\n",
    "Test_EDA"
   ]
  },
  {
   "cell_type": "markdown",
   "metadata": {},
   "source": [
    "<div class=\"alert alert-danger\" role=\"alert\">\n",
    "\n",
    "**Part 1: Analyzing the Biggest Spenders** <br><br>\n",
    "Firstly, we aggregate the Transfer Fee spent by each club between 2005-2019 and take the top 15 clubs from that list. These clubs are the Top 15 Transfer Fee Spenders in the world of football for the period 2005-2019.\n",
    "Secondly, we create a DataFrame to analyze the yearly Transfer Fee spending pattern for the Top 15 Transfer Fee Spenders.\n",
    "    \n",
    "</div>"
   ]
  },
  {
   "cell_type": "code",
   "execution_count": 4,
   "metadata": {},
   "outputs": [
    {
     "data": {
      "text/html": [
       "<div>\n",
       "<style scoped>\n",
       "    .dataframe tbody tr th:only-of-type {\n",
       "        vertical-align: middle;\n",
       "    }\n",
       "\n",
       "    .dataframe tbody tr th {\n",
       "        vertical-align: top;\n",
       "    }\n",
       "\n",
       "    .dataframe thead th {\n",
       "        text-align: right;\n",
       "    }\n",
       "</style>\n",
       "<table border=\"1\" class=\"dataframe\">\n",
       "  <thead>\n",
       "    <tr style=\"text-align: right;\">\n",
       "      <th></th>\n",
       "      <th>Club Joined</th>\n",
       "      <th>Transfer</th>\n",
       "      <th>No. of Players Bought</th>\n",
       "      <th>Surplus/Deficit</th>\n",
       "    </tr>\n",
       "  </thead>\n",
       "  <tbody>\n",
       "    <tr>\n",
       "      <td>0</td>\n",
       "      <td>Man City</td>\n",
       "      <td>1.905340e+09</td>\n",
       "      <td>100</td>\n",
       "      <td>479365000.0</td>\n",
       "    </tr>\n",
       "    <tr>\n",
       "      <td>1</td>\n",
       "      <td>Real Madrid</td>\n",
       "      <td>1.697900e+09</td>\n",
       "      <td>68</td>\n",
       "      <td>97240000.0</td>\n",
       "    </tr>\n",
       "    <tr>\n",
       "      <td>2</td>\n",
       "      <td>FC Barcelona</td>\n",
       "      <td>1.630070e+09</td>\n",
       "      <td>55</td>\n",
       "      <td>249770000.0</td>\n",
       "    </tr>\n",
       "    <tr>\n",
       "      <td>3</td>\n",
       "      <td>Chelsea</td>\n",
       "      <td>1.573880e+09</td>\n",
       "      <td>82</td>\n",
       "      <td>295255000.0</td>\n",
       "    </tr>\n",
       "    <tr>\n",
       "      <td>4</td>\n",
       "      <td>Man Utd</td>\n",
       "      <td>1.407130e+09</td>\n",
       "      <td>53</td>\n",
       "      <td>408780000.0</td>\n",
       "    </tr>\n",
       "    <tr>\n",
       "      <td>5</td>\n",
       "      <td>Paris SG</td>\n",
       "      <td>1.297100e+09</td>\n",
       "      <td>59</td>\n",
       "      <td>244100000.0</td>\n",
       "    </tr>\n",
       "    <tr>\n",
       "      <td>6</td>\n",
       "      <td>Juventus</td>\n",
       "      <td>1.281790e+09</td>\n",
       "      <td>86</td>\n",
       "      <td>118165000.0</td>\n",
       "    </tr>\n",
       "    <tr>\n",
       "      <td>7</td>\n",
       "      <td>Liverpool</td>\n",
       "      <td>1.222448e+09</td>\n",
       "      <td>75</td>\n",
       "      <td>332073000.0</td>\n",
       "    </tr>\n",
       "    <tr>\n",
       "      <td>8</td>\n",
       "      <td>Atlético Madrid</td>\n",
       "      <td>1.114510e+09</td>\n",
       "      <td>68</td>\n",
       "      <td>139160000.0</td>\n",
       "    </tr>\n",
       "    <tr>\n",
       "      <td>9</td>\n",
       "      <td>Spurs</td>\n",
       "      <td>9.642200e+08</td>\n",
       "      <td>78</td>\n",
       "      <td>160620000.0</td>\n",
       "    </tr>\n",
       "    <tr>\n",
       "      <td>10</td>\n",
       "      <td>Arsenal</td>\n",
       "      <td>9.488100e+08</td>\n",
       "      <td>57</td>\n",
       "      <td>201060000.0</td>\n",
       "    </tr>\n",
       "    <tr>\n",
       "      <td>11</td>\n",
       "      <td>Inter</td>\n",
       "      <td>9.347400e+08</td>\n",
       "      <td>73</td>\n",
       "      <td>36265000.0</td>\n",
       "    </tr>\n",
       "    <tr>\n",
       "      <td>12</td>\n",
       "      <td>AC Milan</td>\n",
       "      <td>8.969300e+08</td>\n",
       "      <td>75</td>\n",
       "      <td>26430000.0</td>\n",
       "    </tr>\n",
       "    <tr>\n",
       "      <td>13</td>\n",
       "      <td>Bayern Munich</td>\n",
       "      <td>7.910000e+08</td>\n",
       "      <td>39</td>\n",
       "      <td>68400000.0</td>\n",
       "    </tr>\n",
       "    <tr>\n",
       "      <td>14</td>\n",
       "      <td>Monaco</td>\n",
       "      <td>7.558600e+08</td>\n",
       "      <td>83</td>\n",
       "      <td>123535000.0</td>\n",
       "    </tr>\n",
       "  </tbody>\n",
       "</table>\n",
       "</div>"
      ],
      "text/plain": [
       "         Club Joined      Transfer  No. of Players Bought  Surplus/Deficit\n",
       "0          Man City   1.905340e+09                    100      479365000.0\n",
       "1       Real Madrid   1.697900e+09                     68       97240000.0\n",
       "2      FC Barcelona   1.630070e+09                     55      249770000.0\n",
       "3           Chelsea   1.573880e+09                     82      295255000.0\n",
       "4           Man Utd   1.407130e+09                     53      408780000.0\n",
       "5          Paris SG   1.297100e+09                     59      244100000.0\n",
       "6          Juventus   1.281790e+09                     86      118165000.0\n",
       "7         Liverpool   1.222448e+09                     75      332073000.0\n",
       "8   Atlético Madrid   1.114510e+09                     68      139160000.0\n",
       "9             Spurs   9.642200e+08                     78      160620000.0\n",
       "10          Arsenal   9.488100e+08                     57      201060000.0\n",
       "11            Inter   9.347400e+08                     73       36265000.0\n",
       "12         AC Milan   8.969300e+08                     75       26430000.0\n",
       "13   Bayern Munich    7.910000e+08                     39       68400000.0\n",
       "14           Monaco   7.558600e+08                     83      123535000.0"
      ]
     },
     "execution_count": 4,
     "metadata": {},
     "output_type": "execute_result"
    }
   ],
   "source": [
    "# Top 15 clubs by spending\n",
    "Top_Spenders = Test_EDA.groupby(\"Club Joined\").agg({\"Transfer\":\"sum\", 'Surplus/Deficit':'count'})\n",
    "Top_Spenders = Top_Spenders.sort_values(by='Transfer', ascending = False)\n",
    "Top_Spenders.rename(columns={\"Surplus/Deficit\": \"No. of Players Bought\"}, inplace=True)\n",
    "Top_Spenders = Top_Spenders[:15]\n",
    "\n",
    "Top_Spenders_Surplus = pd.merge(Top_Spenders.reset_index(),Test_EDA.groupby(\"Club Joined\").agg({\"Surplus/Deficit\":\"sum\"}),\n",
    "                    how='inner',\n",
    "                    on = 'Club Joined')\n",
    "\n",
    "Top_Spenders_EDA = pd.merge(Top_Spenders.reset_index(),Test_EDA.reset_index(),\n",
    "                    how='inner',\n",
    "                    on = 'Club Joined')\n",
    "Trend_Top_Spenders = Top_Spenders_EDA.groupby(['Club Joined', 'Year']).agg({'Transfer_y':'sum'})\n",
    "Trend_Top_Spenders.rename(columns={\"Transfer_y\": \"Total Fee Spent\"}, inplace=True)\n",
    "Top_Spenders_Surplus"
   ]
  },
  {
   "cell_type": "markdown",
   "metadata": {},
   "source": [
    "<div class=\"alert alert-warning\" role=\"alert\">\n",
    "\n",
    "**Method** <br>\n",
    "In following graph, we analyze the aggregate transfer Fee spending by the Top 15 Transfer Fee Spenders for the period 2005-2019. At the same time, we check the surplus or defict these clubs have incurred in making this Transfer for the period 2005-2019.\n",
    "\n",
    "</div>"
   ]
  },
  {
   "cell_type": "markdown",
   "metadata": {},
   "source": [
    "<div class=\"alert alert-success\" role=\"alert\">\n",
    "    \n",
    "**Inference**<br>\n",
    "As expected, the biggest clubs in the world are the ones who spend the most on Transfer Fees to attract the best players in the world. The surprising fact is that it is these very clubs who are having to overpay for the players despite the power and the command that they hold in the football world. This brings to light a few important points to note in the football transfer market: <br>\n",
    "1. It underscores the importance and bargaining power of world-class players and their agents in the Transfer Market.\n",
    "2. It highlights how the clubs nurturing and selling the world-class players are able to negotiate favourable terms and conditions for themselves.\n",
    "3. The player talent is the source of bargaining power in the football Transfer Market.\n",
    "    \n",
    "</div>"
   ]
  },
  {
   "cell_type": "code",
   "execution_count": 7,
   "metadata": {},
   "outputs": [
    {
     "data": {
      "application/vnd.plotly.v1+json": {
       "config": {
        "plotlyServerURL": "https://plot.ly"
       },
       "data": [
        {
         "alignmentgroup": "True",
         "hoverlabel": {
          "namelength": 0
         },
         "hovertemplate": "<b>%{hovertext}</b><br><br>Club Joined=%{x}<br>Transfer=%{y}<br>Surplus/Deficit=%{marker.color}",
         "hovertext": [
          "Man City ",
          "Real Madrid ",
          "FC Barcelona ",
          "Chelsea ",
          "Man Utd ",
          "Paris SG ",
          "Juventus ",
          "Liverpool ",
          "Atlético Madrid ",
          "Spurs ",
          "Arsenal ",
          "Inter ",
          "AC Milan ",
          "Bayern Munich  ",
          "Monaco "
         ],
         "legendgroup": "",
         "marker": {
          "color": [
           479365000,
           97240000,
           249770000,
           295255000,
           408780000,
           244100000,
           118165000,
           332073000,
           139160000,
           160620000,
           201060000,
           36265000,
           26430000,
           68400000,
           123535000
          ],
          "coloraxis": "coloraxis"
         },
         "name": "",
         "offsetgroup": "",
         "orientation": "v",
         "showlegend": false,
         "textposition": "auto",
         "type": "bar",
         "x": [
          "Man City ",
          "Real Madrid ",
          "FC Barcelona ",
          "Chelsea ",
          "Man Utd ",
          "Paris SG ",
          "Juventus ",
          "Liverpool ",
          "Atlético Madrid ",
          "Spurs ",
          "Arsenal ",
          "Inter ",
          "AC Milan ",
          "Bayern Munich  ",
          "Monaco "
         ],
         "xaxis": "x",
         "y": [
          1905340000,
          1697900000,
          1630070000,
          1573880000,
          1407130000,
          1297100000,
          1281790000,
          1222448000,
          1114510000,
          964220000,
          948810000,
          934740000,
          896930000,
          791000000,
          755860000
         ],
         "yaxis": "y"
        },
        {
         "hovertemplate": "Club: %{x}<br>Number of Transfers: %{y:,.0f}",
         "line": {
          "width": 3
         },
         "marker": {
          "color": "rgb(237,239,93)"
         },
         "name": "Number of Transfers",
         "text": [
          100,
          68,
          55,
          82,
          53,
          59,
          86,
          75,
          68,
          78,
          57,
          73,
          75,
          39,
          83
         ],
         "type": "scatter",
         "x": [
          "Man City ",
          "Real Madrid ",
          "FC Barcelona ",
          "Chelsea ",
          "Man Utd ",
          "Paris SG ",
          "Juventus ",
          "Liverpool ",
          "Atlético Madrid ",
          "Spurs ",
          "Arsenal ",
          "Inter ",
          "AC Milan ",
          "Bayern Munich  ",
          "Monaco "
         ],
         "y": [
          100,
          68,
          55,
          82,
          53,
          59,
          86,
          75,
          68,
          78,
          57,
          73,
          75,
          39,
          83
         ],
         "yaxis": "y2"
        }
       ],
       "layout": {
        "barmode": "relative",
        "coloraxis": {
         "colorbar": {
          "title": {
           "text": "Surplus/Deficit"
          }
         },
         "colorscale": [
          [
           0,
           "rgb(255,245,240)"
          ],
          [
           0.125,
           "rgb(254,224,210)"
          ],
          [
           0.25,
           "rgb(252,187,161)"
          ],
          [
           0.375,
           "rgb(252,146,114)"
          ],
          [
           0.5,
           "rgb(251,106,74)"
          ],
          [
           0.625,
           "rgb(239,59,44)"
          ],
          [
           0.75,
           "rgb(203,24,29)"
          ],
          [
           0.875,
           "rgb(165,15,21)"
          ],
          [
           1,
           "rgb(103,0,13)"
          ]
         ]
        },
        "font": {
         "color": "white",
         "family": "Arial, monospace",
         "size": 10
        },
        "hoverlabel": {
         "bgcolor": "black",
         "bordercolor": "black",
         "font": {
          "color": "white",
          "family": "Arial, monospace",
          "size": 14
         }
        },
        "legend": {
         "tracegroupgap": 0,
         "x": 0.8,
         "y": 1
        },
        "template": {
         "data": {
          "bar": [
           {
            "error_x": {
             "color": "#f2f5fa"
            },
            "error_y": {
             "color": "#f2f5fa"
            },
            "marker": {
             "line": {
              "color": "rgb(17,17,17)",
              "width": 0.5
             }
            },
            "type": "bar"
           }
          ],
          "barpolar": [
           {
            "marker": {
             "line": {
              "color": "rgb(17,17,17)",
              "width": 0.5
             }
            },
            "type": "barpolar"
           }
          ],
          "carpet": [
           {
            "aaxis": {
             "endlinecolor": "#A2B1C6",
             "gridcolor": "#506784",
             "linecolor": "#506784",
             "minorgridcolor": "#506784",
             "startlinecolor": "#A2B1C6"
            },
            "baxis": {
             "endlinecolor": "#A2B1C6",
             "gridcolor": "#506784",
             "linecolor": "#506784",
             "minorgridcolor": "#506784",
             "startlinecolor": "#A2B1C6"
            },
            "type": "carpet"
           }
          ],
          "choropleth": [
           {
            "colorbar": {
             "outlinewidth": 0,
             "ticks": ""
            },
            "type": "choropleth"
           }
          ],
          "contour": [
           {
            "colorbar": {
             "outlinewidth": 0,
             "ticks": ""
            },
            "colorscale": [
             [
              0,
              "#0d0887"
             ],
             [
              0.1111111111111111,
              "#46039f"
             ],
             [
              0.2222222222222222,
              "#7201a8"
             ],
             [
              0.3333333333333333,
              "#9c179e"
             ],
             [
              0.4444444444444444,
              "#bd3786"
             ],
             [
              0.5555555555555556,
              "#d8576b"
             ],
             [
              0.6666666666666666,
              "#ed7953"
             ],
             [
              0.7777777777777778,
              "#fb9f3a"
             ],
             [
              0.8888888888888888,
              "#fdca26"
             ],
             [
              1,
              "#f0f921"
             ]
            ],
            "type": "contour"
           }
          ],
          "contourcarpet": [
           {
            "colorbar": {
             "outlinewidth": 0,
             "ticks": ""
            },
            "type": "contourcarpet"
           }
          ],
          "heatmap": [
           {
            "colorbar": {
             "outlinewidth": 0,
             "ticks": ""
            },
            "colorscale": [
             [
              0,
              "#0d0887"
             ],
             [
              0.1111111111111111,
              "#46039f"
             ],
             [
              0.2222222222222222,
              "#7201a8"
             ],
             [
              0.3333333333333333,
              "#9c179e"
             ],
             [
              0.4444444444444444,
              "#bd3786"
             ],
             [
              0.5555555555555556,
              "#d8576b"
             ],
             [
              0.6666666666666666,
              "#ed7953"
             ],
             [
              0.7777777777777778,
              "#fb9f3a"
             ],
             [
              0.8888888888888888,
              "#fdca26"
             ],
             [
              1,
              "#f0f921"
             ]
            ],
            "type": "heatmap"
           }
          ],
          "heatmapgl": [
           {
            "colorbar": {
             "outlinewidth": 0,
             "ticks": ""
            },
            "colorscale": [
             [
              0,
              "#0d0887"
             ],
             [
              0.1111111111111111,
              "#46039f"
             ],
             [
              0.2222222222222222,
              "#7201a8"
             ],
             [
              0.3333333333333333,
              "#9c179e"
             ],
             [
              0.4444444444444444,
              "#bd3786"
             ],
             [
              0.5555555555555556,
              "#d8576b"
             ],
             [
              0.6666666666666666,
              "#ed7953"
             ],
             [
              0.7777777777777778,
              "#fb9f3a"
             ],
             [
              0.8888888888888888,
              "#fdca26"
             ],
             [
              1,
              "#f0f921"
             ]
            ],
            "type": "heatmapgl"
           }
          ],
          "histogram": [
           {
            "marker": {
             "colorbar": {
              "outlinewidth": 0,
              "ticks": ""
             }
            },
            "type": "histogram"
           }
          ],
          "histogram2d": [
           {
            "colorbar": {
             "outlinewidth": 0,
             "ticks": ""
            },
            "colorscale": [
             [
              0,
              "#0d0887"
             ],
             [
              0.1111111111111111,
              "#46039f"
             ],
             [
              0.2222222222222222,
              "#7201a8"
             ],
             [
              0.3333333333333333,
              "#9c179e"
             ],
             [
              0.4444444444444444,
              "#bd3786"
             ],
             [
              0.5555555555555556,
              "#d8576b"
             ],
             [
              0.6666666666666666,
              "#ed7953"
             ],
             [
              0.7777777777777778,
              "#fb9f3a"
             ],
             [
              0.8888888888888888,
              "#fdca26"
             ],
             [
              1,
              "#f0f921"
             ]
            ],
            "type": "histogram2d"
           }
          ],
          "histogram2dcontour": [
           {
            "colorbar": {
             "outlinewidth": 0,
             "ticks": ""
            },
            "colorscale": [
             [
              0,
              "#0d0887"
             ],
             [
              0.1111111111111111,
              "#46039f"
             ],
             [
              0.2222222222222222,
              "#7201a8"
             ],
             [
              0.3333333333333333,
              "#9c179e"
             ],
             [
              0.4444444444444444,
              "#bd3786"
             ],
             [
              0.5555555555555556,
              "#d8576b"
             ],
             [
              0.6666666666666666,
              "#ed7953"
             ],
             [
              0.7777777777777778,
              "#fb9f3a"
             ],
             [
              0.8888888888888888,
              "#fdca26"
             ],
             [
              1,
              "#f0f921"
             ]
            ],
            "type": "histogram2dcontour"
           }
          ],
          "mesh3d": [
           {
            "colorbar": {
             "outlinewidth": 0,
             "ticks": ""
            },
            "type": "mesh3d"
           }
          ],
          "parcoords": [
           {
            "line": {
             "colorbar": {
              "outlinewidth": 0,
              "ticks": ""
             }
            },
            "type": "parcoords"
           }
          ],
          "pie": [
           {
            "automargin": true,
            "type": "pie"
           }
          ],
          "scatter": [
           {
            "marker": {
             "line": {
              "color": "#283442"
             }
            },
            "type": "scatter"
           }
          ],
          "scatter3d": [
           {
            "line": {
             "colorbar": {
              "outlinewidth": 0,
              "ticks": ""
             }
            },
            "marker": {
             "colorbar": {
              "outlinewidth": 0,
              "ticks": ""
             }
            },
            "type": "scatter3d"
           }
          ],
          "scattercarpet": [
           {
            "marker": {
             "colorbar": {
              "outlinewidth": 0,
              "ticks": ""
             }
            },
            "type": "scattercarpet"
           }
          ],
          "scattergeo": [
           {
            "marker": {
             "colorbar": {
              "outlinewidth": 0,
              "ticks": ""
             }
            },
            "type": "scattergeo"
           }
          ],
          "scattergl": [
           {
            "marker": {
             "line": {
              "color": "#283442"
             }
            },
            "type": "scattergl"
           }
          ],
          "scattermapbox": [
           {
            "marker": {
             "colorbar": {
              "outlinewidth": 0,
              "ticks": ""
             }
            },
            "type": "scattermapbox"
           }
          ],
          "scatterpolar": [
           {
            "marker": {
             "colorbar": {
              "outlinewidth": 0,
              "ticks": ""
             }
            },
            "type": "scatterpolar"
           }
          ],
          "scatterpolargl": [
           {
            "marker": {
             "colorbar": {
              "outlinewidth": 0,
              "ticks": ""
             }
            },
            "type": "scatterpolargl"
           }
          ],
          "scatterternary": [
           {
            "marker": {
             "colorbar": {
              "outlinewidth": 0,
              "ticks": ""
             }
            },
            "type": "scatterternary"
           }
          ],
          "surface": [
           {
            "colorbar": {
             "outlinewidth": 0,
             "ticks": ""
            },
            "colorscale": [
             [
              0,
              "#0d0887"
             ],
             [
              0.1111111111111111,
              "#46039f"
             ],
             [
              0.2222222222222222,
              "#7201a8"
             ],
             [
              0.3333333333333333,
              "#9c179e"
             ],
             [
              0.4444444444444444,
              "#bd3786"
             ],
             [
              0.5555555555555556,
              "#d8576b"
             ],
             [
              0.6666666666666666,
              "#ed7953"
             ],
             [
              0.7777777777777778,
              "#fb9f3a"
             ],
             [
              0.8888888888888888,
              "#fdca26"
             ],
             [
              1,
              "#f0f921"
             ]
            ],
            "type": "surface"
           }
          ],
          "table": [
           {
            "cells": {
             "fill": {
              "color": "#506784"
             },
             "line": {
              "color": "rgb(17,17,17)"
             }
            },
            "header": {
             "fill": {
              "color": "#2a3f5f"
             },
             "line": {
              "color": "rgb(17,17,17)"
             }
            },
            "type": "table"
           }
          ]
         },
         "layout": {
          "annotationdefaults": {
           "arrowcolor": "#f2f5fa",
           "arrowhead": 0,
           "arrowwidth": 1
          },
          "coloraxis": {
           "colorbar": {
            "outlinewidth": 0,
            "ticks": ""
           }
          },
          "colorscale": {
           "diverging": [
            [
             0,
             "#8e0152"
            ],
            [
             0.1,
             "#c51b7d"
            ],
            [
             0.2,
             "#de77ae"
            ],
            [
             0.3,
             "#f1b6da"
            ],
            [
             0.4,
             "#fde0ef"
            ],
            [
             0.5,
             "#f7f7f7"
            ],
            [
             0.6,
             "#e6f5d0"
            ],
            [
             0.7,
             "#b8e186"
            ],
            [
             0.8,
             "#7fbc41"
            ],
            [
             0.9,
             "#4d9221"
            ],
            [
             1,
             "#276419"
            ]
           ],
           "sequential": [
            [
             0,
             "#0d0887"
            ],
            [
             0.1111111111111111,
             "#46039f"
            ],
            [
             0.2222222222222222,
             "#7201a8"
            ],
            [
             0.3333333333333333,
             "#9c179e"
            ],
            [
             0.4444444444444444,
             "#bd3786"
            ],
            [
             0.5555555555555556,
             "#d8576b"
            ],
            [
             0.6666666666666666,
             "#ed7953"
            ],
            [
             0.7777777777777778,
             "#fb9f3a"
            ],
            [
             0.8888888888888888,
             "#fdca26"
            ],
            [
             1,
             "#f0f921"
            ]
           ],
           "sequentialminus": [
            [
             0,
             "#0d0887"
            ],
            [
             0.1111111111111111,
             "#46039f"
            ],
            [
             0.2222222222222222,
             "#7201a8"
            ],
            [
             0.3333333333333333,
             "#9c179e"
            ],
            [
             0.4444444444444444,
             "#bd3786"
            ],
            [
             0.5555555555555556,
             "#d8576b"
            ],
            [
             0.6666666666666666,
             "#ed7953"
            ],
            [
             0.7777777777777778,
             "#fb9f3a"
            ],
            [
             0.8888888888888888,
             "#fdca26"
            ],
            [
             1,
             "#f0f921"
            ]
           ]
          },
          "colorway": [
           "#636efa",
           "#EF553B",
           "#00cc96",
           "#ab63fa",
           "#FFA15A",
           "#19d3f3",
           "#FF6692",
           "#B6E880",
           "#FF97FF",
           "#FECB52"
          ],
          "font": {
           "color": "#f2f5fa"
          },
          "geo": {
           "bgcolor": "rgb(17,17,17)",
           "lakecolor": "rgb(17,17,17)",
           "landcolor": "rgb(17,17,17)",
           "showlakes": true,
           "showland": true,
           "subunitcolor": "#506784"
          },
          "hoverlabel": {
           "align": "left"
          },
          "hovermode": "closest",
          "mapbox": {
           "style": "dark"
          },
          "paper_bgcolor": "rgb(17,17,17)",
          "plot_bgcolor": "rgb(17,17,17)",
          "polar": {
           "angularaxis": {
            "gridcolor": "#506784",
            "linecolor": "#506784",
            "ticks": ""
           },
           "bgcolor": "rgb(17,17,17)",
           "radialaxis": {
            "gridcolor": "#506784",
            "linecolor": "#506784",
            "ticks": ""
           }
          },
          "scene": {
           "xaxis": {
            "backgroundcolor": "rgb(17,17,17)",
            "gridcolor": "#506784",
            "gridwidth": 2,
            "linecolor": "#506784",
            "showbackground": true,
            "ticks": "",
            "zerolinecolor": "#C8D4E3"
           },
           "yaxis": {
            "backgroundcolor": "rgb(17,17,17)",
            "gridcolor": "#506784",
            "gridwidth": 2,
            "linecolor": "#506784",
            "showbackground": true,
            "ticks": "",
            "zerolinecolor": "#C8D4E3"
           },
           "zaxis": {
            "backgroundcolor": "rgb(17,17,17)",
            "gridcolor": "#506784",
            "gridwidth": 2,
            "linecolor": "#506784",
            "showbackground": true,
            "ticks": "",
            "zerolinecolor": "#C8D4E3"
           }
          },
          "shapedefaults": {
           "line": {
            "color": "#f2f5fa"
           }
          },
          "sliderdefaults": {
           "bgcolor": "#C8D4E3",
           "bordercolor": "rgb(17,17,17)",
           "borderwidth": 1,
           "tickwidth": 0
          },
          "ternary": {
           "aaxis": {
            "gridcolor": "#506784",
            "linecolor": "#506784",
            "ticks": ""
           },
           "baxis": {
            "gridcolor": "#506784",
            "linecolor": "#506784",
            "ticks": ""
           },
           "bgcolor": "rgb(17,17,17)",
           "caxis": {
            "gridcolor": "#506784",
            "linecolor": "#506784",
            "ticks": ""
           }
          },
          "title": {
           "x": 0.05
          },
          "updatemenudefaults": {
           "bgcolor": "#506784",
           "borderwidth": 0
          },
          "xaxis": {
           "automargin": true,
           "gridcolor": "#283442",
           "linecolor": "#506784",
           "ticks": "",
           "title": {
            "standoff": 15
           },
           "zerolinecolor": "#283442",
           "zerolinewidth": 2
          },
          "yaxis": {
           "automargin": true,
           "gridcolor": "#283442",
           "linecolor": "#506784",
           "ticks": "",
           "title": {
            "standoff": 15
           },
           "zerolinecolor": "#283442",
           "zerolinewidth": 2
          }
         }
        },
        "title": {
         "text": "Top 15 Clubs by Transfer Fee Expenditure (2005-2019)"
        },
        "xaxis": {
         "linecolor": "white",
         "showgrid": false,
         "showline": true,
         "showticklabels": true,
         "tickfont": {
          "color": "white",
          "family": "Arial",
          "size": 10
         },
         "title": {
          "font": {
           "color": "white",
           "family": "Arial, monospace",
           "size": 14
          },
          "text": "Year"
         },
         "zeroline": false
        },
        "yaxis": {
         "linecolor": "white",
         "showgrid": false,
         "showline": false,
         "showticklabels": true,
         "tickfont": {
          "color": "white",
          "family": "Arial",
          "size": 10
         },
         "title": {
          "font": {
           "color": "white",
           "family": "Arial, monospace",
           "size": 14
          },
          "text": "Total Transfer Fee Spent (2005-2019), in Euros"
         },
         "zeroline": false
        },
        "yaxis2": {
         "overlaying": "y",
         "showgrid": false,
         "side": "right",
         "title": {
          "text": ""
         },
         "zeroline": false
        }
       }
      },
      "text/html": [
       "<div>\n",
       "        \n",
       "        \n",
       "            <div id=\"3dd24132-a75b-495f-8ec4-8cc1c248957c\" class=\"plotly-graph-div\" style=\"height:525px; width:100%;\"></div>\n",
       "            <script type=\"text/javascript\">\n",
       "                require([\"plotly\"], function(Plotly) {\n",
       "                    window.PLOTLYENV=window.PLOTLYENV || {};\n",
       "                    \n",
       "                if (document.getElementById(\"3dd24132-a75b-495f-8ec4-8cc1c248957c\")) {\n",
       "                    Plotly.newPlot(\n",
       "                        '3dd24132-a75b-495f-8ec4-8cc1c248957c',\n",
       "                        [{\"alignmentgroup\": \"True\", \"hoverlabel\": {\"namelength\": 0}, \"hovertemplate\": \"<b>%{hovertext}</b><br><br>Club Joined=%{x}<br>Transfer=%{y}<br>Surplus/Deficit=%{marker.color}\", \"hovertext\": [\"Man City \", \"Real Madrid \", \"FC Barcelona \", \"Chelsea \", \"Man Utd \", \"Paris SG \", \"Juventus \", \"Liverpool \", \"Atl\\u00e9tico Madrid \", \"Spurs \", \"Arsenal \", \"Inter \", \"AC Milan \", \"Bayern Munich  \", \"Monaco \"], \"legendgroup\": \"\", \"marker\": {\"color\": [479365000.0, 97240000.0, 249770000.0, 295255000.0, 408780000.0, 244100000.0, 118165000.0, 332073000.0, 139160000.0, 160620000.0, 201060000.0, 36265000.0, 26430000.0, 68400000.0, 123535000.0], \"coloraxis\": \"coloraxis\"}, \"name\": \"\", \"offsetgroup\": \"\", \"orientation\": \"v\", \"showlegend\": false, \"textposition\": \"auto\", \"type\": \"bar\", \"x\": [\"Man City \", \"Real Madrid \", \"FC Barcelona \", \"Chelsea \", \"Man Utd \", \"Paris SG \", \"Juventus \", \"Liverpool \", \"Atl\\u00e9tico Madrid \", \"Spurs \", \"Arsenal \", \"Inter \", \"AC Milan \", \"Bayern Munich  \", \"Monaco \"], \"xaxis\": \"x\", \"y\": [1905340000.0, 1697900000.0, 1630070000.0, 1573880000.0, 1407130000.0, 1297100000.0, 1281790000.0, 1222448000.0, 1114510000.0, 964220000.0, 948810000.0, 934740000.0, 896930000.0, 791000000.0, 755860000.0], \"yaxis\": \"y\"}, {\"hovertemplate\": \"Club: %{x}<br>Number of Transfers: %{y:,.0f}\", \"line\": {\"width\": 3}, \"marker\": {\"color\": \"rgb(237,239,93)\"}, \"name\": \"Number of Transfers\", \"text\": [100.0, 68.0, 55.0, 82.0, 53.0, 59.0, 86.0, 75.0, 68.0, 78.0, 57.0, 73.0, 75.0, 39.0, 83.0], \"type\": \"scatter\", \"x\": [\"Man City \", \"Real Madrid \", \"FC Barcelona \", \"Chelsea \", \"Man Utd \", \"Paris SG \", \"Juventus \", \"Liverpool \", \"Atl\\u00e9tico Madrid \", \"Spurs \", \"Arsenal \", \"Inter \", \"AC Milan \", \"Bayern Munich  \", \"Monaco \"], \"y\": [100, 68, 55, 82, 53, 59, 86, 75, 68, 78, 57, 73, 75, 39, 83], \"yaxis\": \"y2\"}],\n",
       "                        {\"barmode\": \"relative\", \"coloraxis\": {\"colorbar\": {\"title\": {\"text\": \"Surplus/Deficit\"}}, \"colorscale\": [[0.0, \"rgb(255,245,240)\"], [0.125, \"rgb(254,224,210)\"], [0.25, \"rgb(252,187,161)\"], [0.375, \"rgb(252,146,114)\"], [0.5, \"rgb(251,106,74)\"], [0.625, \"rgb(239,59,44)\"], [0.75, \"rgb(203,24,29)\"], [0.875, \"rgb(165,15,21)\"], [1.0, \"rgb(103,0,13)\"]]}, \"font\": {\"color\": \"white\", \"family\": \"Arial, monospace\", \"size\": 10}, \"hoverlabel\": {\"bgcolor\": \"black\", \"bordercolor\": \"black\", \"font\": {\"color\": \"white\", \"family\": \"Arial, monospace\", \"size\": 14}}, \"legend\": {\"tracegroupgap\": 0, \"x\": 0.8, \"y\": 1}, \"template\": {\"data\": {\"bar\": [{\"error_x\": {\"color\": \"#f2f5fa\"}, \"error_y\": {\"color\": \"#f2f5fa\"}, \"marker\": {\"line\": {\"color\": \"rgb(17,17,17)\", \"width\": 0.5}}, \"type\": \"bar\"}], \"barpolar\": [{\"marker\": {\"line\": {\"color\": \"rgb(17,17,17)\", \"width\": 0.5}}, \"type\": \"barpolar\"}], \"carpet\": [{\"aaxis\": {\"endlinecolor\": \"#A2B1C6\", \"gridcolor\": \"#506784\", \"linecolor\": \"#506784\", \"minorgridcolor\": \"#506784\", \"startlinecolor\": \"#A2B1C6\"}, \"baxis\": {\"endlinecolor\": \"#A2B1C6\", \"gridcolor\": \"#506784\", \"linecolor\": \"#506784\", \"minorgridcolor\": \"#506784\", \"startlinecolor\": \"#A2B1C6\"}, \"type\": \"carpet\"}], \"choropleth\": [{\"colorbar\": {\"outlinewidth\": 0, \"ticks\": \"\"}, \"type\": \"choropleth\"}], \"contour\": [{\"colorbar\": {\"outlinewidth\": 0, \"ticks\": \"\"}, \"colorscale\": [[0.0, \"#0d0887\"], [0.1111111111111111, \"#46039f\"], [0.2222222222222222, \"#7201a8\"], [0.3333333333333333, \"#9c179e\"], [0.4444444444444444, \"#bd3786\"], [0.5555555555555556, \"#d8576b\"], [0.6666666666666666, \"#ed7953\"], [0.7777777777777778, \"#fb9f3a\"], [0.8888888888888888, \"#fdca26\"], [1.0, \"#f0f921\"]], \"type\": \"contour\"}], \"contourcarpet\": [{\"colorbar\": {\"outlinewidth\": 0, \"ticks\": \"\"}, \"type\": \"contourcarpet\"}], \"heatmap\": [{\"colorbar\": {\"outlinewidth\": 0, \"ticks\": \"\"}, \"colorscale\": [[0.0, \"#0d0887\"], [0.1111111111111111, \"#46039f\"], [0.2222222222222222, \"#7201a8\"], [0.3333333333333333, \"#9c179e\"], [0.4444444444444444, \"#bd3786\"], [0.5555555555555556, \"#d8576b\"], [0.6666666666666666, \"#ed7953\"], [0.7777777777777778, \"#fb9f3a\"], [0.8888888888888888, \"#fdca26\"], [1.0, \"#f0f921\"]], \"type\": \"heatmap\"}], \"heatmapgl\": [{\"colorbar\": {\"outlinewidth\": 0, \"ticks\": \"\"}, \"colorscale\": [[0.0, \"#0d0887\"], [0.1111111111111111, \"#46039f\"], [0.2222222222222222, \"#7201a8\"], [0.3333333333333333, \"#9c179e\"], [0.4444444444444444, \"#bd3786\"], [0.5555555555555556, \"#d8576b\"], [0.6666666666666666, \"#ed7953\"], [0.7777777777777778, \"#fb9f3a\"], [0.8888888888888888, \"#fdca26\"], [1.0, \"#f0f921\"]], \"type\": \"heatmapgl\"}], \"histogram\": [{\"marker\": {\"colorbar\": {\"outlinewidth\": 0, \"ticks\": \"\"}}, \"type\": \"histogram\"}], \"histogram2d\": [{\"colorbar\": {\"outlinewidth\": 0, \"ticks\": \"\"}, \"colorscale\": [[0.0, \"#0d0887\"], [0.1111111111111111, \"#46039f\"], [0.2222222222222222, \"#7201a8\"], [0.3333333333333333, \"#9c179e\"], [0.4444444444444444, \"#bd3786\"], [0.5555555555555556, \"#d8576b\"], [0.6666666666666666, \"#ed7953\"], [0.7777777777777778, \"#fb9f3a\"], [0.8888888888888888, \"#fdca26\"], [1.0, \"#f0f921\"]], \"type\": \"histogram2d\"}], \"histogram2dcontour\": [{\"colorbar\": {\"outlinewidth\": 0, \"ticks\": \"\"}, \"colorscale\": [[0.0, \"#0d0887\"], [0.1111111111111111, \"#46039f\"], [0.2222222222222222, \"#7201a8\"], [0.3333333333333333, \"#9c179e\"], [0.4444444444444444, \"#bd3786\"], [0.5555555555555556, \"#d8576b\"], [0.6666666666666666, \"#ed7953\"], [0.7777777777777778, \"#fb9f3a\"], [0.8888888888888888, \"#fdca26\"], [1.0, \"#f0f921\"]], \"type\": \"histogram2dcontour\"}], \"mesh3d\": [{\"colorbar\": {\"outlinewidth\": 0, \"ticks\": \"\"}, \"type\": \"mesh3d\"}], \"parcoords\": [{\"line\": {\"colorbar\": {\"outlinewidth\": 0, \"ticks\": \"\"}}, \"type\": \"parcoords\"}], \"pie\": [{\"automargin\": true, \"type\": \"pie\"}], \"scatter\": [{\"marker\": {\"line\": {\"color\": \"#283442\"}}, \"type\": \"scatter\"}], \"scatter3d\": [{\"line\": {\"colorbar\": {\"outlinewidth\": 0, \"ticks\": \"\"}}, \"marker\": {\"colorbar\": {\"outlinewidth\": 0, \"ticks\": \"\"}}, \"type\": \"scatter3d\"}], \"scattercarpet\": [{\"marker\": {\"colorbar\": {\"outlinewidth\": 0, \"ticks\": \"\"}}, \"type\": \"scattercarpet\"}], \"scattergeo\": [{\"marker\": {\"colorbar\": {\"outlinewidth\": 0, \"ticks\": \"\"}}, \"type\": \"scattergeo\"}], \"scattergl\": [{\"marker\": {\"line\": {\"color\": \"#283442\"}}, \"type\": \"scattergl\"}], \"scattermapbox\": [{\"marker\": {\"colorbar\": {\"outlinewidth\": 0, \"ticks\": \"\"}}, \"type\": \"scattermapbox\"}], \"scatterpolar\": [{\"marker\": {\"colorbar\": {\"outlinewidth\": 0, \"ticks\": \"\"}}, \"type\": \"scatterpolar\"}], \"scatterpolargl\": [{\"marker\": {\"colorbar\": {\"outlinewidth\": 0, \"ticks\": \"\"}}, \"type\": \"scatterpolargl\"}], \"scatterternary\": [{\"marker\": {\"colorbar\": {\"outlinewidth\": 0, \"ticks\": \"\"}}, \"type\": \"scatterternary\"}], \"surface\": [{\"colorbar\": {\"outlinewidth\": 0, \"ticks\": \"\"}, \"colorscale\": [[0.0, \"#0d0887\"], [0.1111111111111111, \"#46039f\"], [0.2222222222222222, \"#7201a8\"], [0.3333333333333333, \"#9c179e\"], [0.4444444444444444, \"#bd3786\"], [0.5555555555555556, \"#d8576b\"], [0.6666666666666666, \"#ed7953\"], [0.7777777777777778, \"#fb9f3a\"], [0.8888888888888888, \"#fdca26\"], [1.0, \"#f0f921\"]], \"type\": \"surface\"}], \"table\": [{\"cells\": {\"fill\": {\"color\": \"#506784\"}, \"line\": {\"color\": \"rgb(17,17,17)\"}}, \"header\": {\"fill\": {\"color\": \"#2a3f5f\"}, \"line\": {\"color\": \"rgb(17,17,17)\"}}, \"type\": \"table\"}]}, \"layout\": {\"annotationdefaults\": {\"arrowcolor\": \"#f2f5fa\", \"arrowhead\": 0, \"arrowwidth\": 1}, \"coloraxis\": {\"colorbar\": {\"outlinewidth\": 0, \"ticks\": \"\"}}, \"colorscale\": {\"diverging\": [[0, \"#8e0152\"], [0.1, \"#c51b7d\"], [0.2, \"#de77ae\"], [0.3, \"#f1b6da\"], [0.4, \"#fde0ef\"], [0.5, \"#f7f7f7\"], [0.6, \"#e6f5d0\"], [0.7, \"#b8e186\"], [0.8, \"#7fbc41\"], [0.9, \"#4d9221\"], [1, \"#276419\"]], \"sequential\": [[0.0, \"#0d0887\"], [0.1111111111111111, \"#46039f\"], [0.2222222222222222, \"#7201a8\"], [0.3333333333333333, \"#9c179e\"], [0.4444444444444444, \"#bd3786\"], [0.5555555555555556, \"#d8576b\"], [0.6666666666666666, \"#ed7953\"], [0.7777777777777778, \"#fb9f3a\"], [0.8888888888888888, \"#fdca26\"], [1.0, \"#f0f921\"]], \"sequentialminus\": [[0.0, \"#0d0887\"], [0.1111111111111111, \"#46039f\"], [0.2222222222222222, \"#7201a8\"], [0.3333333333333333, \"#9c179e\"], [0.4444444444444444, \"#bd3786\"], [0.5555555555555556, \"#d8576b\"], [0.6666666666666666, \"#ed7953\"], [0.7777777777777778, \"#fb9f3a\"], [0.8888888888888888, \"#fdca26\"], [1.0, \"#f0f921\"]]}, \"colorway\": [\"#636efa\", \"#EF553B\", \"#00cc96\", \"#ab63fa\", \"#FFA15A\", \"#19d3f3\", \"#FF6692\", \"#B6E880\", \"#FF97FF\", \"#FECB52\"], \"font\": {\"color\": \"#f2f5fa\"}, \"geo\": {\"bgcolor\": \"rgb(17,17,17)\", \"lakecolor\": \"rgb(17,17,17)\", \"landcolor\": \"rgb(17,17,17)\", \"showlakes\": true, \"showland\": true, \"subunitcolor\": \"#506784\"}, \"hoverlabel\": {\"align\": \"left\"}, \"hovermode\": \"closest\", \"mapbox\": {\"style\": \"dark\"}, \"paper_bgcolor\": \"rgb(17,17,17)\", \"plot_bgcolor\": \"rgb(17,17,17)\", \"polar\": {\"angularaxis\": {\"gridcolor\": \"#506784\", \"linecolor\": \"#506784\", \"ticks\": \"\"}, \"bgcolor\": \"rgb(17,17,17)\", \"radialaxis\": {\"gridcolor\": \"#506784\", \"linecolor\": \"#506784\", \"ticks\": \"\"}}, \"scene\": {\"xaxis\": {\"backgroundcolor\": \"rgb(17,17,17)\", \"gridcolor\": \"#506784\", \"gridwidth\": 2, \"linecolor\": \"#506784\", \"showbackground\": true, \"ticks\": \"\", \"zerolinecolor\": \"#C8D4E3\"}, \"yaxis\": {\"backgroundcolor\": \"rgb(17,17,17)\", \"gridcolor\": \"#506784\", \"gridwidth\": 2, \"linecolor\": \"#506784\", \"showbackground\": true, \"ticks\": \"\", \"zerolinecolor\": \"#C8D4E3\"}, \"zaxis\": {\"backgroundcolor\": \"rgb(17,17,17)\", \"gridcolor\": \"#506784\", \"gridwidth\": 2, \"linecolor\": \"#506784\", \"showbackground\": true, \"ticks\": \"\", \"zerolinecolor\": \"#C8D4E3\"}}, \"shapedefaults\": {\"line\": {\"color\": \"#f2f5fa\"}}, \"sliderdefaults\": {\"bgcolor\": \"#C8D4E3\", \"bordercolor\": \"rgb(17,17,17)\", \"borderwidth\": 1, \"tickwidth\": 0}, \"ternary\": {\"aaxis\": {\"gridcolor\": \"#506784\", \"linecolor\": \"#506784\", \"ticks\": \"\"}, \"baxis\": {\"gridcolor\": \"#506784\", \"linecolor\": \"#506784\", \"ticks\": \"\"}, \"bgcolor\": \"rgb(17,17,17)\", \"caxis\": {\"gridcolor\": \"#506784\", \"linecolor\": \"#506784\", \"ticks\": \"\"}}, \"title\": {\"x\": 0.05}, \"updatemenudefaults\": {\"bgcolor\": \"#506784\", \"borderwidth\": 0}, \"xaxis\": {\"automargin\": true, \"gridcolor\": \"#283442\", \"linecolor\": \"#506784\", \"ticks\": \"\", \"title\": {\"standoff\": 15}, \"zerolinecolor\": \"#283442\", \"zerolinewidth\": 2}, \"yaxis\": {\"automargin\": true, \"gridcolor\": \"#283442\", \"linecolor\": \"#506784\", \"ticks\": \"\", \"title\": {\"standoff\": 15}, \"zerolinecolor\": \"#283442\", \"zerolinewidth\": 2}}}, \"title\": {\"text\": \"Top 15 Clubs by Transfer Fee Expenditure (2005-2019)\"}, \"xaxis\": {\"linecolor\": \"white\", \"showgrid\": false, \"showline\": true, \"showticklabels\": true, \"tickfont\": {\"color\": \"white\", \"family\": \"Arial\", \"size\": 10}, \"title\": {\"font\": {\"color\": \"white\", \"family\": \"Arial, monospace\", \"size\": 14}, \"text\": \"Year\"}, \"zeroline\": false}, \"yaxis\": {\"linecolor\": \"white\", \"showgrid\": false, \"showline\": false, \"showticklabels\": true, \"tickfont\": {\"color\": \"white\", \"family\": \"Arial\", \"size\": 10}, \"title\": {\"font\": {\"color\": \"white\", \"family\": \"Arial, monospace\", \"size\": 14}, \"text\": \"Total Transfer Fee Spent (2005-2019), in Euros\"}, \"zeroline\": false}, \"yaxis2\": {\"overlaying\": \"y\", \"showgrid\": false, \"side\": \"right\", \"title\": {\"text\": \"\"}, \"zeroline\": false}},\n",
       "                        {\"responsive\": true}\n",
       "                    ).then(function(){\n",
       "                            \n",
       "var gd = document.getElementById('3dd24132-a75b-495f-8ec4-8cc1c248957c');\n",
       "var x = new MutationObserver(function (mutations, observer) {{\n",
       "        var display = window.getComputedStyle(gd).display;\n",
       "        if (!display || display === 'none') {{\n",
       "            console.log([gd, 'removed!']);\n",
       "            Plotly.purge(gd);\n",
       "            observer.disconnect();\n",
       "        }}\n",
       "}});\n",
       "\n",
       "// Listen for the removal of the full notebook cells\n",
       "var notebookContainer = gd.closest('#notebook-container');\n",
       "if (notebookContainer) {{\n",
       "    x.observe(notebookContainer, {childList: true});\n",
       "}}\n",
       "\n",
       "// Listen for the clearing of the current output cell\n",
       "var outputEl = gd.closest('.output');\n",
       "if (outputEl) {{\n",
       "    x.observe(outputEl, {childList: true});\n",
       "}}\n",
       "\n",
       "                        })\n",
       "                };\n",
       "                });\n",
       "            </script>\n",
       "        </div>"
      ]
     },
     "metadata": {},
     "output_type": "display_data"
    }
   ],
   "source": [
    "fig1a = px.bar(Top_Spenders_Surplus.reset_index(),\n",
    "               x = \"Club Joined\",\n",
    "               y = \"Transfer\",\n",
    "               color = \"Surplus/Deficit\",\n",
    "               color_continuous_scale = px.colors.sequential.Reds,\n",
    "               hover_name = \"Club Joined\",\n",
    "               title = 'Top 15 Clubs by Transfer Fee Expenditure (2005-2019)',\n",
    "               template = 'plotly_dark')\n",
    "\n",
    "fig1a.add_trace(\n",
    "    go.Line(# interactive bar object\n",
    "                x = Top_Spenders_Surplus['Club Joined'],\n",
    "                y = Top_Spenders_Surplus['No. of Players Bought'],\n",
    "                name = \"Number of Transfers\",\n",
    "                marker = dict(color = 'rgb(237,239,93)'),\n",
    "                line = dict(width = 3),\n",
    "                text = Top_Spenders_Surplus['No. of Players Bought'],\n",
    "                hovertemplate =\n",
    "                \"Club: %{x}<br>\" +\n",
    "                \"Number of Transfers: %{y:,.0f}\",\n",
    "                yaxis='y2')\n",
    ")\n",
    "\n",
    "fig1a.update_layout(\n",
    "    hoverlabel=dict(\n",
    "        bgcolor=\"black\",\n",
    "        font=dict(\n",
    "                family=\"Arial, monospace\",\n",
    "                size=14,\n",
    "                color=\"white\"\n",
    "            ),\n",
    "        bordercolor = \"black\"\n",
    "    ),\n",
    "    xaxis=go.layout.XAxis(\n",
    "        title=go.layout.xaxis.Title(\n",
    "            text=\"Year\",\n",
    "            font=dict(\n",
    "                family=\"Arial, monospace\",\n",
    "                size=14,\n",
    "                color=\"white\"\n",
    "            )\n",
    "        ),\n",
    "        showline = True,\n",
    "        linecolor = 'white',\n",
    "        showticklabels = True,\n",
    "        tickfont = dict(\n",
    "            family = 'Arial',\n",
    "            size = 10,\n",
    "            color = 'white'\n",
    "      )\n",
    "    ),\n",
    "    yaxis=go.layout.YAxis(\n",
    "        title=go.layout.yaxis.Title(\n",
    "            text=\"Total Transfer Fee Spent (2005-2019), in Euros\",\n",
    "            font=dict(\n",
    "                family=\"Arial, monospace\",\n",
    "                size=14,\n",
    "                color=\"white\"\n",
    "            )\n",
    "        ),\n",
    "        showline = False,\n",
    "        linecolor = 'white',\n",
    "        showticklabels = True,\n",
    "        tickfont = dict(\n",
    "            family = 'Arial',\n",
    "            size = 10,\n",
    "            color = 'white'\n",
    "        )\n",
    "    ),\n",
    "      yaxis2=dict(title='',\n",
    "           overlaying='y',\n",
    "           side='right'),\n",
    "           font=dict(\n",
    "                family=\"Arial, monospace\",\n",
    "                size=10,\n",
    "                color=\"white\"\n",
    "            )\n",
    "                 )\n",
    "\n",
    "fig1a.update_layout(\n",
    "    legend=dict(\n",
    "        x=0.80,\n",
    "        y=1\n",
    "    )\n",
    ")\n",
    "\n",
    "fig1a.update_layout(\n",
    "    xaxis=dict(showgrid=False, zeroline=False),\n",
    "    yaxis=dict(showgrid=False, zeroline=False),\n",
    "    yaxis2=dict(showgrid=False, zeroline=False)\n",
    ")\n",
    "\n",
    "# plot(fig1a ,filename = 'Top15Spenders.html')\n",
    "fig1a.show()"
   ]
  },
  {
   "cell_type": "markdown",
   "metadata": {},
   "source": [
    "<div class=\"alert alert-warning\" role=\"alert\">\n",
    "\n",
    "**Method** <br>\n",
    "In following graph, we analyze the yearly transfer Fee spending by the Top 15 Transfer Fee Spenders for the period 2005-2019.\n",
    "</div>    "
   ]
  },
  {
   "cell_type": "markdown",
   "metadata": {},
   "source": [
    "<div class=\"alert alert-success\" role=\"alert\">\n",
    "\n",
    "**Inference**<br>\n",
    "The spikes or dip in the general trend of for every clubs coincides with important event related to the specific club. The events are of the following nature: <br>\n",
    "1. Changes in ownership or increased backing from investors.\n",
    "2. Buying or selling of critical players.<br>\n",
    "\n",
    "A few example of such events are as follows:<br>\n",
    "1. 2009: Real Madrid Transfer expenditure rose due to the transfer of Cristiano Ronaldo from Manchester United. At Manchester City, the Royal Family of Abu Dhabi became owners of the club mid-season in 2008. This led to a splurge in transfer fee spending in the effort to make Manchester City the best club in the world.\n",
    "2. 2014: Manchester United spent a huge amount on rebuilding their squad as the requirements of a new manager, David Moyes. This was the first manager change at the club for 27 years as the legendary sir Alex Ferguson retired.\n",
    "3. 2017: Paris Saint-Germain, with the owners being one of Qatar's richest people, made two of the most expensive transfers in football history when they purchased Neymar Jr. and Kylian Mbappe.\n",
    "4. 2019: Real Madrid again spent a huge sum of money on squad rebuilding as their star striker, Cristiano Ronaldo, was transferred to Juventus.\n",
    "\n",
    "</div>    "
   ]
  },
  {
   "cell_type": "code",
   "execution_count": 8,
   "metadata": {},
   "outputs": [
    {
     "data": {
      "application/vnd.plotly.v1+json": {
       "config": {
        "plotlyServerURL": "https://plot.ly"
       },
       "data": [
        {
         "hoverlabel": {
          "namelength": 0
         },
         "hovertemplate": "<b>%{hovertext}</b><br><br>Club Joined=AC Milan <br>Year=%{x}<br>Total Fee Spent=%{y}",
         "hovertext": [
          "AC Milan ",
          "AC Milan ",
          "AC Milan ",
          "AC Milan ",
          "AC Milan ",
          "AC Milan ",
          "AC Milan ",
          "AC Milan ",
          "AC Milan ",
          "AC Milan ",
          "AC Milan ",
          "AC Milan ",
          "AC Milan ",
          "AC Milan ",
          "AC Milan "
         ],
         "legendgroup": "AC Milan ",
         "line": {
          "color": "#313131",
          "dash": "solid"
         },
         "mode": "lines",
         "name": "AC Milan ",
         "showlegend": true,
         "type": "scatter",
         "x": [
          2005,
          2006,
          2007,
          2008,
          2009,
          2010,
          2011,
          2012,
          2013,
          2014,
          2015,
          2016,
          2017,
          2018,
          2019
         ],
         "xaxis": "x",
         "y": [
          33500000,
          15000000,
          47600000,
          43400000,
          25000000,
          23900000,
          52350000,
          19550000,
          62200000,
          11250000,
          97100000,
          17000000,
          180980000,
          93700000,
          174400000
         ],
         "yaxis": "y"
        },
        {
         "hoverlabel": {
          "namelength": 0
         },
         "hovertemplate": "<b>%{hovertext}</b><br><br>Club Joined=Arsenal <br>Year=%{x}<br>Total Fee Spent=%{y}",
         "hovertext": [
          "Arsenal ",
          "Arsenal ",
          "Arsenal ",
          "Arsenal ",
          "Arsenal ",
          "Arsenal ",
          "Arsenal ",
          "Arsenal ",
          "Arsenal ",
          "Arsenal ",
          "Arsenal ",
          "Arsenal ",
          "Arsenal ",
          "Arsenal ",
          "Arsenal "
         ],
         "legendgroup": "Arsenal ",
         "line": {
          "color": "#3d019d",
          "dash": "solid"
         },
         "mode": "lines",
         "name": "Arsenal ",
         "showlegend": true,
         "type": "scatter",
         "x": [
          2005,
          2006,
          2007,
          2008,
          2009,
          2010,
          2011,
          2012,
          2013,
          2014,
          2015,
          2016,
          2017,
          2018,
          2019
         ],
         "xaxis": "x",
         "y": [
          19000000,
          36500000,
          25400000,
          17250000,
          28500000,
          19000000,
          67730000,
          46000000,
          57000000,
          101730000,
          29000000,
          125500000,
          53000000,
          177500000,
          145700000
         ],
         "yaxis": "y"
        },
        {
         "hoverlabel": {
          "namelength": 0
         },
         "hovertemplate": "<b>%{hovertext}</b><br><br>Club Joined=Atlético Madrid <br>Year=%{x}<br>Total Fee Spent=%{y}",
         "hovertext": [
          "Atlético Madrid ",
          "Atlético Madrid ",
          "Atlético Madrid ",
          "Atlético Madrid ",
          "Atlético Madrid ",
          "Atlético Madrid ",
          "Atlético Madrid ",
          "Atlético Madrid ",
          "Atlético Madrid ",
          "Atlético Madrid ",
          "Atlético Madrid ",
          "Atlético Madrid ",
          "Atlético Madrid ",
          "Atlético Madrid "
         ],
         "legendgroup": "Atlético Madrid ",
         "line": {
          "color": "#3810dc",
          "dash": "solid"
         },
         "mode": "lines",
         "name": "Atlético Madrid ",
         "showlegend": true,
         "type": "scatter",
         "x": [
          2005,
          2006,
          2007,
          2008,
          2010,
          2011,
          2012,
          2013,
          2014,
          2015,
          2016,
          2017,
          2018,
          2019
         ],
         "xaxis": "x",
         "y": [
          19000000,
          33700000,
          68000000,
          23000000,
          28000000,
          64250000,
          13500000,
          28600000,
          132600000,
          144360000,
          83000000,
          36000000,
          217000000,
          223500000
         ],
         "yaxis": "y"
        },
        {
         "hoverlabel": {
          "namelength": 0
         },
         "hovertemplate": "<b>%{hovertext}</b><br><br>Club Joined=Bayern Munich  <br>Year=%{x}<br>Total Fee Spent=%{y}",
         "hovertext": [
          "Bayern Munich  ",
          "Bayern Munich  ",
          "Bayern Munich  ",
          "Bayern Munich  ",
          "Bayern Munich  ",
          "Bayern Munich  ",
          "Bayern Munich  ",
          "Bayern Munich  ",
          "Bayern Munich  ",
          "Bayern Munich  ",
          "Bayern Munich  ",
          "Bayern Munich  ",
          "Bayern Munich  ",
          "Bayern Munich  "
         ],
         "legendgroup": "Bayern Munich  ",
         "line": {
          "color": "#2d47f9",
          "dash": "solid"
         },
         "mode": "lines",
         "name": "Bayern Munich  ",
         "showlegend": true,
         "type": "scatter",
         "x": [
          2005,
          2006,
          2007,
          2008,
          2009,
          2011,
          2012,
          2013,
          2014,
          2015,
          2016,
          2017,
          2018,
          2019
         ],
         "xaxis": "x",
         "y": [
          8500000,
          26700000,
          59000000,
          12000000,
          66000000,
          60500000,
          64800000,
          62000000,
          53000000,
          76000000,
          70000000,
          82500000,
          13000000,
          137000000
         ],
         "yaxis": "y"
        },
        {
         "hoverlabel": {
          "namelength": 0
         },
         "hovertemplate": "<b>%{hovertext}</b><br><br>Club Joined=Chelsea <br>Year=%{x}<br>Total Fee Spent=%{y}",
         "hovertext": [
          "Chelsea ",
          "Chelsea ",
          "Chelsea ",
          "Chelsea ",
          "Chelsea ",
          "Chelsea ",
          "Chelsea ",
          "Chelsea ",
          "Chelsea ",
          "Chelsea ",
          "Chelsea ",
          "Chelsea ",
          "Chelsea ",
          "Chelsea ",
          "Chelsea "
         ],
         "legendgroup": "Chelsea ",
         "line": {
          "color": "#2593ff",
          "dash": "solid"
         },
         "mode": "lines",
         "name": "Chelsea ",
         "showlegend": true,
         "type": "scatter",
         "x": [
          2005,
          2006,
          2007,
          2008,
          2009,
          2010,
          2011,
          2012,
          2013,
          2014,
          2015,
          2016,
          2017,
          2018,
          2019
         ],
         "xaxis": "x",
         "y": [
          93500000,
          64480000,
          24500000,
          60500000,
          30000000,
          29000000,
          154250000,
          119700000,
          88150000,
          162800000,
          105900000,
          137400000,
          203900000,
          190800000,
          109000000
         ],
         "yaxis": "y"
        },
        {
         "hoverlabel": {
          "namelength": 0
         },
         "hovertemplate": "<b>%{hovertext}</b><br><br>Club Joined=FC Barcelona <br>Year=%{x}<br>Total Fee Spent=%{y}",
         "hovertext": [
          "FC Barcelona ",
          "FC Barcelona ",
          "FC Barcelona ",
          "FC Barcelona ",
          "FC Barcelona ",
          "FC Barcelona ",
          "FC Barcelona ",
          "FC Barcelona ",
          "FC Barcelona ",
          "FC Barcelona ",
          "FC Barcelona ",
          "FC Barcelona ",
          "FC Barcelona ",
          "FC Barcelona ",
          "FC Barcelona "
         ],
         "legendgroup": "FC Barcelona ",
         "line": {
          "color": "#2adef6",
          "dash": "solid"
         },
         "mode": "lines",
         "name": "FC Barcelona ",
         "showlegend": true,
         "type": "scatter",
         "x": [
          2005,
          2006,
          2007,
          2008,
          2009,
          2010,
          2011,
          2012,
          2013,
          2014,
          2015,
          2016,
          2017,
          2018,
          2019
         ],
         "xaxis": "x",
         "y": [
          0,
          31000000,
          59000000,
          91000000,
          113500000,
          69500000,
          63000000,
          33000000,
          101200000,
          166720000,
          51000000,
          124750000,
          200700000,
          282700000,
          243000000
         ],
         "yaxis": "y"
        },
        {
         "hoverlabel": {
          "namelength": 0
         },
         "hovertemplate": "<b>%{hovertext}</b><br><br>Club Joined=Inter <br>Year=%{x}<br>Total Fee Spent=%{y}",
         "hovertext": [
          "Inter ",
          "Inter ",
          "Inter ",
          "Inter ",
          "Inter ",
          "Inter ",
          "Inter ",
          "Inter ",
          "Inter ",
          "Inter ",
          "Inter ",
          "Inter ",
          "Inter ",
          "Inter ",
          "Inter "
         ],
         "legendgroup": "Inter ",
         "line": {
          "color": "#60fdfa",
          "dash": "solid"
         },
         "mode": "lines",
         "name": "Inter ",
         "showlegend": true,
         "type": "scatter",
         "x": [
          2005,
          2006,
          2007,
          2008,
          2009,
          2010,
          2011,
          2012,
          2013,
          2014,
          2015,
          2016,
          2017,
          2018,
          2019
         ],
         "xaxis": "x",
         "y": [
          30450000,
          46600000,
          36500000,
          51600000,
          79700000,
          10000000,
          57750000,
          55300000,
          46400000,
          29790000,
          74200000,
          110250000,
          150600000,
          68000000,
          87600000
         ],
         "yaxis": "y"
        },
        {
         "hoverlabel": {
          "namelength": 0
         },
         "hovertemplate": "<b>%{hovertext}</b><br><br>Club Joined=Juventus <br>Year=%{x}<br>Total Fee Spent=%{y}",
         "hovertext": [
          "Juventus ",
          "Juventus ",
          "Juventus ",
          "Juventus ",
          "Juventus ",
          "Juventus ",
          "Juventus ",
          "Juventus ",
          "Juventus ",
          "Juventus ",
          "Juventus ",
          "Juventus ",
          "Juventus ",
          "Juventus ",
          "Juventus "
         ],
         "legendgroup": "Juventus ",
         "line": {
          "color": "#aefdff",
          "dash": "solid"
         },
         "mode": "lines",
         "name": "Juventus ",
         "showlegend": true,
         "type": "scatter",
         "x": [
          2005,
          2006,
          2007,
          2008,
          2009,
          2010,
          2011,
          2012,
          2013,
          2014,
          2015,
          2016,
          2017,
          2018,
          2019
         ],
         "xaxis": "x",
         "y": [
          27700000,
          4000000,
          13000000,
          46450000,
          54000000,
          42500000,
          79680000,
          78500000,
          27560000,
          38500000,
          141600000,
          154000000,
          170900000,
          236900000,
          166500000
         ],
         "yaxis": "y"
        },
        {
         "hoverlabel": {
          "namelength": 0
         },
         "hovertemplate": "<b>%{hovertext}</b><br><br>Club Joined=Liverpool <br>Year=%{x}<br>Total Fee Spent=%{y}",
         "hovertext": [
          "Liverpool ",
          "Liverpool ",
          "Liverpool ",
          "Liverpool ",
          "Liverpool ",
          "Liverpool ",
          "Liverpool ",
          "Liverpool ",
          "Liverpool ",
          "Liverpool ",
          "Liverpool ",
          "Liverpool ",
          "Liverpool ",
          "Liverpool ",
          "Liverpool "
         ],
         "legendgroup": "Liverpool ",
         "line": {
          "color": "#f3f3f1",
          "dash": "solid"
         },
         "mode": "lines",
         "name": "Liverpool ",
         "showlegend": true,
         "type": "scatter",
         "x": [
          2005,
          2006,
          2007,
          2008,
          2009,
          2010,
          2011,
          2012,
          2013,
          2014,
          2015,
          2016,
          2017,
          2018,
          2019
         ],
         "xaxis": "x",
         "y": [
          42950000,
          44860000,
          67950000,
          76800000,
          43500000,
          22680000,
          124300000,
          37600000,
          75900000,
          143930000,
          105200000,
          80700000,
          89000000,
          267078000,
          0
         ],
         "yaxis": "y"
        },
        {
         "hoverlabel": {
          "namelength": 0
         },
         "hovertemplate": "<b>%{hovertext}</b><br><br>Club Joined=Man City <br>Year=%{x}<br>Total Fee Spent=%{y}",
         "hovertext": [
          "Man City ",
          "Man City ",
          "Man City ",
          "Man City ",
          "Man City ",
          "Man City ",
          "Man City ",
          "Man City ",
          "Man City ",
          "Man City ",
          "Man City ",
          "Man City ",
          "Man City ",
          "Man City ",
          "Man City "
         ],
         "legendgroup": "Man City ",
         "line": {
          "color": "#fffda9",
          "dash": "solid"
         },
         "mode": "lines",
         "name": "Man City ",
         "showlegend": true,
         "type": "scatter",
         "x": [
          2005,
          2006,
          2007,
          2008,
          2009,
          2010,
          2011,
          2012,
          2013,
          2014,
          2015,
          2016,
          2017,
          2018,
          2019
         ],
         "xaxis": "x",
         "y": [
          0,
          14475000,
          51500000,
          114050000,
          194800000,
          154610000,
          124250000,
          65250000,
          116000000,
          68000000,
          240175000,
          181820000,
          266000000,
          140190000,
          174220000
         ],
         "yaxis": "y"
        },
        {
         "hoverlabel": {
          "namelength": 0
         },
         "hovertemplate": "<b>%{hovertext}</b><br><br>Club Joined=Man Utd <br>Year=%{x}<br>Total Fee Spent=%{y}",
         "hovertext": [
          "Man Utd ",
          "Man Utd ",
          "Man Utd ",
          "Man Utd ",
          "Man Utd ",
          "Man Utd ",
          "Man Utd ",
          "Man Utd ",
          "Man Utd ",
          "Man Utd ",
          "Man Utd ",
          "Man Utd ",
          "Man Utd ",
          "Man Utd ",
          "Man Utd "
         ],
         "legendgroup": "Man Utd ",
         "line": {
          "color": "#fafd5b",
          "dash": "solid"
         },
         "mode": "lines",
         "name": "Man Utd ",
         "showlegend": true,
         "type": "scatter",
         "x": [
          2005,
          2006,
          2007,
          2008,
          2009,
          2010,
          2011,
          2012,
          2013,
          2014,
          2015,
          2016,
          2017,
          2018,
          2019
         ],
         "xaxis": "x",
         "y": [
          7300000,
          45700000,
          86300000,
          38000000,
          34550000,
          24300000,
          67300000,
          64700000,
          44150000,
          230730000,
          156000000,
          185000000,
          164400000,
          116700000,
          142000000
         ],
         "yaxis": "y"
        },
        {
         "hoverlabel": {
          "namelength": 0
         },
         "hovertemplate": "<b>%{hovertext}</b><br><br>Club Joined=Monaco <br>Year=%{x}<br>Total Fee Spent=%{y}",
         "hovertext": [
          "Monaco ",
          "Monaco ",
          "Monaco ",
          "Monaco ",
          "Monaco ",
          "Monaco ",
          "Monaco ",
          "Monaco ",
          "Monaco ",
          "Monaco ",
          "Monaco ",
          "Monaco ",
          "Monaco ",
          "Monaco "
         ],
         "legendgroup": "Monaco ",
         "line": {
          "color": "#f7da29",
          "dash": "solid"
         },
         "mode": "lines",
         "name": "Monaco ",
         "showlegend": true,
         "type": "scatter",
         "x": [
          2006,
          2007,
          2008,
          2009,
          2010,
          2011,
          2012,
          2013,
          2014,
          2015,
          2016,
          2017,
          2018,
          2019
         ],
         "xaxis": "x",
         "y": [
          8500000,
          8500000,
          8000000,
          8500000,
          8300000,
          1000000,
          31550000,
          146400000,
          32500000,
          70810000,
          38500000,
          107000000,
          140100000,
          146200000
         ],
         "yaxis": "y"
        },
        {
         "hoverlabel": {
          "namelength": 0
         },
         "hovertemplate": "<b>%{hovertext}</b><br><br>Club Joined=Paris SG <br>Year=%{x}<br>Total Fee Spent=%{y}",
         "hovertext": [
          "Paris SG ",
          "Paris SG ",
          "Paris SG ",
          "Paris SG ",
          "Paris SG ",
          "Paris SG ",
          "Paris SG ",
          "Paris SG ",
          "Paris SG ",
          "Paris SG ",
          "Paris SG ",
          "Paris SG ",
          "Paris SG ",
          "Paris SG "
         ],
         "legendgroup": "Paris SG ",
         "line": {
          "color": "#ff8e25",
          "dash": "solid"
         },
         "mode": "lines",
         "name": "Paris SG ",
         "showlegend": true,
         "type": "scatter",
         "x": [
          2005,
          2007,
          2008,
          2009,
          2010,
          2011,
          2012,
          2013,
          2014,
          2015,
          2016,
          2017,
          2018,
          2019
         ],
         "xaxis": "x",
         "y": [
          11000000,
          15500000,
          15000000,
          2500000,
          9000000,
          87100000,
          131000000,
          150900000,
          74500000,
          106100000,
          68500000,
          304000000,
          187000000,
          135000000
         ],
         "yaxis": "y"
        },
        {
         "hoverlabel": {
          "namelength": 0
         },
         "hovertemplate": "<b>%{hovertext}</b><br><br>Club Joined=Real Madrid <br>Year=%{x}<br>Total Fee Spent=%{y}",
         "hovertext": [
          "Real Madrid ",
          "Real Madrid ",
          "Real Madrid ",
          "Real Madrid ",
          "Real Madrid ",
          "Real Madrid ",
          "Real Madrid ",
          "Real Madrid ",
          "Real Madrid ",
          "Real Madrid ",
          "Real Madrid ",
          "Real Madrid ",
          "Real Madrid ",
          "Real Madrid ",
          "Real Madrid "
         ],
         "legendgroup": "Real Madrid ",
         "line": {
          "color": "#f8432d",
          "dash": "solid"
         },
         "mode": "lines",
         "name": "Real Madrid ",
         "showlegend": true,
         "type": "scatter",
         "x": [
          2005,
          2006,
          2007,
          2008,
          2009,
          2010,
          2011,
          2012,
          2013,
          2014,
          2015,
          2016,
          2017,
          2018,
          2019
         ],
         "xaxis": "x",
         "y": [
          78400000,
          73500000,
          157000000,
          25000000,
          300500000,
          83000000,
          50000000,
          35000000,
          166500000,
          110000000,
          94500000,
          30000000,
          40500000,
          131500000,
          322500000
         ],
         "yaxis": "y"
        },
        {
         "hoverlabel": {
          "namelength": 0
         },
         "hovertemplate": "<b>%{hovertext}</b><br><br>Club Joined=Spurs <br>Year=%{x}<br>Total Fee Spent=%{y}",
         "hovertext": [
          "Spurs ",
          "Spurs ",
          "Spurs ",
          "Spurs ",
          "Spurs ",
          "Spurs ",
          "Spurs ",
          "Spurs ",
          "Spurs ",
          "Spurs ",
          "Spurs ",
          "Spurs ",
          "Spurs ",
          "Spurs ",
          "Spurs "
         ],
         "legendgroup": "Spurs ",
         "line": {
          "color": "#d90d39",
          "dash": "solid"
         },
         "mode": "lines",
         "name": "Spurs ",
         "showlegend": true,
         "type": "scatter",
         "x": [
          2005,
          2006,
          2007,
          2008,
          2009,
          2010,
          2011,
          2012,
          2013,
          2014,
          2015,
          2016,
          2017,
          2018,
          2019
         ],
         "xaxis": "x",
         "y": [
          32000000,
          54010000,
          56450000,
          110150000,
          79800000,
          28200000,
          9350000,
          69000000,
          127780000,
          41850000,
          66730000,
          82400000,
          80100000,
          28400000,
          98000000
         ],
         "yaxis": "y"
        }
       ],
       "layout": {
        "hoverlabel": {
         "bgcolor": "black",
         "bordercolor": "black",
         "font": {
          "color": "white",
          "family": "Arial, monospace",
          "size": 14
         }
        },
        "legend": {
         "title": {
          "text": "Club Joined"
         },
         "tracegroupgap": 0
        },
        "template": {
         "data": {
          "bar": [
           {
            "error_x": {
             "color": "#f2f5fa"
            },
            "error_y": {
             "color": "#f2f5fa"
            },
            "marker": {
             "line": {
              "color": "rgb(17,17,17)",
              "width": 0.5
             }
            },
            "type": "bar"
           }
          ],
          "barpolar": [
           {
            "marker": {
             "line": {
              "color": "rgb(17,17,17)",
              "width": 0.5
             }
            },
            "type": "barpolar"
           }
          ],
          "carpet": [
           {
            "aaxis": {
             "endlinecolor": "#A2B1C6",
             "gridcolor": "#506784",
             "linecolor": "#506784",
             "minorgridcolor": "#506784",
             "startlinecolor": "#A2B1C6"
            },
            "baxis": {
             "endlinecolor": "#A2B1C6",
             "gridcolor": "#506784",
             "linecolor": "#506784",
             "minorgridcolor": "#506784",
             "startlinecolor": "#A2B1C6"
            },
            "type": "carpet"
           }
          ],
          "choropleth": [
           {
            "colorbar": {
             "outlinewidth": 0,
             "ticks": ""
            },
            "type": "choropleth"
           }
          ],
          "contour": [
           {
            "colorbar": {
             "outlinewidth": 0,
             "ticks": ""
            },
            "colorscale": [
             [
              0,
              "#0d0887"
             ],
             [
              0.1111111111111111,
              "#46039f"
             ],
             [
              0.2222222222222222,
              "#7201a8"
             ],
             [
              0.3333333333333333,
              "#9c179e"
             ],
             [
              0.4444444444444444,
              "#bd3786"
             ],
             [
              0.5555555555555556,
              "#d8576b"
             ],
             [
              0.6666666666666666,
              "#ed7953"
             ],
             [
              0.7777777777777778,
              "#fb9f3a"
             ],
             [
              0.8888888888888888,
              "#fdca26"
             ],
             [
              1,
              "#f0f921"
             ]
            ],
            "type": "contour"
           }
          ],
          "contourcarpet": [
           {
            "colorbar": {
             "outlinewidth": 0,
             "ticks": ""
            },
            "type": "contourcarpet"
           }
          ],
          "heatmap": [
           {
            "colorbar": {
             "outlinewidth": 0,
             "ticks": ""
            },
            "colorscale": [
             [
              0,
              "#0d0887"
             ],
             [
              0.1111111111111111,
              "#46039f"
             ],
             [
              0.2222222222222222,
              "#7201a8"
             ],
             [
              0.3333333333333333,
              "#9c179e"
             ],
             [
              0.4444444444444444,
              "#bd3786"
             ],
             [
              0.5555555555555556,
              "#d8576b"
             ],
             [
              0.6666666666666666,
              "#ed7953"
             ],
             [
              0.7777777777777778,
              "#fb9f3a"
             ],
             [
              0.8888888888888888,
              "#fdca26"
             ],
             [
              1,
              "#f0f921"
             ]
            ],
            "type": "heatmap"
           }
          ],
          "heatmapgl": [
           {
            "colorbar": {
             "outlinewidth": 0,
             "ticks": ""
            },
            "colorscale": [
             [
              0,
              "#0d0887"
             ],
             [
              0.1111111111111111,
              "#46039f"
             ],
             [
              0.2222222222222222,
              "#7201a8"
             ],
             [
              0.3333333333333333,
              "#9c179e"
             ],
             [
              0.4444444444444444,
              "#bd3786"
             ],
             [
              0.5555555555555556,
              "#d8576b"
             ],
             [
              0.6666666666666666,
              "#ed7953"
             ],
             [
              0.7777777777777778,
              "#fb9f3a"
             ],
             [
              0.8888888888888888,
              "#fdca26"
             ],
             [
              1,
              "#f0f921"
             ]
            ],
            "type": "heatmapgl"
           }
          ],
          "histogram": [
           {
            "marker": {
             "colorbar": {
              "outlinewidth": 0,
              "ticks": ""
             }
            },
            "type": "histogram"
           }
          ],
          "histogram2d": [
           {
            "colorbar": {
             "outlinewidth": 0,
             "ticks": ""
            },
            "colorscale": [
             [
              0,
              "#0d0887"
             ],
             [
              0.1111111111111111,
              "#46039f"
             ],
             [
              0.2222222222222222,
              "#7201a8"
             ],
             [
              0.3333333333333333,
              "#9c179e"
             ],
             [
              0.4444444444444444,
              "#bd3786"
             ],
             [
              0.5555555555555556,
              "#d8576b"
             ],
             [
              0.6666666666666666,
              "#ed7953"
             ],
             [
              0.7777777777777778,
              "#fb9f3a"
             ],
             [
              0.8888888888888888,
              "#fdca26"
             ],
             [
              1,
              "#f0f921"
             ]
            ],
            "type": "histogram2d"
           }
          ],
          "histogram2dcontour": [
           {
            "colorbar": {
             "outlinewidth": 0,
             "ticks": ""
            },
            "colorscale": [
             [
              0,
              "#0d0887"
             ],
             [
              0.1111111111111111,
              "#46039f"
             ],
             [
              0.2222222222222222,
              "#7201a8"
             ],
             [
              0.3333333333333333,
              "#9c179e"
             ],
             [
              0.4444444444444444,
              "#bd3786"
             ],
             [
              0.5555555555555556,
              "#d8576b"
             ],
             [
              0.6666666666666666,
              "#ed7953"
             ],
             [
              0.7777777777777778,
              "#fb9f3a"
             ],
             [
              0.8888888888888888,
              "#fdca26"
             ],
             [
              1,
              "#f0f921"
             ]
            ],
            "type": "histogram2dcontour"
           }
          ],
          "mesh3d": [
           {
            "colorbar": {
             "outlinewidth": 0,
             "ticks": ""
            },
            "type": "mesh3d"
           }
          ],
          "parcoords": [
           {
            "line": {
             "colorbar": {
              "outlinewidth": 0,
              "ticks": ""
             }
            },
            "type": "parcoords"
           }
          ],
          "pie": [
           {
            "automargin": true,
            "type": "pie"
           }
          ],
          "scatter": [
           {
            "marker": {
             "line": {
              "color": "#283442"
             }
            },
            "type": "scatter"
           }
          ],
          "scatter3d": [
           {
            "line": {
             "colorbar": {
              "outlinewidth": 0,
              "ticks": ""
             }
            },
            "marker": {
             "colorbar": {
              "outlinewidth": 0,
              "ticks": ""
             }
            },
            "type": "scatter3d"
           }
          ],
          "scattercarpet": [
           {
            "marker": {
             "colorbar": {
              "outlinewidth": 0,
              "ticks": ""
             }
            },
            "type": "scattercarpet"
           }
          ],
          "scattergeo": [
           {
            "marker": {
             "colorbar": {
              "outlinewidth": 0,
              "ticks": ""
             }
            },
            "type": "scattergeo"
           }
          ],
          "scattergl": [
           {
            "marker": {
             "line": {
              "color": "#283442"
             }
            },
            "type": "scattergl"
           }
          ],
          "scattermapbox": [
           {
            "marker": {
             "colorbar": {
              "outlinewidth": 0,
              "ticks": ""
             }
            },
            "type": "scattermapbox"
           }
          ],
          "scatterpolar": [
           {
            "marker": {
             "colorbar": {
              "outlinewidth": 0,
              "ticks": ""
             }
            },
            "type": "scatterpolar"
           }
          ],
          "scatterpolargl": [
           {
            "marker": {
             "colorbar": {
              "outlinewidth": 0,
              "ticks": ""
             }
            },
            "type": "scatterpolargl"
           }
          ],
          "scatterternary": [
           {
            "marker": {
             "colorbar": {
              "outlinewidth": 0,
              "ticks": ""
             }
            },
            "type": "scatterternary"
           }
          ],
          "surface": [
           {
            "colorbar": {
             "outlinewidth": 0,
             "ticks": ""
            },
            "colorscale": [
             [
              0,
              "#0d0887"
             ],
             [
              0.1111111111111111,
              "#46039f"
             ],
             [
              0.2222222222222222,
              "#7201a8"
             ],
             [
              0.3333333333333333,
              "#9c179e"
             ],
             [
              0.4444444444444444,
              "#bd3786"
             ],
             [
              0.5555555555555556,
              "#d8576b"
             ],
             [
              0.6666666666666666,
              "#ed7953"
             ],
             [
              0.7777777777777778,
              "#fb9f3a"
             ],
             [
              0.8888888888888888,
              "#fdca26"
             ],
             [
              1,
              "#f0f921"
             ]
            ],
            "type": "surface"
           }
          ],
          "table": [
           {
            "cells": {
             "fill": {
              "color": "#506784"
             },
             "line": {
              "color": "rgb(17,17,17)"
             }
            },
            "header": {
             "fill": {
              "color": "#2a3f5f"
             },
             "line": {
              "color": "rgb(17,17,17)"
             }
            },
            "type": "table"
           }
          ]
         },
         "layout": {
          "annotationdefaults": {
           "arrowcolor": "#f2f5fa",
           "arrowhead": 0,
           "arrowwidth": 1
          },
          "coloraxis": {
           "colorbar": {
            "outlinewidth": 0,
            "ticks": ""
           }
          },
          "colorscale": {
           "diverging": [
            [
             0,
             "#8e0152"
            ],
            [
             0.1,
             "#c51b7d"
            ],
            [
             0.2,
             "#de77ae"
            ],
            [
             0.3,
             "#f1b6da"
            ],
            [
             0.4,
             "#fde0ef"
            ],
            [
             0.5,
             "#f7f7f7"
            ],
            [
             0.6,
             "#e6f5d0"
            ],
            [
             0.7,
             "#b8e186"
            ],
            [
             0.8,
             "#7fbc41"
            ],
            [
             0.9,
             "#4d9221"
            ],
            [
             1,
             "#276419"
            ]
           ],
           "sequential": [
            [
             0,
             "#0d0887"
            ],
            [
             0.1111111111111111,
             "#46039f"
            ],
            [
             0.2222222222222222,
             "#7201a8"
            ],
            [
             0.3333333333333333,
             "#9c179e"
            ],
            [
             0.4444444444444444,
             "#bd3786"
            ],
            [
             0.5555555555555556,
             "#d8576b"
            ],
            [
             0.6666666666666666,
             "#ed7953"
            ],
            [
             0.7777777777777778,
             "#fb9f3a"
            ],
            [
             0.8888888888888888,
             "#fdca26"
            ],
            [
             1,
             "#f0f921"
            ]
           ],
           "sequentialminus": [
            [
             0,
             "#0d0887"
            ],
            [
             0.1111111111111111,
             "#46039f"
            ],
            [
             0.2222222222222222,
             "#7201a8"
            ],
            [
             0.3333333333333333,
             "#9c179e"
            ],
            [
             0.4444444444444444,
             "#bd3786"
            ],
            [
             0.5555555555555556,
             "#d8576b"
            ],
            [
             0.6666666666666666,
             "#ed7953"
            ],
            [
             0.7777777777777778,
             "#fb9f3a"
            ],
            [
             0.8888888888888888,
             "#fdca26"
            ],
            [
             1,
             "#f0f921"
            ]
           ]
          },
          "colorway": [
           "#636efa",
           "#EF553B",
           "#00cc96",
           "#ab63fa",
           "#FFA15A",
           "#19d3f3",
           "#FF6692",
           "#B6E880",
           "#FF97FF",
           "#FECB52"
          ],
          "font": {
           "color": "#f2f5fa"
          },
          "geo": {
           "bgcolor": "rgb(17,17,17)",
           "lakecolor": "rgb(17,17,17)",
           "landcolor": "rgb(17,17,17)",
           "showlakes": true,
           "showland": true,
           "subunitcolor": "#506784"
          },
          "hoverlabel": {
           "align": "left"
          },
          "hovermode": "closest",
          "mapbox": {
           "style": "dark"
          },
          "paper_bgcolor": "rgb(17,17,17)",
          "plot_bgcolor": "rgb(17,17,17)",
          "polar": {
           "angularaxis": {
            "gridcolor": "#506784",
            "linecolor": "#506784",
            "ticks": ""
           },
           "bgcolor": "rgb(17,17,17)",
           "radialaxis": {
            "gridcolor": "#506784",
            "linecolor": "#506784",
            "ticks": ""
           }
          },
          "scene": {
           "xaxis": {
            "backgroundcolor": "rgb(17,17,17)",
            "gridcolor": "#506784",
            "gridwidth": 2,
            "linecolor": "#506784",
            "showbackground": true,
            "ticks": "",
            "zerolinecolor": "#C8D4E3"
           },
           "yaxis": {
            "backgroundcolor": "rgb(17,17,17)",
            "gridcolor": "#506784",
            "gridwidth": 2,
            "linecolor": "#506784",
            "showbackground": true,
            "ticks": "",
            "zerolinecolor": "#C8D4E3"
           },
           "zaxis": {
            "backgroundcolor": "rgb(17,17,17)",
            "gridcolor": "#506784",
            "gridwidth": 2,
            "linecolor": "#506784",
            "showbackground": true,
            "ticks": "",
            "zerolinecolor": "#C8D4E3"
           }
          },
          "shapedefaults": {
           "line": {
            "color": "#f2f5fa"
           }
          },
          "sliderdefaults": {
           "bgcolor": "#C8D4E3",
           "bordercolor": "rgb(17,17,17)",
           "borderwidth": 1,
           "tickwidth": 0
          },
          "ternary": {
           "aaxis": {
            "gridcolor": "#506784",
            "linecolor": "#506784",
            "ticks": ""
           },
           "baxis": {
            "gridcolor": "#506784",
            "linecolor": "#506784",
            "ticks": ""
           },
           "bgcolor": "rgb(17,17,17)",
           "caxis": {
            "gridcolor": "#506784",
            "linecolor": "#506784",
            "ticks": ""
           }
          },
          "title": {
           "x": 0.05
          },
          "updatemenudefaults": {
           "bgcolor": "#506784",
           "borderwidth": 0
          },
          "xaxis": {
           "automargin": true,
           "gridcolor": "#283442",
           "linecolor": "#506784",
           "ticks": "",
           "title": {
            "standoff": 15
           },
           "zerolinecolor": "#283442",
           "zerolinewidth": 2
          },
          "yaxis": {
           "automargin": true,
           "gridcolor": "#283442",
           "linecolor": "#506784",
           "ticks": "",
           "title": {
            "standoff": 15
           },
           "zerolinecolor": "#283442",
           "zerolinewidth": 2
          }
         }
        },
        "title": {
         "text": "Trend Analysis for Top 15 Clubs by Transfer Fee Expenditure"
        },
        "xaxis": {
         "linecolor": "white",
         "showgrid": false,
         "showline": true,
         "showticklabels": true,
         "tickfont": {
          "color": "white",
          "family": "Arial",
          "size": 10
         },
         "title": {
          "font": {
           "color": "white",
           "family": "Arial, monospace",
           "size": 14
          },
          "text": "Year"
         },
         "zeroline": false
        },
        "yaxis": {
         "linecolor": "white",
         "showgrid": false,
         "showline": false,
         "showticklabels": true,
         "tickfont": {
          "color": "white",
          "family": "Arial",
          "size": 10
         },
         "title": {
          "font": {
           "color": "white",
           "family": "Arial, monospace",
           "size": 14
          },
          "text": "Total Transfer Fee Spent, in Euros"
         },
         "zeroline": false
        }
       }
      },
      "text/html": [
       "<div>\n",
       "        \n",
       "        \n",
       "            <div id=\"b2f50095-1950-4ee6-a81f-256ef99e003e\" class=\"plotly-graph-div\" style=\"height:525px; width:100%;\"></div>\n",
       "            <script type=\"text/javascript\">\n",
       "                require([\"plotly\"], function(Plotly) {\n",
       "                    window.PLOTLYENV=window.PLOTLYENV || {};\n",
       "                    \n",
       "                if (document.getElementById(\"b2f50095-1950-4ee6-a81f-256ef99e003e\")) {\n",
       "                    Plotly.newPlot(\n",
       "                        'b2f50095-1950-4ee6-a81f-256ef99e003e',\n",
       "                        [{\"hoverlabel\": {\"namelength\": 0}, \"hovertemplate\": \"<b>%{hovertext}</b><br><br>Club Joined=AC Milan <br>Year=%{x}<br>Total Fee Spent=%{y}\", \"hovertext\": [\"AC Milan \", \"AC Milan \", \"AC Milan \", \"AC Milan \", \"AC Milan \", \"AC Milan \", \"AC Milan \", \"AC Milan \", \"AC Milan \", \"AC Milan \", \"AC Milan \", \"AC Milan \", \"AC Milan \", \"AC Milan \", \"AC Milan \"], \"legendgroup\": \"AC Milan \", \"line\": {\"color\": \"#313131\", \"dash\": \"solid\"}, \"mode\": \"lines\", \"name\": \"AC Milan \", \"showlegend\": true, \"type\": \"scatter\", \"x\": [2005, 2006, 2007, 2008, 2009, 2010, 2011, 2012, 2013, 2014, 2015, 2016, 2017, 2018, 2019], \"xaxis\": \"x\", \"y\": [33500000.0, 15000000.0, 47600000.0, 43400000.0, 25000000.0, 23900000.0, 52350000.0, 19550000.0, 62200000.0, 11250000.0, 97100000.0, 17000000.0, 180980000.0, 93700000.0, 174400000.0], \"yaxis\": \"y\"}, {\"hoverlabel\": {\"namelength\": 0}, \"hovertemplate\": \"<b>%{hovertext}</b><br><br>Club Joined=Arsenal <br>Year=%{x}<br>Total Fee Spent=%{y}\", \"hovertext\": [\"Arsenal \", \"Arsenal \", \"Arsenal \", \"Arsenal \", \"Arsenal \", \"Arsenal \", \"Arsenal \", \"Arsenal \", \"Arsenal \", \"Arsenal \", \"Arsenal \", \"Arsenal \", \"Arsenal \", \"Arsenal \", \"Arsenal \"], \"legendgroup\": \"Arsenal \", \"line\": {\"color\": \"#3d019d\", \"dash\": \"solid\"}, \"mode\": \"lines\", \"name\": \"Arsenal \", \"showlegend\": true, \"type\": \"scatter\", \"x\": [2005, 2006, 2007, 2008, 2009, 2010, 2011, 2012, 2013, 2014, 2015, 2016, 2017, 2018, 2019], \"xaxis\": \"x\", \"y\": [19000000.0, 36500000.0, 25400000.0, 17250000.0, 28500000.0, 19000000.0, 67730000.0, 46000000.0, 57000000.0, 101730000.0, 29000000.0, 125500000.0, 53000000.0, 177500000.0, 145700000.0], \"yaxis\": \"y\"}, {\"hoverlabel\": {\"namelength\": 0}, \"hovertemplate\": \"<b>%{hovertext}</b><br><br>Club Joined=Atl\\u00e9tico Madrid <br>Year=%{x}<br>Total Fee Spent=%{y}\", \"hovertext\": [\"Atl\\u00e9tico Madrid \", \"Atl\\u00e9tico Madrid \", \"Atl\\u00e9tico Madrid \", \"Atl\\u00e9tico Madrid \", \"Atl\\u00e9tico Madrid \", \"Atl\\u00e9tico Madrid \", \"Atl\\u00e9tico Madrid \", \"Atl\\u00e9tico Madrid \", \"Atl\\u00e9tico Madrid \", \"Atl\\u00e9tico Madrid \", \"Atl\\u00e9tico Madrid \", \"Atl\\u00e9tico Madrid \", \"Atl\\u00e9tico Madrid \", \"Atl\\u00e9tico Madrid \"], \"legendgroup\": \"Atl\\u00e9tico Madrid \", \"line\": {\"color\": \"#3810dc\", \"dash\": \"solid\"}, \"mode\": \"lines\", \"name\": \"Atl\\u00e9tico Madrid \", \"showlegend\": true, \"type\": \"scatter\", \"x\": [2005, 2006, 2007, 2008, 2010, 2011, 2012, 2013, 2014, 2015, 2016, 2017, 2018, 2019], \"xaxis\": \"x\", \"y\": [19000000.0, 33700000.0, 68000000.0, 23000000.0, 28000000.0, 64250000.0, 13500000.0, 28600000.0, 132600000.0, 144360000.0, 83000000.0, 36000000.0, 217000000.0, 223500000.0], \"yaxis\": \"y\"}, {\"hoverlabel\": {\"namelength\": 0}, \"hovertemplate\": \"<b>%{hovertext}</b><br><br>Club Joined=Bayern Munich  <br>Year=%{x}<br>Total Fee Spent=%{y}\", \"hovertext\": [\"Bayern Munich  \", \"Bayern Munich  \", \"Bayern Munich  \", \"Bayern Munich  \", \"Bayern Munich  \", \"Bayern Munich  \", \"Bayern Munich  \", \"Bayern Munich  \", \"Bayern Munich  \", \"Bayern Munich  \", \"Bayern Munich  \", \"Bayern Munich  \", \"Bayern Munich  \", \"Bayern Munich  \"], \"legendgroup\": \"Bayern Munich  \", \"line\": {\"color\": \"#2d47f9\", \"dash\": \"solid\"}, \"mode\": \"lines\", \"name\": \"Bayern Munich  \", \"showlegend\": true, \"type\": \"scatter\", \"x\": [2005, 2006, 2007, 2008, 2009, 2011, 2012, 2013, 2014, 2015, 2016, 2017, 2018, 2019], \"xaxis\": \"x\", \"y\": [8500000.0, 26700000.0, 59000000.0, 12000000.0, 66000000.0, 60500000.0, 64800000.0, 62000000.0, 53000000.0, 76000000.0, 70000000.0, 82500000.0, 13000000.0, 137000000.0], \"yaxis\": \"y\"}, {\"hoverlabel\": {\"namelength\": 0}, \"hovertemplate\": \"<b>%{hovertext}</b><br><br>Club Joined=Chelsea <br>Year=%{x}<br>Total Fee Spent=%{y}\", \"hovertext\": [\"Chelsea \", \"Chelsea \", \"Chelsea \", \"Chelsea \", \"Chelsea \", \"Chelsea \", \"Chelsea \", \"Chelsea \", \"Chelsea \", \"Chelsea \", \"Chelsea \", \"Chelsea \", \"Chelsea \", \"Chelsea \", \"Chelsea \"], \"legendgroup\": \"Chelsea \", \"line\": {\"color\": \"#2593ff\", \"dash\": \"solid\"}, \"mode\": \"lines\", \"name\": \"Chelsea \", \"showlegend\": true, \"type\": \"scatter\", \"x\": [2005, 2006, 2007, 2008, 2009, 2010, 2011, 2012, 2013, 2014, 2015, 2016, 2017, 2018, 2019], \"xaxis\": \"x\", \"y\": [93500000.0, 64480000.0, 24500000.0, 60500000.0, 30000000.0, 29000000.0, 154250000.0, 119700000.0, 88150000.0, 162800000.0, 105900000.0, 137400000.0, 203900000.0, 190800000.0, 109000000.0], \"yaxis\": \"y\"}, {\"hoverlabel\": {\"namelength\": 0}, \"hovertemplate\": \"<b>%{hovertext}</b><br><br>Club Joined=FC Barcelona <br>Year=%{x}<br>Total Fee Spent=%{y}\", \"hovertext\": [\"FC Barcelona \", \"FC Barcelona \", \"FC Barcelona \", \"FC Barcelona \", \"FC Barcelona \", \"FC Barcelona \", \"FC Barcelona \", \"FC Barcelona \", \"FC Barcelona \", \"FC Barcelona \", \"FC Barcelona \", \"FC Barcelona \", \"FC Barcelona \", \"FC Barcelona \", \"FC Barcelona \"], \"legendgroup\": \"FC Barcelona \", \"line\": {\"color\": \"#2adef6\", \"dash\": \"solid\"}, \"mode\": \"lines\", \"name\": \"FC Barcelona \", \"showlegend\": true, \"type\": \"scatter\", \"x\": [2005, 2006, 2007, 2008, 2009, 2010, 2011, 2012, 2013, 2014, 2015, 2016, 2017, 2018, 2019], \"xaxis\": \"x\", \"y\": [0.0, 31000000.0, 59000000.0, 91000000.0, 113500000.0, 69500000.0, 63000000.0, 33000000.0, 101200000.0, 166720000.0, 51000000.0, 124750000.0, 200700000.0, 282700000.0, 243000000.0], \"yaxis\": \"y\"}, {\"hoverlabel\": {\"namelength\": 0}, \"hovertemplate\": \"<b>%{hovertext}</b><br><br>Club Joined=Inter <br>Year=%{x}<br>Total Fee Spent=%{y}\", \"hovertext\": [\"Inter \", \"Inter \", \"Inter \", \"Inter \", \"Inter \", \"Inter \", \"Inter \", \"Inter \", \"Inter \", \"Inter \", \"Inter \", \"Inter \", \"Inter \", \"Inter \", \"Inter \"], \"legendgroup\": \"Inter \", \"line\": {\"color\": \"#60fdfa\", \"dash\": \"solid\"}, \"mode\": \"lines\", \"name\": \"Inter \", \"showlegend\": true, \"type\": \"scatter\", \"x\": [2005, 2006, 2007, 2008, 2009, 2010, 2011, 2012, 2013, 2014, 2015, 2016, 2017, 2018, 2019], \"xaxis\": \"x\", \"y\": [30450000.0, 46600000.0, 36500000.0, 51600000.0, 79700000.0, 10000000.0, 57750000.0, 55300000.0, 46400000.0, 29790000.0, 74200000.0, 110250000.0, 150600000.0, 68000000.0, 87600000.0], \"yaxis\": \"y\"}, {\"hoverlabel\": {\"namelength\": 0}, \"hovertemplate\": \"<b>%{hovertext}</b><br><br>Club Joined=Juventus <br>Year=%{x}<br>Total Fee Spent=%{y}\", \"hovertext\": [\"Juventus \", \"Juventus \", \"Juventus \", \"Juventus \", \"Juventus \", \"Juventus \", \"Juventus \", \"Juventus \", \"Juventus \", \"Juventus \", \"Juventus \", \"Juventus \", \"Juventus \", \"Juventus \", \"Juventus \"], \"legendgroup\": \"Juventus \", \"line\": {\"color\": \"#aefdff\", \"dash\": \"solid\"}, \"mode\": \"lines\", \"name\": \"Juventus \", \"showlegend\": true, \"type\": \"scatter\", \"x\": [2005, 2006, 2007, 2008, 2009, 2010, 2011, 2012, 2013, 2014, 2015, 2016, 2017, 2018, 2019], \"xaxis\": \"x\", \"y\": [27700000.0, 4000000.0, 13000000.0, 46450000.0, 54000000.0, 42500000.0, 79680000.0, 78500000.0, 27560000.0, 38500000.0, 141600000.0, 154000000.0, 170900000.0, 236900000.0, 166500000.0], \"yaxis\": \"y\"}, {\"hoverlabel\": {\"namelength\": 0}, \"hovertemplate\": \"<b>%{hovertext}</b><br><br>Club Joined=Liverpool <br>Year=%{x}<br>Total Fee Spent=%{y}\", \"hovertext\": [\"Liverpool \", \"Liverpool \", \"Liverpool \", \"Liverpool \", \"Liverpool \", \"Liverpool \", \"Liverpool \", \"Liverpool \", \"Liverpool \", \"Liverpool \", \"Liverpool \", \"Liverpool \", \"Liverpool \", \"Liverpool \", \"Liverpool \"], \"legendgroup\": \"Liverpool \", \"line\": {\"color\": \"#f3f3f1\", \"dash\": \"solid\"}, \"mode\": \"lines\", \"name\": \"Liverpool \", \"showlegend\": true, \"type\": \"scatter\", \"x\": [2005, 2006, 2007, 2008, 2009, 2010, 2011, 2012, 2013, 2014, 2015, 2016, 2017, 2018, 2019], \"xaxis\": \"x\", \"y\": [42950000.0, 44860000.0, 67950000.0, 76800000.0, 43500000.0, 22680000.0, 124300000.0, 37600000.0, 75900000.0, 143930000.0, 105200000.0, 80700000.0, 89000000.0, 267078000.0, 0.0], \"yaxis\": \"y\"}, {\"hoverlabel\": {\"namelength\": 0}, \"hovertemplate\": \"<b>%{hovertext}</b><br><br>Club Joined=Man City <br>Year=%{x}<br>Total Fee Spent=%{y}\", \"hovertext\": [\"Man City \", \"Man City \", \"Man City \", \"Man City \", \"Man City \", \"Man City \", \"Man City \", \"Man City \", \"Man City \", \"Man City \", \"Man City \", \"Man City \", \"Man City \", \"Man City \", \"Man City \"], \"legendgroup\": \"Man City \", \"line\": {\"color\": \"#fffda9\", \"dash\": \"solid\"}, \"mode\": \"lines\", \"name\": \"Man City \", \"showlegend\": true, \"type\": \"scatter\", \"x\": [2005, 2006, 2007, 2008, 2009, 2010, 2011, 2012, 2013, 2014, 2015, 2016, 2017, 2018, 2019], \"xaxis\": \"x\", \"y\": [0.0, 14475000.0, 51500000.0, 114050000.0, 194800000.0, 154610000.0, 124250000.0, 65250000.0, 116000000.0, 68000000.0, 240175000.0, 181820000.0, 266000000.0, 140190000.0, 174220000.0], \"yaxis\": \"y\"}, {\"hoverlabel\": {\"namelength\": 0}, \"hovertemplate\": \"<b>%{hovertext}</b><br><br>Club Joined=Man Utd <br>Year=%{x}<br>Total Fee Spent=%{y}\", \"hovertext\": [\"Man Utd \", \"Man Utd \", \"Man Utd \", \"Man Utd \", \"Man Utd \", \"Man Utd \", \"Man Utd \", \"Man Utd \", \"Man Utd \", \"Man Utd \", \"Man Utd \", \"Man Utd \", \"Man Utd \", \"Man Utd \", \"Man Utd \"], \"legendgroup\": \"Man Utd \", \"line\": {\"color\": \"#fafd5b\", \"dash\": \"solid\"}, \"mode\": \"lines\", \"name\": \"Man Utd \", \"showlegend\": true, \"type\": \"scatter\", \"x\": [2005, 2006, 2007, 2008, 2009, 2010, 2011, 2012, 2013, 2014, 2015, 2016, 2017, 2018, 2019], \"xaxis\": \"x\", \"y\": [7300000.0, 45700000.0, 86300000.0, 38000000.0, 34550000.0, 24300000.0, 67300000.0, 64700000.0, 44150000.0, 230730000.0, 156000000.0, 185000000.0, 164400000.0, 116700000.0, 142000000.0], \"yaxis\": \"y\"}, {\"hoverlabel\": {\"namelength\": 0}, \"hovertemplate\": \"<b>%{hovertext}</b><br><br>Club Joined=Monaco <br>Year=%{x}<br>Total Fee Spent=%{y}\", \"hovertext\": [\"Monaco \", \"Monaco \", \"Monaco \", \"Monaco \", \"Monaco \", \"Monaco \", \"Monaco \", \"Monaco \", \"Monaco \", \"Monaco \", \"Monaco \", \"Monaco \", \"Monaco \", \"Monaco \"], \"legendgroup\": \"Monaco \", \"line\": {\"color\": \"#f7da29\", \"dash\": \"solid\"}, \"mode\": \"lines\", \"name\": \"Monaco \", \"showlegend\": true, \"type\": \"scatter\", \"x\": [2006, 2007, 2008, 2009, 2010, 2011, 2012, 2013, 2014, 2015, 2016, 2017, 2018, 2019], \"xaxis\": \"x\", \"y\": [8500000.0, 8500000.0, 8000000.0, 8500000.0, 8300000.0, 1000000.0, 31550000.0, 146400000.0, 32500000.0, 70810000.0, 38500000.0, 107000000.0, 140100000.0, 146200000.0], \"yaxis\": \"y\"}, {\"hoverlabel\": {\"namelength\": 0}, \"hovertemplate\": \"<b>%{hovertext}</b><br><br>Club Joined=Paris SG <br>Year=%{x}<br>Total Fee Spent=%{y}\", \"hovertext\": [\"Paris SG \", \"Paris SG \", \"Paris SG \", \"Paris SG \", \"Paris SG \", \"Paris SG \", \"Paris SG \", \"Paris SG \", \"Paris SG \", \"Paris SG \", \"Paris SG \", \"Paris SG \", \"Paris SG \", \"Paris SG \"], \"legendgroup\": \"Paris SG \", \"line\": {\"color\": \"#ff8e25\", \"dash\": \"solid\"}, \"mode\": \"lines\", \"name\": \"Paris SG \", \"showlegend\": true, \"type\": \"scatter\", \"x\": [2005, 2007, 2008, 2009, 2010, 2011, 2012, 2013, 2014, 2015, 2016, 2017, 2018, 2019], \"xaxis\": \"x\", \"y\": [11000000.0, 15500000.0, 15000000.0, 2500000.0, 9000000.0, 87100000.0, 131000000.0, 150900000.0, 74500000.0, 106100000.0, 68500000.0, 304000000.0, 187000000.0, 135000000.0], \"yaxis\": \"y\"}, {\"hoverlabel\": {\"namelength\": 0}, \"hovertemplate\": \"<b>%{hovertext}</b><br><br>Club Joined=Real Madrid <br>Year=%{x}<br>Total Fee Spent=%{y}\", \"hovertext\": [\"Real Madrid \", \"Real Madrid \", \"Real Madrid \", \"Real Madrid \", \"Real Madrid \", \"Real Madrid \", \"Real Madrid \", \"Real Madrid \", \"Real Madrid \", \"Real Madrid \", \"Real Madrid \", \"Real Madrid \", \"Real Madrid \", \"Real Madrid \", \"Real Madrid \"], \"legendgroup\": \"Real Madrid \", \"line\": {\"color\": \"#f8432d\", \"dash\": \"solid\"}, \"mode\": \"lines\", \"name\": \"Real Madrid \", \"showlegend\": true, \"type\": \"scatter\", \"x\": [2005, 2006, 2007, 2008, 2009, 2010, 2011, 2012, 2013, 2014, 2015, 2016, 2017, 2018, 2019], \"xaxis\": \"x\", \"y\": [78400000.0, 73500000.0, 157000000.0, 25000000.0, 300500000.0, 83000000.0, 50000000.0, 35000000.0, 166500000.0, 110000000.0, 94500000.0, 30000000.0, 40500000.0, 131500000.0, 322500000.0], \"yaxis\": \"y\"}, {\"hoverlabel\": {\"namelength\": 0}, \"hovertemplate\": \"<b>%{hovertext}</b><br><br>Club Joined=Spurs <br>Year=%{x}<br>Total Fee Spent=%{y}\", \"hovertext\": [\"Spurs \", \"Spurs \", \"Spurs \", \"Spurs \", \"Spurs \", \"Spurs \", \"Spurs \", \"Spurs \", \"Spurs \", \"Spurs \", \"Spurs \", \"Spurs \", \"Spurs \", \"Spurs \", \"Spurs \"], \"legendgroup\": \"Spurs \", \"line\": {\"color\": \"#d90d39\", \"dash\": \"solid\"}, \"mode\": \"lines\", \"name\": \"Spurs \", \"showlegend\": true, \"type\": \"scatter\", \"x\": [2005, 2006, 2007, 2008, 2009, 2010, 2011, 2012, 2013, 2014, 2015, 2016, 2017, 2018, 2019], \"xaxis\": \"x\", \"y\": [32000000.0, 54010000.0, 56450000.0, 110150000.0, 79800000.0, 28200000.0, 9350000.0, 69000000.0, 127780000.0, 41850000.0, 66730000.0, 82400000.0, 80100000.0, 28400000.0, 98000000.0], \"yaxis\": \"y\"}],\n",
       "                        {\"hoverlabel\": {\"bgcolor\": \"black\", \"bordercolor\": \"black\", \"font\": {\"color\": \"white\", \"family\": \"Arial, monospace\", \"size\": 14}}, \"legend\": {\"title\": {\"text\": \"Club Joined\"}, \"tracegroupgap\": 0}, \"template\": {\"data\": {\"bar\": [{\"error_x\": {\"color\": \"#f2f5fa\"}, \"error_y\": {\"color\": \"#f2f5fa\"}, \"marker\": {\"line\": {\"color\": \"rgb(17,17,17)\", \"width\": 0.5}}, \"type\": \"bar\"}], \"barpolar\": [{\"marker\": {\"line\": {\"color\": \"rgb(17,17,17)\", \"width\": 0.5}}, \"type\": \"barpolar\"}], \"carpet\": [{\"aaxis\": {\"endlinecolor\": \"#A2B1C6\", \"gridcolor\": \"#506784\", \"linecolor\": \"#506784\", \"minorgridcolor\": \"#506784\", \"startlinecolor\": \"#A2B1C6\"}, \"baxis\": {\"endlinecolor\": \"#A2B1C6\", \"gridcolor\": \"#506784\", \"linecolor\": \"#506784\", \"minorgridcolor\": \"#506784\", \"startlinecolor\": \"#A2B1C6\"}, \"type\": \"carpet\"}], \"choropleth\": [{\"colorbar\": {\"outlinewidth\": 0, \"ticks\": \"\"}, \"type\": \"choropleth\"}], \"contour\": [{\"colorbar\": {\"outlinewidth\": 0, \"ticks\": \"\"}, \"colorscale\": [[0.0, \"#0d0887\"], [0.1111111111111111, \"#46039f\"], [0.2222222222222222, \"#7201a8\"], [0.3333333333333333, \"#9c179e\"], [0.4444444444444444, \"#bd3786\"], [0.5555555555555556, \"#d8576b\"], [0.6666666666666666, \"#ed7953\"], [0.7777777777777778, \"#fb9f3a\"], [0.8888888888888888, \"#fdca26\"], [1.0, \"#f0f921\"]], \"type\": \"contour\"}], \"contourcarpet\": [{\"colorbar\": {\"outlinewidth\": 0, \"ticks\": \"\"}, \"type\": \"contourcarpet\"}], \"heatmap\": [{\"colorbar\": {\"outlinewidth\": 0, \"ticks\": \"\"}, \"colorscale\": [[0.0, \"#0d0887\"], [0.1111111111111111, \"#46039f\"], [0.2222222222222222, \"#7201a8\"], [0.3333333333333333, \"#9c179e\"], [0.4444444444444444, \"#bd3786\"], [0.5555555555555556, \"#d8576b\"], [0.6666666666666666, \"#ed7953\"], [0.7777777777777778, \"#fb9f3a\"], [0.8888888888888888, \"#fdca26\"], [1.0, \"#f0f921\"]], \"type\": \"heatmap\"}], \"heatmapgl\": [{\"colorbar\": {\"outlinewidth\": 0, \"ticks\": \"\"}, \"colorscale\": [[0.0, \"#0d0887\"], [0.1111111111111111, \"#46039f\"], [0.2222222222222222, \"#7201a8\"], [0.3333333333333333, \"#9c179e\"], [0.4444444444444444, \"#bd3786\"], [0.5555555555555556, \"#d8576b\"], [0.6666666666666666, \"#ed7953\"], [0.7777777777777778, \"#fb9f3a\"], [0.8888888888888888, \"#fdca26\"], [1.0, \"#f0f921\"]], \"type\": \"heatmapgl\"}], \"histogram\": [{\"marker\": {\"colorbar\": {\"outlinewidth\": 0, \"ticks\": \"\"}}, \"type\": \"histogram\"}], \"histogram2d\": [{\"colorbar\": {\"outlinewidth\": 0, \"ticks\": \"\"}, \"colorscale\": [[0.0, \"#0d0887\"], [0.1111111111111111, \"#46039f\"], [0.2222222222222222, \"#7201a8\"], [0.3333333333333333, \"#9c179e\"], [0.4444444444444444, \"#bd3786\"], [0.5555555555555556, \"#d8576b\"], [0.6666666666666666, \"#ed7953\"], [0.7777777777777778, \"#fb9f3a\"], [0.8888888888888888, \"#fdca26\"], [1.0, \"#f0f921\"]], \"type\": \"histogram2d\"}], \"histogram2dcontour\": [{\"colorbar\": {\"outlinewidth\": 0, \"ticks\": \"\"}, \"colorscale\": [[0.0, \"#0d0887\"], [0.1111111111111111, \"#46039f\"], [0.2222222222222222, \"#7201a8\"], [0.3333333333333333, \"#9c179e\"], [0.4444444444444444, \"#bd3786\"], [0.5555555555555556, \"#d8576b\"], [0.6666666666666666, \"#ed7953\"], [0.7777777777777778, \"#fb9f3a\"], [0.8888888888888888, \"#fdca26\"], [1.0, \"#f0f921\"]], \"type\": \"histogram2dcontour\"}], \"mesh3d\": [{\"colorbar\": {\"outlinewidth\": 0, \"ticks\": \"\"}, \"type\": \"mesh3d\"}], \"parcoords\": [{\"line\": {\"colorbar\": {\"outlinewidth\": 0, \"ticks\": \"\"}}, \"type\": \"parcoords\"}], \"pie\": [{\"automargin\": true, \"type\": \"pie\"}], \"scatter\": [{\"marker\": {\"line\": {\"color\": \"#283442\"}}, \"type\": \"scatter\"}], \"scatter3d\": [{\"line\": {\"colorbar\": {\"outlinewidth\": 0, \"ticks\": \"\"}}, \"marker\": {\"colorbar\": {\"outlinewidth\": 0, \"ticks\": \"\"}}, \"type\": \"scatter3d\"}], \"scattercarpet\": [{\"marker\": {\"colorbar\": {\"outlinewidth\": 0, \"ticks\": \"\"}}, \"type\": \"scattercarpet\"}], \"scattergeo\": [{\"marker\": {\"colorbar\": {\"outlinewidth\": 0, \"ticks\": \"\"}}, \"type\": \"scattergeo\"}], \"scattergl\": [{\"marker\": {\"line\": {\"color\": \"#283442\"}}, \"type\": \"scattergl\"}], \"scattermapbox\": [{\"marker\": {\"colorbar\": {\"outlinewidth\": 0, \"ticks\": \"\"}}, \"type\": \"scattermapbox\"}], \"scatterpolar\": [{\"marker\": {\"colorbar\": {\"outlinewidth\": 0, \"ticks\": \"\"}}, \"type\": \"scatterpolar\"}], \"scatterpolargl\": [{\"marker\": {\"colorbar\": {\"outlinewidth\": 0, \"ticks\": \"\"}}, \"type\": \"scatterpolargl\"}], \"scatterternary\": [{\"marker\": {\"colorbar\": {\"outlinewidth\": 0, \"ticks\": \"\"}}, \"type\": \"scatterternary\"}], \"surface\": [{\"colorbar\": {\"outlinewidth\": 0, \"ticks\": \"\"}, \"colorscale\": [[0.0, \"#0d0887\"], [0.1111111111111111, \"#46039f\"], [0.2222222222222222, \"#7201a8\"], [0.3333333333333333, \"#9c179e\"], [0.4444444444444444, \"#bd3786\"], [0.5555555555555556, \"#d8576b\"], [0.6666666666666666, \"#ed7953\"], [0.7777777777777778, \"#fb9f3a\"], [0.8888888888888888, \"#fdca26\"], [1.0, \"#f0f921\"]], \"type\": \"surface\"}], \"table\": [{\"cells\": {\"fill\": {\"color\": \"#506784\"}, \"line\": {\"color\": \"rgb(17,17,17)\"}}, \"header\": {\"fill\": {\"color\": \"#2a3f5f\"}, \"line\": {\"color\": \"rgb(17,17,17)\"}}, \"type\": \"table\"}]}, \"layout\": {\"annotationdefaults\": {\"arrowcolor\": \"#f2f5fa\", \"arrowhead\": 0, \"arrowwidth\": 1}, \"coloraxis\": {\"colorbar\": {\"outlinewidth\": 0, \"ticks\": \"\"}}, \"colorscale\": {\"diverging\": [[0, \"#8e0152\"], [0.1, \"#c51b7d\"], [0.2, \"#de77ae\"], [0.3, \"#f1b6da\"], [0.4, \"#fde0ef\"], [0.5, \"#f7f7f7\"], [0.6, \"#e6f5d0\"], [0.7, \"#b8e186\"], [0.8, \"#7fbc41\"], [0.9, \"#4d9221\"], [1, \"#276419\"]], \"sequential\": [[0.0, \"#0d0887\"], [0.1111111111111111, \"#46039f\"], [0.2222222222222222, \"#7201a8\"], [0.3333333333333333, \"#9c179e\"], [0.4444444444444444, \"#bd3786\"], [0.5555555555555556, \"#d8576b\"], [0.6666666666666666, \"#ed7953\"], [0.7777777777777778, \"#fb9f3a\"], [0.8888888888888888, \"#fdca26\"], [1.0, \"#f0f921\"]], \"sequentialminus\": [[0.0, \"#0d0887\"], [0.1111111111111111, \"#46039f\"], [0.2222222222222222, \"#7201a8\"], [0.3333333333333333, \"#9c179e\"], [0.4444444444444444, \"#bd3786\"], [0.5555555555555556, \"#d8576b\"], [0.6666666666666666, \"#ed7953\"], [0.7777777777777778, \"#fb9f3a\"], [0.8888888888888888, \"#fdca26\"], [1.0, \"#f0f921\"]]}, \"colorway\": [\"#636efa\", \"#EF553B\", \"#00cc96\", \"#ab63fa\", \"#FFA15A\", \"#19d3f3\", \"#FF6692\", \"#B6E880\", \"#FF97FF\", \"#FECB52\"], \"font\": {\"color\": \"#f2f5fa\"}, \"geo\": {\"bgcolor\": \"rgb(17,17,17)\", \"lakecolor\": \"rgb(17,17,17)\", \"landcolor\": \"rgb(17,17,17)\", \"showlakes\": true, \"showland\": true, \"subunitcolor\": \"#506784\"}, \"hoverlabel\": {\"align\": \"left\"}, \"hovermode\": \"closest\", \"mapbox\": {\"style\": \"dark\"}, \"paper_bgcolor\": \"rgb(17,17,17)\", \"plot_bgcolor\": \"rgb(17,17,17)\", \"polar\": {\"angularaxis\": {\"gridcolor\": \"#506784\", \"linecolor\": \"#506784\", \"ticks\": \"\"}, \"bgcolor\": \"rgb(17,17,17)\", \"radialaxis\": {\"gridcolor\": \"#506784\", \"linecolor\": \"#506784\", \"ticks\": \"\"}}, \"scene\": {\"xaxis\": {\"backgroundcolor\": \"rgb(17,17,17)\", \"gridcolor\": \"#506784\", \"gridwidth\": 2, \"linecolor\": \"#506784\", \"showbackground\": true, \"ticks\": \"\", \"zerolinecolor\": \"#C8D4E3\"}, \"yaxis\": {\"backgroundcolor\": \"rgb(17,17,17)\", \"gridcolor\": \"#506784\", \"gridwidth\": 2, \"linecolor\": \"#506784\", \"showbackground\": true, \"ticks\": \"\", \"zerolinecolor\": \"#C8D4E3\"}, \"zaxis\": {\"backgroundcolor\": \"rgb(17,17,17)\", \"gridcolor\": \"#506784\", \"gridwidth\": 2, \"linecolor\": \"#506784\", \"showbackground\": true, \"ticks\": \"\", \"zerolinecolor\": \"#C8D4E3\"}}, \"shapedefaults\": {\"line\": {\"color\": \"#f2f5fa\"}}, \"sliderdefaults\": {\"bgcolor\": \"#C8D4E3\", \"bordercolor\": \"rgb(17,17,17)\", \"borderwidth\": 1, \"tickwidth\": 0}, \"ternary\": {\"aaxis\": {\"gridcolor\": \"#506784\", \"linecolor\": \"#506784\", \"ticks\": \"\"}, \"baxis\": {\"gridcolor\": \"#506784\", \"linecolor\": \"#506784\", \"ticks\": \"\"}, \"bgcolor\": \"rgb(17,17,17)\", \"caxis\": {\"gridcolor\": \"#506784\", \"linecolor\": \"#506784\", \"ticks\": \"\"}}, \"title\": {\"x\": 0.05}, \"updatemenudefaults\": {\"bgcolor\": \"#506784\", \"borderwidth\": 0}, \"xaxis\": {\"automargin\": true, \"gridcolor\": \"#283442\", \"linecolor\": \"#506784\", \"ticks\": \"\", \"title\": {\"standoff\": 15}, \"zerolinecolor\": \"#283442\", \"zerolinewidth\": 2}, \"yaxis\": {\"automargin\": true, \"gridcolor\": \"#283442\", \"linecolor\": \"#506784\", \"ticks\": \"\", \"title\": {\"standoff\": 15}, \"zerolinecolor\": \"#283442\", \"zerolinewidth\": 2}}}, \"title\": {\"text\": \"Trend Analysis for Top 15 Clubs by Transfer Fee Expenditure\"}, \"xaxis\": {\"linecolor\": \"white\", \"showgrid\": false, \"showline\": true, \"showticklabels\": true, \"tickfont\": {\"color\": \"white\", \"family\": \"Arial\", \"size\": 10}, \"title\": {\"font\": {\"color\": \"white\", \"family\": \"Arial, monospace\", \"size\": 14}, \"text\": \"Year\"}, \"zeroline\": false}, \"yaxis\": {\"linecolor\": \"white\", \"showgrid\": false, \"showline\": false, \"showticklabels\": true, \"tickfont\": {\"color\": \"white\", \"family\": \"Arial\", \"size\": 10}, \"title\": {\"font\": {\"color\": \"white\", \"family\": \"Arial, monospace\", \"size\": 14}, \"text\": \"Total Transfer Fee Spent, in Euros\"}, \"zeroline\": false}},\n",
       "                        {\"responsive\": true}\n",
       "                    ).then(function(){\n",
       "                            \n",
       "var gd = document.getElementById('b2f50095-1950-4ee6-a81f-256ef99e003e');\n",
       "var x = new MutationObserver(function (mutations, observer) {{\n",
       "        var display = window.getComputedStyle(gd).display;\n",
       "        if (!display || display === 'none') {{\n",
       "            console.log([gd, 'removed!']);\n",
       "            Plotly.purge(gd);\n",
       "            observer.disconnect();\n",
       "        }}\n",
       "}});\n",
       "\n",
       "// Listen for the removal of the full notebook cells\n",
       "var notebookContainer = gd.closest('#notebook-container');\n",
       "if (notebookContainer) {{\n",
       "    x.observe(notebookContainer, {childList: true});\n",
       "}}\n",
       "\n",
       "// Listen for the clearing of the current output cell\n",
       "var outputEl = gd.closest('.output');\n",
       "if (outputEl) {{\n",
       "    x.observe(outputEl, {childList: true});\n",
       "}}\n",
       "\n",
       "                        })\n",
       "                };\n",
       "                });\n",
       "            </script>\n",
       "        </div>"
      ]
     },
     "metadata": {},
     "output_type": "display_data"
    }
   ],
   "source": [
    "fig1b = px.line(Trend_Top_Spenders.reset_index(), \n",
    "                x = \"Year\", \n",
    "                y = \"Total Fee Spent\",\n",
    "                color = \"Club Joined\",\n",
    "                color_discrete_sequence = px.colors.cyclical.Edge,\n",
    "                hover_name = \"Club Joined\", \n",
    "                title = 'Trend Analysis for Top 15 Clubs by Transfer Fee Expenditure',\n",
    "                template = 'plotly_dark')\n",
    "\n",
    "fig1b.update_layout(\n",
    "    hoverlabel=dict(\n",
    "        bgcolor=\"black\",\n",
    "        font=dict(\n",
    "                family=\"Arial, monospace\",\n",
    "                size=14,\n",
    "                color=\"white\"\n",
    "            ),\n",
    "        bordercolor = \"black\"\n",
    "    ),\n",
    "    xaxis=go.layout.XAxis(\n",
    "        title=go.layout.xaxis.Title(\n",
    "            text=\"Year\",\n",
    "            font=dict(\n",
    "                family=\"Arial, monospace\",\n",
    "                size=14,\n",
    "                color=\"white\"\n",
    "            )\n",
    "        ),\n",
    "        showline = True,\n",
    "        linecolor = 'white',\n",
    "        showticklabels = True,\n",
    "        tickfont = dict(\n",
    "            family = 'Arial',\n",
    "            size = 10,\n",
    "            color = 'white'\n",
    "      )\n",
    "    ),\n",
    "    yaxis=go.layout.YAxis(\n",
    "        title=go.layout.yaxis.Title(\n",
    "            text=\"Total Transfer Fee Spent, in Euros\",\n",
    "            font=dict(\n",
    "                family=\"Arial, monospace\",\n",
    "                size=14,\n",
    "                color=\"white\"\n",
    "            )\n",
    "        ),\n",
    "        showline = False,\n",
    "        linecolor = 'white',\n",
    "        showticklabels = True,\n",
    "        tickfont = dict(\n",
    "            family = 'Arial',\n",
    "            size = 10,\n",
    "            color = 'white'\n",
    "        )\n",
    "    )\n",
    ")\n",
    "\n",
    "fig1b.update_layout(\n",
    "    xaxis=dict(showgrid=False, zeroline=False),\n",
    "    yaxis=dict(showgrid=False, zeroline=False),\n",
    ")\n",
    "\n",
    "# plot(fig1b ,filename = 'TrendsTop15Spenders.html')\n",
    "fig1b.show()"
   ]
  },
  {
   "cell_type": "markdown",
   "metadata": {},
   "source": [
    "<div class=\"alert alert-danger\" role=\"alert\">\n",
    "\n",
    "**Part 2: Analyzing the Biggest Over-Spenders** <br><br>\n",
    "Over-Spenders are those who pay a Transfer Fee in excess of the Market Valuation of the player. <br>\n",
    "Firstly, we aggregate the Surplus/Deficit incurred by each club between 2005-2019 and take the top 15 clubs from that list. These clubs are the Top 15 Over-Spenders in the world of football for the period 2005-2019. <br>\n",
    "Secondly, we create a DataFrame to analyze the yearly over-spending patterns for the Top 15 Over-Spenders.\n",
    "    \n",
    "</div>    "
   ]
  },
  {
   "cell_type": "code",
   "execution_count": 10,
   "metadata": {},
   "outputs": [
    {
     "data": {
      "text/html": [
       "<div>\n",
       "<style scoped>\n",
       "    .dataframe tbody tr th:only-of-type {\n",
       "        vertical-align: middle;\n",
       "    }\n",
       "\n",
       "    .dataframe tbody tr th {\n",
       "        vertical-align: top;\n",
       "    }\n",
       "\n",
       "    .dataframe thead th {\n",
       "        text-align: right;\n",
       "    }\n",
       "</style>\n",
       "<table border=\"1\" class=\"dataframe\">\n",
       "  <thead>\n",
       "    <tr style=\"text-align: right;\">\n",
       "      <th></th>\n",
       "      <th>Club Joined</th>\n",
       "      <th>Surplus/Deficit</th>\n",
       "      <th>No. of Players Bought</th>\n",
       "      <th>Transfer</th>\n",
       "    </tr>\n",
       "  </thead>\n",
       "  <tbody>\n",
       "    <tr>\n",
       "      <td>0</td>\n",
       "      <td>Man City</td>\n",
       "      <td>479365000.0</td>\n",
       "      <td>100</td>\n",
       "      <td>1.905340e+09</td>\n",
       "    </tr>\n",
       "    <tr>\n",
       "      <td>1</td>\n",
       "      <td>Man Utd</td>\n",
       "      <td>408780000.0</td>\n",
       "      <td>53</td>\n",
       "      <td>1.407130e+09</td>\n",
       "    </tr>\n",
       "    <tr>\n",
       "      <td>2</td>\n",
       "      <td>Liverpool</td>\n",
       "      <td>332073000.0</td>\n",
       "      <td>75</td>\n",
       "      <td>1.222448e+09</td>\n",
       "    </tr>\n",
       "    <tr>\n",
       "      <td>3</td>\n",
       "      <td>Chelsea</td>\n",
       "      <td>295255000.0</td>\n",
       "      <td>82</td>\n",
       "      <td>1.573880e+09</td>\n",
       "    </tr>\n",
       "    <tr>\n",
       "      <td>4</td>\n",
       "      <td>FC Barcelona</td>\n",
       "      <td>249770000.0</td>\n",
       "      <td>55</td>\n",
       "      <td>1.630070e+09</td>\n",
       "    </tr>\n",
       "    <tr>\n",
       "      <td>5</td>\n",
       "      <td>Paris SG</td>\n",
       "      <td>244100000.0</td>\n",
       "      <td>59</td>\n",
       "      <td>1.297100e+09</td>\n",
       "    </tr>\n",
       "    <tr>\n",
       "      <td>6</td>\n",
       "      <td>Arsenal</td>\n",
       "      <td>201060000.0</td>\n",
       "      <td>57</td>\n",
       "      <td>9.488100e+08</td>\n",
       "    </tr>\n",
       "    <tr>\n",
       "      <td>7</td>\n",
       "      <td>Spurs</td>\n",
       "      <td>160620000.0</td>\n",
       "      <td>78</td>\n",
       "      <td>9.642200e+08</td>\n",
       "    </tr>\n",
       "    <tr>\n",
       "      <td>8</td>\n",
       "      <td>Aston Villa</td>\n",
       "      <td>155780000.0</td>\n",
       "      <td>78</td>\n",
       "      <td>5.411800e+08</td>\n",
       "    </tr>\n",
       "    <tr>\n",
       "      <td>9</td>\n",
       "      <td>Atlético Madrid</td>\n",
       "      <td>139160000.0</td>\n",
       "      <td>68</td>\n",
       "      <td>1.114510e+09</td>\n",
       "    </tr>\n",
       "    <tr>\n",
       "      <td>10</td>\n",
       "      <td>Southampton</td>\n",
       "      <td>137460000.0</td>\n",
       "      <td>58</td>\n",
       "      <td>3.946600e+08</td>\n",
       "    </tr>\n",
       "    <tr>\n",
       "      <td>11</td>\n",
       "      <td>Bournemouth</td>\n",
       "      <td>134400000.0</td>\n",
       "      <td>29</td>\n",
       "      <td>2.289000e+08</td>\n",
       "    </tr>\n",
       "    <tr>\n",
       "      <td>12</td>\n",
       "      <td>Leicester</td>\n",
       "      <td>126079000.0</td>\n",
       "      <td>51</td>\n",
       "      <td>4.457540e+08</td>\n",
       "    </tr>\n",
       "    <tr>\n",
       "      <td>13</td>\n",
       "      <td>Monaco</td>\n",
       "      <td>123535000.0</td>\n",
       "      <td>83</td>\n",
       "      <td>7.558600e+08</td>\n",
       "    </tr>\n",
       "    <tr>\n",
       "      <td>14</td>\n",
       "      <td>Zenit S-Pb</td>\n",
       "      <td>119990000.0</td>\n",
       "      <td>58</td>\n",
       "      <td>5.344400e+08</td>\n",
       "    </tr>\n",
       "  </tbody>\n",
       "</table>\n",
       "</div>"
      ],
      "text/plain": [
       "         Club Joined  Surplus/Deficit  No. of Players Bought      Transfer\n",
       "0          Man City       479365000.0                    100  1.905340e+09\n",
       "1           Man Utd       408780000.0                     53  1.407130e+09\n",
       "2         Liverpool       332073000.0                     75  1.222448e+09\n",
       "3           Chelsea       295255000.0                     82  1.573880e+09\n",
       "4      FC Barcelona       249770000.0                     55  1.630070e+09\n",
       "5          Paris SG       244100000.0                     59  1.297100e+09\n",
       "6           Arsenal       201060000.0                     57  9.488100e+08\n",
       "7             Spurs       160620000.0                     78  9.642200e+08\n",
       "8       Aston Villa       155780000.0                     78  5.411800e+08\n",
       "9   Atlético Madrid       139160000.0                     68  1.114510e+09\n",
       "10      Southampton       137460000.0                     58  3.946600e+08\n",
       "11      Bournemouth       134400000.0                     29  2.289000e+08\n",
       "12        Leicester       126079000.0                     51  4.457540e+08\n",
       "13           Monaco       123535000.0                     83  7.558600e+08\n",
       "14       Zenit S-Pb       119990000.0                     58  5.344400e+08"
      ]
     },
     "execution_count": 10,
     "metadata": {},
     "output_type": "execute_result"
    }
   ],
   "source": [
    "# Top 15 clubs by surplus(over spending)\n",
    "\n",
    "Top_OverSpenders=Test_EDA.groupby(\"Club Joined\").agg({\"Surplus/Deficit\":\"sum\", 'Transfer':'count'})\n",
    "Top_OverSpenders = Top_OverSpenders.sort_values(by='Surplus/Deficit', ascending = False)\n",
    "Top_OverSpenders.rename(columns={\"Transfer\": \"No. of Players Bought\"}, inplace=True)\n",
    "Top_OverSpenders = Top_OverSpenders[:15]\n",
    "\n",
    "Top_OverSpenders_Spending = pd.merge(Top_OverSpenders.reset_index(),Test_EDA.groupby(\"Club Joined\").agg({\"Transfer\":\"sum\"}),\n",
    "                    how='inner',\n",
    "                    on = 'Club Joined')\n",
    "\n",
    "Top_OverSpenders_EDA = pd.merge(Top_OverSpenders.reset_index(),Test_EDA.reset_index(),\n",
    "                    how='inner',\n",
    "                    on = 'Club Joined')\n",
    "\n",
    "Trends_Top_OverSpenders= Top_OverSpenders_EDA.groupby(['Club Joined', 'Year']).agg({'Surplus/Deficit_y':'sum'})\n",
    "\n",
    "\n",
    "Trends_Top_OverSpenders\n",
    "Top_OverSpenders_Spending"
   ]
  },
  {
   "cell_type": "markdown",
   "metadata": {},
   "source": [
    "<div class=\"alert alert-warning\" role=\"alert\">\n",
    "\n",
    "**Method** <br>\n",
    "In following graph, we analyze the aggregate transfer Fee over-spending by the Top 15 Transfer Fee Over-Spenders for the period 2005-2019. At the same time, we check the Total Transfer Fee these clubs incurred in making this Over-Spending Loss for the period 2005-2019.\n",
    "</div>"
   ]
  },
  {
   "cell_type": "markdown",
   "metadata": {},
   "source": [
    "<div class=\"alert alert-success\" role=\"alert\">\n",
    "\n",
    "**Inference**<br>\n",
    "We do not find any surprising result here as the big clubs have over spent the most. It is interesting to note that Manchester United has spent almost as much extra money as Manchester City while buying less than half the players that Machester City have bought. This underlines the weakened bargaining power of the club since the departure of Sir Alex Ferguson. Furthermore, there has been an increasing number of manager changes in the club over the last 5-6 years. It shows that the lack of a stable manager or a well-defined player scouting process weakens the bargaining power of the club.\n",
    "\n",
    "</div>    "
   ]
  },
  {
   "cell_type": "code",
   "execution_count": 11,
   "metadata": {},
   "outputs": [
    {
     "data": {
      "application/vnd.plotly.v1+json": {
       "config": {
        "plotlyServerURL": "https://plot.ly"
       },
       "data": [
        {
         "alignmentgroup": "True",
         "hoverlabel": {
          "namelength": 0
         },
         "hovertemplate": "<b>%{hovertext}</b><br><br>Club Joined=%{x}<br>Surplus/Deficit=%{y}<br>Transfer=%{marker.color}",
         "hovertext": [
          "Man City ",
          "Man Utd ",
          "Liverpool ",
          "Chelsea ",
          "FC Barcelona ",
          "Paris SG ",
          "Arsenal ",
          "Spurs ",
          "Aston Villa ",
          "Atlético Madrid ",
          "Southampton ",
          "Bournemouth ",
          "Leicester ",
          "Monaco ",
          "Zenit S-Pb "
         ],
         "legendgroup": "",
         "marker": {
          "color": [
           1905340000,
           1407130000,
           1222448000,
           1573880000,
           1630070000,
           1297100000,
           948810000,
           964220000,
           541180000,
           1114510000,
           394660000,
           228900000,
           445754000,
           755860000,
           534440000
          ],
          "coloraxis": "coloraxis"
         },
         "name": "",
         "offsetgroup": "",
         "orientation": "v",
         "showlegend": false,
         "textposition": "auto",
         "type": "bar",
         "x": [
          "Man City ",
          "Man Utd ",
          "Liverpool ",
          "Chelsea ",
          "FC Barcelona ",
          "Paris SG ",
          "Arsenal ",
          "Spurs ",
          "Aston Villa ",
          "Atlético Madrid ",
          "Southampton ",
          "Bournemouth ",
          "Leicester ",
          "Monaco ",
          "Zenit S-Pb "
         ],
         "xaxis": "x",
         "y": [
          479365000,
          408780000,
          332073000,
          295255000,
          249770000,
          244100000,
          201060000,
          160620000,
          155780000,
          139160000,
          137460000,
          134400000,
          126079000,
          123535000,
          119990000
         ],
         "yaxis": "y"
        },
        {
         "hovertemplate": "Club: %{x}<br>Number of Transfers: %{y:,.0f}",
         "line": {
          "width": 3
         },
         "marker": {
          "color": "rgb(237,239,93)"
         },
         "name": "Number of Transfers",
         "text": [
          100,
          53,
          75,
          82,
          55,
          59,
          57,
          78,
          78,
          68,
          58,
          29,
          51,
          83,
          58
         ],
         "type": "scatter",
         "x": [
          "Man City ",
          "Man Utd ",
          "Liverpool ",
          "Chelsea ",
          "FC Barcelona ",
          "Paris SG ",
          "Arsenal ",
          "Spurs ",
          "Aston Villa ",
          "Atlético Madrid ",
          "Southampton ",
          "Bournemouth ",
          "Leicester ",
          "Monaco ",
          "Zenit S-Pb "
         ],
         "y": [
          100,
          53,
          75,
          82,
          55,
          59,
          57,
          78,
          78,
          68,
          58,
          29,
          51,
          83,
          58
         ],
         "yaxis": "y2"
        }
       ],
       "layout": {
        "barmode": "relative",
        "coloraxis": {
         "colorbar": {
          "title": {
           "text": "Transfer"
          }
         },
         "colorscale": [
          [
           0,
           "rgb(255,245,240)"
          ],
          [
           0.125,
           "rgb(254,224,210)"
          ],
          [
           0.25,
           "rgb(252,187,161)"
          ],
          [
           0.375,
           "rgb(252,146,114)"
          ],
          [
           0.5,
           "rgb(251,106,74)"
          ],
          [
           0.625,
           "rgb(239,59,44)"
          ],
          [
           0.75,
           "rgb(203,24,29)"
          ],
          [
           0.875,
           "rgb(165,15,21)"
          ],
          [
           1,
           "rgb(103,0,13)"
          ]
         ]
        },
        "font": {
         "color": "white",
         "family": "Arial, monospace",
         "size": 10
        },
        "hoverlabel": {
         "bgcolor": "black",
         "bordercolor": "black",
         "font": {
          "color": "white",
          "family": "Arial, monospace",
          "size": 14
         }
        },
        "legend": {
         "tracegroupgap": 0,
         "x": 0.8,
         "y": 1
        },
        "template": {
         "data": {
          "bar": [
           {
            "error_x": {
             "color": "#f2f5fa"
            },
            "error_y": {
             "color": "#f2f5fa"
            },
            "marker": {
             "line": {
              "color": "rgb(17,17,17)",
              "width": 0.5
             }
            },
            "type": "bar"
           }
          ],
          "barpolar": [
           {
            "marker": {
             "line": {
              "color": "rgb(17,17,17)",
              "width": 0.5
             }
            },
            "type": "barpolar"
           }
          ],
          "carpet": [
           {
            "aaxis": {
             "endlinecolor": "#A2B1C6",
             "gridcolor": "#506784",
             "linecolor": "#506784",
             "minorgridcolor": "#506784",
             "startlinecolor": "#A2B1C6"
            },
            "baxis": {
             "endlinecolor": "#A2B1C6",
             "gridcolor": "#506784",
             "linecolor": "#506784",
             "minorgridcolor": "#506784",
             "startlinecolor": "#A2B1C6"
            },
            "type": "carpet"
           }
          ],
          "choropleth": [
           {
            "colorbar": {
             "outlinewidth": 0,
             "ticks": ""
            },
            "type": "choropleth"
           }
          ],
          "contour": [
           {
            "colorbar": {
             "outlinewidth": 0,
             "ticks": ""
            },
            "colorscale": [
             [
              0,
              "#0d0887"
             ],
             [
              0.1111111111111111,
              "#46039f"
             ],
             [
              0.2222222222222222,
              "#7201a8"
             ],
             [
              0.3333333333333333,
              "#9c179e"
             ],
             [
              0.4444444444444444,
              "#bd3786"
             ],
             [
              0.5555555555555556,
              "#d8576b"
             ],
             [
              0.6666666666666666,
              "#ed7953"
             ],
             [
              0.7777777777777778,
              "#fb9f3a"
             ],
             [
              0.8888888888888888,
              "#fdca26"
             ],
             [
              1,
              "#f0f921"
             ]
            ],
            "type": "contour"
           }
          ],
          "contourcarpet": [
           {
            "colorbar": {
             "outlinewidth": 0,
             "ticks": ""
            },
            "type": "contourcarpet"
           }
          ],
          "heatmap": [
           {
            "colorbar": {
             "outlinewidth": 0,
             "ticks": ""
            },
            "colorscale": [
             [
              0,
              "#0d0887"
             ],
             [
              0.1111111111111111,
              "#46039f"
             ],
             [
              0.2222222222222222,
              "#7201a8"
             ],
             [
              0.3333333333333333,
              "#9c179e"
             ],
             [
              0.4444444444444444,
              "#bd3786"
             ],
             [
              0.5555555555555556,
              "#d8576b"
             ],
             [
              0.6666666666666666,
              "#ed7953"
             ],
             [
              0.7777777777777778,
              "#fb9f3a"
             ],
             [
              0.8888888888888888,
              "#fdca26"
             ],
             [
              1,
              "#f0f921"
             ]
            ],
            "type": "heatmap"
           }
          ],
          "heatmapgl": [
           {
            "colorbar": {
             "outlinewidth": 0,
             "ticks": ""
            },
            "colorscale": [
             [
              0,
              "#0d0887"
             ],
             [
              0.1111111111111111,
              "#46039f"
             ],
             [
              0.2222222222222222,
              "#7201a8"
             ],
             [
              0.3333333333333333,
              "#9c179e"
             ],
             [
              0.4444444444444444,
              "#bd3786"
             ],
             [
              0.5555555555555556,
              "#d8576b"
             ],
             [
              0.6666666666666666,
              "#ed7953"
             ],
             [
              0.7777777777777778,
              "#fb9f3a"
             ],
             [
              0.8888888888888888,
              "#fdca26"
             ],
             [
              1,
              "#f0f921"
             ]
            ],
            "type": "heatmapgl"
           }
          ],
          "histogram": [
           {
            "marker": {
             "colorbar": {
              "outlinewidth": 0,
              "ticks": ""
             }
            },
            "type": "histogram"
           }
          ],
          "histogram2d": [
           {
            "colorbar": {
             "outlinewidth": 0,
             "ticks": ""
            },
            "colorscale": [
             [
              0,
              "#0d0887"
             ],
             [
              0.1111111111111111,
              "#46039f"
             ],
             [
              0.2222222222222222,
              "#7201a8"
             ],
             [
              0.3333333333333333,
              "#9c179e"
             ],
             [
              0.4444444444444444,
              "#bd3786"
             ],
             [
              0.5555555555555556,
              "#d8576b"
             ],
             [
              0.6666666666666666,
              "#ed7953"
             ],
             [
              0.7777777777777778,
              "#fb9f3a"
             ],
             [
              0.8888888888888888,
              "#fdca26"
             ],
             [
              1,
              "#f0f921"
             ]
            ],
            "type": "histogram2d"
           }
          ],
          "histogram2dcontour": [
           {
            "colorbar": {
             "outlinewidth": 0,
             "ticks": ""
            },
            "colorscale": [
             [
              0,
              "#0d0887"
             ],
             [
              0.1111111111111111,
              "#46039f"
             ],
             [
              0.2222222222222222,
              "#7201a8"
             ],
             [
              0.3333333333333333,
              "#9c179e"
             ],
             [
              0.4444444444444444,
              "#bd3786"
             ],
             [
              0.5555555555555556,
              "#d8576b"
             ],
             [
              0.6666666666666666,
              "#ed7953"
             ],
             [
              0.7777777777777778,
              "#fb9f3a"
             ],
             [
              0.8888888888888888,
              "#fdca26"
             ],
             [
              1,
              "#f0f921"
             ]
            ],
            "type": "histogram2dcontour"
           }
          ],
          "mesh3d": [
           {
            "colorbar": {
             "outlinewidth": 0,
             "ticks": ""
            },
            "type": "mesh3d"
           }
          ],
          "parcoords": [
           {
            "line": {
             "colorbar": {
              "outlinewidth": 0,
              "ticks": ""
             }
            },
            "type": "parcoords"
           }
          ],
          "pie": [
           {
            "automargin": true,
            "type": "pie"
           }
          ],
          "scatter": [
           {
            "marker": {
             "line": {
              "color": "#283442"
             }
            },
            "type": "scatter"
           }
          ],
          "scatter3d": [
           {
            "line": {
             "colorbar": {
              "outlinewidth": 0,
              "ticks": ""
             }
            },
            "marker": {
             "colorbar": {
              "outlinewidth": 0,
              "ticks": ""
             }
            },
            "type": "scatter3d"
           }
          ],
          "scattercarpet": [
           {
            "marker": {
             "colorbar": {
              "outlinewidth": 0,
              "ticks": ""
             }
            },
            "type": "scattercarpet"
           }
          ],
          "scattergeo": [
           {
            "marker": {
             "colorbar": {
              "outlinewidth": 0,
              "ticks": ""
             }
            },
            "type": "scattergeo"
           }
          ],
          "scattergl": [
           {
            "marker": {
             "line": {
              "color": "#283442"
             }
            },
            "type": "scattergl"
           }
          ],
          "scattermapbox": [
           {
            "marker": {
             "colorbar": {
              "outlinewidth": 0,
              "ticks": ""
             }
            },
            "type": "scattermapbox"
           }
          ],
          "scatterpolar": [
           {
            "marker": {
             "colorbar": {
              "outlinewidth": 0,
              "ticks": ""
             }
            },
            "type": "scatterpolar"
           }
          ],
          "scatterpolargl": [
           {
            "marker": {
             "colorbar": {
              "outlinewidth": 0,
              "ticks": ""
             }
            },
            "type": "scatterpolargl"
           }
          ],
          "scatterternary": [
           {
            "marker": {
             "colorbar": {
              "outlinewidth": 0,
              "ticks": ""
             }
            },
            "type": "scatterternary"
           }
          ],
          "surface": [
           {
            "colorbar": {
             "outlinewidth": 0,
             "ticks": ""
            },
            "colorscale": [
             [
              0,
              "#0d0887"
             ],
             [
              0.1111111111111111,
              "#46039f"
             ],
             [
              0.2222222222222222,
              "#7201a8"
             ],
             [
              0.3333333333333333,
              "#9c179e"
             ],
             [
              0.4444444444444444,
              "#bd3786"
             ],
             [
              0.5555555555555556,
              "#d8576b"
             ],
             [
              0.6666666666666666,
              "#ed7953"
             ],
             [
              0.7777777777777778,
              "#fb9f3a"
             ],
             [
              0.8888888888888888,
              "#fdca26"
             ],
             [
              1,
              "#f0f921"
             ]
            ],
            "type": "surface"
           }
          ],
          "table": [
           {
            "cells": {
             "fill": {
              "color": "#506784"
             },
             "line": {
              "color": "rgb(17,17,17)"
             }
            },
            "header": {
             "fill": {
              "color": "#2a3f5f"
             },
             "line": {
              "color": "rgb(17,17,17)"
             }
            },
            "type": "table"
           }
          ]
         },
         "layout": {
          "annotationdefaults": {
           "arrowcolor": "#f2f5fa",
           "arrowhead": 0,
           "arrowwidth": 1
          },
          "coloraxis": {
           "colorbar": {
            "outlinewidth": 0,
            "ticks": ""
           }
          },
          "colorscale": {
           "diverging": [
            [
             0,
             "#8e0152"
            ],
            [
             0.1,
             "#c51b7d"
            ],
            [
             0.2,
             "#de77ae"
            ],
            [
             0.3,
             "#f1b6da"
            ],
            [
             0.4,
             "#fde0ef"
            ],
            [
             0.5,
             "#f7f7f7"
            ],
            [
             0.6,
             "#e6f5d0"
            ],
            [
             0.7,
             "#b8e186"
            ],
            [
             0.8,
             "#7fbc41"
            ],
            [
             0.9,
             "#4d9221"
            ],
            [
             1,
             "#276419"
            ]
           ],
           "sequential": [
            [
             0,
             "#0d0887"
            ],
            [
             0.1111111111111111,
             "#46039f"
            ],
            [
             0.2222222222222222,
             "#7201a8"
            ],
            [
             0.3333333333333333,
             "#9c179e"
            ],
            [
             0.4444444444444444,
             "#bd3786"
            ],
            [
             0.5555555555555556,
             "#d8576b"
            ],
            [
             0.6666666666666666,
             "#ed7953"
            ],
            [
             0.7777777777777778,
             "#fb9f3a"
            ],
            [
             0.8888888888888888,
             "#fdca26"
            ],
            [
             1,
             "#f0f921"
            ]
           ],
           "sequentialminus": [
            [
             0,
             "#0d0887"
            ],
            [
             0.1111111111111111,
             "#46039f"
            ],
            [
             0.2222222222222222,
             "#7201a8"
            ],
            [
             0.3333333333333333,
             "#9c179e"
            ],
            [
             0.4444444444444444,
             "#bd3786"
            ],
            [
             0.5555555555555556,
             "#d8576b"
            ],
            [
             0.6666666666666666,
             "#ed7953"
            ],
            [
             0.7777777777777778,
             "#fb9f3a"
            ],
            [
             0.8888888888888888,
             "#fdca26"
            ],
            [
             1,
             "#f0f921"
            ]
           ]
          },
          "colorway": [
           "#636efa",
           "#EF553B",
           "#00cc96",
           "#ab63fa",
           "#FFA15A",
           "#19d3f3",
           "#FF6692",
           "#B6E880",
           "#FF97FF",
           "#FECB52"
          ],
          "font": {
           "color": "#f2f5fa"
          },
          "geo": {
           "bgcolor": "rgb(17,17,17)",
           "lakecolor": "rgb(17,17,17)",
           "landcolor": "rgb(17,17,17)",
           "showlakes": true,
           "showland": true,
           "subunitcolor": "#506784"
          },
          "hoverlabel": {
           "align": "left"
          },
          "hovermode": "closest",
          "mapbox": {
           "style": "dark"
          },
          "paper_bgcolor": "rgb(17,17,17)",
          "plot_bgcolor": "rgb(17,17,17)",
          "polar": {
           "angularaxis": {
            "gridcolor": "#506784",
            "linecolor": "#506784",
            "ticks": ""
           },
           "bgcolor": "rgb(17,17,17)",
           "radialaxis": {
            "gridcolor": "#506784",
            "linecolor": "#506784",
            "ticks": ""
           }
          },
          "scene": {
           "xaxis": {
            "backgroundcolor": "rgb(17,17,17)",
            "gridcolor": "#506784",
            "gridwidth": 2,
            "linecolor": "#506784",
            "showbackground": true,
            "ticks": "",
            "zerolinecolor": "#C8D4E3"
           },
           "yaxis": {
            "backgroundcolor": "rgb(17,17,17)",
            "gridcolor": "#506784",
            "gridwidth": 2,
            "linecolor": "#506784",
            "showbackground": true,
            "ticks": "",
            "zerolinecolor": "#C8D4E3"
           },
           "zaxis": {
            "backgroundcolor": "rgb(17,17,17)",
            "gridcolor": "#506784",
            "gridwidth": 2,
            "linecolor": "#506784",
            "showbackground": true,
            "ticks": "",
            "zerolinecolor": "#C8D4E3"
           }
          },
          "shapedefaults": {
           "line": {
            "color": "#f2f5fa"
           }
          },
          "sliderdefaults": {
           "bgcolor": "#C8D4E3",
           "bordercolor": "rgb(17,17,17)",
           "borderwidth": 1,
           "tickwidth": 0
          },
          "ternary": {
           "aaxis": {
            "gridcolor": "#506784",
            "linecolor": "#506784",
            "ticks": ""
           },
           "baxis": {
            "gridcolor": "#506784",
            "linecolor": "#506784",
            "ticks": ""
           },
           "bgcolor": "rgb(17,17,17)",
           "caxis": {
            "gridcolor": "#506784",
            "linecolor": "#506784",
            "ticks": ""
           }
          },
          "title": {
           "x": 0.05
          },
          "updatemenudefaults": {
           "bgcolor": "#506784",
           "borderwidth": 0
          },
          "xaxis": {
           "automargin": true,
           "gridcolor": "#283442",
           "linecolor": "#506784",
           "ticks": "",
           "title": {
            "standoff": 15
           },
           "zerolinecolor": "#283442",
           "zerolinewidth": 2
          },
          "yaxis": {
           "automargin": true,
           "gridcolor": "#283442",
           "linecolor": "#506784",
           "ticks": "",
           "title": {
            "standoff": 15
           },
           "zerolinecolor": "#283442",
           "zerolinewidth": 2
          }
         }
        },
        "title": {
         "text": "Top 15 Clubs by Transfer Fee Over-Spending (2005-2019)"
        },
        "xaxis": {
         "linecolor": "white",
         "showgrid": false,
         "showline": true,
         "showticklabels": true,
         "tickfont": {
          "color": "white",
          "family": "Arial",
          "size": 10
         },
         "title": {
          "font": {
           "color": "white",
           "family": "Arial, monospace",
           "size": 14
          },
          "text": "Club Name"
         },
         "zeroline": false
        },
        "yaxis": {
         "linecolor": "white",
         "showgrid": false,
         "showline": false,
         "showticklabels": true,
         "tickfont": {
          "color": "white",
          "family": "Arial",
          "size": 10
         },
         "title": {
          "font": {
           "color": "white",
           "family": "Arial, monospace",
           "size": 14
          },
          "text": "Total Overspending Amount, in Euros"
         },
         "zeroline": false
        },
        "yaxis2": {
         "overlaying": "y",
         "showgrid": false,
         "side": "right",
         "title": {
          "text": ""
         },
         "zeroline": false
        }
       }
      },
      "text/html": [
       "<div>\n",
       "        \n",
       "        \n",
       "            <div id=\"3fe6cb6f-b6b6-49fc-96d6-0351ef565997\" class=\"plotly-graph-div\" style=\"height:525px; width:100%;\"></div>\n",
       "            <script type=\"text/javascript\">\n",
       "                require([\"plotly\"], function(Plotly) {\n",
       "                    window.PLOTLYENV=window.PLOTLYENV || {};\n",
       "                    \n",
       "                if (document.getElementById(\"3fe6cb6f-b6b6-49fc-96d6-0351ef565997\")) {\n",
       "                    Plotly.newPlot(\n",
       "                        '3fe6cb6f-b6b6-49fc-96d6-0351ef565997',\n",
       "                        [{\"alignmentgroup\": \"True\", \"hoverlabel\": {\"namelength\": 0}, \"hovertemplate\": \"<b>%{hovertext}</b><br><br>Club Joined=%{x}<br>Surplus/Deficit=%{y}<br>Transfer=%{marker.color}\", \"hovertext\": [\"Man City \", \"Man Utd \", \"Liverpool \", \"Chelsea \", \"FC Barcelona \", \"Paris SG \", \"Arsenal \", \"Spurs \", \"Aston Villa \", \"Atl\\u00e9tico Madrid \", \"Southampton \", \"Bournemouth \", \"Leicester \", \"Monaco \", \"Zenit S-Pb \"], \"legendgroup\": \"\", \"marker\": {\"color\": [1905340000.0, 1407130000.0, 1222448000.0, 1573880000.0, 1630070000.0, 1297100000.0, 948810000.0, 964220000.0, 541180000.0, 1114510000.0, 394660000.0, 228900000.0, 445754000.0, 755860000.0, 534440000.0], \"coloraxis\": \"coloraxis\"}, \"name\": \"\", \"offsetgroup\": \"\", \"orientation\": \"v\", \"showlegend\": false, \"textposition\": \"auto\", \"type\": \"bar\", \"x\": [\"Man City \", \"Man Utd \", \"Liverpool \", \"Chelsea \", \"FC Barcelona \", \"Paris SG \", \"Arsenal \", \"Spurs \", \"Aston Villa \", \"Atl\\u00e9tico Madrid \", \"Southampton \", \"Bournemouth \", \"Leicester \", \"Monaco \", \"Zenit S-Pb \"], \"xaxis\": \"x\", \"y\": [479365000.0, 408780000.0, 332073000.0, 295255000.0, 249770000.0, 244100000.0, 201060000.0, 160620000.0, 155780000.0, 139160000.0, 137460000.0, 134400000.0, 126079000.0, 123535000.0, 119990000.0], \"yaxis\": \"y\"}, {\"hovertemplate\": \"Club: %{x}<br>Number of Transfers: %{y:,.0f}\", \"line\": {\"width\": 3}, \"marker\": {\"color\": \"rgb(237,239,93)\"}, \"name\": \"Number of Transfers\", \"text\": [100.0, 53.0, 75.0, 82.0, 55.0, 59.0, 57.0, 78.0, 78.0, 68.0, 58.0, 29.0, 51.0, 83.0, 58.0], \"type\": \"scatter\", \"x\": [\"Man City \", \"Man Utd \", \"Liverpool \", \"Chelsea \", \"FC Barcelona \", \"Paris SG \", \"Arsenal \", \"Spurs \", \"Aston Villa \", \"Atl\\u00e9tico Madrid \", \"Southampton \", \"Bournemouth \", \"Leicester \", \"Monaco \", \"Zenit S-Pb \"], \"y\": [100, 53, 75, 82, 55, 59, 57, 78, 78, 68, 58, 29, 51, 83, 58], \"yaxis\": \"y2\"}],\n",
       "                        {\"barmode\": \"relative\", \"coloraxis\": {\"colorbar\": {\"title\": {\"text\": \"Transfer\"}}, \"colorscale\": [[0.0, \"rgb(255,245,240)\"], [0.125, \"rgb(254,224,210)\"], [0.25, \"rgb(252,187,161)\"], [0.375, \"rgb(252,146,114)\"], [0.5, \"rgb(251,106,74)\"], [0.625, \"rgb(239,59,44)\"], [0.75, \"rgb(203,24,29)\"], [0.875, \"rgb(165,15,21)\"], [1.0, \"rgb(103,0,13)\"]]}, \"font\": {\"color\": \"white\", \"family\": \"Arial, monospace\", \"size\": 10}, \"hoverlabel\": {\"bgcolor\": \"black\", \"bordercolor\": \"black\", \"font\": {\"color\": \"white\", \"family\": \"Arial, monospace\", \"size\": 14}}, \"legend\": {\"tracegroupgap\": 0, \"x\": 0.8, \"y\": 1}, \"template\": {\"data\": {\"bar\": [{\"error_x\": {\"color\": \"#f2f5fa\"}, \"error_y\": {\"color\": \"#f2f5fa\"}, \"marker\": {\"line\": {\"color\": \"rgb(17,17,17)\", \"width\": 0.5}}, \"type\": \"bar\"}], \"barpolar\": [{\"marker\": {\"line\": {\"color\": \"rgb(17,17,17)\", \"width\": 0.5}}, \"type\": \"barpolar\"}], \"carpet\": [{\"aaxis\": {\"endlinecolor\": \"#A2B1C6\", \"gridcolor\": \"#506784\", \"linecolor\": \"#506784\", \"minorgridcolor\": \"#506784\", \"startlinecolor\": \"#A2B1C6\"}, \"baxis\": {\"endlinecolor\": \"#A2B1C6\", \"gridcolor\": \"#506784\", \"linecolor\": \"#506784\", \"minorgridcolor\": \"#506784\", \"startlinecolor\": \"#A2B1C6\"}, \"type\": \"carpet\"}], \"choropleth\": [{\"colorbar\": {\"outlinewidth\": 0, \"ticks\": \"\"}, \"type\": \"choropleth\"}], \"contour\": [{\"colorbar\": {\"outlinewidth\": 0, \"ticks\": \"\"}, \"colorscale\": [[0.0, \"#0d0887\"], [0.1111111111111111, \"#46039f\"], [0.2222222222222222, \"#7201a8\"], [0.3333333333333333, \"#9c179e\"], [0.4444444444444444, \"#bd3786\"], [0.5555555555555556, \"#d8576b\"], [0.6666666666666666, \"#ed7953\"], [0.7777777777777778, \"#fb9f3a\"], [0.8888888888888888, \"#fdca26\"], [1.0, \"#f0f921\"]], \"type\": \"contour\"}], \"contourcarpet\": [{\"colorbar\": {\"outlinewidth\": 0, \"ticks\": \"\"}, \"type\": \"contourcarpet\"}], \"heatmap\": [{\"colorbar\": {\"outlinewidth\": 0, \"ticks\": \"\"}, \"colorscale\": [[0.0, \"#0d0887\"], [0.1111111111111111, \"#46039f\"], [0.2222222222222222, \"#7201a8\"], [0.3333333333333333, \"#9c179e\"], [0.4444444444444444, \"#bd3786\"], [0.5555555555555556, \"#d8576b\"], [0.6666666666666666, \"#ed7953\"], [0.7777777777777778, \"#fb9f3a\"], [0.8888888888888888, \"#fdca26\"], [1.0, \"#f0f921\"]], \"type\": \"heatmap\"}], \"heatmapgl\": [{\"colorbar\": {\"outlinewidth\": 0, \"ticks\": \"\"}, \"colorscale\": [[0.0, \"#0d0887\"], [0.1111111111111111, \"#46039f\"], [0.2222222222222222, \"#7201a8\"], [0.3333333333333333, \"#9c179e\"], [0.4444444444444444, \"#bd3786\"], [0.5555555555555556, \"#d8576b\"], [0.6666666666666666, \"#ed7953\"], [0.7777777777777778, \"#fb9f3a\"], [0.8888888888888888, \"#fdca26\"], [1.0, \"#f0f921\"]], \"type\": \"heatmapgl\"}], \"histogram\": [{\"marker\": {\"colorbar\": {\"outlinewidth\": 0, \"ticks\": \"\"}}, \"type\": \"histogram\"}], \"histogram2d\": [{\"colorbar\": {\"outlinewidth\": 0, \"ticks\": \"\"}, \"colorscale\": [[0.0, \"#0d0887\"], [0.1111111111111111, \"#46039f\"], [0.2222222222222222, \"#7201a8\"], [0.3333333333333333, \"#9c179e\"], [0.4444444444444444, \"#bd3786\"], [0.5555555555555556, \"#d8576b\"], [0.6666666666666666, \"#ed7953\"], [0.7777777777777778, \"#fb9f3a\"], [0.8888888888888888, \"#fdca26\"], [1.0, \"#f0f921\"]], \"type\": \"histogram2d\"}], \"histogram2dcontour\": [{\"colorbar\": {\"outlinewidth\": 0, \"ticks\": \"\"}, \"colorscale\": [[0.0, \"#0d0887\"], [0.1111111111111111, \"#46039f\"], [0.2222222222222222, \"#7201a8\"], [0.3333333333333333, \"#9c179e\"], [0.4444444444444444, \"#bd3786\"], [0.5555555555555556, \"#d8576b\"], [0.6666666666666666, \"#ed7953\"], [0.7777777777777778, \"#fb9f3a\"], [0.8888888888888888, \"#fdca26\"], [1.0, \"#f0f921\"]], \"type\": \"histogram2dcontour\"}], \"mesh3d\": [{\"colorbar\": {\"outlinewidth\": 0, \"ticks\": \"\"}, \"type\": \"mesh3d\"}], \"parcoords\": [{\"line\": {\"colorbar\": {\"outlinewidth\": 0, \"ticks\": \"\"}}, \"type\": \"parcoords\"}], \"pie\": [{\"automargin\": true, \"type\": \"pie\"}], \"scatter\": [{\"marker\": {\"line\": {\"color\": \"#283442\"}}, \"type\": \"scatter\"}], \"scatter3d\": [{\"line\": {\"colorbar\": {\"outlinewidth\": 0, \"ticks\": \"\"}}, \"marker\": {\"colorbar\": {\"outlinewidth\": 0, \"ticks\": \"\"}}, \"type\": \"scatter3d\"}], \"scattercarpet\": [{\"marker\": {\"colorbar\": {\"outlinewidth\": 0, \"ticks\": \"\"}}, \"type\": \"scattercarpet\"}], \"scattergeo\": [{\"marker\": {\"colorbar\": {\"outlinewidth\": 0, \"ticks\": \"\"}}, \"type\": \"scattergeo\"}], \"scattergl\": [{\"marker\": {\"line\": {\"color\": \"#283442\"}}, \"type\": \"scattergl\"}], \"scattermapbox\": [{\"marker\": {\"colorbar\": {\"outlinewidth\": 0, \"ticks\": \"\"}}, \"type\": \"scattermapbox\"}], \"scatterpolar\": [{\"marker\": {\"colorbar\": {\"outlinewidth\": 0, \"ticks\": \"\"}}, \"type\": \"scatterpolar\"}], \"scatterpolargl\": [{\"marker\": {\"colorbar\": {\"outlinewidth\": 0, \"ticks\": \"\"}}, \"type\": \"scatterpolargl\"}], \"scatterternary\": [{\"marker\": {\"colorbar\": {\"outlinewidth\": 0, \"ticks\": \"\"}}, \"type\": \"scatterternary\"}], \"surface\": [{\"colorbar\": {\"outlinewidth\": 0, \"ticks\": \"\"}, \"colorscale\": [[0.0, \"#0d0887\"], [0.1111111111111111, \"#46039f\"], [0.2222222222222222, \"#7201a8\"], [0.3333333333333333, \"#9c179e\"], [0.4444444444444444, \"#bd3786\"], [0.5555555555555556, \"#d8576b\"], [0.6666666666666666, \"#ed7953\"], [0.7777777777777778, \"#fb9f3a\"], [0.8888888888888888, \"#fdca26\"], [1.0, \"#f0f921\"]], \"type\": \"surface\"}], \"table\": [{\"cells\": {\"fill\": {\"color\": \"#506784\"}, \"line\": {\"color\": \"rgb(17,17,17)\"}}, \"header\": {\"fill\": {\"color\": \"#2a3f5f\"}, \"line\": {\"color\": \"rgb(17,17,17)\"}}, \"type\": \"table\"}]}, \"layout\": {\"annotationdefaults\": {\"arrowcolor\": \"#f2f5fa\", \"arrowhead\": 0, \"arrowwidth\": 1}, \"coloraxis\": {\"colorbar\": {\"outlinewidth\": 0, \"ticks\": \"\"}}, \"colorscale\": {\"diverging\": [[0, \"#8e0152\"], [0.1, \"#c51b7d\"], [0.2, \"#de77ae\"], [0.3, \"#f1b6da\"], [0.4, \"#fde0ef\"], [0.5, \"#f7f7f7\"], [0.6, \"#e6f5d0\"], [0.7, \"#b8e186\"], [0.8, \"#7fbc41\"], [0.9, \"#4d9221\"], [1, \"#276419\"]], \"sequential\": [[0.0, \"#0d0887\"], [0.1111111111111111, \"#46039f\"], [0.2222222222222222, \"#7201a8\"], [0.3333333333333333, \"#9c179e\"], [0.4444444444444444, \"#bd3786\"], [0.5555555555555556, \"#d8576b\"], [0.6666666666666666, \"#ed7953\"], [0.7777777777777778, \"#fb9f3a\"], [0.8888888888888888, \"#fdca26\"], [1.0, \"#f0f921\"]], \"sequentialminus\": [[0.0, \"#0d0887\"], [0.1111111111111111, \"#46039f\"], [0.2222222222222222, \"#7201a8\"], [0.3333333333333333, \"#9c179e\"], [0.4444444444444444, \"#bd3786\"], [0.5555555555555556, \"#d8576b\"], [0.6666666666666666, \"#ed7953\"], [0.7777777777777778, \"#fb9f3a\"], [0.8888888888888888, \"#fdca26\"], [1.0, \"#f0f921\"]]}, \"colorway\": [\"#636efa\", \"#EF553B\", \"#00cc96\", \"#ab63fa\", \"#FFA15A\", \"#19d3f3\", \"#FF6692\", \"#B6E880\", \"#FF97FF\", \"#FECB52\"], \"font\": {\"color\": \"#f2f5fa\"}, \"geo\": {\"bgcolor\": \"rgb(17,17,17)\", \"lakecolor\": \"rgb(17,17,17)\", \"landcolor\": \"rgb(17,17,17)\", \"showlakes\": true, \"showland\": true, \"subunitcolor\": \"#506784\"}, \"hoverlabel\": {\"align\": \"left\"}, \"hovermode\": \"closest\", \"mapbox\": {\"style\": \"dark\"}, \"paper_bgcolor\": \"rgb(17,17,17)\", \"plot_bgcolor\": \"rgb(17,17,17)\", \"polar\": {\"angularaxis\": {\"gridcolor\": \"#506784\", \"linecolor\": \"#506784\", \"ticks\": \"\"}, \"bgcolor\": \"rgb(17,17,17)\", \"radialaxis\": {\"gridcolor\": \"#506784\", \"linecolor\": \"#506784\", \"ticks\": \"\"}}, \"scene\": {\"xaxis\": {\"backgroundcolor\": \"rgb(17,17,17)\", \"gridcolor\": \"#506784\", \"gridwidth\": 2, \"linecolor\": \"#506784\", \"showbackground\": true, \"ticks\": \"\", \"zerolinecolor\": \"#C8D4E3\"}, \"yaxis\": {\"backgroundcolor\": \"rgb(17,17,17)\", \"gridcolor\": \"#506784\", \"gridwidth\": 2, \"linecolor\": \"#506784\", \"showbackground\": true, \"ticks\": \"\", \"zerolinecolor\": \"#C8D4E3\"}, \"zaxis\": {\"backgroundcolor\": \"rgb(17,17,17)\", \"gridcolor\": \"#506784\", \"gridwidth\": 2, \"linecolor\": \"#506784\", \"showbackground\": true, \"ticks\": \"\", \"zerolinecolor\": \"#C8D4E3\"}}, \"shapedefaults\": {\"line\": {\"color\": \"#f2f5fa\"}}, \"sliderdefaults\": {\"bgcolor\": \"#C8D4E3\", \"bordercolor\": \"rgb(17,17,17)\", \"borderwidth\": 1, \"tickwidth\": 0}, \"ternary\": {\"aaxis\": {\"gridcolor\": \"#506784\", \"linecolor\": \"#506784\", \"ticks\": \"\"}, \"baxis\": {\"gridcolor\": \"#506784\", \"linecolor\": \"#506784\", \"ticks\": \"\"}, \"bgcolor\": \"rgb(17,17,17)\", \"caxis\": {\"gridcolor\": \"#506784\", \"linecolor\": \"#506784\", \"ticks\": \"\"}}, \"title\": {\"x\": 0.05}, \"updatemenudefaults\": {\"bgcolor\": \"#506784\", \"borderwidth\": 0}, \"xaxis\": {\"automargin\": true, \"gridcolor\": \"#283442\", \"linecolor\": \"#506784\", \"ticks\": \"\", \"title\": {\"standoff\": 15}, \"zerolinecolor\": \"#283442\", \"zerolinewidth\": 2}, \"yaxis\": {\"automargin\": true, \"gridcolor\": \"#283442\", \"linecolor\": \"#506784\", \"ticks\": \"\", \"title\": {\"standoff\": 15}, \"zerolinecolor\": \"#283442\", \"zerolinewidth\": 2}}}, \"title\": {\"text\": \"Top 15 Clubs by Transfer Fee Over-Spending (2005-2019)\"}, \"xaxis\": {\"linecolor\": \"white\", \"showgrid\": false, \"showline\": true, \"showticklabels\": true, \"tickfont\": {\"color\": \"white\", \"family\": \"Arial\", \"size\": 10}, \"title\": {\"font\": {\"color\": \"white\", \"family\": \"Arial, monospace\", \"size\": 14}, \"text\": \"Club Name\"}, \"zeroline\": false}, \"yaxis\": {\"linecolor\": \"white\", \"showgrid\": false, \"showline\": false, \"showticklabels\": true, \"tickfont\": {\"color\": \"white\", \"family\": \"Arial\", \"size\": 10}, \"title\": {\"font\": {\"color\": \"white\", \"family\": \"Arial, monospace\", \"size\": 14}, \"text\": \"Total Overspending Amount, in Euros\"}, \"zeroline\": false}, \"yaxis2\": {\"overlaying\": \"y\", \"showgrid\": false, \"side\": \"right\", \"title\": {\"text\": \"\"}, \"zeroline\": false}},\n",
       "                        {\"responsive\": true}\n",
       "                    ).then(function(){\n",
       "                            \n",
       "var gd = document.getElementById('3fe6cb6f-b6b6-49fc-96d6-0351ef565997');\n",
       "var x = new MutationObserver(function (mutations, observer) {{\n",
       "        var display = window.getComputedStyle(gd).display;\n",
       "        if (!display || display === 'none') {{\n",
       "            console.log([gd, 'removed!']);\n",
       "            Plotly.purge(gd);\n",
       "            observer.disconnect();\n",
       "        }}\n",
       "}});\n",
       "\n",
       "// Listen for the removal of the full notebook cells\n",
       "var notebookContainer = gd.closest('#notebook-container');\n",
       "if (notebookContainer) {{\n",
       "    x.observe(notebookContainer, {childList: true});\n",
       "}}\n",
       "\n",
       "// Listen for the clearing of the current output cell\n",
       "var outputEl = gd.closest('.output');\n",
       "if (outputEl) {{\n",
       "    x.observe(outputEl, {childList: true});\n",
       "}}\n",
       "\n",
       "                        })\n",
       "                };\n",
       "                });\n",
       "            </script>\n",
       "        </div>"
      ]
     },
     "metadata": {},
     "output_type": "display_data"
    }
   ],
   "source": [
    "fig2a = px.bar(Top_OverSpenders_Spending.reset_index(),\n",
    "               x = \"Club Joined\",\n",
    "               y = \"Surplus/Deficit\",\n",
    "               color = \"Transfer\",\n",
    "               color_continuous_scale = px.colors.sequential.Reds,\n",
    "               hover_name = \"Club Joined\",\n",
    "               title = 'Top 15 Clubs by Transfer Fee Over-Spending (2005-2019)',\n",
    "               template = 'plotly_dark')\n",
    "\n",
    "fig2a.add_trace(\n",
    "    go.Line(# interactive bar object\n",
    "                x = Top_OverSpenders_Spending['Club Joined'],\n",
    "                y = Top_OverSpenders_Spending['No. of Players Bought'],\n",
    "                name = \"Number of Transfers\",\n",
    "                marker = dict(color = 'rgb(237,239,93)'),\n",
    "                line = dict(width = 3),\n",
    "                text = Top_OverSpenders_Spending['No. of Players Bought'],\n",
    "                hovertemplate =\n",
    "                \"Club: %{x}<br>\" +\n",
    "                \"Number of Transfers: %{y:,.0f}\",\n",
    "                yaxis='y2')\n",
    ")    \n",
    "\n",
    "fig2a.update_layout(\n",
    "    hoverlabel=dict(\n",
    "        bgcolor=\"black\",\n",
    "        font=dict(\n",
    "                family=\"Arial, monospace\",\n",
    "                size=14,\n",
    "                color=\"white\"\n",
    "            ),\n",
    "        bordercolor = \"black\"\n",
    "    ),\n",
    "    xaxis=go.layout.XAxis(\n",
    "        title=go.layout.xaxis.Title(\n",
    "            text=\"Club Name\",\n",
    "            font=dict(\n",
    "                family=\"Arial, monospace\",\n",
    "                size=14,\n",
    "                color=\"white\"\n",
    "            )\n",
    "        ),\n",
    "        showline = True,\n",
    "        linecolor = 'white',\n",
    "        showticklabels = True,\n",
    "        tickfont = dict(\n",
    "            family = 'Arial',\n",
    "            size = 10,\n",
    "            color = 'white'\n",
    "      )\n",
    "    ),\n",
    "    yaxis=go.layout.YAxis(\n",
    "        title=go.layout.yaxis.Title(\n",
    "            text=\"Total Overspending Amount, in Euros\",\n",
    "            font=dict(\n",
    "                family=\"Arial, monospace\",\n",
    "                size=14,\n",
    "                color=\"white\"\n",
    "            )\n",
    "        ),\n",
    "        \n",
    "        showline = False,\n",
    "        linecolor = 'white',\n",
    "        showticklabels = True,\n",
    "        tickfont = dict(\n",
    "            family = 'Arial',\n",
    "            size = 10,\n",
    "            color = 'white'\n",
    "        )\n",
    "    ),\n",
    "yaxis2=dict(title='',\n",
    "           overlaying='y',\n",
    "           side='right'),\n",
    "           font=dict(\n",
    "                family=\"Arial, monospace\",\n",
    "                size=10,\n",
    "                color=\"white\"\n",
    "            )\n",
    "                 )\n",
    "\n",
    "fig2a.update_layout(\n",
    "    legend=dict(\n",
    "        x=0.8,\n",
    "        y=1\n",
    "    )\n",
    ")\n",
    "\n",
    "fig2a.update_layout(\n",
    "    xaxis=dict(showgrid=False, zeroline=False),\n",
    "    yaxis=dict(showgrid=False, zeroline=False),\n",
    "    yaxis2=dict(showgrid=False, zeroline=False)\n",
    ")\n",
    "\n",
    "# plot(fig2a, filename = 'Top15OverSpenders.html')\n",
    "fig2a.show()"
   ]
  },
  {
   "cell_type": "markdown",
   "metadata": {},
   "source": [
    "<div class=\"alert alert-warning\" role=\"alert\">\n",
    "\n",
    "**Method** <br>\n",
    "In following graph, we analyze the yearly transfer Fee over-spending by the Top 15 Transfer Fee Over-Spenders for the period 2005-2019.\n",
    "</div>"
   ]
  },
  {
   "cell_type": "markdown",
   "metadata": {},
   "source": [
    "<div class=\"alert alert-success\" role=\"alert\">\n",
    "\n",
    "**Inference**<br>\n",
    "In general, we can observe that the transfer fee over-spending has risen in this past decade. The reason may be attributable to increased resources of the club due to increasing ownership by middle eastern investors and/or significant changes at the club. For example:<br>\n",
    "1. Manchester City and Paris Saint-Germain (PSG): Ownship changes led to increased spending power of the clubs which was duly exploited by the players, agents and selling clubs.\n",
    "2. Manchester United, Chelsea, Barcelona and Real Madrid: Changes in managers or important players leaving the club.\n",
    "</div>    "
   ]
  },
  {
   "cell_type": "code",
   "execution_count": 12,
   "metadata": {},
   "outputs": [
    {
     "data": {
      "application/vnd.plotly.v1+json": {
       "config": {
        "plotlyServerURL": "https://plot.ly"
       },
       "data": [
        {
         "hoverlabel": {
          "namelength": 0
         },
         "hovertemplate": "<b>%{hovertext}</b><br><br>Club Joined=Arsenal <br>Year=%{x}<br>Surplus/Deficit_y=%{y}",
         "hovertext": [
          "Arsenal ",
          "Arsenal ",
          "Arsenal ",
          "Arsenal ",
          "Arsenal ",
          "Arsenal ",
          "Arsenal ",
          "Arsenal ",
          "Arsenal ",
          "Arsenal ",
          "Arsenal ",
          "Arsenal ",
          "Arsenal ",
          "Arsenal ",
          "Arsenal "
         ],
         "legendgroup": "Arsenal ",
         "line": {
          "color": "#313131",
          "dash": "solid"
         },
         "mode": "lines",
         "name": "Arsenal ",
         "showlegend": true,
         "type": "scatter",
         "x": [
          2005,
          2006,
          2007,
          2008,
          2009,
          2010,
          2011,
          2012,
          2013,
          2014,
          2015,
          2016,
          2017,
          2018,
          2019
         ],
         "xaxis": "x",
         "y": [
          9250000,
          11500000,
          7050000,
          -1550000,
          -1500000,
          6000000,
          7780000,
          -7000000,
          6000000,
          37730000,
          9000000,
          63050000,
          13000000,
          4550000,
          36200000
         ],
         "yaxis": "y"
        },
        {
         "hoverlabel": {
          "namelength": 0
         },
         "hovertemplate": "<b>%{hovertext}</b><br><br>Club Joined=Aston Villa <br>Year=%{x}<br>Surplus/Deficit_y=%{y}",
         "hovertext": [
          "Aston Villa ",
          "Aston Villa ",
          "Aston Villa ",
          "Aston Villa ",
          "Aston Villa ",
          "Aston Villa ",
          "Aston Villa ",
          "Aston Villa ",
          "Aston Villa ",
          "Aston Villa ",
          "Aston Villa ",
          "Aston Villa ",
          "Aston Villa ",
          "Aston Villa ",
          "Aston Villa "
         ],
         "legendgroup": "Aston Villa ",
         "line": {
          "color": "#3d019d",
          "dash": "solid"
         },
         "mode": "lines",
         "name": "Aston Villa ",
         "showlegend": true,
         "type": "scatter",
         "x": [
          2005,
          2006,
          2007,
          2008,
          2009,
          2010,
          2011,
          2012,
          2013,
          2014,
          2015,
          2016,
          2017,
          2018,
          2019
         ],
         "xaxis": "x",
         "y": [
          -13420000,
          2650000,
          9800000,
          11850000,
          12800000,
          -4300000,
          -750000,
          4800000,
          4300000,
          -2250000,
          22100000,
          30000000,
          12950000,
          4050000,
          61200000
         ],
         "yaxis": "y"
        },
        {
         "hoverlabel": {
          "namelength": 0
         },
         "hovertemplate": "<b>%{hovertext}</b><br><br>Club Joined=Atlético Madrid <br>Year=%{x}<br>Surplus/Deficit_y=%{y}",
         "hovertext": [
          "Atlético Madrid ",
          "Atlético Madrid ",
          "Atlético Madrid ",
          "Atlético Madrid ",
          "Atlético Madrid ",
          "Atlético Madrid ",
          "Atlético Madrid ",
          "Atlético Madrid ",
          "Atlético Madrid ",
          "Atlético Madrid ",
          "Atlético Madrid ",
          "Atlético Madrid ",
          "Atlético Madrid ",
          "Atlético Madrid "
         ],
         "legendgroup": "Atlético Madrid ",
         "line": {
          "color": "#3810dc",
          "dash": "solid"
         },
         "mode": "lines",
         "name": "Atlético Madrid ",
         "showlegend": true,
         "type": "scatter",
         "x": [
          2005,
          2006,
          2007,
          2008,
          2010,
          2011,
          2012,
          2013,
          2014,
          2015,
          2016,
          2017,
          2018,
          2019
         ],
         "xaxis": "x",
         "y": [
          -5250000,
          12700000,
          7800000,
          3800000,
          2500000,
          2750000,
          6000000,
          -15900000,
          14100000,
          34360000,
          3700000,
          11000000,
          -7000000,
          68600000
         ],
         "yaxis": "y"
        },
        {
         "hoverlabel": {
          "namelength": 0
         },
         "hovertemplate": "<b>%{hovertext}</b><br><br>Club Joined=Bournemouth <br>Year=%{x}<br>Surplus/Deficit_y=%{y}",
         "hovertext": [
          "Bournemouth ",
          "Bournemouth ",
          "Bournemouth ",
          "Bournemouth ",
          "Bournemouth ",
          "Bournemouth ",
          "Bournemouth ",
          "Bournemouth ",
          "Bournemouth ",
          "Bournemouth ",
          "Bournemouth "
         ],
         "legendgroup": "Bournemouth ",
         "line": {
          "color": "#2d47f9",
          "dash": "solid"
         },
         "mode": "lines",
         "name": "Bournemouth ",
         "showlegend": true,
         "type": "scatter",
         "x": [
          2005,
          2010,
          2011,
          2012,
          2013,
          2014,
          2015,
          2016,
          2017,
          2018,
          2019
         ],
         "xaxis": "x",
         "y": [
          -100000,
          -50000,
          -680000,
          280000,
          3700000,
          1950000,
          14250000,
          29450000,
          14800000,
          38500000,
          32300000
         ],
         "yaxis": "y"
        },
        {
         "hoverlabel": {
          "namelength": 0
         },
         "hovertemplate": "<b>%{hovertext}</b><br><br>Club Joined=Chelsea <br>Year=%{x}<br>Surplus/Deficit_y=%{y}",
         "hovertext": [
          "Chelsea ",
          "Chelsea ",
          "Chelsea ",
          "Chelsea ",
          "Chelsea ",
          "Chelsea ",
          "Chelsea ",
          "Chelsea ",
          "Chelsea ",
          "Chelsea ",
          "Chelsea ",
          "Chelsea ",
          "Chelsea ",
          "Chelsea ",
          "Chelsea "
         ],
         "legendgroup": "Chelsea ",
         "line": {
          "color": "#2593ff",
          "dash": "solid"
         },
         "mode": "lines",
         "name": "Chelsea ",
         "showlegend": true,
         "type": "scatter",
         "x": [
          2005,
          2006,
          2007,
          2008,
          2009,
          2010,
          2011,
          2012,
          2013,
          2014,
          2015,
          2016,
          2017,
          2018,
          2019
         ],
         "xaxis": "x",
         "y": [
          22000000,
          -16520000,
          -1000000,
          -9500000,
          3700000,
          4500000,
          26450000,
          9700000,
          -21325000,
          2550000,
          18500000,
          65250000,
          105400000,
          61550000,
          24000000
         ],
         "yaxis": "y"
        },
        {
         "hoverlabel": {
          "namelength": 0
         },
         "hovertemplate": "<b>%{hovertext}</b><br><br>Club Joined=FC Barcelona <br>Year=%{x}<br>Surplus/Deficit_y=%{y}",
         "hovertext": [
          "FC Barcelona ",
          "FC Barcelona ",
          "FC Barcelona ",
          "FC Barcelona ",
          "FC Barcelona ",
          "FC Barcelona ",
          "FC Barcelona ",
          "FC Barcelona ",
          "FC Barcelona ",
          "FC Barcelona ",
          "FC Barcelona ",
          "FC Barcelona ",
          "FC Barcelona ",
          "FC Barcelona ",
          "FC Barcelona "
         ],
         "legendgroup": "FC Barcelona ",
         "line": {
          "color": "#2adef6",
          "dash": "solid"
         },
         "mode": "lines",
         "name": "FC Barcelona ",
         "showlegend": true,
         "type": "scatter",
         "x": [
          2005,
          2006,
          2007,
          2008,
          2009,
          2010,
          2011,
          2012,
          2013,
          2014,
          2015,
          2016,
          2017,
          2018,
          2019
         ],
         "xaxis": "x",
         "y": [
          -800000,
          -12000000,
          -13500000,
          32000000,
          27500000,
          -21500000,
          -26000000,
          -2000000,
          43200000,
          41720000,
          6000000,
          18750000,
          132700000,
          48700000,
          -25000000
         ],
         "yaxis": "y"
        },
        {
         "hoverlabel": {
          "namelength": 0
         },
         "hovertemplate": "<b>%{hovertext}</b><br><br>Club Joined=Leicester <br>Year=%{x}<br>Surplus/Deficit_y=%{y}",
         "hovertext": [
          "Leicester ",
          "Leicester ",
          "Leicester ",
          "Leicester ",
          "Leicester ",
          "Leicester ",
          "Leicester ",
          "Leicester ",
          "Leicester ",
          "Leicester ",
          "Leicester ",
          "Leicester ",
          "Leicester ",
          "Leicester "
         ],
         "legendgroup": "Leicester ",
         "line": {
          "color": "#60fdfa",
          "dash": "solid"
         },
         "mode": "lines",
         "name": "Leicester ",
         "showlegend": true,
         "type": "scatter",
         "x": [
          2005,
          2006,
          2007,
          2009,
          2010,
          2011,
          2012,
          2013,
          2014,
          2015,
          2016,
          2017,
          2018,
          2019
         ],
         "xaxis": "x",
         "y": [
          -2176000,
          100000,
          -500000,
          -1390000,
          2475000,
          -2660000,
          -2170000,
          -700000,
          4600000,
          13700000,
          22700000,
          29600000,
          45100000,
          17400000
         ],
         "yaxis": "y"
        },
        {
         "hoverlabel": {
          "namelength": 0
         },
         "hovertemplate": "<b>%{hovertext}</b><br><br>Club Joined=Liverpool <br>Year=%{x}<br>Surplus/Deficit_y=%{y}",
         "hovertext": [
          "Liverpool ",
          "Liverpool ",
          "Liverpool ",
          "Liverpool ",
          "Liverpool ",
          "Liverpool ",
          "Liverpool ",
          "Liverpool ",
          "Liverpool ",
          "Liverpool ",
          "Liverpool ",
          "Liverpool ",
          "Liverpool ",
          "Liverpool ",
          "Liverpool "
         ],
         "legendgroup": "Liverpool ",
         "line": {
          "color": "#aefdff",
          "dash": "solid"
         },
         "mode": "lines",
         "name": "Liverpool ",
         "showlegend": true,
         "type": "scatter",
         "x": [
          2005,
          2006,
          2007,
          2008,
          2009,
          2010,
          2011,
          2012,
          2013,
          2014,
          2015,
          2016,
          2017,
          2018,
          2019
         ],
         "xaxis": "x",
         "y": [
          5900000,
          5660000,
          19525000,
          9800000,
          11000000,
          -36320000,
          64800000,
          17000000,
          19900000,
          63930000,
          43200000,
          34000000,
          25000000,
          48928000,
          -250000
         ],
         "yaxis": "y"
        },
        {
         "hoverlabel": {
          "namelength": 0
         },
         "hovertemplate": "<b>%{hovertext}</b><br><br>Club Joined=Man City <br>Year=%{x}<br>Surplus/Deficit_y=%{y}",
         "hovertext": [
          "Man City ",
          "Man City ",
          "Man City ",
          "Man City ",
          "Man City ",
          "Man City ",
          "Man City ",
          "Man City ",
          "Man City ",
          "Man City ",
          "Man City ",
          "Man City ",
          "Man City ",
          "Man City ",
          "Man City "
         ],
         "legendgroup": "Man City ",
         "line": {
          "color": "#f3f3f1",
          "dash": "solid"
         },
         "mode": "lines",
         "name": "Man City ",
         "showlegend": true,
         "type": "scatter",
         "x": [
          2005,
          2006,
          2007,
          2008,
          2009,
          2010,
          2011,
          2012,
          2013,
          2014,
          2015,
          2016,
          2017,
          2018,
          2019
         ],
         "xaxis": "x",
         "y": [
          -125000,
          -7575000,
          17900000,
          19250000,
          45300000,
          22610000,
          11250000,
          4250000,
          13000000,
          17500000,
          95675000,
          50320000,
          125000000,
          58540000,
          6470000
         ],
         "yaxis": "y"
        },
        {
         "hoverlabel": {
          "namelength": 0
         },
         "hovertemplate": "<b>%{hovertext}</b><br><br>Club Joined=Man Utd <br>Year=%{x}<br>Surplus/Deficit_y=%{y}",
         "hovertext": [
          "Man Utd ",
          "Man Utd ",
          "Man Utd ",
          "Man Utd ",
          "Man Utd ",
          "Man Utd ",
          "Man Utd ",
          "Man Utd ",
          "Man Utd ",
          "Man Utd ",
          "Man Utd ",
          "Man Utd ",
          "Man Utd ",
          "Man Utd ",
          "Man Utd "
         ],
         "legendgroup": "Man Utd ",
         "line": {
          "color": "#fffda9",
          "dash": "solid"
         },
         "mode": "lines",
         "name": "Man Utd ",
         "showlegend": true,
         "type": "scatter",
         "x": [
          2005,
          2006,
          2007,
          2008,
          2009,
          2010,
          2011,
          2012,
          2013,
          2014,
          2015,
          2016,
          2017,
          2018,
          2019
         ],
         "xaxis": "x",
         "y": [
          2300000,
          4200000,
          7900000,
          12000000,
          1800000,
          16200000,
          30600000,
          -12700000,
          12650000,
          85730000,
          58000000,
          77000000,
          57400000,
          -1300000,
          57000000
         ],
         "yaxis": "y"
        },
        {
         "hoverlabel": {
          "namelength": 0
         },
         "hovertemplate": "<b>%{hovertext}</b><br><br>Club Joined=Monaco <br>Year=%{x}<br>Surplus/Deficit_y=%{y}",
         "hovertext": [
          "Monaco ",
          "Monaco ",
          "Monaco ",
          "Monaco ",
          "Monaco ",
          "Monaco ",
          "Monaco ",
          "Monaco ",
          "Monaco ",
          "Monaco ",
          "Monaco ",
          "Monaco ",
          "Monaco ",
          "Monaco "
         ],
         "legendgroup": "Monaco ",
         "line": {
          "color": "#fafd5b",
          "dash": "solid"
         },
         "mode": "lines",
         "name": "Monaco ",
         "showlegend": true,
         "type": "scatter",
         "x": [
          2006,
          2007,
          2008,
          2009,
          2010,
          2011,
          2012,
          2013,
          2014,
          2015,
          2016,
          2017,
          2018,
          2019
         ],
         "xaxis": "x",
         "y": [
          -9950000,
          2700000,
          -800000,
          -5000000,
          -4200000,
          -12750000,
          6600000,
          -6750000,
          4750000,
          54060000,
          14250000,
          29000000,
          59600000,
          -7975000
         ],
         "yaxis": "y"
        },
        {
         "hoverlabel": {
          "namelength": 0
         },
         "hovertemplate": "<b>%{hovertext}</b><br><br>Club Joined=Paris SG <br>Year=%{x}<br>Surplus/Deficit_y=%{y}",
         "hovertext": [
          "Paris SG ",
          "Paris SG ",
          "Paris SG ",
          "Paris SG ",
          "Paris SG ",
          "Paris SG ",
          "Paris SG ",
          "Paris SG ",
          "Paris SG ",
          "Paris SG ",
          "Paris SG ",
          "Paris SG ",
          "Paris SG ",
          "Paris SG "
         ],
         "legendgroup": "Paris SG ",
         "line": {
          "color": "#f7da29",
          "dash": "solid"
         },
         "mode": "lines",
         "name": "Paris SG ",
         "showlegend": true,
         "type": "scatter",
         "x": [
          2005,
          2007,
          2008,
          2009,
          2010,
          2011,
          2012,
          2013,
          2014,
          2015,
          2016,
          2017,
          2018,
          2019
         ],
         "xaxis": "x",
         "y": [
          2500000,
          -1000000,
          -7500000,
          0,
          -9500000,
          -6400000,
          -28000000,
          35900000,
          28500000,
          33100000,
          11000000,
          151000000,
          34500000,
          0
         ],
         "yaxis": "y"
        },
        {
         "hoverlabel": {
          "namelength": 0
         },
         "hovertemplate": "<b>%{hovertext}</b><br><br>Club Joined=Southampton <br>Year=%{x}<br>Surplus/Deficit_y=%{y}",
         "hovertext": [
          "Southampton ",
          "Southampton ",
          "Southampton ",
          "Southampton ",
          "Southampton ",
          "Southampton ",
          "Southampton ",
          "Southampton ",
          "Southampton ",
          "Southampton ",
          "Southampton ",
          "Southampton ",
          "Southampton ",
          "Southampton "
         ],
         "legendgroup": "Southampton ",
         "line": {
          "color": "#ff8e25",
          "dash": "solid"
         },
         "mode": "lines",
         "name": "Southampton ",
         "showlegend": true,
         "type": "scatter",
         "x": [
          2005,
          2006,
          2007,
          2008,
          2009,
          2010,
          2011,
          2012,
          2013,
          2014,
          2015,
          2016,
          2017,
          2018
         ],
         "xaxis": "x",
         "y": [
          -5350000,
          -2000000,
          600000,
          -1750000,
          -2375000,
          -3160000,
          -955000,
          250000,
          11600000,
          41700000,
          27750000,
          14600000,
          20250000,
          36300000
         ],
         "yaxis": "y"
        },
        {
         "hoverlabel": {
          "namelength": 0
         },
         "hovertemplate": "<b>%{hovertext}</b><br><br>Club Joined=Spurs <br>Year=%{x}<br>Surplus/Deficit_y=%{y}",
         "hovertext": [
          "Spurs ",
          "Spurs ",
          "Spurs ",
          "Spurs ",
          "Spurs ",
          "Spurs ",
          "Spurs ",
          "Spurs ",
          "Spurs ",
          "Spurs ",
          "Spurs ",
          "Spurs ",
          "Spurs ",
          "Spurs ",
          "Spurs "
         ],
         "legendgroup": "Spurs ",
         "line": {
          "color": "#f8432d",
          "dash": "solid"
         },
         "mode": "lines",
         "name": "Spurs ",
         "showlegend": true,
         "type": "scatter",
         "x": [
          2005,
          2006,
          2007,
          2008,
          2009,
          2010,
          2011,
          2012,
          2013,
          2014,
          2015,
          2016,
          2017,
          2018,
          2019
         ],
         "xaxis": "x",
         "y": [
          14500000,
          -5990000,
          30350000,
          37650000,
          11800000,
          -11500000,
          -14200000,
          -28500000,
          5280000,
          12600000,
          28730000,
          41400000,
          47100000,
          400000,
          -9000000
         ],
         "yaxis": "y"
        },
        {
         "hoverlabel": {
          "namelength": 0
         },
         "hovertemplate": "<b>%{hovertext}</b><br><br>Club Joined=Zenit S-Pb <br>Year=%{x}<br>Surplus/Deficit_y=%{y}",
         "hovertext": [
          "Zenit S-Pb ",
          "Zenit S-Pb ",
          "Zenit S-Pb ",
          "Zenit S-Pb ",
          "Zenit S-Pb ",
          "Zenit S-Pb ",
          "Zenit S-Pb ",
          "Zenit S-Pb ",
          "Zenit S-Pb ",
          "Zenit S-Pb ",
          "Zenit S-Pb ",
          "Zenit S-Pb ",
          "Zenit S-Pb ",
          "Zenit S-Pb "
         ],
         "legendgroup": "Zenit S-Pb ",
         "line": {
          "color": "#d90d39",
          "dash": "solid"
         },
         "mode": "lines",
         "name": "Zenit S-Pb ",
         "showlegend": true,
         "type": "scatter",
         "x": [
          2005,
          2006,
          2007,
          2008,
          2009,
          2010,
          2011,
          2012,
          2013,
          2014,
          2016,
          2017,
          2018,
          2019
         ],
         "xaxis": "x",
         "y": [
          0,
          250000,
          15950000,
          20750000,
          -2900000,
          5700000,
          2500000,
          23000000,
          3500000,
          11800000,
          -10360000,
          41000000,
          -7200000,
          16000000
         ],
         "yaxis": "y"
        }
       ],
       "layout": {
        "hoverlabel": {
         "bgcolor": "black",
         "bordercolor": "black",
         "font": {
          "color": "white",
          "family": "Arial, monospace",
          "size": 14
         }
        },
        "legend": {
         "title": {
          "text": "Club Joined"
         },
         "tracegroupgap": 0
        },
        "template": {
         "data": {
          "bar": [
           {
            "error_x": {
             "color": "#f2f5fa"
            },
            "error_y": {
             "color": "#f2f5fa"
            },
            "marker": {
             "line": {
              "color": "rgb(17,17,17)",
              "width": 0.5
             }
            },
            "type": "bar"
           }
          ],
          "barpolar": [
           {
            "marker": {
             "line": {
              "color": "rgb(17,17,17)",
              "width": 0.5
             }
            },
            "type": "barpolar"
           }
          ],
          "carpet": [
           {
            "aaxis": {
             "endlinecolor": "#A2B1C6",
             "gridcolor": "#506784",
             "linecolor": "#506784",
             "minorgridcolor": "#506784",
             "startlinecolor": "#A2B1C6"
            },
            "baxis": {
             "endlinecolor": "#A2B1C6",
             "gridcolor": "#506784",
             "linecolor": "#506784",
             "minorgridcolor": "#506784",
             "startlinecolor": "#A2B1C6"
            },
            "type": "carpet"
           }
          ],
          "choropleth": [
           {
            "colorbar": {
             "outlinewidth": 0,
             "ticks": ""
            },
            "type": "choropleth"
           }
          ],
          "contour": [
           {
            "colorbar": {
             "outlinewidth": 0,
             "ticks": ""
            },
            "colorscale": [
             [
              0,
              "#0d0887"
             ],
             [
              0.1111111111111111,
              "#46039f"
             ],
             [
              0.2222222222222222,
              "#7201a8"
             ],
             [
              0.3333333333333333,
              "#9c179e"
             ],
             [
              0.4444444444444444,
              "#bd3786"
             ],
             [
              0.5555555555555556,
              "#d8576b"
             ],
             [
              0.6666666666666666,
              "#ed7953"
             ],
             [
              0.7777777777777778,
              "#fb9f3a"
             ],
             [
              0.8888888888888888,
              "#fdca26"
             ],
             [
              1,
              "#f0f921"
             ]
            ],
            "type": "contour"
           }
          ],
          "contourcarpet": [
           {
            "colorbar": {
             "outlinewidth": 0,
             "ticks": ""
            },
            "type": "contourcarpet"
           }
          ],
          "heatmap": [
           {
            "colorbar": {
             "outlinewidth": 0,
             "ticks": ""
            },
            "colorscale": [
             [
              0,
              "#0d0887"
             ],
             [
              0.1111111111111111,
              "#46039f"
             ],
             [
              0.2222222222222222,
              "#7201a8"
             ],
             [
              0.3333333333333333,
              "#9c179e"
             ],
             [
              0.4444444444444444,
              "#bd3786"
             ],
             [
              0.5555555555555556,
              "#d8576b"
             ],
             [
              0.6666666666666666,
              "#ed7953"
             ],
             [
              0.7777777777777778,
              "#fb9f3a"
             ],
             [
              0.8888888888888888,
              "#fdca26"
             ],
             [
              1,
              "#f0f921"
             ]
            ],
            "type": "heatmap"
           }
          ],
          "heatmapgl": [
           {
            "colorbar": {
             "outlinewidth": 0,
             "ticks": ""
            },
            "colorscale": [
             [
              0,
              "#0d0887"
             ],
             [
              0.1111111111111111,
              "#46039f"
             ],
             [
              0.2222222222222222,
              "#7201a8"
             ],
             [
              0.3333333333333333,
              "#9c179e"
             ],
             [
              0.4444444444444444,
              "#bd3786"
             ],
             [
              0.5555555555555556,
              "#d8576b"
             ],
             [
              0.6666666666666666,
              "#ed7953"
             ],
             [
              0.7777777777777778,
              "#fb9f3a"
             ],
             [
              0.8888888888888888,
              "#fdca26"
             ],
             [
              1,
              "#f0f921"
             ]
            ],
            "type": "heatmapgl"
           }
          ],
          "histogram": [
           {
            "marker": {
             "colorbar": {
              "outlinewidth": 0,
              "ticks": ""
             }
            },
            "type": "histogram"
           }
          ],
          "histogram2d": [
           {
            "colorbar": {
             "outlinewidth": 0,
             "ticks": ""
            },
            "colorscale": [
             [
              0,
              "#0d0887"
             ],
             [
              0.1111111111111111,
              "#46039f"
             ],
             [
              0.2222222222222222,
              "#7201a8"
             ],
             [
              0.3333333333333333,
              "#9c179e"
             ],
             [
              0.4444444444444444,
              "#bd3786"
             ],
             [
              0.5555555555555556,
              "#d8576b"
             ],
             [
              0.6666666666666666,
              "#ed7953"
             ],
             [
              0.7777777777777778,
              "#fb9f3a"
             ],
             [
              0.8888888888888888,
              "#fdca26"
             ],
             [
              1,
              "#f0f921"
             ]
            ],
            "type": "histogram2d"
           }
          ],
          "histogram2dcontour": [
           {
            "colorbar": {
             "outlinewidth": 0,
             "ticks": ""
            },
            "colorscale": [
             [
              0,
              "#0d0887"
             ],
             [
              0.1111111111111111,
              "#46039f"
             ],
             [
              0.2222222222222222,
              "#7201a8"
             ],
             [
              0.3333333333333333,
              "#9c179e"
             ],
             [
              0.4444444444444444,
              "#bd3786"
             ],
             [
              0.5555555555555556,
              "#d8576b"
             ],
             [
              0.6666666666666666,
              "#ed7953"
             ],
             [
              0.7777777777777778,
              "#fb9f3a"
             ],
             [
              0.8888888888888888,
              "#fdca26"
             ],
             [
              1,
              "#f0f921"
             ]
            ],
            "type": "histogram2dcontour"
           }
          ],
          "mesh3d": [
           {
            "colorbar": {
             "outlinewidth": 0,
             "ticks": ""
            },
            "type": "mesh3d"
           }
          ],
          "parcoords": [
           {
            "line": {
             "colorbar": {
              "outlinewidth": 0,
              "ticks": ""
             }
            },
            "type": "parcoords"
           }
          ],
          "pie": [
           {
            "automargin": true,
            "type": "pie"
           }
          ],
          "scatter": [
           {
            "marker": {
             "line": {
              "color": "#283442"
             }
            },
            "type": "scatter"
           }
          ],
          "scatter3d": [
           {
            "line": {
             "colorbar": {
              "outlinewidth": 0,
              "ticks": ""
             }
            },
            "marker": {
             "colorbar": {
              "outlinewidth": 0,
              "ticks": ""
             }
            },
            "type": "scatter3d"
           }
          ],
          "scattercarpet": [
           {
            "marker": {
             "colorbar": {
              "outlinewidth": 0,
              "ticks": ""
             }
            },
            "type": "scattercarpet"
           }
          ],
          "scattergeo": [
           {
            "marker": {
             "colorbar": {
              "outlinewidth": 0,
              "ticks": ""
             }
            },
            "type": "scattergeo"
           }
          ],
          "scattergl": [
           {
            "marker": {
             "line": {
              "color": "#283442"
             }
            },
            "type": "scattergl"
           }
          ],
          "scattermapbox": [
           {
            "marker": {
             "colorbar": {
              "outlinewidth": 0,
              "ticks": ""
             }
            },
            "type": "scattermapbox"
           }
          ],
          "scatterpolar": [
           {
            "marker": {
             "colorbar": {
              "outlinewidth": 0,
              "ticks": ""
             }
            },
            "type": "scatterpolar"
           }
          ],
          "scatterpolargl": [
           {
            "marker": {
             "colorbar": {
              "outlinewidth": 0,
              "ticks": ""
             }
            },
            "type": "scatterpolargl"
           }
          ],
          "scatterternary": [
           {
            "marker": {
             "colorbar": {
              "outlinewidth": 0,
              "ticks": ""
             }
            },
            "type": "scatterternary"
           }
          ],
          "surface": [
           {
            "colorbar": {
             "outlinewidth": 0,
             "ticks": ""
            },
            "colorscale": [
             [
              0,
              "#0d0887"
             ],
             [
              0.1111111111111111,
              "#46039f"
             ],
             [
              0.2222222222222222,
              "#7201a8"
             ],
             [
              0.3333333333333333,
              "#9c179e"
             ],
             [
              0.4444444444444444,
              "#bd3786"
             ],
             [
              0.5555555555555556,
              "#d8576b"
             ],
             [
              0.6666666666666666,
              "#ed7953"
             ],
             [
              0.7777777777777778,
              "#fb9f3a"
             ],
             [
              0.8888888888888888,
              "#fdca26"
             ],
             [
              1,
              "#f0f921"
             ]
            ],
            "type": "surface"
           }
          ],
          "table": [
           {
            "cells": {
             "fill": {
              "color": "#506784"
             },
             "line": {
              "color": "rgb(17,17,17)"
             }
            },
            "header": {
             "fill": {
              "color": "#2a3f5f"
             },
             "line": {
              "color": "rgb(17,17,17)"
             }
            },
            "type": "table"
           }
          ]
         },
         "layout": {
          "annotationdefaults": {
           "arrowcolor": "#f2f5fa",
           "arrowhead": 0,
           "arrowwidth": 1
          },
          "coloraxis": {
           "colorbar": {
            "outlinewidth": 0,
            "ticks": ""
           }
          },
          "colorscale": {
           "diverging": [
            [
             0,
             "#8e0152"
            ],
            [
             0.1,
             "#c51b7d"
            ],
            [
             0.2,
             "#de77ae"
            ],
            [
             0.3,
             "#f1b6da"
            ],
            [
             0.4,
             "#fde0ef"
            ],
            [
             0.5,
             "#f7f7f7"
            ],
            [
             0.6,
             "#e6f5d0"
            ],
            [
             0.7,
             "#b8e186"
            ],
            [
             0.8,
             "#7fbc41"
            ],
            [
             0.9,
             "#4d9221"
            ],
            [
             1,
             "#276419"
            ]
           ],
           "sequential": [
            [
             0,
             "#0d0887"
            ],
            [
             0.1111111111111111,
             "#46039f"
            ],
            [
             0.2222222222222222,
             "#7201a8"
            ],
            [
             0.3333333333333333,
             "#9c179e"
            ],
            [
             0.4444444444444444,
             "#bd3786"
            ],
            [
             0.5555555555555556,
             "#d8576b"
            ],
            [
             0.6666666666666666,
             "#ed7953"
            ],
            [
             0.7777777777777778,
             "#fb9f3a"
            ],
            [
             0.8888888888888888,
             "#fdca26"
            ],
            [
             1,
             "#f0f921"
            ]
           ],
           "sequentialminus": [
            [
             0,
             "#0d0887"
            ],
            [
             0.1111111111111111,
             "#46039f"
            ],
            [
             0.2222222222222222,
             "#7201a8"
            ],
            [
             0.3333333333333333,
             "#9c179e"
            ],
            [
             0.4444444444444444,
             "#bd3786"
            ],
            [
             0.5555555555555556,
             "#d8576b"
            ],
            [
             0.6666666666666666,
             "#ed7953"
            ],
            [
             0.7777777777777778,
             "#fb9f3a"
            ],
            [
             0.8888888888888888,
             "#fdca26"
            ],
            [
             1,
             "#f0f921"
            ]
           ]
          },
          "colorway": [
           "#636efa",
           "#EF553B",
           "#00cc96",
           "#ab63fa",
           "#FFA15A",
           "#19d3f3",
           "#FF6692",
           "#B6E880",
           "#FF97FF",
           "#FECB52"
          ],
          "font": {
           "color": "#f2f5fa"
          },
          "geo": {
           "bgcolor": "rgb(17,17,17)",
           "lakecolor": "rgb(17,17,17)",
           "landcolor": "rgb(17,17,17)",
           "showlakes": true,
           "showland": true,
           "subunitcolor": "#506784"
          },
          "hoverlabel": {
           "align": "left"
          },
          "hovermode": "closest",
          "mapbox": {
           "style": "dark"
          },
          "paper_bgcolor": "rgb(17,17,17)",
          "plot_bgcolor": "rgb(17,17,17)",
          "polar": {
           "angularaxis": {
            "gridcolor": "#506784",
            "linecolor": "#506784",
            "ticks": ""
           },
           "bgcolor": "rgb(17,17,17)",
           "radialaxis": {
            "gridcolor": "#506784",
            "linecolor": "#506784",
            "ticks": ""
           }
          },
          "scene": {
           "xaxis": {
            "backgroundcolor": "rgb(17,17,17)",
            "gridcolor": "#506784",
            "gridwidth": 2,
            "linecolor": "#506784",
            "showbackground": true,
            "ticks": "",
            "zerolinecolor": "#C8D4E3"
           },
           "yaxis": {
            "backgroundcolor": "rgb(17,17,17)",
            "gridcolor": "#506784",
            "gridwidth": 2,
            "linecolor": "#506784",
            "showbackground": true,
            "ticks": "",
            "zerolinecolor": "#C8D4E3"
           },
           "zaxis": {
            "backgroundcolor": "rgb(17,17,17)",
            "gridcolor": "#506784",
            "gridwidth": 2,
            "linecolor": "#506784",
            "showbackground": true,
            "ticks": "",
            "zerolinecolor": "#C8D4E3"
           }
          },
          "shapedefaults": {
           "line": {
            "color": "#f2f5fa"
           }
          },
          "sliderdefaults": {
           "bgcolor": "#C8D4E3",
           "bordercolor": "rgb(17,17,17)",
           "borderwidth": 1,
           "tickwidth": 0
          },
          "ternary": {
           "aaxis": {
            "gridcolor": "#506784",
            "linecolor": "#506784",
            "ticks": ""
           },
           "baxis": {
            "gridcolor": "#506784",
            "linecolor": "#506784",
            "ticks": ""
           },
           "bgcolor": "rgb(17,17,17)",
           "caxis": {
            "gridcolor": "#506784",
            "linecolor": "#506784",
            "ticks": ""
           }
          },
          "title": {
           "x": 0.05
          },
          "updatemenudefaults": {
           "bgcolor": "#506784",
           "borderwidth": 0
          },
          "xaxis": {
           "automargin": true,
           "gridcolor": "#283442",
           "linecolor": "#506784",
           "ticks": "",
           "title": {
            "standoff": 15
           },
           "zerolinecolor": "#283442",
           "zerolinewidth": 2
          },
          "yaxis": {
           "automargin": true,
           "gridcolor": "#283442",
           "linecolor": "#506784",
           "ticks": "",
           "title": {
            "standoff": 15
           },
           "zerolinecolor": "#283442",
           "zerolinewidth": 2
          }
         }
        },
        "title": {
         "text": "Trend Analysis for Top 15 Clubs by Transfer Fee Over-Spending"
        },
        "xaxis": {
         "linecolor": "white",
         "showgrid": false,
         "showline": true,
         "showticklabels": true,
         "tickfont": {
          "color": "white",
          "family": "Arial",
          "size": 10
         },
         "title": {
          "font": {
           "color": "white",
           "family": "Arial, monospace",
           "size": 14
          },
          "text": "Year"
         },
         "zeroline": false
        },
        "yaxis": {
         "linecolor": "white",
         "showgrid": false,
         "showline": false,
         "showticklabels": true,
         "tickfont": {
          "color": "white",
          "family": "Arial",
          "size": 10
         },
         "title": {
          "font": {
           "color": "white",
           "family": "Arial, monospace",
           "size": 14
          },
          "text": "Total Amount Over-Spent, in Euros"
         },
         "zeroline": true
        }
       }
      },
      "text/html": [
       "<div>\n",
       "        \n",
       "        \n",
       "            <div id=\"724a17ba-dacc-47a6-9a5e-87c58fba1885\" class=\"plotly-graph-div\" style=\"height:525px; width:100%;\"></div>\n",
       "            <script type=\"text/javascript\">\n",
       "                require([\"plotly\"], function(Plotly) {\n",
       "                    window.PLOTLYENV=window.PLOTLYENV || {};\n",
       "                    \n",
       "                if (document.getElementById(\"724a17ba-dacc-47a6-9a5e-87c58fba1885\")) {\n",
       "                    Plotly.newPlot(\n",
       "                        '724a17ba-dacc-47a6-9a5e-87c58fba1885',\n",
       "                        [{\"hoverlabel\": {\"namelength\": 0}, \"hovertemplate\": \"<b>%{hovertext}</b><br><br>Club Joined=Arsenal <br>Year=%{x}<br>Surplus/Deficit_y=%{y}\", \"hovertext\": [\"Arsenal \", \"Arsenal \", \"Arsenal \", \"Arsenal \", \"Arsenal \", \"Arsenal \", \"Arsenal \", \"Arsenal \", \"Arsenal \", \"Arsenal \", \"Arsenal \", \"Arsenal \", \"Arsenal \", \"Arsenal \", \"Arsenal \"], \"legendgroup\": \"Arsenal \", \"line\": {\"color\": \"#313131\", \"dash\": \"solid\"}, \"mode\": \"lines\", \"name\": \"Arsenal \", \"showlegend\": true, \"type\": \"scatter\", \"x\": [2005, 2006, 2007, 2008, 2009, 2010, 2011, 2012, 2013, 2014, 2015, 2016, 2017, 2018, 2019], \"xaxis\": \"x\", \"y\": [9250000.0, 11500000.0, 7050000.0, -1550000.0, -1500000.0, 6000000.0, 7780000.0, -7000000.0, 6000000.0, 37730000.0, 9000000.0, 63050000.0, 13000000.0, 4550000.0, 36200000.0], \"yaxis\": \"y\"}, {\"hoverlabel\": {\"namelength\": 0}, \"hovertemplate\": \"<b>%{hovertext}</b><br><br>Club Joined=Aston Villa <br>Year=%{x}<br>Surplus/Deficit_y=%{y}\", \"hovertext\": [\"Aston Villa \", \"Aston Villa \", \"Aston Villa \", \"Aston Villa \", \"Aston Villa \", \"Aston Villa \", \"Aston Villa \", \"Aston Villa \", \"Aston Villa \", \"Aston Villa \", \"Aston Villa \", \"Aston Villa \", \"Aston Villa \", \"Aston Villa \", \"Aston Villa \"], \"legendgroup\": \"Aston Villa \", \"line\": {\"color\": \"#3d019d\", \"dash\": \"solid\"}, \"mode\": \"lines\", \"name\": \"Aston Villa \", \"showlegend\": true, \"type\": \"scatter\", \"x\": [2005, 2006, 2007, 2008, 2009, 2010, 2011, 2012, 2013, 2014, 2015, 2016, 2017, 2018, 2019], \"xaxis\": \"x\", \"y\": [-13420000.0, 2650000.0, 9800000.0, 11850000.0, 12800000.0, -4300000.0, -750000.0, 4800000.0, 4300000.0, -2250000.0, 22100000.0, 30000000.0, 12950000.0, 4050000.0, 61200000.0], \"yaxis\": \"y\"}, {\"hoverlabel\": {\"namelength\": 0}, \"hovertemplate\": \"<b>%{hovertext}</b><br><br>Club Joined=Atl\\u00e9tico Madrid <br>Year=%{x}<br>Surplus/Deficit_y=%{y}\", \"hovertext\": [\"Atl\\u00e9tico Madrid \", \"Atl\\u00e9tico Madrid \", \"Atl\\u00e9tico Madrid \", \"Atl\\u00e9tico Madrid \", \"Atl\\u00e9tico Madrid \", \"Atl\\u00e9tico Madrid \", \"Atl\\u00e9tico Madrid \", \"Atl\\u00e9tico Madrid \", \"Atl\\u00e9tico Madrid \", \"Atl\\u00e9tico Madrid \", \"Atl\\u00e9tico Madrid \", \"Atl\\u00e9tico Madrid \", \"Atl\\u00e9tico Madrid \", \"Atl\\u00e9tico Madrid \"], \"legendgroup\": \"Atl\\u00e9tico Madrid \", \"line\": {\"color\": \"#3810dc\", \"dash\": \"solid\"}, \"mode\": \"lines\", \"name\": \"Atl\\u00e9tico Madrid \", \"showlegend\": true, \"type\": \"scatter\", \"x\": [2005, 2006, 2007, 2008, 2010, 2011, 2012, 2013, 2014, 2015, 2016, 2017, 2018, 2019], \"xaxis\": \"x\", \"y\": [-5250000.0, 12700000.0, 7800000.0, 3800000.0, 2500000.0, 2750000.0, 6000000.0, -15900000.0, 14100000.0, 34360000.0, 3700000.0, 11000000.0, -7000000.0, 68600000.0], \"yaxis\": \"y\"}, {\"hoverlabel\": {\"namelength\": 0}, \"hovertemplate\": \"<b>%{hovertext}</b><br><br>Club Joined=Bournemouth <br>Year=%{x}<br>Surplus/Deficit_y=%{y}\", \"hovertext\": [\"Bournemouth \", \"Bournemouth \", \"Bournemouth \", \"Bournemouth \", \"Bournemouth \", \"Bournemouth \", \"Bournemouth \", \"Bournemouth \", \"Bournemouth \", \"Bournemouth \", \"Bournemouth \"], \"legendgroup\": \"Bournemouth \", \"line\": {\"color\": \"#2d47f9\", \"dash\": \"solid\"}, \"mode\": \"lines\", \"name\": \"Bournemouth \", \"showlegend\": true, \"type\": \"scatter\", \"x\": [2005, 2010, 2011, 2012, 2013, 2014, 2015, 2016, 2017, 2018, 2019], \"xaxis\": \"x\", \"y\": [-100000.0, -50000.0, -680000.0, 280000.0, 3700000.0, 1950000.0, 14250000.0, 29450000.0, 14800000.0, 38500000.0, 32300000.0], \"yaxis\": \"y\"}, {\"hoverlabel\": {\"namelength\": 0}, \"hovertemplate\": \"<b>%{hovertext}</b><br><br>Club Joined=Chelsea <br>Year=%{x}<br>Surplus/Deficit_y=%{y}\", \"hovertext\": [\"Chelsea \", \"Chelsea \", \"Chelsea \", \"Chelsea \", \"Chelsea \", \"Chelsea \", \"Chelsea \", \"Chelsea \", \"Chelsea \", \"Chelsea \", \"Chelsea \", \"Chelsea \", \"Chelsea \", \"Chelsea \", \"Chelsea \"], \"legendgroup\": \"Chelsea \", \"line\": {\"color\": \"#2593ff\", \"dash\": \"solid\"}, \"mode\": \"lines\", \"name\": \"Chelsea \", \"showlegend\": true, \"type\": \"scatter\", \"x\": [2005, 2006, 2007, 2008, 2009, 2010, 2011, 2012, 2013, 2014, 2015, 2016, 2017, 2018, 2019], \"xaxis\": \"x\", \"y\": [22000000.0, -16520000.0, -1000000.0, -9500000.0, 3700000.0, 4500000.0, 26450000.0, 9700000.0, -21325000.0, 2550000.0, 18500000.0, 65250000.0, 105400000.0, 61550000.0, 24000000.0], \"yaxis\": \"y\"}, {\"hoverlabel\": {\"namelength\": 0}, \"hovertemplate\": \"<b>%{hovertext}</b><br><br>Club Joined=FC Barcelona <br>Year=%{x}<br>Surplus/Deficit_y=%{y}\", \"hovertext\": [\"FC Barcelona \", \"FC Barcelona \", \"FC Barcelona \", \"FC Barcelona \", \"FC Barcelona \", \"FC Barcelona \", \"FC Barcelona \", \"FC Barcelona \", \"FC Barcelona \", \"FC Barcelona \", \"FC Barcelona \", \"FC Barcelona \", \"FC Barcelona \", \"FC Barcelona \", \"FC Barcelona \"], \"legendgroup\": \"FC Barcelona \", \"line\": {\"color\": \"#2adef6\", \"dash\": \"solid\"}, \"mode\": \"lines\", \"name\": \"FC Barcelona \", \"showlegend\": true, \"type\": \"scatter\", \"x\": [2005, 2006, 2007, 2008, 2009, 2010, 2011, 2012, 2013, 2014, 2015, 2016, 2017, 2018, 2019], \"xaxis\": \"x\", \"y\": [-800000.0, -12000000.0, -13500000.0, 32000000.0, 27500000.0, -21500000.0, -26000000.0, -2000000.0, 43200000.0, 41720000.0, 6000000.0, 18750000.0, 132700000.0, 48700000.0, -25000000.0], \"yaxis\": \"y\"}, {\"hoverlabel\": {\"namelength\": 0}, \"hovertemplate\": \"<b>%{hovertext}</b><br><br>Club Joined=Leicester <br>Year=%{x}<br>Surplus/Deficit_y=%{y}\", \"hovertext\": [\"Leicester \", \"Leicester \", \"Leicester \", \"Leicester \", \"Leicester \", \"Leicester \", \"Leicester \", \"Leicester \", \"Leicester \", \"Leicester \", \"Leicester \", \"Leicester \", \"Leicester \", \"Leicester \"], \"legendgroup\": \"Leicester \", \"line\": {\"color\": \"#60fdfa\", \"dash\": \"solid\"}, \"mode\": \"lines\", \"name\": \"Leicester \", \"showlegend\": true, \"type\": \"scatter\", \"x\": [2005, 2006, 2007, 2009, 2010, 2011, 2012, 2013, 2014, 2015, 2016, 2017, 2018, 2019], \"xaxis\": \"x\", \"y\": [-2176000.0, 100000.0, -500000.0, -1390000.0, 2475000.0, -2660000.0, -2170000.0, -700000.0, 4600000.0, 13700000.0, 22700000.0, 29600000.0, 45100000.0, 17400000.0], \"yaxis\": \"y\"}, {\"hoverlabel\": {\"namelength\": 0}, \"hovertemplate\": \"<b>%{hovertext}</b><br><br>Club Joined=Liverpool <br>Year=%{x}<br>Surplus/Deficit_y=%{y}\", \"hovertext\": [\"Liverpool \", \"Liverpool \", \"Liverpool \", \"Liverpool \", \"Liverpool \", \"Liverpool \", \"Liverpool \", \"Liverpool \", \"Liverpool \", \"Liverpool \", \"Liverpool \", \"Liverpool \", \"Liverpool \", \"Liverpool \", \"Liverpool \"], \"legendgroup\": \"Liverpool \", \"line\": {\"color\": \"#aefdff\", \"dash\": \"solid\"}, \"mode\": \"lines\", \"name\": \"Liverpool \", \"showlegend\": true, \"type\": \"scatter\", \"x\": [2005, 2006, 2007, 2008, 2009, 2010, 2011, 2012, 2013, 2014, 2015, 2016, 2017, 2018, 2019], \"xaxis\": \"x\", \"y\": [5900000.0, 5660000.0, 19525000.0, 9800000.0, 11000000.0, -36320000.0, 64800000.0, 17000000.0, 19900000.0, 63930000.0, 43200000.0, 34000000.0, 25000000.0, 48928000.0, -250000.0], \"yaxis\": \"y\"}, {\"hoverlabel\": {\"namelength\": 0}, \"hovertemplate\": \"<b>%{hovertext}</b><br><br>Club Joined=Man City <br>Year=%{x}<br>Surplus/Deficit_y=%{y}\", \"hovertext\": [\"Man City \", \"Man City \", \"Man City \", \"Man City \", \"Man City \", \"Man City \", \"Man City \", \"Man City \", \"Man City \", \"Man City \", \"Man City \", \"Man City \", \"Man City \", \"Man City \", \"Man City \"], \"legendgroup\": \"Man City \", \"line\": {\"color\": \"#f3f3f1\", \"dash\": \"solid\"}, \"mode\": \"lines\", \"name\": \"Man City \", \"showlegend\": true, \"type\": \"scatter\", \"x\": [2005, 2006, 2007, 2008, 2009, 2010, 2011, 2012, 2013, 2014, 2015, 2016, 2017, 2018, 2019], \"xaxis\": \"x\", \"y\": [-125000.0, -7575000.0, 17900000.0, 19250000.0, 45300000.0, 22610000.0, 11250000.0, 4250000.0, 13000000.0, 17500000.0, 95675000.0, 50320000.0, 125000000.0, 58540000.0, 6470000.0], \"yaxis\": \"y\"}, {\"hoverlabel\": {\"namelength\": 0}, \"hovertemplate\": \"<b>%{hovertext}</b><br><br>Club Joined=Man Utd <br>Year=%{x}<br>Surplus/Deficit_y=%{y}\", \"hovertext\": [\"Man Utd \", \"Man Utd \", \"Man Utd \", \"Man Utd \", \"Man Utd \", \"Man Utd \", \"Man Utd \", \"Man Utd \", \"Man Utd \", \"Man Utd \", \"Man Utd \", \"Man Utd \", \"Man Utd \", \"Man Utd \", \"Man Utd \"], \"legendgroup\": \"Man Utd \", \"line\": {\"color\": \"#fffda9\", \"dash\": \"solid\"}, \"mode\": \"lines\", \"name\": \"Man Utd \", \"showlegend\": true, \"type\": \"scatter\", \"x\": [2005, 2006, 2007, 2008, 2009, 2010, 2011, 2012, 2013, 2014, 2015, 2016, 2017, 2018, 2019], \"xaxis\": \"x\", \"y\": [2300000.0, 4200000.0, 7900000.0, 12000000.0, 1800000.0, 16200000.0, 30600000.0, -12700000.0, 12650000.0, 85730000.0, 58000000.0, 77000000.0, 57400000.0, -1300000.0, 57000000.0], \"yaxis\": \"y\"}, {\"hoverlabel\": {\"namelength\": 0}, \"hovertemplate\": \"<b>%{hovertext}</b><br><br>Club Joined=Monaco <br>Year=%{x}<br>Surplus/Deficit_y=%{y}\", \"hovertext\": [\"Monaco \", \"Monaco \", \"Monaco \", \"Monaco \", \"Monaco \", \"Monaco \", \"Monaco \", \"Monaco \", \"Monaco \", \"Monaco \", \"Monaco \", \"Monaco \", \"Monaco \", \"Monaco \"], \"legendgroup\": \"Monaco \", \"line\": {\"color\": \"#fafd5b\", \"dash\": \"solid\"}, \"mode\": \"lines\", \"name\": \"Monaco \", \"showlegend\": true, \"type\": \"scatter\", \"x\": [2006, 2007, 2008, 2009, 2010, 2011, 2012, 2013, 2014, 2015, 2016, 2017, 2018, 2019], \"xaxis\": \"x\", \"y\": [-9950000.0, 2700000.0, -800000.0, -5000000.0, -4200000.0, -12750000.0, 6600000.0, -6750000.0, 4750000.0, 54060000.0, 14250000.0, 29000000.0, 59600000.0, -7975000.0], \"yaxis\": \"y\"}, {\"hoverlabel\": {\"namelength\": 0}, \"hovertemplate\": \"<b>%{hovertext}</b><br><br>Club Joined=Paris SG <br>Year=%{x}<br>Surplus/Deficit_y=%{y}\", \"hovertext\": [\"Paris SG \", \"Paris SG \", \"Paris SG \", \"Paris SG \", \"Paris SG \", \"Paris SG \", \"Paris SG \", \"Paris SG \", \"Paris SG \", \"Paris SG \", \"Paris SG \", \"Paris SG \", \"Paris SG \", \"Paris SG \"], \"legendgroup\": \"Paris SG \", \"line\": {\"color\": \"#f7da29\", \"dash\": \"solid\"}, \"mode\": \"lines\", \"name\": \"Paris SG \", \"showlegend\": true, \"type\": \"scatter\", \"x\": [2005, 2007, 2008, 2009, 2010, 2011, 2012, 2013, 2014, 2015, 2016, 2017, 2018, 2019], \"xaxis\": \"x\", \"y\": [2500000.0, -1000000.0, -7500000.0, 0.0, -9500000.0, -6400000.0, -28000000.0, 35900000.0, 28500000.0, 33100000.0, 11000000.0, 151000000.0, 34500000.0, 0.0], \"yaxis\": \"y\"}, {\"hoverlabel\": {\"namelength\": 0}, \"hovertemplate\": \"<b>%{hovertext}</b><br><br>Club Joined=Southampton <br>Year=%{x}<br>Surplus/Deficit_y=%{y}\", \"hovertext\": [\"Southampton \", \"Southampton \", \"Southampton \", \"Southampton \", \"Southampton \", \"Southampton \", \"Southampton \", \"Southampton \", \"Southampton \", \"Southampton \", \"Southampton \", \"Southampton \", \"Southampton \", \"Southampton \"], \"legendgroup\": \"Southampton \", \"line\": {\"color\": \"#ff8e25\", \"dash\": \"solid\"}, \"mode\": \"lines\", \"name\": \"Southampton \", \"showlegend\": true, \"type\": \"scatter\", \"x\": [2005, 2006, 2007, 2008, 2009, 2010, 2011, 2012, 2013, 2014, 2015, 2016, 2017, 2018], \"xaxis\": \"x\", \"y\": [-5350000.0, -2000000.0, 600000.0, -1750000.0, -2375000.0, -3160000.0, -955000.0, 250000.0, 11600000.0, 41700000.0, 27750000.0, 14600000.0, 20250000.0, 36300000.0], \"yaxis\": \"y\"}, {\"hoverlabel\": {\"namelength\": 0}, \"hovertemplate\": \"<b>%{hovertext}</b><br><br>Club Joined=Spurs <br>Year=%{x}<br>Surplus/Deficit_y=%{y}\", \"hovertext\": [\"Spurs \", \"Spurs \", \"Spurs \", \"Spurs \", \"Spurs \", \"Spurs \", \"Spurs \", \"Spurs \", \"Spurs \", \"Spurs \", \"Spurs \", \"Spurs \", \"Spurs \", \"Spurs \", \"Spurs \"], \"legendgroup\": \"Spurs \", \"line\": {\"color\": \"#f8432d\", \"dash\": \"solid\"}, \"mode\": \"lines\", \"name\": \"Spurs \", \"showlegend\": true, \"type\": \"scatter\", \"x\": [2005, 2006, 2007, 2008, 2009, 2010, 2011, 2012, 2013, 2014, 2015, 2016, 2017, 2018, 2019], \"xaxis\": \"x\", \"y\": [14500000.0, -5990000.0, 30350000.0, 37650000.0, 11800000.0, -11500000.0, -14200000.0, -28500000.0, 5280000.0, 12600000.0, 28730000.0, 41400000.0, 47100000.0, 400000.0, -9000000.0], \"yaxis\": \"y\"}, {\"hoverlabel\": {\"namelength\": 0}, \"hovertemplate\": \"<b>%{hovertext}</b><br><br>Club Joined=Zenit S-Pb <br>Year=%{x}<br>Surplus/Deficit_y=%{y}\", \"hovertext\": [\"Zenit S-Pb \", \"Zenit S-Pb \", \"Zenit S-Pb \", \"Zenit S-Pb \", \"Zenit S-Pb \", \"Zenit S-Pb \", \"Zenit S-Pb \", \"Zenit S-Pb \", \"Zenit S-Pb \", \"Zenit S-Pb \", \"Zenit S-Pb \", \"Zenit S-Pb \", \"Zenit S-Pb \", \"Zenit S-Pb \"], \"legendgroup\": \"Zenit S-Pb \", \"line\": {\"color\": \"#d90d39\", \"dash\": \"solid\"}, \"mode\": \"lines\", \"name\": \"Zenit S-Pb \", \"showlegend\": true, \"type\": \"scatter\", \"x\": [2005, 2006, 2007, 2008, 2009, 2010, 2011, 2012, 2013, 2014, 2016, 2017, 2018, 2019], \"xaxis\": \"x\", \"y\": [0.0, 250000.0, 15950000.0, 20750000.0, -2900000.0, 5700000.0, 2500000.0, 23000000.0, 3500000.0, 11800000.0, -10360000.0, 41000000.0, -7200000.0, 16000000.0], \"yaxis\": \"y\"}],\n",
       "                        {\"hoverlabel\": {\"bgcolor\": \"black\", \"bordercolor\": \"black\", \"font\": {\"color\": \"white\", \"family\": \"Arial, monospace\", \"size\": 14}}, \"legend\": {\"title\": {\"text\": \"Club Joined\"}, \"tracegroupgap\": 0}, \"template\": {\"data\": {\"bar\": [{\"error_x\": {\"color\": \"#f2f5fa\"}, \"error_y\": {\"color\": \"#f2f5fa\"}, \"marker\": {\"line\": {\"color\": \"rgb(17,17,17)\", \"width\": 0.5}}, \"type\": \"bar\"}], \"barpolar\": [{\"marker\": {\"line\": {\"color\": \"rgb(17,17,17)\", \"width\": 0.5}}, \"type\": \"barpolar\"}], \"carpet\": [{\"aaxis\": {\"endlinecolor\": \"#A2B1C6\", \"gridcolor\": \"#506784\", \"linecolor\": \"#506784\", \"minorgridcolor\": \"#506784\", \"startlinecolor\": \"#A2B1C6\"}, \"baxis\": {\"endlinecolor\": \"#A2B1C6\", \"gridcolor\": \"#506784\", \"linecolor\": \"#506784\", \"minorgridcolor\": \"#506784\", \"startlinecolor\": \"#A2B1C6\"}, \"type\": \"carpet\"}], \"choropleth\": [{\"colorbar\": {\"outlinewidth\": 0, \"ticks\": \"\"}, \"type\": \"choropleth\"}], \"contour\": [{\"colorbar\": {\"outlinewidth\": 0, \"ticks\": \"\"}, \"colorscale\": [[0.0, \"#0d0887\"], [0.1111111111111111, \"#46039f\"], [0.2222222222222222, \"#7201a8\"], [0.3333333333333333, \"#9c179e\"], [0.4444444444444444, \"#bd3786\"], [0.5555555555555556, \"#d8576b\"], [0.6666666666666666, \"#ed7953\"], [0.7777777777777778, \"#fb9f3a\"], [0.8888888888888888, \"#fdca26\"], [1.0, \"#f0f921\"]], \"type\": \"contour\"}], \"contourcarpet\": [{\"colorbar\": {\"outlinewidth\": 0, \"ticks\": \"\"}, \"type\": \"contourcarpet\"}], \"heatmap\": [{\"colorbar\": {\"outlinewidth\": 0, \"ticks\": \"\"}, \"colorscale\": [[0.0, \"#0d0887\"], [0.1111111111111111, \"#46039f\"], [0.2222222222222222, \"#7201a8\"], [0.3333333333333333, \"#9c179e\"], [0.4444444444444444, \"#bd3786\"], [0.5555555555555556, \"#d8576b\"], [0.6666666666666666, \"#ed7953\"], [0.7777777777777778, \"#fb9f3a\"], [0.8888888888888888, \"#fdca26\"], [1.0, \"#f0f921\"]], \"type\": \"heatmap\"}], \"heatmapgl\": [{\"colorbar\": {\"outlinewidth\": 0, \"ticks\": \"\"}, \"colorscale\": [[0.0, \"#0d0887\"], [0.1111111111111111, \"#46039f\"], [0.2222222222222222, \"#7201a8\"], [0.3333333333333333, \"#9c179e\"], [0.4444444444444444, \"#bd3786\"], [0.5555555555555556, \"#d8576b\"], [0.6666666666666666, \"#ed7953\"], [0.7777777777777778, \"#fb9f3a\"], [0.8888888888888888, \"#fdca26\"], [1.0, \"#f0f921\"]], \"type\": \"heatmapgl\"}], \"histogram\": [{\"marker\": {\"colorbar\": {\"outlinewidth\": 0, \"ticks\": \"\"}}, \"type\": \"histogram\"}], \"histogram2d\": [{\"colorbar\": {\"outlinewidth\": 0, \"ticks\": \"\"}, \"colorscale\": [[0.0, \"#0d0887\"], [0.1111111111111111, \"#46039f\"], [0.2222222222222222, \"#7201a8\"], [0.3333333333333333, \"#9c179e\"], [0.4444444444444444, \"#bd3786\"], [0.5555555555555556, \"#d8576b\"], [0.6666666666666666, \"#ed7953\"], [0.7777777777777778, \"#fb9f3a\"], [0.8888888888888888, \"#fdca26\"], [1.0, \"#f0f921\"]], \"type\": \"histogram2d\"}], \"histogram2dcontour\": [{\"colorbar\": {\"outlinewidth\": 0, \"ticks\": \"\"}, \"colorscale\": [[0.0, \"#0d0887\"], [0.1111111111111111, \"#46039f\"], [0.2222222222222222, \"#7201a8\"], [0.3333333333333333, \"#9c179e\"], [0.4444444444444444, \"#bd3786\"], [0.5555555555555556, \"#d8576b\"], [0.6666666666666666, \"#ed7953\"], [0.7777777777777778, \"#fb9f3a\"], [0.8888888888888888, \"#fdca26\"], [1.0, \"#f0f921\"]], \"type\": \"histogram2dcontour\"}], \"mesh3d\": [{\"colorbar\": {\"outlinewidth\": 0, \"ticks\": \"\"}, \"type\": \"mesh3d\"}], \"parcoords\": [{\"line\": {\"colorbar\": {\"outlinewidth\": 0, \"ticks\": \"\"}}, \"type\": \"parcoords\"}], \"pie\": [{\"automargin\": true, \"type\": \"pie\"}], \"scatter\": [{\"marker\": {\"line\": {\"color\": \"#283442\"}}, \"type\": \"scatter\"}], \"scatter3d\": [{\"line\": {\"colorbar\": {\"outlinewidth\": 0, \"ticks\": \"\"}}, \"marker\": {\"colorbar\": {\"outlinewidth\": 0, \"ticks\": \"\"}}, \"type\": \"scatter3d\"}], \"scattercarpet\": [{\"marker\": {\"colorbar\": {\"outlinewidth\": 0, \"ticks\": \"\"}}, \"type\": \"scattercarpet\"}], \"scattergeo\": [{\"marker\": {\"colorbar\": {\"outlinewidth\": 0, \"ticks\": \"\"}}, \"type\": \"scattergeo\"}], \"scattergl\": [{\"marker\": {\"line\": {\"color\": \"#283442\"}}, \"type\": \"scattergl\"}], \"scattermapbox\": [{\"marker\": {\"colorbar\": {\"outlinewidth\": 0, \"ticks\": \"\"}}, \"type\": \"scattermapbox\"}], \"scatterpolar\": [{\"marker\": {\"colorbar\": {\"outlinewidth\": 0, \"ticks\": \"\"}}, \"type\": \"scatterpolar\"}], \"scatterpolargl\": [{\"marker\": {\"colorbar\": {\"outlinewidth\": 0, \"ticks\": \"\"}}, \"type\": \"scatterpolargl\"}], \"scatterternary\": [{\"marker\": {\"colorbar\": {\"outlinewidth\": 0, \"ticks\": \"\"}}, \"type\": \"scatterternary\"}], \"surface\": [{\"colorbar\": {\"outlinewidth\": 0, \"ticks\": \"\"}, \"colorscale\": [[0.0, \"#0d0887\"], [0.1111111111111111, \"#46039f\"], [0.2222222222222222, \"#7201a8\"], [0.3333333333333333, \"#9c179e\"], [0.4444444444444444, \"#bd3786\"], [0.5555555555555556, \"#d8576b\"], [0.6666666666666666, \"#ed7953\"], [0.7777777777777778, \"#fb9f3a\"], [0.8888888888888888, \"#fdca26\"], [1.0, \"#f0f921\"]], \"type\": \"surface\"}], \"table\": [{\"cells\": {\"fill\": {\"color\": \"#506784\"}, \"line\": {\"color\": \"rgb(17,17,17)\"}}, \"header\": {\"fill\": {\"color\": \"#2a3f5f\"}, \"line\": {\"color\": \"rgb(17,17,17)\"}}, \"type\": \"table\"}]}, \"layout\": {\"annotationdefaults\": {\"arrowcolor\": \"#f2f5fa\", \"arrowhead\": 0, \"arrowwidth\": 1}, \"coloraxis\": {\"colorbar\": {\"outlinewidth\": 0, \"ticks\": \"\"}}, \"colorscale\": {\"diverging\": [[0, \"#8e0152\"], [0.1, \"#c51b7d\"], [0.2, \"#de77ae\"], [0.3, \"#f1b6da\"], [0.4, \"#fde0ef\"], [0.5, \"#f7f7f7\"], [0.6, \"#e6f5d0\"], [0.7, \"#b8e186\"], [0.8, \"#7fbc41\"], [0.9, \"#4d9221\"], [1, \"#276419\"]], \"sequential\": [[0.0, \"#0d0887\"], [0.1111111111111111, \"#46039f\"], [0.2222222222222222, \"#7201a8\"], [0.3333333333333333, \"#9c179e\"], [0.4444444444444444, \"#bd3786\"], [0.5555555555555556, \"#d8576b\"], [0.6666666666666666, \"#ed7953\"], [0.7777777777777778, \"#fb9f3a\"], [0.8888888888888888, \"#fdca26\"], [1.0, \"#f0f921\"]], \"sequentialminus\": [[0.0, \"#0d0887\"], [0.1111111111111111, \"#46039f\"], [0.2222222222222222, \"#7201a8\"], [0.3333333333333333, \"#9c179e\"], [0.4444444444444444, \"#bd3786\"], [0.5555555555555556, \"#d8576b\"], [0.6666666666666666, \"#ed7953\"], [0.7777777777777778, \"#fb9f3a\"], [0.8888888888888888, \"#fdca26\"], [1.0, \"#f0f921\"]]}, \"colorway\": [\"#636efa\", \"#EF553B\", \"#00cc96\", \"#ab63fa\", \"#FFA15A\", \"#19d3f3\", \"#FF6692\", \"#B6E880\", \"#FF97FF\", \"#FECB52\"], \"font\": {\"color\": \"#f2f5fa\"}, \"geo\": {\"bgcolor\": \"rgb(17,17,17)\", \"lakecolor\": \"rgb(17,17,17)\", \"landcolor\": \"rgb(17,17,17)\", \"showlakes\": true, \"showland\": true, \"subunitcolor\": \"#506784\"}, \"hoverlabel\": {\"align\": \"left\"}, \"hovermode\": \"closest\", \"mapbox\": {\"style\": \"dark\"}, \"paper_bgcolor\": \"rgb(17,17,17)\", \"plot_bgcolor\": \"rgb(17,17,17)\", \"polar\": {\"angularaxis\": {\"gridcolor\": \"#506784\", \"linecolor\": \"#506784\", \"ticks\": \"\"}, \"bgcolor\": \"rgb(17,17,17)\", \"radialaxis\": {\"gridcolor\": \"#506784\", \"linecolor\": \"#506784\", \"ticks\": \"\"}}, \"scene\": {\"xaxis\": {\"backgroundcolor\": \"rgb(17,17,17)\", \"gridcolor\": \"#506784\", \"gridwidth\": 2, \"linecolor\": \"#506784\", \"showbackground\": true, \"ticks\": \"\", \"zerolinecolor\": \"#C8D4E3\"}, \"yaxis\": {\"backgroundcolor\": \"rgb(17,17,17)\", \"gridcolor\": \"#506784\", \"gridwidth\": 2, \"linecolor\": \"#506784\", \"showbackground\": true, \"ticks\": \"\", \"zerolinecolor\": \"#C8D4E3\"}, \"zaxis\": {\"backgroundcolor\": \"rgb(17,17,17)\", \"gridcolor\": \"#506784\", \"gridwidth\": 2, \"linecolor\": \"#506784\", \"showbackground\": true, \"ticks\": \"\", \"zerolinecolor\": \"#C8D4E3\"}}, \"shapedefaults\": {\"line\": {\"color\": \"#f2f5fa\"}}, \"sliderdefaults\": {\"bgcolor\": \"#C8D4E3\", \"bordercolor\": \"rgb(17,17,17)\", \"borderwidth\": 1, \"tickwidth\": 0}, \"ternary\": {\"aaxis\": {\"gridcolor\": \"#506784\", \"linecolor\": \"#506784\", \"ticks\": \"\"}, \"baxis\": {\"gridcolor\": \"#506784\", \"linecolor\": \"#506784\", \"ticks\": \"\"}, \"bgcolor\": \"rgb(17,17,17)\", \"caxis\": {\"gridcolor\": \"#506784\", \"linecolor\": \"#506784\", \"ticks\": \"\"}}, \"title\": {\"x\": 0.05}, \"updatemenudefaults\": {\"bgcolor\": \"#506784\", \"borderwidth\": 0}, \"xaxis\": {\"automargin\": true, \"gridcolor\": \"#283442\", \"linecolor\": \"#506784\", \"ticks\": \"\", \"title\": {\"standoff\": 15}, \"zerolinecolor\": \"#283442\", \"zerolinewidth\": 2}, \"yaxis\": {\"automargin\": true, \"gridcolor\": \"#283442\", \"linecolor\": \"#506784\", \"ticks\": \"\", \"title\": {\"standoff\": 15}, \"zerolinecolor\": \"#283442\", \"zerolinewidth\": 2}}}, \"title\": {\"text\": \"Trend Analysis for Top 15 Clubs by Transfer Fee Over-Spending\"}, \"xaxis\": {\"linecolor\": \"white\", \"showgrid\": false, \"showline\": true, \"showticklabels\": true, \"tickfont\": {\"color\": \"white\", \"family\": \"Arial\", \"size\": 10}, \"title\": {\"font\": {\"color\": \"white\", \"family\": \"Arial, monospace\", \"size\": 14}, \"text\": \"Year\"}, \"zeroline\": false}, \"yaxis\": {\"linecolor\": \"white\", \"showgrid\": false, \"showline\": false, \"showticklabels\": true, \"tickfont\": {\"color\": \"white\", \"family\": \"Arial\", \"size\": 10}, \"title\": {\"font\": {\"color\": \"white\", \"family\": \"Arial, monospace\", \"size\": 14}, \"text\": \"Total Amount Over-Spent, in Euros\"}, \"zeroline\": true}},\n",
       "                        {\"responsive\": true}\n",
       "                    ).then(function(){\n",
       "                            \n",
       "var gd = document.getElementById('724a17ba-dacc-47a6-9a5e-87c58fba1885');\n",
       "var x = new MutationObserver(function (mutations, observer) {{\n",
       "        var display = window.getComputedStyle(gd).display;\n",
       "        if (!display || display === 'none') {{\n",
       "            console.log([gd, 'removed!']);\n",
       "            Plotly.purge(gd);\n",
       "            observer.disconnect();\n",
       "        }}\n",
       "}});\n",
       "\n",
       "// Listen for the removal of the full notebook cells\n",
       "var notebookContainer = gd.closest('#notebook-container');\n",
       "if (notebookContainer) {{\n",
       "    x.observe(notebookContainer, {childList: true});\n",
       "}}\n",
       "\n",
       "// Listen for the clearing of the current output cell\n",
       "var outputEl = gd.closest('.output');\n",
       "if (outputEl) {{\n",
       "    x.observe(outputEl, {childList: true});\n",
       "}}\n",
       "\n",
       "                        })\n",
       "                };\n",
       "                });\n",
       "            </script>\n",
       "        </div>"
      ]
     },
     "metadata": {},
     "output_type": "display_data"
    }
   ],
   "source": [
    "fig2b = px.line(Trends_Top_OverSpenders.reset_index(), \n",
    "                x=\"Year\", \n",
    "                y=\"Surplus/Deficit_y\",\n",
    "                color = \"Club Joined\",\n",
    "                color_discrete_sequence = px.colors.cyclical.Edge,\n",
    "                hover_name = \"Club Joined\", \n",
    "                title = 'Trend Analysis for Top 15 Clubs by Transfer Fee Over-Spending',\n",
    "                template = 'plotly_dark')\n",
    "\n",
    "fig2b.update_layout(\n",
    "    hoverlabel=dict(\n",
    "        bgcolor=\"black\",\n",
    "        font=dict(\n",
    "                family=\"Arial, monospace\",\n",
    "                size=14,\n",
    "                color=\"white\"\n",
    "            ),\n",
    "        bordercolor = \"black\"\n",
    "    ),\n",
    "    xaxis=go.layout.XAxis(\n",
    "        title=go.layout.xaxis.Title(\n",
    "            text=\"Year\",\n",
    "            font=dict(\n",
    "                family=\"Arial, monospace\",\n",
    "                size=14,\n",
    "                color=\"white\"\n",
    "            )\n",
    "        ),\n",
    "        showline = True,\n",
    "        linecolor = 'white',\n",
    "        showticklabels = True,\n",
    "        tickfont = dict(\n",
    "            family = 'Arial',\n",
    "            size = 10,\n",
    "            color = 'white'\n",
    "      )\n",
    "    ),\n",
    "    yaxis=go.layout.YAxis(\n",
    "        title=go.layout.yaxis.Title(\n",
    "            text=\"Total Amount Over-Spent, in Euros\",\n",
    "            font=dict(\n",
    "                family=\"Arial, monospace\",\n",
    "                size=14,\n",
    "                color=\"white\"\n",
    "            )\n",
    "        ),\n",
    "        showline = False,\n",
    "        linecolor = 'white',\n",
    "        showticklabels = True,\n",
    "        tickfont = dict(\n",
    "            family = 'Arial',\n",
    "            size = 10,\n",
    "            color = 'white'\n",
    "        )\n",
    "    )\n",
    ")\n",
    "\n",
    "fig2b.update_layout(\n",
    "    xaxis=dict(showgrid=False, zeroline=False),\n",
    "    yaxis=dict(showgrid=False, zeroline=True),\n",
    ")\n",
    "\n",
    "# plot(fig2b, filename = 'TrendsTop15OverSpenders.html')\n",
    "fig2b.show()"
   ]
  },
  {
   "cell_type": "markdown",
   "metadata": {},
   "source": [
    "<div class=\"alert alert-danger\" role=\"alert\">\n",
    "\n",
    "**Part 3: Analyzing the Biggest Under Spenders** <br><br>\n",
    "Under-Spenders are those who pay a Transfer Fee below that of the Market Valuation of the player. <br>\n",
    "Firstly, we aggregate the Surplus/Deficit incurred by each club between 2005-2019 and take the bottom 15 clubs from that list. These clubs are the Top 15 Under-Spenders in the world of football for the period 2005-2019. <br>\n",
    "Secondly, we create a DataFrame to analyze the yearly under-spending patterns for the Top 15 under-Spenders.\n",
    "</div>"
   ]
  },
  {
   "cell_type": "code",
   "execution_count": 13,
   "metadata": {},
   "outputs": [
    {
     "data": {
      "text/html": [
       "<div>\n",
       "<style scoped>\n",
       "    .dataframe tbody tr th:only-of-type {\n",
       "        vertical-align: middle;\n",
       "    }\n",
       "\n",
       "    .dataframe tbody tr th {\n",
       "        vertical-align: top;\n",
       "    }\n",
       "\n",
       "    .dataframe thead th {\n",
       "        text-align: right;\n",
       "    }\n",
       "</style>\n",
       "<table border=\"1\" class=\"dataframe\">\n",
       "  <thead>\n",
       "    <tr style=\"text-align: right;\">\n",
       "      <th></th>\n",
       "      <th>Club Joined</th>\n",
       "      <th>Surplus/Deficit</th>\n",
       "      <th>No. of Players Bought</th>\n",
       "      <th>Transfer</th>\n",
       "    </tr>\n",
       "  </thead>\n",
       "  <tbody>\n",
       "    <tr>\n",
       "      <td>0</td>\n",
       "      <td>Besiktas</td>\n",
       "      <td>-129775000.0</td>\n",
       "      <td>82</td>\n",
       "      <td>145750000.0</td>\n",
       "    </tr>\n",
       "    <tr>\n",
       "      <td>1</td>\n",
       "      <td>Galatasaray</td>\n",
       "      <td>-124379000.0</td>\n",
       "      <td>91</td>\n",
       "      <td>244371000.0</td>\n",
       "    </tr>\n",
       "    <tr>\n",
       "      <td>2</td>\n",
       "      <td>Trabzonspor</td>\n",
       "      <td>-116623000.0</td>\n",
       "      <td>103</td>\n",
       "      <td>110077000.0</td>\n",
       "    </tr>\n",
       "    <tr>\n",
       "      <td>3</td>\n",
       "      <td>Fenerbahce</td>\n",
       "      <td>-99833000.0</td>\n",
       "      <td>59</td>\n",
       "      <td>237567000.0</td>\n",
       "    </tr>\n",
       "    <tr>\n",
       "      <td>4</td>\n",
       "      <td>Flamengo</td>\n",
       "      <td>-77610000.0</td>\n",
       "      <td>41</td>\n",
       "      <td>98640000.0</td>\n",
       "    </tr>\n",
       "    <tr>\n",
       "      <td>5</td>\n",
       "      <td>Antalyaspor</td>\n",
       "      <td>-76733000.0</td>\n",
       "      <td>70</td>\n",
       "      <td>8917000.0</td>\n",
       "    </tr>\n",
       "    <tr>\n",
       "      <td>6</td>\n",
       "      <td>Konyaspor</td>\n",
       "      <td>-73990000.0</td>\n",
       "      <td>79</td>\n",
       "      <td>13285000.0</td>\n",
       "    </tr>\n",
       "    <tr>\n",
       "      <td>7</td>\n",
       "      <td>Ankaragücü</td>\n",
       "      <td>-71600000.0</td>\n",
       "      <td>98</td>\n",
       "      <td>3900000.0</td>\n",
       "    </tr>\n",
       "    <tr>\n",
       "      <td>8</td>\n",
       "      <td>QPR</td>\n",
       "      <td>-68070000.0</td>\n",
       "      <td>71</td>\n",
       "      <td>153480000.0</td>\n",
       "    </tr>\n",
       "    <tr>\n",
       "      <td>9</td>\n",
       "      <td>Hamburger SV</td>\n",
       "      <td>-67590000.0</td>\n",
       "      <td>55</td>\n",
       "      <td>220510000.0</td>\n",
       "    </tr>\n",
       "    <tr>\n",
       "      <td>10</td>\n",
       "      <td>Real Betis</td>\n",
       "      <td>-67200000.0</td>\n",
       "      <td>41</td>\n",
       "      <td>211100000.0</td>\n",
       "    </tr>\n",
       "    <tr>\n",
       "      <td>11</td>\n",
       "      <td>Basaksehir</td>\n",
       "      <td>-62785000.0</td>\n",
       "      <td>70</td>\n",
       "      <td>28525000.0</td>\n",
       "    </tr>\n",
       "    <tr>\n",
       "      <td>12</td>\n",
       "      <td>Corinthians</td>\n",
       "      <td>-62195000.0</td>\n",
       "      <td>68</td>\n",
       "      <td>139855000.0</td>\n",
       "    </tr>\n",
       "    <tr>\n",
       "      <td>13</td>\n",
       "      <td>Sivasspor</td>\n",
       "      <td>-61954000.0</td>\n",
       "      <td>66</td>\n",
       "      <td>10721000.0</td>\n",
       "    </tr>\n",
       "    <tr>\n",
       "      <td>14</td>\n",
       "      <td>C. Rizespor</td>\n",
       "      <td>-60875000.0</td>\n",
       "      <td>101</td>\n",
       "      <td>10030000.0</td>\n",
       "    </tr>\n",
       "  </tbody>\n",
       "</table>\n",
       "</div>"
      ],
      "text/plain": [
       "      Club Joined  Surplus/Deficit  No. of Players Bought     Transfer\n",
       "0       Besiktas      -129775000.0                     82  145750000.0\n",
       "1    Galatasaray      -124379000.0                     91  244371000.0\n",
       "2    Trabzonspor      -116623000.0                    103  110077000.0\n",
       "3     Fenerbahce       -99833000.0                     59  237567000.0\n",
       "4       Flamengo       -77610000.0                     41   98640000.0\n",
       "5    Antalyaspor       -76733000.0                     70    8917000.0\n",
       "6      Konyaspor       -73990000.0                     79   13285000.0\n",
       "7     Ankaragücü       -71600000.0                     98    3900000.0\n",
       "8            QPR       -68070000.0                     71  153480000.0\n",
       "9   Hamburger SV       -67590000.0                     55  220510000.0\n",
       "10    Real Betis       -67200000.0                     41  211100000.0\n",
       "11    Basaksehir       -62785000.0                     70   28525000.0\n",
       "12   Corinthians       -62195000.0                     68  139855000.0\n",
       "13     Sivasspor       -61954000.0                     66   10721000.0\n",
       "14   C. Rizespor       -60875000.0                    101   10030000.0"
      ]
     },
     "execution_count": 13,
     "metadata": {},
     "output_type": "execute_result"
    }
   ],
   "source": [
    "# Top 20 clubs by deficit (under spending)\n",
    "Top_UnderSpenders=Test_EDA.groupby(\"Club Joined\").agg({\"Surplus/Deficit\":\"sum\", 'Transfer':'count'})\n",
    "Top_UnderSpenders = Top_UnderSpenders.sort_values(by='Surplus/Deficit', ascending = True)\n",
    "Top_UnderSpenders.rename(columns={\"Transfer\": \"No. of Players Bought\"}, inplace=True)\n",
    "Top_UnderSpenders = Top_UnderSpenders[:15]\n",
    "\n",
    "\n",
    "Top_UnderSpenders_Spending = pd.merge(Top_UnderSpenders.reset_index(),Test_EDA.groupby(\"Club Joined\").agg({\"Transfer\":\"sum\"}),\n",
    "                    how='inner',\n",
    "                    on = 'Club Joined')\n",
    "\n",
    "Top_UnderSpenders_EDA = pd.merge(Top_UnderSpenders.reset_index(),Test_EDA.reset_index(),\n",
    "                    how='inner',\n",
    "                    on = 'Club Joined')\n",
    "Trends_Top_UnderSpenders = Top_UnderSpenders_EDA.groupby(['Club Joined', 'Year']).agg({'Surplus/Deficit_x':'sum'})\n",
    "\n",
    "\n",
    "Trends_Top_UnderSpenders\n",
    "Top_UnderSpenders_Spending"
   ]
  },
  {
   "cell_type": "markdown",
   "metadata": {},
   "source": [
    "<div class=\"alert alert-warning\" role=\"alert\">\n",
    "\n",
    "**Method** <br>\n",
    "In following graph, we analyze the aggregate transfer Fee under-spending by the Top 15 Transfer Fee Under-Spenders for the period 2005-2019. At the same time, we check the Total Transfer Fee these clubs incurred in making this Under-Spending Gain for the period 2005-2019.\n",
    "</div>"
   ]
  },
  {
   "cell_type": "markdown",
   "metadata": {},
   "source": [
    "<div class=\"alert alert-success\" role=\"alert\">\n",
    "\n",
    "**Inference**<br>\n",
    "We see evidence of some unanticipated results in the following graphs. Many turkish and middle eastern clubs are able to get hugely favourable deals as they often buy players, who are without agents and from weaker clubs, showing immense potential and footballers. This highlights the importance of strong connections with grassroot clubs in Transfer Market dealings.\n",
    "\n",
    "</div>    "
   ]
  },
  {
   "cell_type": "code",
   "execution_count": 16,
   "metadata": {},
   "outputs": [
    {
     "data": {
      "application/vnd.plotly.v1+json": {
       "config": {
        "plotlyServerURL": "https://plot.ly"
       },
       "data": [
        {
         "alignmentgroup": "True",
         "hoverlabel": {
          "namelength": 0
         },
         "hovertemplate": "<b>%{hovertext}</b><br><br>Club Joined=%{x}<br>Surplus/Deficit=%{y}<br>Transfer=%{marker.color}",
         "hovertext": [
          "Besiktas ",
          "Galatasaray ",
          "Trabzonspor ",
          "Fenerbahce ",
          "Flamengo ",
          "Antalyaspor ",
          "Konyaspor ",
          "Ankaragücü ",
          "QPR ",
          "Hamburger SV ",
          "Real Betis ",
          "Basaksehir ",
          "Corinthians ",
          "Sivasspor ",
          "C. Rizespor "
         ],
         "legendgroup": "",
         "marker": {
          "color": [
           145750000,
           244371000,
           110077000,
           237567000,
           98640000,
           8917000,
           13285000,
           3900000,
           153480000,
           220510000,
           211100000,
           28525000,
           139855000,
           10721000,
           10030000
          ],
          "coloraxis": "coloraxis"
         },
         "name": "",
         "offsetgroup": "",
         "orientation": "v",
         "showlegend": false,
         "textposition": "auto",
         "type": "bar",
         "x": [
          "Besiktas ",
          "Galatasaray ",
          "Trabzonspor ",
          "Fenerbahce ",
          "Flamengo ",
          "Antalyaspor ",
          "Konyaspor ",
          "Ankaragücü ",
          "QPR ",
          "Hamburger SV ",
          "Real Betis ",
          "Basaksehir ",
          "Corinthians ",
          "Sivasspor ",
          "C. Rizespor "
         ],
         "xaxis": "x",
         "y": [
          -129775000,
          -124379000,
          -116623000,
          -99833000,
          -77610000,
          -76733000,
          -73990000,
          -71600000,
          -68070000,
          -67590000,
          -67200000,
          -62785000,
          -62195000,
          -61954000,
          -60875000
         ],
         "yaxis": "y"
        },
        {
         "hovertemplate": "Club: %{x}<br>Number of Transfers: %{y:,.0f}",
         "line": {
          "width": 3
         },
         "marker": {
          "color": "rgb(237,239,93)"
         },
         "name": "Number of Transfers",
         "text": [
          82,
          91,
          103,
          59,
          41,
          70,
          79,
          98,
          71,
          55,
          41,
          70,
          68,
          66,
          101
         ],
         "type": "scatter",
         "x": [
          "Besiktas ",
          "Galatasaray ",
          "Trabzonspor ",
          "Fenerbahce ",
          "Flamengo ",
          "Antalyaspor ",
          "Konyaspor ",
          "Ankaragücü ",
          "QPR ",
          "Hamburger SV ",
          "Real Betis ",
          "Basaksehir ",
          "Corinthians ",
          "Sivasspor ",
          "C. Rizespor "
         ],
         "y": [
          82,
          91,
          103,
          59,
          41,
          70,
          79,
          98,
          71,
          55,
          41,
          70,
          68,
          66,
          101
         ],
         "yaxis": "y2"
        }
       ],
       "layout": {
        "barmode": "relative",
        "coloraxis": {
         "colorbar": {
          "title": {
           "text": "Transfer"
          }
         },
         "colorscale": [
          [
           0,
           "rgb(247,251,255)"
          ],
          [
           0.125,
           "rgb(222,235,247)"
          ],
          [
           0.25,
           "rgb(198,219,239)"
          ],
          [
           0.375,
           "rgb(158,202,225)"
          ],
          [
           0.5,
           "rgb(107,174,214)"
          ],
          [
           0.625,
           "rgb(66,146,198)"
          ],
          [
           0.75,
           "rgb(33,113,181)"
          ],
          [
           0.875,
           "rgb(8,81,156)"
          ],
          [
           1,
           "rgb(8,48,107)"
          ]
         ]
        },
        "font": {
         "color": "white",
         "family": "Arial, monospace",
         "size": 10
        },
        "hoverlabel": {
         "bgcolor": "black",
         "bordercolor": "black",
         "font": {
          "color": "white",
          "family": "Arial, monospace",
          "size": 14
         }
        },
        "legend": {
         "tracegroupgap": 0,
         "x": 0.8,
         "y": 1.1
        },
        "template": {
         "data": {
          "bar": [
           {
            "error_x": {
             "color": "#f2f5fa"
            },
            "error_y": {
             "color": "#f2f5fa"
            },
            "marker": {
             "line": {
              "color": "rgb(17,17,17)",
              "width": 0.5
             }
            },
            "type": "bar"
           }
          ],
          "barpolar": [
           {
            "marker": {
             "line": {
              "color": "rgb(17,17,17)",
              "width": 0.5
             }
            },
            "type": "barpolar"
           }
          ],
          "carpet": [
           {
            "aaxis": {
             "endlinecolor": "#A2B1C6",
             "gridcolor": "#506784",
             "linecolor": "#506784",
             "minorgridcolor": "#506784",
             "startlinecolor": "#A2B1C6"
            },
            "baxis": {
             "endlinecolor": "#A2B1C6",
             "gridcolor": "#506784",
             "linecolor": "#506784",
             "minorgridcolor": "#506784",
             "startlinecolor": "#A2B1C6"
            },
            "type": "carpet"
           }
          ],
          "choropleth": [
           {
            "colorbar": {
             "outlinewidth": 0,
             "ticks": ""
            },
            "type": "choropleth"
           }
          ],
          "contour": [
           {
            "colorbar": {
             "outlinewidth": 0,
             "ticks": ""
            },
            "colorscale": [
             [
              0,
              "#0d0887"
             ],
             [
              0.1111111111111111,
              "#46039f"
             ],
             [
              0.2222222222222222,
              "#7201a8"
             ],
             [
              0.3333333333333333,
              "#9c179e"
             ],
             [
              0.4444444444444444,
              "#bd3786"
             ],
             [
              0.5555555555555556,
              "#d8576b"
             ],
             [
              0.6666666666666666,
              "#ed7953"
             ],
             [
              0.7777777777777778,
              "#fb9f3a"
             ],
             [
              0.8888888888888888,
              "#fdca26"
             ],
             [
              1,
              "#f0f921"
             ]
            ],
            "type": "contour"
           }
          ],
          "contourcarpet": [
           {
            "colorbar": {
             "outlinewidth": 0,
             "ticks": ""
            },
            "type": "contourcarpet"
           }
          ],
          "heatmap": [
           {
            "colorbar": {
             "outlinewidth": 0,
             "ticks": ""
            },
            "colorscale": [
             [
              0,
              "#0d0887"
             ],
             [
              0.1111111111111111,
              "#46039f"
             ],
             [
              0.2222222222222222,
              "#7201a8"
             ],
             [
              0.3333333333333333,
              "#9c179e"
             ],
             [
              0.4444444444444444,
              "#bd3786"
             ],
             [
              0.5555555555555556,
              "#d8576b"
             ],
             [
              0.6666666666666666,
              "#ed7953"
             ],
             [
              0.7777777777777778,
              "#fb9f3a"
             ],
             [
              0.8888888888888888,
              "#fdca26"
             ],
             [
              1,
              "#f0f921"
             ]
            ],
            "type": "heatmap"
           }
          ],
          "heatmapgl": [
           {
            "colorbar": {
             "outlinewidth": 0,
             "ticks": ""
            },
            "colorscale": [
             [
              0,
              "#0d0887"
             ],
             [
              0.1111111111111111,
              "#46039f"
             ],
             [
              0.2222222222222222,
              "#7201a8"
             ],
             [
              0.3333333333333333,
              "#9c179e"
             ],
             [
              0.4444444444444444,
              "#bd3786"
             ],
             [
              0.5555555555555556,
              "#d8576b"
             ],
             [
              0.6666666666666666,
              "#ed7953"
             ],
             [
              0.7777777777777778,
              "#fb9f3a"
             ],
             [
              0.8888888888888888,
              "#fdca26"
             ],
             [
              1,
              "#f0f921"
             ]
            ],
            "type": "heatmapgl"
           }
          ],
          "histogram": [
           {
            "marker": {
             "colorbar": {
              "outlinewidth": 0,
              "ticks": ""
             }
            },
            "type": "histogram"
           }
          ],
          "histogram2d": [
           {
            "colorbar": {
             "outlinewidth": 0,
             "ticks": ""
            },
            "colorscale": [
             [
              0,
              "#0d0887"
             ],
             [
              0.1111111111111111,
              "#46039f"
             ],
             [
              0.2222222222222222,
              "#7201a8"
             ],
             [
              0.3333333333333333,
              "#9c179e"
             ],
             [
              0.4444444444444444,
              "#bd3786"
             ],
             [
              0.5555555555555556,
              "#d8576b"
             ],
             [
              0.6666666666666666,
              "#ed7953"
             ],
             [
              0.7777777777777778,
              "#fb9f3a"
             ],
             [
              0.8888888888888888,
              "#fdca26"
             ],
             [
              1,
              "#f0f921"
             ]
            ],
            "type": "histogram2d"
           }
          ],
          "histogram2dcontour": [
           {
            "colorbar": {
             "outlinewidth": 0,
             "ticks": ""
            },
            "colorscale": [
             [
              0,
              "#0d0887"
             ],
             [
              0.1111111111111111,
              "#46039f"
             ],
             [
              0.2222222222222222,
              "#7201a8"
             ],
             [
              0.3333333333333333,
              "#9c179e"
             ],
             [
              0.4444444444444444,
              "#bd3786"
             ],
             [
              0.5555555555555556,
              "#d8576b"
             ],
             [
              0.6666666666666666,
              "#ed7953"
             ],
             [
              0.7777777777777778,
              "#fb9f3a"
             ],
             [
              0.8888888888888888,
              "#fdca26"
             ],
             [
              1,
              "#f0f921"
             ]
            ],
            "type": "histogram2dcontour"
           }
          ],
          "mesh3d": [
           {
            "colorbar": {
             "outlinewidth": 0,
             "ticks": ""
            },
            "type": "mesh3d"
           }
          ],
          "parcoords": [
           {
            "line": {
             "colorbar": {
              "outlinewidth": 0,
              "ticks": ""
             }
            },
            "type": "parcoords"
           }
          ],
          "pie": [
           {
            "automargin": true,
            "type": "pie"
           }
          ],
          "scatter": [
           {
            "marker": {
             "line": {
              "color": "#283442"
             }
            },
            "type": "scatter"
           }
          ],
          "scatter3d": [
           {
            "line": {
             "colorbar": {
              "outlinewidth": 0,
              "ticks": ""
             }
            },
            "marker": {
             "colorbar": {
              "outlinewidth": 0,
              "ticks": ""
             }
            },
            "type": "scatter3d"
           }
          ],
          "scattercarpet": [
           {
            "marker": {
             "colorbar": {
              "outlinewidth": 0,
              "ticks": ""
             }
            },
            "type": "scattercarpet"
           }
          ],
          "scattergeo": [
           {
            "marker": {
             "colorbar": {
              "outlinewidth": 0,
              "ticks": ""
             }
            },
            "type": "scattergeo"
           }
          ],
          "scattergl": [
           {
            "marker": {
             "line": {
              "color": "#283442"
             }
            },
            "type": "scattergl"
           }
          ],
          "scattermapbox": [
           {
            "marker": {
             "colorbar": {
              "outlinewidth": 0,
              "ticks": ""
             }
            },
            "type": "scattermapbox"
           }
          ],
          "scatterpolar": [
           {
            "marker": {
             "colorbar": {
              "outlinewidth": 0,
              "ticks": ""
             }
            },
            "type": "scatterpolar"
           }
          ],
          "scatterpolargl": [
           {
            "marker": {
             "colorbar": {
              "outlinewidth": 0,
              "ticks": ""
             }
            },
            "type": "scatterpolargl"
           }
          ],
          "scatterternary": [
           {
            "marker": {
             "colorbar": {
              "outlinewidth": 0,
              "ticks": ""
             }
            },
            "type": "scatterternary"
           }
          ],
          "surface": [
           {
            "colorbar": {
             "outlinewidth": 0,
             "ticks": ""
            },
            "colorscale": [
             [
              0,
              "#0d0887"
             ],
             [
              0.1111111111111111,
              "#46039f"
             ],
             [
              0.2222222222222222,
              "#7201a8"
             ],
             [
              0.3333333333333333,
              "#9c179e"
             ],
             [
              0.4444444444444444,
              "#bd3786"
             ],
             [
              0.5555555555555556,
              "#d8576b"
             ],
             [
              0.6666666666666666,
              "#ed7953"
             ],
             [
              0.7777777777777778,
              "#fb9f3a"
             ],
             [
              0.8888888888888888,
              "#fdca26"
             ],
             [
              1,
              "#f0f921"
             ]
            ],
            "type": "surface"
           }
          ],
          "table": [
           {
            "cells": {
             "fill": {
              "color": "#506784"
             },
             "line": {
              "color": "rgb(17,17,17)"
             }
            },
            "header": {
             "fill": {
              "color": "#2a3f5f"
             },
             "line": {
              "color": "rgb(17,17,17)"
             }
            },
            "type": "table"
           }
          ]
         },
         "layout": {
          "annotationdefaults": {
           "arrowcolor": "#f2f5fa",
           "arrowhead": 0,
           "arrowwidth": 1
          },
          "coloraxis": {
           "colorbar": {
            "outlinewidth": 0,
            "ticks": ""
           }
          },
          "colorscale": {
           "diverging": [
            [
             0,
             "#8e0152"
            ],
            [
             0.1,
             "#c51b7d"
            ],
            [
             0.2,
             "#de77ae"
            ],
            [
             0.3,
             "#f1b6da"
            ],
            [
             0.4,
             "#fde0ef"
            ],
            [
             0.5,
             "#f7f7f7"
            ],
            [
             0.6,
             "#e6f5d0"
            ],
            [
             0.7,
             "#b8e186"
            ],
            [
             0.8,
             "#7fbc41"
            ],
            [
             0.9,
             "#4d9221"
            ],
            [
             1,
             "#276419"
            ]
           ],
           "sequential": [
            [
             0,
             "#0d0887"
            ],
            [
             0.1111111111111111,
             "#46039f"
            ],
            [
             0.2222222222222222,
             "#7201a8"
            ],
            [
             0.3333333333333333,
             "#9c179e"
            ],
            [
             0.4444444444444444,
             "#bd3786"
            ],
            [
             0.5555555555555556,
             "#d8576b"
            ],
            [
             0.6666666666666666,
             "#ed7953"
            ],
            [
             0.7777777777777778,
             "#fb9f3a"
            ],
            [
             0.8888888888888888,
             "#fdca26"
            ],
            [
             1,
             "#f0f921"
            ]
           ],
           "sequentialminus": [
            [
             0,
             "#0d0887"
            ],
            [
             0.1111111111111111,
             "#46039f"
            ],
            [
             0.2222222222222222,
             "#7201a8"
            ],
            [
             0.3333333333333333,
             "#9c179e"
            ],
            [
             0.4444444444444444,
             "#bd3786"
            ],
            [
             0.5555555555555556,
             "#d8576b"
            ],
            [
             0.6666666666666666,
             "#ed7953"
            ],
            [
             0.7777777777777778,
             "#fb9f3a"
            ],
            [
             0.8888888888888888,
             "#fdca26"
            ],
            [
             1,
             "#f0f921"
            ]
           ]
          },
          "colorway": [
           "#636efa",
           "#EF553B",
           "#00cc96",
           "#ab63fa",
           "#FFA15A",
           "#19d3f3",
           "#FF6692",
           "#B6E880",
           "#FF97FF",
           "#FECB52"
          ],
          "font": {
           "color": "#f2f5fa"
          },
          "geo": {
           "bgcolor": "rgb(17,17,17)",
           "lakecolor": "rgb(17,17,17)",
           "landcolor": "rgb(17,17,17)",
           "showlakes": true,
           "showland": true,
           "subunitcolor": "#506784"
          },
          "hoverlabel": {
           "align": "left"
          },
          "hovermode": "closest",
          "mapbox": {
           "style": "dark"
          },
          "paper_bgcolor": "rgb(17,17,17)",
          "plot_bgcolor": "rgb(17,17,17)",
          "polar": {
           "angularaxis": {
            "gridcolor": "#506784",
            "linecolor": "#506784",
            "ticks": ""
           },
           "bgcolor": "rgb(17,17,17)",
           "radialaxis": {
            "gridcolor": "#506784",
            "linecolor": "#506784",
            "ticks": ""
           }
          },
          "scene": {
           "xaxis": {
            "backgroundcolor": "rgb(17,17,17)",
            "gridcolor": "#506784",
            "gridwidth": 2,
            "linecolor": "#506784",
            "showbackground": true,
            "ticks": "",
            "zerolinecolor": "#C8D4E3"
           },
           "yaxis": {
            "backgroundcolor": "rgb(17,17,17)",
            "gridcolor": "#506784",
            "gridwidth": 2,
            "linecolor": "#506784",
            "showbackground": true,
            "ticks": "",
            "zerolinecolor": "#C8D4E3"
           },
           "zaxis": {
            "backgroundcolor": "rgb(17,17,17)",
            "gridcolor": "#506784",
            "gridwidth": 2,
            "linecolor": "#506784",
            "showbackground": true,
            "ticks": "",
            "zerolinecolor": "#C8D4E3"
           }
          },
          "shapedefaults": {
           "line": {
            "color": "#f2f5fa"
           }
          },
          "sliderdefaults": {
           "bgcolor": "#C8D4E3",
           "bordercolor": "rgb(17,17,17)",
           "borderwidth": 1,
           "tickwidth": 0
          },
          "ternary": {
           "aaxis": {
            "gridcolor": "#506784",
            "linecolor": "#506784",
            "ticks": ""
           },
           "baxis": {
            "gridcolor": "#506784",
            "linecolor": "#506784",
            "ticks": ""
           },
           "bgcolor": "rgb(17,17,17)",
           "caxis": {
            "gridcolor": "#506784",
            "linecolor": "#506784",
            "ticks": ""
           }
          },
          "title": {
           "x": 0.05
          },
          "updatemenudefaults": {
           "bgcolor": "#506784",
           "borderwidth": 0
          },
          "xaxis": {
           "automargin": true,
           "gridcolor": "#283442",
           "linecolor": "#506784",
           "ticks": "",
           "title": {
            "standoff": 15
           },
           "zerolinecolor": "#283442",
           "zerolinewidth": 2
          },
          "yaxis": {
           "automargin": true,
           "gridcolor": "#283442",
           "linecolor": "#506784",
           "ticks": "",
           "title": {
            "standoff": 15
           },
           "zerolinecolor": "#283442",
           "zerolinewidth": 2
          }
         }
        },
        "title": {
         "text": "Top 15 Clubs by Transfer Fee Under-Spending (2005-2019)"
        },
        "xaxis": {
         "linecolor": "white",
         "showgrid": false,
         "showline": true,
         "showticklabels": true,
         "tickfont": {
          "color": "white",
          "family": "Arial",
          "size": 10
         },
         "title": {
          "font": {
           "color": "white",
           "family": "Arial, monospace",
           "size": 14
          },
          "text": "Year"
         },
         "zeroline": false
        },
        "yaxis": {
         "linecolor": "white",
         "showgrid": false,
         "showline": false,
         "showticklabels": true,
         "tickfont": {
          "color": "white",
          "family": "Arial",
          "size": 10
         },
         "title": {
          "font": {
           "color": "white",
           "family": "Arial, monospace",
           "size": 14
          },
          "text": "Total Underspending, in Euros"
         },
         "zeroline": false
        },
        "yaxis2": {
         "overlaying": "y",
         "showgrid": false,
         "side": "right",
         "title": {
          "text": ""
         },
         "zeroline": false
        }
       }
      },
      "text/html": [
       "<div>\n",
       "        \n",
       "        \n",
       "            <div id=\"52224e55-6d32-4f8d-a426-9a83f5ea7cfb\" class=\"plotly-graph-div\" style=\"height:525px; width:100%;\"></div>\n",
       "            <script type=\"text/javascript\">\n",
       "                require([\"plotly\"], function(Plotly) {\n",
       "                    window.PLOTLYENV=window.PLOTLYENV || {};\n",
       "                    \n",
       "                if (document.getElementById(\"52224e55-6d32-4f8d-a426-9a83f5ea7cfb\")) {\n",
       "                    Plotly.newPlot(\n",
       "                        '52224e55-6d32-4f8d-a426-9a83f5ea7cfb',\n",
       "                        [{\"alignmentgroup\": \"True\", \"hoverlabel\": {\"namelength\": 0}, \"hovertemplate\": \"<b>%{hovertext}</b><br><br>Club Joined=%{x}<br>Surplus/Deficit=%{y}<br>Transfer=%{marker.color}\", \"hovertext\": [\"Besiktas \", \"Galatasaray \", \"Trabzonspor \", \"Fenerbahce \", \"Flamengo \", \"Antalyaspor \", \"Konyaspor \", \"Ankarag\\u00fcc\\u00fc \", \"QPR \", \"Hamburger SV \", \"Real Betis \", \"Basaksehir \", \"Corinthians \", \"Sivasspor \", \"C. Rizespor \"], \"legendgroup\": \"\", \"marker\": {\"color\": [145750000.0, 244371000.0, 110077000.0, 237567000.0, 98640000.0, 8917000.0, 13285000.0, 3900000.0, 153480000.0, 220510000.0, 211100000.0, 28525000.0, 139855000.0, 10721000.0, 10030000.0], \"coloraxis\": \"coloraxis\"}, \"name\": \"\", \"offsetgroup\": \"\", \"orientation\": \"v\", \"showlegend\": false, \"textposition\": \"auto\", \"type\": \"bar\", \"x\": [\"Besiktas \", \"Galatasaray \", \"Trabzonspor \", \"Fenerbahce \", \"Flamengo \", \"Antalyaspor \", \"Konyaspor \", \"Ankarag\\u00fcc\\u00fc \", \"QPR \", \"Hamburger SV \", \"Real Betis \", \"Basaksehir \", \"Corinthians \", \"Sivasspor \", \"C. Rizespor \"], \"xaxis\": \"x\", \"y\": [-129775000.0, -124379000.0, -116623000.0, -99833000.0, -77610000.0, -76733000.0, -73990000.0, -71600000.0, -68070000.0, -67590000.0, -67200000.0, -62785000.0, -62195000.0, -61954000.0, -60875000.0], \"yaxis\": \"y\"}, {\"hovertemplate\": \"Club: %{x}<br>Number of Transfers: %{y:,.0f}\", \"line\": {\"width\": 3}, \"marker\": {\"color\": \"rgb(237,239,93)\"}, \"name\": \"Number of Transfers\", \"text\": [82.0, 91.0, 103.0, 59.0, 41.0, 70.0, 79.0, 98.0, 71.0, 55.0, 41.0, 70.0, 68.0, 66.0, 101.0], \"type\": \"scatter\", \"x\": [\"Besiktas \", \"Galatasaray \", \"Trabzonspor \", \"Fenerbahce \", \"Flamengo \", \"Antalyaspor \", \"Konyaspor \", \"Ankarag\\u00fcc\\u00fc \", \"QPR \", \"Hamburger SV \", \"Real Betis \", \"Basaksehir \", \"Corinthians \", \"Sivasspor \", \"C. Rizespor \"], \"y\": [82, 91, 103, 59, 41, 70, 79, 98, 71, 55, 41, 70, 68, 66, 101], \"yaxis\": \"y2\"}],\n",
       "                        {\"barmode\": \"relative\", \"coloraxis\": {\"colorbar\": {\"title\": {\"text\": \"Transfer\"}}, \"colorscale\": [[0.0, \"rgb(247,251,255)\"], [0.125, \"rgb(222,235,247)\"], [0.25, \"rgb(198,219,239)\"], [0.375, \"rgb(158,202,225)\"], [0.5, \"rgb(107,174,214)\"], [0.625, \"rgb(66,146,198)\"], [0.75, \"rgb(33,113,181)\"], [0.875, \"rgb(8,81,156)\"], [1.0, \"rgb(8,48,107)\"]]}, \"font\": {\"color\": \"white\", \"family\": \"Arial, monospace\", \"size\": 10}, \"hoverlabel\": {\"bgcolor\": \"black\", \"bordercolor\": \"black\", \"font\": {\"color\": \"white\", \"family\": \"Arial, monospace\", \"size\": 14}}, \"legend\": {\"tracegroupgap\": 0, \"x\": 0.8, \"y\": 1.1}, \"template\": {\"data\": {\"bar\": [{\"error_x\": {\"color\": \"#f2f5fa\"}, \"error_y\": {\"color\": \"#f2f5fa\"}, \"marker\": {\"line\": {\"color\": \"rgb(17,17,17)\", \"width\": 0.5}}, \"type\": \"bar\"}], \"barpolar\": [{\"marker\": {\"line\": {\"color\": \"rgb(17,17,17)\", \"width\": 0.5}}, \"type\": \"barpolar\"}], \"carpet\": [{\"aaxis\": {\"endlinecolor\": \"#A2B1C6\", \"gridcolor\": \"#506784\", \"linecolor\": \"#506784\", \"minorgridcolor\": \"#506784\", \"startlinecolor\": \"#A2B1C6\"}, \"baxis\": {\"endlinecolor\": \"#A2B1C6\", \"gridcolor\": \"#506784\", \"linecolor\": \"#506784\", \"minorgridcolor\": \"#506784\", \"startlinecolor\": \"#A2B1C6\"}, \"type\": \"carpet\"}], \"choropleth\": [{\"colorbar\": {\"outlinewidth\": 0, \"ticks\": \"\"}, \"type\": \"choropleth\"}], \"contour\": [{\"colorbar\": {\"outlinewidth\": 0, \"ticks\": \"\"}, \"colorscale\": [[0.0, \"#0d0887\"], [0.1111111111111111, \"#46039f\"], [0.2222222222222222, \"#7201a8\"], [0.3333333333333333, \"#9c179e\"], [0.4444444444444444, \"#bd3786\"], [0.5555555555555556, \"#d8576b\"], [0.6666666666666666, \"#ed7953\"], [0.7777777777777778, \"#fb9f3a\"], [0.8888888888888888, \"#fdca26\"], [1.0, \"#f0f921\"]], \"type\": \"contour\"}], \"contourcarpet\": [{\"colorbar\": {\"outlinewidth\": 0, \"ticks\": \"\"}, \"type\": \"contourcarpet\"}], \"heatmap\": [{\"colorbar\": {\"outlinewidth\": 0, \"ticks\": \"\"}, \"colorscale\": [[0.0, \"#0d0887\"], [0.1111111111111111, \"#46039f\"], [0.2222222222222222, \"#7201a8\"], [0.3333333333333333, \"#9c179e\"], [0.4444444444444444, \"#bd3786\"], [0.5555555555555556, \"#d8576b\"], [0.6666666666666666, \"#ed7953\"], [0.7777777777777778, \"#fb9f3a\"], [0.8888888888888888, \"#fdca26\"], [1.0, \"#f0f921\"]], \"type\": \"heatmap\"}], \"heatmapgl\": [{\"colorbar\": {\"outlinewidth\": 0, \"ticks\": \"\"}, \"colorscale\": [[0.0, \"#0d0887\"], [0.1111111111111111, \"#46039f\"], [0.2222222222222222, \"#7201a8\"], [0.3333333333333333, \"#9c179e\"], [0.4444444444444444, \"#bd3786\"], [0.5555555555555556, \"#d8576b\"], [0.6666666666666666, \"#ed7953\"], [0.7777777777777778, \"#fb9f3a\"], [0.8888888888888888, \"#fdca26\"], [1.0, \"#f0f921\"]], \"type\": \"heatmapgl\"}], \"histogram\": [{\"marker\": {\"colorbar\": {\"outlinewidth\": 0, \"ticks\": \"\"}}, \"type\": \"histogram\"}], \"histogram2d\": [{\"colorbar\": {\"outlinewidth\": 0, \"ticks\": \"\"}, \"colorscale\": [[0.0, \"#0d0887\"], [0.1111111111111111, \"#46039f\"], [0.2222222222222222, \"#7201a8\"], [0.3333333333333333, \"#9c179e\"], [0.4444444444444444, \"#bd3786\"], [0.5555555555555556, \"#d8576b\"], [0.6666666666666666, \"#ed7953\"], [0.7777777777777778, \"#fb9f3a\"], [0.8888888888888888, \"#fdca26\"], [1.0, \"#f0f921\"]], \"type\": \"histogram2d\"}], \"histogram2dcontour\": [{\"colorbar\": {\"outlinewidth\": 0, \"ticks\": \"\"}, \"colorscale\": [[0.0, \"#0d0887\"], [0.1111111111111111, \"#46039f\"], [0.2222222222222222, \"#7201a8\"], [0.3333333333333333, \"#9c179e\"], [0.4444444444444444, \"#bd3786\"], [0.5555555555555556, \"#d8576b\"], [0.6666666666666666, \"#ed7953\"], [0.7777777777777778, \"#fb9f3a\"], [0.8888888888888888, \"#fdca26\"], [1.0, \"#f0f921\"]], \"type\": \"histogram2dcontour\"}], \"mesh3d\": [{\"colorbar\": {\"outlinewidth\": 0, \"ticks\": \"\"}, \"type\": \"mesh3d\"}], \"parcoords\": [{\"line\": {\"colorbar\": {\"outlinewidth\": 0, \"ticks\": \"\"}}, \"type\": \"parcoords\"}], \"pie\": [{\"automargin\": true, \"type\": \"pie\"}], \"scatter\": [{\"marker\": {\"line\": {\"color\": \"#283442\"}}, \"type\": \"scatter\"}], \"scatter3d\": [{\"line\": {\"colorbar\": {\"outlinewidth\": 0, \"ticks\": \"\"}}, \"marker\": {\"colorbar\": {\"outlinewidth\": 0, \"ticks\": \"\"}}, \"type\": \"scatter3d\"}], \"scattercarpet\": [{\"marker\": {\"colorbar\": {\"outlinewidth\": 0, \"ticks\": \"\"}}, \"type\": \"scattercarpet\"}], \"scattergeo\": [{\"marker\": {\"colorbar\": {\"outlinewidth\": 0, \"ticks\": \"\"}}, \"type\": \"scattergeo\"}], \"scattergl\": [{\"marker\": {\"line\": {\"color\": \"#283442\"}}, \"type\": \"scattergl\"}], \"scattermapbox\": [{\"marker\": {\"colorbar\": {\"outlinewidth\": 0, \"ticks\": \"\"}}, \"type\": \"scattermapbox\"}], \"scatterpolar\": [{\"marker\": {\"colorbar\": {\"outlinewidth\": 0, \"ticks\": \"\"}}, \"type\": \"scatterpolar\"}], \"scatterpolargl\": [{\"marker\": {\"colorbar\": {\"outlinewidth\": 0, \"ticks\": \"\"}}, \"type\": \"scatterpolargl\"}], \"scatterternary\": [{\"marker\": {\"colorbar\": {\"outlinewidth\": 0, \"ticks\": \"\"}}, \"type\": \"scatterternary\"}], \"surface\": [{\"colorbar\": {\"outlinewidth\": 0, \"ticks\": \"\"}, \"colorscale\": [[0.0, \"#0d0887\"], [0.1111111111111111, \"#46039f\"], [0.2222222222222222, \"#7201a8\"], [0.3333333333333333, \"#9c179e\"], [0.4444444444444444, \"#bd3786\"], [0.5555555555555556, \"#d8576b\"], [0.6666666666666666, \"#ed7953\"], [0.7777777777777778, \"#fb9f3a\"], [0.8888888888888888, \"#fdca26\"], [1.0, \"#f0f921\"]], \"type\": \"surface\"}], \"table\": [{\"cells\": {\"fill\": {\"color\": \"#506784\"}, \"line\": {\"color\": \"rgb(17,17,17)\"}}, \"header\": {\"fill\": {\"color\": \"#2a3f5f\"}, \"line\": {\"color\": \"rgb(17,17,17)\"}}, \"type\": \"table\"}]}, \"layout\": {\"annotationdefaults\": {\"arrowcolor\": \"#f2f5fa\", \"arrowhead\": 0, \"arrowwidth\": 1}, \"coloraxis\": {\"colorbar\": {\"outlinewidth\": 0, \"ticks\": \"\"}}, \"colorscale\": {\"diverging\": [[0, \"#8e0152\"], [0.1, \"#c51b7d\"], [0.2, \"#de77ae\"], [0.3, \"#f1b6da\"], [0.4, \"#fde0ef\"], [0.5, \"#f7f7f7\"], [0.6, \"#e6f5d0\"], [0.7, \"#b8e186\"], [0.8, \"#7fbc41\"], [0.9, \"#4d9221\"], [1, \"#276419\"]], \"sequential\": [[0.0, \"#0d0887\"], [0.1111111111111111, \"#46039f\"], [0.2222222222222222, \"#7201a8\"], [0.3333333333333333, \"#9c179e\"], [0.4444444444444444, \"#bd3786\"], [0.5555555555555556, \"#d8576b\"], [0.6666666666666666, \"#ed7953\"], [0.7777777777777778, \"#fb9f3a\"], [0.8888888888888888, \"#fdca26\"], [1.0, \"#f0f921\"]], \"sequentialminus\": [[0.0, \"#0d0887\"], [0.1111111111111111, \"#46039f\"], [0.2222222222222222, \"#7201a8\"], [0.3333333333333333, \"#9c179e\"], [0.4444444444444444, \"#bd3786\"], [0.5555555555555556, \"#d8576b\"], [0.6666666666666666, \"#ed7953\"], [0.7777777777777778, \"#fb9f3a\"], [0.8888888888888888, \"#fdca26\"], [1.0, \"#f0f921\"]]}, \"colorway\": [\"#636efa\", \"#EF553B\", \"#00cc96\", \"#ab63fa\", \"#FFA15A\", \"#19d3f3\", \"#FF6692\", \"#B6E880\", \"#FF97FF\", \"#FECB52\"], \"font\": {\"color\": \"#f2f5fa\"}, \"geo\": {\"bgcolor\": \"rgb(17,17,17)\", \"lakecolor\": \"rgb(17,17,17)\", \"landcolor\": \"rgb(17,17,17)\", \"showlakes\": true, \"showland\": true, \"subunitcolor\": \"#506784\"}, \"hoverlabel\": {\"align\": \"left\"}, \"hovermode\": \"closest\", \"mapbox\": {\"style\": \"dark\"}, \"paper_bgcolor\": \"rgb(17,17,17)\", \"plot_bgcolor\": \"rgb(17,17,17)\", \"polar\": {\"angularaxis\": {\"gridcolor\": \"#506784\", \"linecolor\": \"#506784\", \"ticks\": \"\"}, \"bgcolor\": \"rgb(17,17,17)\", \"radialaxis\": {\"gridcolor\": \"#506784\", \"linecolor\": \"#506784\", \"ticks\": \"\"}}, \"scene\": {\"xaxis\": {\"backgroundcolor\": \"rgb(17,17,17)\", \"gridcolor\": \"#506784\", \"gridwidth\": 2, \"linecolor\": \"#506784\", \"showbackground\": true, \"ticks\": \"\", \"zerolinecolor\": \"#C8D4E3\"}, \"yaxis\": {\"backgroundcolor\": \"rgb(17,17,17)\", \"gridcolor\": \"#506784\", \"gridwidth\": 2, \"linecolor\": \"#506784\", \"showbackground\": true, \"ticks\": \"\", \"zerolinecolor\": \"#C8D4E3\"}, \"zaxis\": {\"backgroundcolor\": \"rgb(17,17,17)\", \"gridcolor\": \"#506784\", \"gridwidth\": 2, \"linecolor\": \"#506784\", \"showbackground\": true, \"ticks\": \"\", \"zerolinecolor\": \"#C8D4E3\"}}, \"shapedefaults\": {\"line\": {\"color\": \"#f2f5fa\"}}, \"sliderdefaults\": {\"bgcolor\": \"#C8D4E3\", \"bordercolor\": \"rgb(17,17,17)\", \"borderwidth\": 1, \"tickwidth\": 0}, \"ternary\": {\"aaxis\": {\"gridcolor\": \"#506784\", \"linecolor\": \"#506784\", \"ticks\": \"\"}, \"baxis\": {\"gridcolor\": \"#506784\", \"linecolor\": \"#506784\", \"ticks\": \"\"}, \"bgcolor\": \"rgb(17,17,17)\", \"caxis\": {\"gridcolor\": \"#506784\", \"linecolor\": \"#506784\", \"ticks\": \"\"}}, \"title\": {\"x\": 0.05}, \"updatemenudefaults\": {\"bgcolor\": \"#506784\", \"borderwidth\": 0}, \"xaxis\": {\"automargin\": true, \"gridcolor\": \"#283442\", \"linecolor\": \"#506784\", \"ticks\": \"\", \"title\": {\"standoff\": 15}, \"zerolinecolor\": \"#283442\", \"zerolinewidth\": 2}, \"yaxis\": {\"automargin\": true, \"gridcolor\": \"#283442\", \"linecolor\": \"#506784\", \"ticks\": \"\", \"title\": {\"standoff\": 15}, \"zerolinecolor\": \"#283442\", \"zerolinewidth\": 2}}}, \"title\": {\"text\": \"Top 15 Clubs by Transfer Fee Under-Spending (2005-2019)\"}, \"xaxis\": {\"linecolor\": \"white\", \"showgrid\": false, \"showline\": true, \"showticklabels\": true, \"tickfont\": {\"color\": \"white\", \"family\": \"Arial\", \"size\": 10}, \"title\": {\"font\": {\"color\": \"white\", \"family\": \"Arial, monospace\", \"size\": 14}, \"text\": \"Year\"}, \"zeroline\": false}, \"yaxis\": {\"linecolor\": \"white\", \"showgrid\": false, \"showline\": false, \"showticklabels\": true, \"tickfont\": {\"color\": \"white\", \"family\": \"Arial\", \"size\": 10}, \"title\": {\"font\": {\"color\": \"white\", \"family\": \"Arial, monospace\", \"size\": 14}, \"text\": \"Total Underspending, in Euros\"}, \"zeroline\": false}, \"yaxis2\": {\"overlaying\": \"y\", \"showgrid\": false, \"side\": \"right\", \"title\": {\"text\": \"\"}, \"zeroline\": false}},\n",
       "                        {\"responsive\": true}\n",
       "                    ).then(function(){\n",
       "                            \n",
       "var gd = document.getElementById('52224e55-6d32-4f8d-a426-9a83f5ea7cfb');\n",
       "var x = new MutationObserver(function (mutations, observer) {{\n",
       "        var display = window.getComputedStyle(gd).display;\n",
       "        if (!display || display === 'none') {{\n",
       "            console.log([gd, 'removed!']);\n",
       "            Plotly.purge(gd);\n",
       "            observer.disconnect();\n",
       "        }}\n",
       "}});\n",
       "\n",
       "// Listen for the removal of the full notebook cells\n",
       "var notebookContainer = gd.closest('#notebook-container');\n",
       "if (notebookContainer) {{\n",
       "    x.observe(notebookContainer, {childList: true});\n",
       "}}\n",
       "\n",
       "// Listen for the clearing of the current output cell\n",
       "var outputEl = gd.closest('.output');\n",
       "if (outputEl) {{\n",
       "    x.observe(outputEl, {childList: true});\n",
       "}}\n",
       "\n",
       "                        })\n",
       "                };\n",
       "                });\n",
       "            </script>\n",
       "        </div>"
      ]
     },
     "metadata": {},
     "output_type": "display_data"
    }
   ],
   "source": [
    "fig3a = px.bar(Top_UnderSpenders_Spending.reset_index(),\n",
    "               x = \"Club Joined\",\n",
    "               y = \"Surplus/Deficit\",\n",
    "               color = \"Transfer\",\n",
    "               color_continuous_scale = px.colors.sequential.Blues,\n",
    "               hover_name = \"Club Joined\",\n",
    "               title = 'Top 15 Clubs by Transfer Fee Under-Spending (2005-2019)',\n",
    "               template = 'plotly_dark')\n",
    "fig3a.add_trace(\n",
    "    go.Line(# interactive bar object\n",
    "                x = Top_UnderSpenders_Spending['Club Joined'],\n",
    "                y = Top_UnderSpenders_Spending['No. of Players Bought'],\n",
    "                name = \"Number of Transfers\",\n",
    "                marker = dict(color = 'rgb(237,239,93)'),\n",
    "                line = dict(width = 3),\n",
    "                text = Top_UnderSpenders_Spending['No. of Players Bought'],\n",
    "                hovertemplate =\n",
    "                \"Club: %{x}<br>\" +\n",
    "                \"Number of Transfers: %{y:,.0f}\",\n",
    "                yaxis='y2')\n",
    ")    \n",
    "\n",
    "fig3a.update_layout(\n",
    "    hoverlabel=dict(\n",
    "        bgcolor=\"black\",\n",
    "        font=dict(\n",
    "                family=\"Arial, monospace\",\n",
    "                size=14,\n",
    "                color=\"white\"\n",
    "            ),\n",
    "        bordercolor = \"black\"\n",
    "    ),\n",
    "    xaxis=go.layout.XAxis(\n",
    "        title=go.layout.xaxis.Title(\n",
    "            text=\"Year\",\n",
    "            font=dict(\n",
    "                family=\"Arial, monospace\",\n",
    "                size=14,\n",
    "                color=\"white\"\n",
    "            )\n",
    "        ),\n",
    "        showline = True,\n",
    "        linecolor = 'white',\n",
    "        showticklabels = True,\n",
    "        tickfont = dict(\n",
    "            family = 'Arial',\n",
    "            size = 10,\n",
    "            color = 'white'\n",
    "      )\n",
    "    ),\n",
    "    yaxis=go.layout.YAxis(\n",
    "        title=go.layout.yaxis.Title(\n",
    "            text=\"Total Underspending, in Euros\",\n",
    "            font=dict(\n",
    "                family=\"Arial, monospace\",\n",
    "                size=14,\n",
    "                color=\"white\"\n",
    "            )\n",
    "        ),\n",
    "        showline = False,\n",
    "        linecolor = 'white',\n",
    "        showticklabels = True,\n",
    "        tickfont = dict(\n",
    "            family = 'Arial',\n",
    "            size = 10,\n",
    "            color = 'white'\n",
    "        )\n",
    "    ),\n",
    "yaxis2=dict(title='',\n",
    "           overlaying='y',\n",
    "           side='right'),\n",
    "           font=dict(\n",
    "                family=\"Arial, monospace\",\n",
    "                size=10,\n",
    "                color=\"white\"\n",
    "            )\n",
    "                 )\n",
    "\n",
    "fig3a.update_layout(\n",
    "    legend=dict(\n",
    "        x=0.80,\n",
    "        y=1.1\n",
    "    )\n",
    ")\n",
    "\n",
    "fig3a.update_layout(\n",
    "    xaxis=dict(showgrid=False, zeroline=False),\n",
    "    yaxis=dict(showgrid=False, zeroline=False),\n",
    "    yaxis2=dict(showgrid=False, zeroline=False)\n",
    ")\n",
    "\n",
    "\n",
    "# plot(fig3a ,filename = 'Top15UnderSpenders.html')\n",
    "fig3a.show()"
   ]
  },
  {
   "cell_type": "markdown",
   "metadata": {},
   "source": [
    "<div class=\"alert alert-warning\" role=\"alert\">\n",
    "\n",
    "**Method** <br>\n",
    "In following graph, we analyze the yearly transfer Fee over-spending by the Top 15 Transfer Fee Under-Spenders for the period 2005-2019.\n",
    "</div>"
   ]
  },
  {
   "cell_type": "markdown",
   "metadata": {},
   "source": [
    "<div class=\"alert alert-success\" role=\"alert\">\n",
    "\n",
    "**Inference**<br>\n",
    "There are no noticable results in the following graph. The important information has been conveyed in the previous graph.\n",
    "\n",
    "</div>    "
   ]
  },
  {
   "cell_type": "code",
   "execution_count": 17,
   "metadata": {},
   "outputs": [
    {
     "data": {
      "application/vnd.plotly.v1+json": {
       "config": {
        "plotlyServerURL": "https://plot.ly"
       },
       "data": [
        {
         "hoverlabel": {
          "namelength": 0
         },
         "hovertemplate": "<b>%{hovertext}</b><br><br>Club Joined=Ankaragücü <br>Year=%{x}<br>Surplus/Deficit_x=%{y}",
         "hovertext": [
          "Ankaragücü ",
          "Ankaragücü ",
          "Ankaragücü ",
          "Ankaragücü ",
          "Ankaragücü ",
          "Ankaragücü ",
          "Ankaragücü ",
          "Ankaragücü ",
          "Ankaragücü ",
          "Ankaragücü ",
          "Ankaragücü ",
          "Ankaragücü ",
          "Ankaragücü ",
          "Ankaragücü "
         ],
         "legendgroup": "Ankaragücü ",
         "line": {
          "color": "#313131",
          "dash": "solid"
         },
         "mode": "lines",
         "name": "Ankaragücü ",
         "showlegend": true,
         "type": "scatter",
         "x": [
          2005,
          2006,
          2007,
          2008,
          2009,
          2010,
          2011,
          2013,
          2014,
          2015,
          2016,
          2017,
          2018,
          2019
         ],
         "xaxis": "x",
         "y": [
          -1217200000,
          -572800000,
          -644400000,
          -787600000,
          -1002400000,
          -930800000,
          -429600000,
          -286400000,
          -71600000,
          -286400000,
          -214800000,
          -143200000,
          -214800000,
          -214800000
         ],
         "yaxis": "y"
        },
        {
         "hoverlabel": {
          "namelength": 0
         },
         "hovertemplate": "<b>%{hovertext}</b><br><br>Club Joined=Antalyaspor <br>Year=%{x}<br>Surplus/Deficit_x=%{y}",
         "hovertext": [
          "Antalyaspor ",
          "Antalyaspor ",
          "Antalyaspor ",
          "Antalyaspor ",
          "Antalyaspor ",
          "Antalyaspor ",
          "Antalyaspor ",
          "Antalyaspor ",
          "Antalyaspor ",
          "Antalyaspor ",
          "Antalyaspor ",
          "Antalyaspor ",
          "Antalyaspor ",
          "Antalyaspor ",
          "Antalyaspor "
         ],
         "legendgroup": "Antalyaspor ",
         "line": {
          "color": "#3d019d",
          "dash": "solid"
         },
         "mode": "lines",
         "name": "Antalyaspor ",
         "showlegend": true,
         "type": "scatter",
         "x": [
          2005,
          2006,
          2007,
          2008,
          2009,
          2010,
          2011,
          2012,
          2013,
          2014,
          2015,
          2016,
          2017,
          2018,
          2019
         ],
         "xaxis": "x",
         "y": [
          -997529000,
          -306932000,
          -537131000,
          -690597000,
          -230199000,
          -230199000,
          -230199000,
          -230199000,
          -383665000,
          -153466000,
          -690597000,
          -306932000,
          -230199000,
          -76733000,
          -76733000
         ],
         "yaxis": "y"
        },
        {
         "hoverlabel": {
          "namelength": 0
         },
         "hovertemplate": "<b>%{hovertext}</b><br><br>Club Joined=Basaksehir <br>Year=%{x}<br>Surplus/Deficit_x=%{y}",
         "hovertext": [
          "Basaksehir ",
          "Basaksehir ",
          "Basaksehir ",
          "Basaksehir ",
          "Basaksehir ",
          "Basaksehir ",
          "Basaksehir ",
          "Basaksehir ",
          "Basaksehir ",
          "Basaksehir ",
          "Basaksehir ",
          "Basaksehir ",
          "Basaksehir ",
          "Basaksehir "
         ],
         "legendgroup": "Basaksehir ",
         "line": {
          "color": "#3810dc",
          "dash": "solid"
         },
         "mode": "lines",
         "name": "Basaksehir ",
         "showlegend": true,
         "type": "scatter",
         "x": [
          2005,
          2006,
          2007,
          2008,
          2009,
          2010,
          2011,
          2012,
          2013,
          2014,
          2015,
          2017,
          2018,
          2019
         ],
         "xaxis": "x",
         "y": [
          -376710000,
          -313925000,
          -313925000,
          -376710000,
          -376710000,
          -251140000,
          -251140000,
          -251140000,
          -251140000,
          -439495000,
          -125570000,
          -502280000,
          -62785000,
          -502280000
         ],
         "yaxis": "y"
        },
        {
         "hoverlabel": {
          "namelength": 0
         },
         "hovertemplate": "<b>%{hovertext}</b><br><br>Club Joined=Besiktas <br>Year=%{x}<br>Surplus/Deficit_x=%{y}",
         "hovertext": [
          "Besiktas ",
          "Besiktas ",
          "Besiktas ",
          "Besiktas ",
          "Besiktas ",
          "Besiktas ",
          "Besiktas ",
          "Besiktas ",
          "Besiktas ",
          "Besiktas ",
          "Besiktas ",
          "Besiktas ",
          "Besiktas ",
          "Besiktas ",
          "Besiktas "
         ],
         "legendgroup": "Besiktas ",
         "line": {
          "color": "#2d47f9",
          "dash": "solid"
         },
         "mode": "lines",
         "name": "Besiktas ",
         "showlegend": true,
         "type": "scatter",
         "x": [
          2005,
          2006,
          2007,
          2008,
          2009,
          2010,
          2011,
          2012,
          2013,
          2014,
          2015,
          2016,
          2017,
          2018,
          2019
         ],
         "xaxis": "x",
         "y": [
          -1427525000,
          -778650000,
          -519100000,
          -778650000,
          -1038200000,
          -519100000,
          -389325000,
          -389325000,
          -1167975000,
          -519100000,
          -648875000,
          -519100000,
          -519100000,
          -519100000,
          -908425000
         ],
         "yaxis": "y"
        },
        {
         "hoverlabel": {
          "namelength": 0
         },
         "hovertemplate": "<b>%{hovertext}</b><br><br>Club Joined=C. Rizespor <br>Year=%{x}<br>Surplus/Deficit_x=%{y}",
         "hovertext": [
          "C. Rizespor ",
          "C. Rizespor ",
          "C. Rizespor ",
          "C. Rizespor ",
          "C. Rizespor ",
          "C. Rizespor ",
          "C. Rizespor ",
          "C. Rizespor ",
          "C. Rizespor ",
          "C. Rizespor ",
          "C. Rizespor ",
          "C. Rizespor ",
          "C. Rizespor ",
          "C. Rizespor ",
          "C. Rizespor "
         ],
         "legendgroup": "C. Rizespor ",
         "line": {
          "color": "#2593ff",
          "dash": "solid"
         },
         "mode": "lines",
         "name": "C. Rizespor ",
         "showlegend": true,
         "type": "scatter",
         "x": [
          2005,
          2006,
          2007,
          2008,
          2009,
          2010,
          2011,
          2012,
          2013,
          2014,
          2015,
          2016,
          2017,
          2018,
          2019
         ],
         "xaxis": "x",
         "y": [
          -487000000,
          -426125000,
          -608750000,
          -1034875000,
          -487000000,
          -487000000,
          -304375000,
          -365250000,
          -547875000,
          -304375000,
          -243500000,
          -60875000,
          -60875000,
          -121750000,
          -608750000
         ],
         "yaxis": "y"
        },
        {
         "hoverlabel": {
          "namelength": 0
         },
         "hovertemplate": "<b>%{hovertext}</b><br><br>Club Joined=Corinthians <br>Year=%{x}<br>Surplus/Deficit_x=%{y}",
         "hovertext": [
          "Corinthians ",
          "Corinthians ",
          "Corinthians ",
          "Corinthians ",
          "Corinthians ",
          "Corinthians ",
          "Corinthians ",
          "Corinthians ",
          "Corinthians ",
          "Corinthians ",
          "Corinthians ",
          "Corinthians ",
          "Corinthians ",
          "Corinthians "
         ],
         "legendgroup": "Corinthians ",
         "line": {
          "color": "#2adef6",
          "dash": "solid"
         },
         "mode": "lines",
         "name": "Corinthians ",
         "showlegend": true,
         "type": "scatter",
         "x": [
          2005,
          2006,
          2008,
          2009,
          2010,
          2011,
          2012,
          2013,
          2014,
          2015,
          2016,
          2017,
          2018,
          2019
         ],
         "xaxis": "x",
         "y": [
          -248780000,
          -248780000,
          -124390000,
          -124390000,
          -186585000,
          -310975000,
          -373170000,
          -373170000,
          -248780000,
          -124390000,
          -621950000,
          -310975000,
          -497560000,
          -435365000
         ],
         "yaxis": "y"
        },
        {
         "hoverlabel": {
          "namelength": 0
         },
         "hovertemplate": "<b>%{hovertext}</b><br><br>Club Joined=Fenerbahce <br>Year=%{x}<br>Surplus/Deficit_x=%{y}",
         "hovertext": [
          "Fenerbahce ",
          "Fenerbahce ",
          "Fenerbahce ",
          "Fenerbahce ",
          "Fenerbahce ",
          "Fenerbahce ",
          "Fenerbahce ",
          "Fenerbahce ",
          "Fenerbahce ",
          "Fenerbahce ",
          "Fenerbahce ",
          "Fenerbahce ",
          "Fenerbahce ",
          "Fenerbahce ",
          "Fenerbahce "
         ],
         "legendgroup": "Fenerbahce ",
         "line": {
          "color": "#60fdfa",
          "dash": "solid"
         },
         "mode": "lines",
         "name": "Fenerbahce ",
         "showlegend": true,
         "type": "scatter",
         "x": [
          2005,
          2006,
          2007,
          2008,
          2009,
          2010,
          2011,
          2012,
          2013,
          2014,
          2015,
          2016,
          2017,
          2018,
          2019
         ],
         "xaxis": "x",
         "y": [
          -299499000,
          -199666000,
          -499165000,
          -199666000,
          -499165000,
          -399332000,
          -199666000,
          -598998000,
          -399332000,
          -99833000,
          -499165000,
          -99833000,
          -299499000,
          -598998000,
          -998330000
         ],
         "yaxis": "y"
        },
        {
         "hoverlabel": {
          "namelength": 0
         },
         "hovertemplate": "<b>%{hovertext}</b><br><br>Club Joined=Flamengo <br>Year=%{x}<br>Surplus/Deficit_x=%{y}",
         "hovertext": [
          "Flamengo ",
          "Flamengo ",
          "Flamengo ",
          "Flamengo ",
          "Flamengo ",
          "Flamengo ",
          "Flamengo ",
          "Flamengo ",
          "Flamengo ",
          "Flamengo ",
          "Flamengo ",
          "Flamengo ",
          "Flamengo "
         ],
         "legendgroup": "Flamengo ",
         "line": {
          "color": "#aefdff",
          "dash": "solid"
         },
         "mode": "lines",
         "name": "Flamengo ",
         "showlegend": true,
         "type": "scatter",
         "x": [
          2006,
          2007,
          2009,
          2010,
          2011,
          2012,
          2013,
          2014,
          2015,
          2016,
          2017,
          2018,
          2019
         ],
         "xaxis": "x",
         "y": [
          -77610000,
          -77610000,
          -77610000,
          -77610000,
          -155220000,
          -232830000,
          -77610000,
          -388050000,
          -465660000,
          -465660000,
          -388050000,
          -232830000,
          -465660000
         ],
         "yaxis": "y"
        },
        {
         "hoverlabel": {
          "namelength": 0
         },
         "hovertemplate": "<b>%{hovertext}</b><br><br>Club Joined=Galatasaray <br>Year=%{x}<br>Surplus/Deficit_x=%{y}",
         "hovertext": [
          "Galatasaray ",
          "Galatasaray ",
          "Galatasaray ",
          "Galatasaray ",
          "Galatasaray ",
          "Galatasaray ",
          "Galatasaray ",
          "Galatasaray ",
          "Galatasaray ",
          "Galatasaray ",
          "Galatasaray ",
          "Galatasaray ",
          "Galatasaray ",
          "Galatasaray ",
          "Galatasaray "
         ],
         "legendgroup": "Galatasaray ",
         "line": {
          "color": "#f3f3f1",
          "dash": "solid"
         },
         "mode": "lines",
         "name": "Galatasaray ",
         "showlegend": true,
         "type": "scatter",
         "x": [
          2005,
          2006,
          2007,
          2008,
          2009,
          2010,
          2011,
          2012,
          2013,
          2014,
          2015,
          2016,
          2017,
          2018,
          2019
         ],
         "xaxis": "x",
         "y": [
          -373137000,
          -497516000,
          -621895000,
          -870653000,
          -373137000,
          -995032000,
          -1368169000,
          -746274000,
          -746274000,
          -1616927000,
          -497516000,
          -621895000,
          -995032000,
          -621895000,
          -373137000
         ],
         "yaxis": "y"
        },
        {
         "hoverlabel": {
          "namelength": 0
         },
         "hovertemplate": "<b>%{hovertext}</b><br><br>Club Joined=Hamburger SV <br>Year=%{x}<br>Surplus/Deficit_x=%{y}",
         "hovertext": [
          "Hamburger SV ",
          "Hamburger SV ",
          "Hamburger SV ",
          "Hamburger SV ",
          "Hamburger SV ",
          "Hamburger SV ",
          "Hamburger SV ",
          "Hamburger SV ",
          "Hamburger SV ",
          "Hamburger SV ",
          "Hamburger SV ",
          "Hamburger SV ",
          "Hamburger SV ",
          "Hamburger SV "
         ],
         "legendgroup": "Hamburger SV ",
         "line": {
          "color": "#fffda9",
          "dash": "solid"
         },
         "mode": "lines",
         "name": "Hamburger SV ",
         "showlegend": true,
         "type": "scatter",
         "x": [
          2005,
          2006,
          2007,
          2008,
          2009,
          2010,
          2011,
          2012,
          2013,
          2014,
          2015,
          2016,
          2017,
          2019
         ],
         "xaxis": "x",
         "y": [
          -135180000,
          -405540000,
          -202770000,
          -337950000,
          -337950000,
          -337950000,
          -202770000,
          -337950000,
          -67590000,
          -337950000,
          -608310000,
          -202770000,
          -135180000,
          -67590000
         ],
         "yaxis": "y"
        },
        {
         "hoverlabel": {
          "namelength": 0
         },
         "hovertemplate": "<b>%{hovertext}</b><br><br>Club Joined=Konyaspor <br>Year=%{x}<br>Surplus/Deficit_x=%{y}",
         "hovertext": [
          "Konyaspor ",
          "Konyaspor ",
          "Konyaspor ",
          "Konyaspor ",
          "Konyaspor ",
          "Konyaspor ",
          "Konyaspor ",
          "Konyaspor ",
          "Konyaspor ",
          "Konyaspor ",
          "Konyaspor ",
          "Konyaspor ",
          "Konyaspor ",
          "Konyaspor ",
          "Konyaspor "
         ],
         "legendgroup": "Konyaspor ",
         "line": {
          "color": "#fafd5b",
          "dash": "solid"
         },
         "mode": "lines",
         "name": "Konyaspor ",
         "showlegend": true,
         "type": "scatter",
         "x": [
          2005,
          2006,
          2007,
          2008,
          2009,
          2010,
          2011,
          2012,
          2013,
          2014,
          2015,
          2016,
          2017,
          2018,
          2019
         ],
         "xaxis": "x",
         "y": [
          -221970000,
          -517930000,
          -147980000,
          -665910000,
          -1109850000,
          -517930000,
          -73990000,
          -147980000,
          -517930000,
          -221970000,
          -221970000,
          -369950000,
          -517930000,
          -295960000,
          -295960000
         ],
         "yaxis": "y"
        },
        {
         "hoverlabel": {
          "namelength": 0
         },
         "hovertemplate": "<b>%{hovertext}</b><br><br>Club Joined=QPR <br>Year=%{x}<br>Surplus/Deficit_x=%{y}",
         "hovertext": [
          "QPR ",
          "QPR ",
          "QPR ",
          "QPR ",
          "QPR ",
          "QPR ",
          "QPR ",
          "QPR ",
          "QPR ",
          "QPR ",
          "QPR ",
          "QPR ",
          "QPR ",
          "QPR "
         ],
         "legendgroup": "QPR ",
         "line": {
          "color": "#f7da29",
          "dash": "solid"
         },
         "mode": "lines",
         "name": "QPR ",
         "showlegend": true,
         "type": "scatter",
         "x": [
          2005,
          2006,
          2007,
          2008,
          2009,
          2010,
          2011,
          2012,
          2013,
          2014,
          2015,
          2016,
          2017,
          2019
         ],
         "xaxis": "x",
         "y": [
          -136140000,
          -136140000,
          -340350000,
          -544560000,
          -68070000,
          -272280000,
          -476490000,
          -612630000,
          -680700000,
          -544560000,
          -340350000,
          -272280000,
          -204210000,
          -204210000
         ],
         "yaxis": "y"
        },
        {
         "hoverlabel": {
          "namelength": 0
         },
         "hovertemplate": "<b>%{hovertext}</b><br><br>Club Joined=Real Betis <br>Year=%{x}<br>Surplus/Deficit_x=%{y}",
         "hovertext": [
          "Real Betis ",
          "Real Betis ",
          "Real Betis ",
          "Real Betis ",
          "Real Betis ",
          "Real Betis ",
          "Real Betis ",
          "Real Betis ",
          "Real Betis ",
          "Real Betis ",
          "Real Betis ",
          "Real Betis ",
          "Real Betis "
         ],
         "legendgroup": "Real Betis ",
         "line": {
          "color": "#ff8e25",
          "dash": "solid"
         },
         "mode": "lines",
         "name": "Real Betis ",
         "showlegend": true,
         "type": "scatter",
         "x": [
          2006,
          2007,
          2008,
          2009,
          2010,
          2012,
          2013,
          2014,
          2015,
          2016,
          2017,
          2018,
          2019
         ],
         "xaxis": "x",
         "y": [
          -201600000,
          -67200000,
          -268800000,
          -67200000,
          -134400000,
          -201600000,
          -268800000,
          -134400000,
          -336000000,
          -201600000,
          -336000000,
          -201600000,
          -336000000
         ],
         "yaxis": "y"
        },
        {
         "hoverlabel": {
          "namelength": 0
         },
         "hovertemplate": "<b>%{hovertext}</b><br><br>Club Joined=Sivasspor <br>Year=%{x}<br>Surplus/Deficit_x=%{y}",
         "hovertext": [
          "Sivasspor ",
          "Sivasspor ",
          "Sivasspor ",
          "Sivasspor ",
          "Sivasspor ",
          "Sivasspor ",
          "Sivasspor ",
          "Sivasspor ",
          "Sivasspor ",
          "Sivasspor ",
          "Sivasspor ",
          "Sivasspor ",
          "Sivasspor ",
          "Sivasspor ",
          "Sivasspor "
         ],
         "legendgroup": "Sivasspor ",
         "line": {
          "color": "#f8432d",
          "dash": "solid"
         },
         "mode": "lines",
         "name": "Sivasspor ",
         "showlegend": true,
         "type": "scatter",
         "x": [
          2005,
          2006,
          2007,
          2008,
          2009,
          2010,
          2011,
          2012,
          2013,
          2014,
          2015,
          2016,
          2017,
          2018,
          2019
         ],
         "xaxis": "x",
         "y": [
          -309770000,
          -309770000,
          -309770000,
          -309770000,
          -681494000,
          -247816000,
          -247816000,
          -185862000,
          -433678000,
          -185862000,
          -247816000,
          -123908000,
          -371724000,
          -61954000,
          -61954000
         ],
         "yaxis": "y"
        },
        {
         "hoverlabel": {
          "namelength": 0
         },
         "hovertemplate": "<b>%{hovertext}</b><br><br>Club Joined=Trabzonspor <br>Year=%{x}<br>Surplus/Deficit_x=%{y}",
         "hovertext": [
          "Trabzonspor ",
          "Trabzonspor ",
          "Trabzonspor ",
          "Trabzonspor ",
          "Trabzonspor ",
          "Trabzonspor ",
          "Trabzonspor ",
          "Trabzonspor ",
          "Trabzonspor ",
          "Trabzonspor ",
          "Trabzonspor ",
          "Trabzonspor ",
          "Trabzonspor ",
          "Trabzonspor ",
          "Trabzonspor "
         ],
         "legendgroup": "Trabzonspor ",
         "line": {
          "color": "#d90d39",
          "dash": "solid"
         },
         "mode": "lines",
         "name": "Trabzonspor ",
         "showlegend": true,
         "type": "scatter",
         "x": [
          2005,
          2006,
          2007,
          2008,
          2009,
          2010,
          2011,
          2012,
          2013,
          2014,
          2015,
          2016,
          2017,
          2018,
          2019
         ],
         "xaxis": "x",
         "y": [
          -699738000,
          -932984000,
          -233246000,
          -699738000,
          -583115000,
          -583115000,
          -699738000,
          -349869000,
          -466492000,
          -1166230000,
          -1516099000,
          -1399476000,
          -1049607000,
          -932984000,
          -699738000
         ],
         "yaxis": "y"
        }
       ],
       "layout": {
        "hoverlabel": {
         "bgcolor": "black",
         "bordercolor": "black",
         "font": {
          "color": "white",
          "family": "Arial, monospace",
          "size": 14
         }
        },
        "legend": {
         "title": {
          "text": "Club Joined"
         },
         "tracegroupgap": 0
        },
        "template": {
         "data": {
          "bar": [
           {
            "error_x": {
             "color": "#f2f5fa"
            },
            "error_y": {
             "color": "#f2f5fa"
            },
            "marker": {
             "line": {
              "color": "rgb(17,17,17)",
              "width": 0.5
             }
            },
            "type": "bar"
           }
          ],
          "barpolar": [
           {
            "marker": {
             "line": {
              "color": "rgb(17,17,17)",
              "width": 0.5
             }
            },
            "type": "barpolar"
           }
          ],
          "carpet": [
           {
            "aaxis": {
             "endlinecolor": "#A2B1C6",
             "gridcolor": "#506784",
             "linecolor": "#506784",
             "minorgridcolor": "#506784",
             "startlinecolor": "#A2B1C6"
            },
            "baxis": {
             "endlinecolor": "#A2B1C6",
             "gridcolor": "#506784",
             "linecolor": "#506784",
             "minorgridcolor": "#506784",
             "startlinecolor": "#A2B1C6"
            },
            "type": "carpet"
           }
          ],
          "choropleth": [
           {
            "colorbar": {
             "outlinewidth": 0,
             "ticks": ""
            },
            "type": "choropleth"
           }
          ],
          "contour": [
           {
            "colorbar": {
             "outlinewidth": 0,
             "ticks": ""
            },
            "colorscale": [
             [
              0,
              "#0d0887"
             ],
             [
              0.1111111111111111,
              "#46039f"
             ],
             [
              0.2222222222222222,
              "#7201a8"
             ],
             [
              0.3333333333333333,
              "#9c179e"
             ],
             [
              0.4444444444444444,
              "#bd3786"
             ],
             [
              0.5555555555555556,
              "#d8576b"
             ],
             [
              0.6666666666666666,
              "#ed7953"
             ],
             [
              0.7777777777777778,
              "#fb9f3a"
             ],
             [
              0.8888888888888888,
              "#fdca26"
             ],
             [
              1,
              "#f0f921"
             ]
            ],
            "type": "contour"
           }
          ],
          "contourcarpet": [
           {
            "colorbar": {
             "outlinewidth": 0,
             "ticks": ""
            },
            "type": "contourcarpet"
           }
          ],
          "heatmap": [
           {
            "colorbar": {
             "outlinewidth": 0,
             "ticks": ""
            },
            "colorscale": [
             [
              0,
              "#0d0887"
             ],
             [
              0.1111111111111111,
              "#46039f"
             ],
             [
              0.2222222222222222,
              "#7201a8"
             ],
             [
              0.3333333333333333,
              "#9c179e"
             ],
             [
              0.4444444444444444,
              "#bd3786"
             ],
             [
              0.5555555555555556,
              "#d8576b"
             ],
             [
              0.6666666666666666,
              "#ed7953"
             ],
             [
              0.7777777777777778,
              "#fb9f3a"
             ],
             [
              0.8888888888888888,
              "#fdca26"
             ],
             [
              1,
              "#f0f921"
             ]
            ],
            "type": "heatmap"
           }
          ],
          "heatmapgl": [
           {
            "colorbar": {
             "outlinewidth": 0,
             "ticks": ""
            },
            "colorscale": [
             [
              0,
              "#0d0887"
             ],
             [
              0.1111111111111111,
              "#46039f"
             ],
             [
              0.2222222222222222,
              "#7201a8"
             ],
             [
              0.3333333333333333,
              "#9c179e"
             ],
             [
              0.4444444444444444,
              "#bd3786"
             ],
             [
              0.5555555555555556,
              "#d8576b"
             ],
             [
              0.6666666666666666,
              "#ed7953"
             ],
             [
              0.7777777777777778,
              "#fb9f3a"
             ],
             [
              0.8888888888888888,
              "#fdca26"
             ],
             [
              1,
              "#f0f921"
             ]
            ],
            "type": "heatmapgl"
           }
          ],
          "histogram": [
           {
            "marker": {
             "colorbar": {
              "outlinewidth": 0,
              "ticks": ""
             }
            },
            "type": "histogram"
           }
          ],
          "histogram2d": [
           {
            "colorbar": {
             "outlinewidth": 0,
             "ticks": ""
            },
            "colorscale": [
             [
              0,
              "#0d0887"
             ],
             [
              0.1111111111111111,
              "#46039f"
             ],
             [
              0.2222222222222222,
              "#7201a8"
             ],
             [
              0.3333333333333333,
              "#9c179e"
             ],
             [
              0.4444444444444444,
              "#bd3786"
             ],
             [
              0.5555555555555556,
              "#d8576b"
             ],
             [
              0.6666666666666666,
              "#ed7953"
             ],
             [
              0.7777777777777778,
              "#fb9f3a"
             ],
             [
              0.8888888888888888,
              "#fdca26"
             ],
             [
              1,
              "#f0f921"
             ]
            ],
            "type": "histogram2d"
           }
          ],
          "histogram2dcontour": [
           {
            "colorbar": {
             "outlinewidth": 0,
             "ticks": ""
            },
            "colorscale": [
             [
              0,
              "#0d0887"
             ],
             [
              0.1111111111111111,
              "#46039f"
             ],
             [
              0.2222222222222222,
              "#7201a8"
             ],
             [
              0.3333333333333333,
              "#9c179e"
             ],
             [
              0.4444444444444444,
              "#bd3786"
             ],
             [
              0.5555555555555556,
              "#d8576b"
             ],
             [
              0.6666666666666666,
              "#ed7953"
             ],
             [
              0.7777777777777778,
              "#fb9f3a"
             ],
             [
              0.8888888888888888,
              "#fdca26"
             ],
             [
              1,
              "#f0f921"
             ]
            ],
            "type": "histogram2dcontour"
           }
          ],
          "mesh3d": [
           {
            "colorbar": {
             "outlinewidth": 0,
             "ticks": ""
            },
            "type": "mesh3d"
           }
          ],
          "parcoords": [
           {
            "line": {
             "colorbar": {
              "outlinewidth": 0,
              "ticks": ""
             }
            },
            "type": "parcoords"
           }
          ],
          "pie": [
           {
            "automargin": true,
            "type": "pie"
           }
          ],
          "scatter": [
           {
            "marker": {
             "line": {
              "color": "#283442"
             }
            },
            "type": "scatter"
           }
          ],
          "scatter3d": [
           {
            "line": {
             "colorbar": {
              "outlinewidth": 0,
              "ticks": ""
             }
            },
            "marker": {
             "colorbar": {
              "outlinewidth": 0,
              "ticks": ""
             }
            },
            "type": "scatter3d"
           }
          ],
          "scattercarpet": [
           {
            "marker": {
             "colorbar": {
              "outlinewidth": 0,
              "ticks": ""
             }
            },
            "type": "scattercarpet"
           }
          ],
          "scattergeo": [
           {
            "marker": {
             "colorbar": {
              "outlinewidth": 0,
              "ticks": ""
             }
            },
            "type": "scattergeo"
           }
          ],
          "scattergl": [
           {
            "marker": {
             "line": {
              "color": "#283442"
             }
            },
            "type": "scattergl"
           }
          ],
          "scattermapbox": [
           {
            "marker": {
             "colorbar": {
              "outlinewidth": 0,
              "ticks": ""
             }
            },
            "type": "scattermapbox"
           }
          ],
          "scatterpolar": [
           {
            "marker": {
             "colorbar": {
              "outlinewidth": 0,
              "ticks": ""
             }
            },
            "type": "scatterpolar"
           }
          ],
          "scatterpolargl": [
           {
            "marker": {
             "colorbar": {
              "outlinewidth": 0,
              "ticks": ""
             }
            },
            "type": "scatterpolargl"
           }
          ],
          "scatterternary": [
           {
            "marker": {
             "colorbar": {
              "outlinewidth": 0,
              "ticks": ""
             }
            },
            "type": "scatterternary"
           }
          ],
          "surface": [
           {
            "colorbar": {
             "outlinewidth": 0,
             "ticks": ""
            },
            "colorscale": [
             [
              0,
              "#0d0887"
             ],
             [
              0.1111111111111111,
              "#46039f"
             ],
             [
              0.2222222222222222,
              "#7201a8"
             ],
             [
              0.3333333333333333,
              "#9c179e"
             ],
             [
              0.4444444444444444,
              "#bd3786"
             ],
             [
              0.5555555555555556,
              "#d8576b"
             ],
             [
              0.6666666666666666,
              "#ed7953"
             ],
             [
              0.7777777777777778,
              "#fb9f3a"
             ],
             [
              0.8888888888888888,
              "#fdca26"
             ],
             [
              1,
              "#f0f921"
             ]
            ],
            "type": "surface"
           }
          ],
          "table": [
           {
            "cells": {
             "fill": {
              "color": "#506784"
             },
             "line": {
              "color": "rgb(17,17,17)"
             }
            },
            "header": {
             "fill": {
              "color": "#2a3f5f"
             },
             "line": {
              "color": "rgb(17,17,17)"
             }
            },
            "type": "table"
           }
          ]
         },
         "layout": {
          "annotationdefaults": {
           "arrowcolor": "#f2f5fa",
           "arrowhead": 0,
           "arrowwidth": 1
          },
          "coloraxis": {
           "colorbar": {
            "outlinewidth": 0,
            "ticks": ""
           }
          },
          "colorscale": {
           "diverging": [
            [
             0,
             "#8e0152"
            ],
            [
             0.1,
             "#c51b7d"
            ],
            [
             0.2,
             "#de77ae"
            ],
            [
             0.3,
             "#f1b6da"
            ],
            [
             0.4,
             "#fde0ef"
            ],
            [
             0.5,
             "#f7f7f7"
            ],
            [
             0.6,
             "#e6f5d0"
            ],
            [
             0.7,
             "#b8e186"
            ],
            [
             0.8,
             "#7fbc41"
            ],
            [
             0.9,
             "#4d9221"
            ],
            [
             1,
             "#276419"
            ]
           ],
           "sequential": [
            [
             0,
             "#0d0887"
            ],
            [
             0.1111111111111111,
             "#46039f"
            ],
            [
             0.2222222222222222,
             "#7201a8"
            ],
            [
             0.3333333333333333,
             "#9c179e"
            ],
            [
             0.4444444444444444,
             "#bd3786"
            ],
            [
             0.5555555555555556,
             "#d8576b"
            ],
            [
             0.6666666666666666,
             "#ed7953"
            ],
            [
             0.7777777777777778,
             "#fb9f3a"
            ],
            [
             0.8888888888888888,
             "#fdca26"
            ],
            [
             1,
             "#f0f921"
            ]
           ],
           "sequentialminus": [
            [
             0,
             "#0d0887"
            ],
            [
             0.1111111111111111,
             "#46039f"
            ],
            [
             0.2222222222222222,
             "#7201a8"
            ],
            [
             0.3333333333333333,
             "#9c179e"
            ],
            [
             0.4444444444444444,
             "#bd3786"
            ],
            [
             0.5555555555555556,
             "#d8576b"
            ],
            [
             0.6666666666666666,
             "#ed7953"
            ],
            [
             0.7777777777777778,
             "#fb9f3a"
            ],
            [
             0.8888888888888888,
             "#fdca26"
            ],
            [
             1,
             "#f0f921"
            ]
           ]
          },
          "colorway": [
           "#636efa",
           "#EF553B",
           "#00cc96",
           "#ab63fa",
           "#FFA15A",
           "#19d3f3",
           "#FF6692",
           "#B6E880",
           "#FF97FF",
           "#FECB52"
          ],
          "font": {
           "color": "#f2f5fa"
          },
          "geo": {
           "bgcolor": "rgb(17,17,17)",
           "lakecolor": "rgb(17,17,17)",
           "landcolor": "rgb(17,17,17)",
           "showlakes": true,
           "showland": true,
           "subunitcolor": "#506784"
          },
          "hoverlabel": {
           "align": "left"
          },
          "hovermode": "closest",
          "mapbox": {
           "style": "dark"
          },
          "paper_bgcolor": "rgb(17,17,17)",
          "plot_bgcolor": "rgb(17,17,17)",
          "polar": {
           "angularaxis": {
            "gridcolor": "#506784",
            "linecolor": "#506784",
            "ticks": ""
           },
           "bgcolor": "rgb(17,17,17)",
           "radialaxis": {
            "gridcolor": "#506784",
            "linecolor": "#506784",
            "ticks": ""
           }
          },
          "scene": {
           "xaxis": {
            "backgroundcolor": "rgb(17,17,17)",
            "gridcolor": "#506784",
            "gridwidth": 2,
            "linecolor": "#506784",
            "showbackground": true,
            "ticks": "",
            "zerolinecolor": "#C8D4E3"
           },
           "yaxis": {
            "backgroundcolor": "rgb(17,17,17)",
            "gridcolor": "#506784",
            "gridwidth": 2,
            "linecolor": "#506784",
            "showbackground": true,
            "ticks": "",
            "zerolinecolor": "#C8D4E3"
           },
           "zaxis": {
            "backgroundcolor": "rgb(17,17,17)",
            "gridcolor": "#506784",
            "gridwidth": 2,
            "linecolor": "#506784",
            "showbackground": true,
            "ticks": "",
            "zerolinecolor": "#C8D4E3"
           }
          },
          "shapedefaults": {
           "line": {
            "color": "#f2f5fa"
           }
          },
          "sliderdefaults": {
           "bgcolor": "#C8D4E3",
           "bordercolor": "rgb(17,17,17)",
           "borderwidth": 1,
           "tickwidth": 0
          },
          "ternary": {
           "aaxis": {
            "gridcolor": "#506784",
            "linecolor": "#506784",
            "ticks": ""
           },
           "baxis": {
            "gridcolor": "#506784",
            "linecolor": "#506784",
            "ticks": ""
           },
           "bgcolor": "rgb(17,17,17)",
           "caxis": {
            "gridcolor": "#506784",
            "linecolor": "#506784",
            "ticks": ""
           }
          },
          "title": {
           "x": 0.05
          },
          "updatemenudefaults": {
           "bgcolor": "#506784",
           "borderwidth": 0
          },
          "xaxis": {
           "automargin": true,
           "gridcolor": "#283442",
           "linecolor": "#506784",
           "ticks": "",
           "title": {
            "standoff": 15
           },
           "zerolinecolor": "#283442",
           "zerolinewidth": 2
          },
          "yaxis": {
           "automargin": true,
           "gridcolor": "#283442",
           "linecolor": "#506784",
           "ticks": "",
           "title": {
            "standoff": 15
           },
           "zerolinecolor": "#283442",
           "zerolinewidth": 2
          }
         }
        },
        "title": {
         "text": "Trend Analysis for Top 15 Clubs by Transfer Fee Under-Spending"
        },
        "xaxis": {
         "linecolor": "white",
         "showgrid": false,
         "showline": true,
         "showticklabels": true,
         "tickfont": {
          "color": "white",
          "family": "Arial",
          "size": 10
         },
         "title": {
          "font": {
           "color": "white",
           "family": "Arial, monospace",
           "size": 14
          },
          "text": "Year"
         },
         "zeroline": false
        },
        "yaxis": {
         "linecolor": "white",
         "showgrid": false,
         "showline": false,
         "showticklabels": true,
         "tickfont": {
          "color": "white",
          "family": "Arial",
          "size": 10
         },
         "title": {
          "font": {
           "color": "white",
           "family": "Arial, monospace",
           "size": 14
          },
          "text": "Total Amount Under-Spent, in Euros"
         },
         "zeroline": true
        }
       }
      },
      "text/html": [
       "<div>\n",
       "        \n",
       "        \n",
       "            <div id=\"8c90c8d5-12f2-4e93-9362-6ddfb9507717\" class=\"plotly-graph-div\" style=\"height:525px; width:100%;\"></div>\n",
       "            <script type=\"text/javascript\">\n",
       "                require([\"plotly\"], function(Plotly) {\n",
       "                    window.PLOTLYENV=window.PLOTLYENV || {};\n",
       "                    \n",
       "                if (document.getElementById(\"8c90c8d5-12f2-4e93-9362-6ddfb9507717\")) {\n",
       "                    Plotly.newPlot(\n",
       "                        '8c90c8d5-12f2-4e93-9362-6ddfb9507717',\n",
       "                        [{\"hoverlabel\": {\"namelength\": 0}, \"hovertemplate\": \"<b>%{hovertext}</b><br><br>Club Joined=Ankarag\\u00fcc\\u00fc <br>Year=%{x}<br>Surplus/Deficit_x=%{y}\", \"hovertext\": [\"Ankarag\\u00fcc\\u00fc \", \"Ankarag\\u00fcc\\u00fc \", \"Ankarag\\u00fcc\\u00fc \", \"Ankarag\\u00fcc\\u00fc \", \"Ankarag\\u00fcc\\u00fc \", \"Ankarag\\u00fcc\\u00fc \", \"Ankarag\\u00fcc\\u00fc \", \"Ankarag\\u00fcc\\u00fc \", \"Ankarag\\u00fcc\\u00fc \", \"Ankarag\\u00fcc\\u00fc \", \"Ankarag\\u00fcc\\u00fc \", \"Ankarag\\u00fcc\\u00fc \", \"Ankarag\\u00fcc\\u00fc \", \"Ankarag\\u00fcc\\u00fc \"], \"legendgroup\": \"Ankarag\\u00fcc\\u00fc \", \"line\": {\"color\": \"#313131\", \"dash\": \"solid\"}, \"mode\": \"lines\", \"name\": \"Ankarag\\u00fcc\\u00fc \", \"showlegend\": true, \"type\": \"scatter\", \"x\": [2005, 2006, 2007, 2008, 2009, 2010, 2011, 2013, 2014, 2015, 2016, 2017, 2018, 2019], \"xaxis\": \"x\", \"y\": [-1217200000.0, -572800000.0, -644400000.0, -787600000.0, -1002400000.0, -930800000.0, -429600000.0, -286400000.0, -71600000.0, -286400000.0, -214800000.0, -143200000.0, -214800000.0, -214800000.0], \"yaxis\": \"y\"}, {\"hoverlabel\": {\"namelength\": 0}, \"hovertemplate\": \"<b>%{hovertext}</b><br><br>Club Joined=Antalyaspor <br>Year=%{x}<br>Surplus/Deficit_x=%{y}\", \"hovertext\": [\"Antalyaspor \", \"Antalyaspor \", \"Antalyaspor \", \"Antalyaspor \", \"Antalyaspor \", \"Antalyaspor \", \"Antalyaspor \", \"Antalyaspor \", \"Antalyaspor \", \"Antalyaspor \", \"Antalyaspor \", \"Antalyaspor \", \"Antalyaspor \", \"Antalyaspor \", \"Antalyaspor \"], \"legendgroup\": \"Antalyaspor \", \"line\": {\"color\": \"#3d019d\", \"dash\": \"solid\"}, \"mode\": \"lines\", \"name\": \"Antalyaspor \", \"showlegend\": true, \"type\": \"scatter\", \"x\": [2005, 2006, 2007, 2008, 2009, 2010, 2011, 2012, 2013, 2014, 2015, 2016, 2017, 2018, 2019], \"xaxis\": \"x\", \"y\": [-997529000.0, -306932000.0, -537131000.0, -690597000.0, -230199000.0, -230199000.0, -230199000.0, -230199000.0, -383665000.0, -153466000.0, -690597000.0, -306932000.0, -230199000.0, -76733000.0, -76733000.0], \"yaxis\": \"y\"}, {\"hoverlabel\": {\"namelength\": 0}, \"hovertemplate\": \"<b>%{hovertext}</b><br><br>Club Joined=Basaksehir <br>Year=%{x}<br>Surplus/Deficit_x=%{y}\", \"hovertext\": [\"Basaksehir \", \"Basaksehir \", \"Basaksehir \", \"Basaksehir \", \"Basaksehir \", \"Basaksehir \", \"Basaksehir \", \"Basaksehir \", \"Basaksehir \", \"Basaksehir \", \"Basaksehir \", \"Basaksehir \", \"Basaksehir \", \"Basaksehir \"], \"legendgroup\": \"Basaksehir \", \"line\": {\"color\": \"#3810dc\", \"dash\": \"solid\"}, \"mode\": \"lines\", \"name\": \"Basaksehir \", \"showlegend\": true, \"type\": \"scatter\", \"x\": [2005, 2006, 2007, 2008, 2009, 2010, 2011, 2012, 2013, 2014, 2015, 2017, 2018, 2019], \"xaxis\": \"x\", \"y\": [-376710000.0, -313925000.0, -313925000.0, -376710000.0, -376710000.0, -251140000.0, -251140000.0, -251140000.0, -251140000.0, -439495000.0, -125570000.0, -502280000.0, -62785000.0, -502280000.0], \"yaxis\": \"y\"}, {\"hoverlabel\": {\"namelength\": 0}, \"hovertemplate\": \"<b>%{hovertext}</b><br><br>Club Joined=Besiktas <br>Year=%{x}<br>Surplus/Deficit_x=%{y}\", \"hovertext\": [\"Besiktas \", \"Besiktas \", \"Besiktas \", \"Besiktas \", \"Besiktas \", \"Besiktas \", \"Besiktas \", \"Besiktas \", \"Besiktas \", \"Besiktas \", \"Besiktas \", \"Besiktas \", \"Besiktas \", \"Besiktas \", \"Besiktas \"], \"legendgroup\": \"Besiktas \", \"line\": {\"color\": \"#2d47f9\", \"dash\": \"solid\"}, \"mode\": \"lines\", \"name\": \"Besiktas \", \"showlegend\": true, \"type\": \"scatter\", \"x\": [2005, 2006, 2007, 2008, 2009, 2010, 2011, 2012, 2013, 2014, 2015, 2016, 2017, 2018, 2019], \"xaxis\": \"x\", \"y\": [-1427525000.0, -778650000.0, -519100000.0, -778650000.0, -1038200000.0, -519100000.0, -389325000.0, -389325000.0, -1167975000.0, -519100000.0, -648875000.0, -519100000.0, -519100000.0, -519100000.0, -908425000.0], \"yaxis\": \"y\"}, {\"hoverlabel\": {\"namelength\": 0}, \"hovertemplate\": \"<b>%{hovertext}</b><br><br>Club Joined=C. Rizespor <br>Year=%{x}<br>Surplus/Deficit_x=%{y}\", \"hovertext\": [\"C. Rizespor \", \"C. Rizespor \", \"C. Rizespor \", \"C. Rizespor \", \"C. Rizespor \", \"C. Rizespor \", \"C. Rizespor \", \"C. Rizespor \", \"C. Rizespor \", \"C. Rizespor \", \"C. Rizespor \", \"C. Rizespor \", \"C. Rizespor \", \"C. Rizespor \", \"C. Rizespor \"], \"legendgroup\": \"C. Rizespor \", \"line\": {\"color\": \"#2593ff\", \"dash\": \"solid\"}, \"mode\": \"lines\", \"name\": \"C. Rizespor \", \"showlegend\": true, \"type\": \"scatter\", \"x\": [2005, 2006, 2007, 2008, 2009, 2010, 2011, 2012, 2013, 2014, 2015, 2016, 2017, 2018, 2019], \"xaxis\": \"x\", \"y\": [-487000000.0, -426125000.0, -608750000.0, -1034875000.0, -487000000.0, -487000000.0, -304375000.0, -365250000.0, -547875000.0, -304375000.0, -243500000.0, -60875000.0, -60875000.0, -121750000.0, -608750000.0], \"yaxis\": \"y\"}, {\"hoverlabel\": {\"namelength\": 0}, \"hovertemplate\": \"<b>%{hovertext}</b><br><br>Club Joined=Corinthians <br>Year=%{x}<br>Surplus/Deficit_x=%{y}\", \"hovertext\": [\"Corinthians \", \"Corinthians \", \"Corinthians \", \"Corinthians \", \"Corinthians \", \"Corinthians \", \"Corinthians \", \"Corinthians \", \"Corinthians \", \"Corinthians \", \"Corinthians \", \"Corinthians \", \"Corinthians \", \"Corinthians \"], \"legendgroup\": \"Corinthians \", \"line\": {\"color\": \"#2adef6\", \"dash\": \"solid\"}, \"mode\": \"lines\", \"name\": \"Corinthians \", \"showlegend\": true, \"type\": \"scatter\", \"x\": [2005, 2006, 2008, 2009, 2010, 2011, 2012, 2013, 2014, 2015, 2016, 2017, 2018, 2019], \"xaxis\": \"x\", \"y\": [-248780000.0, -248780000.0, -124390000.0, -124390000.0, -186585000.0, -310975000.0, -373170000.0, -373170000.0, -248780000.0, -124390000.0, -621950000.0, -310975000.0, -497560000.0, -435365000.0], \"yaxis\": \"y\"}, {\"hoverlabel\": {\"namelength\": 0}, \"hovertemplate\": \"<b>%{hovertext}</b><br><br>Club Joined=Fenerbahce <br>Year=%{x}<br>Surplus/Deficit_x=%{y}\", \"hovertext\": [\"Fenerbahce \", \"Fenerbahce \", \"Fenerbahce \", \"Fenerbahce \", \"Fenerbahce \", \"Fenerbahce \", \"Fenerbahce \", \"Fenerbahce \", \"Fenerbahce \", \"Fenerbahce \", \"Fenerbahce \", \"Fenerbahce \", \"Fenerbahce \", \"Fenerbahce \", \"Fenerbahce \"], \"legendgroup\": \"Fenerbahce \", \"line\": {\"color\": \"#60fdfa\", \"dash\": \"solid\"}, \"mode\": \"lines\", \"name\": \"Fenerbahce \", \"showlegend\": true, \"type\": \"scatter\", \"x\": [2005, 2006, 2007, 2008, 2009, 2010, 2011, 2012, 2013, 2014, 2015, 2016, 2017, 2018, 2019], \"xaxis\": \"x\", \"y\": [-299499000.0, -199666000.0, -499165000.0, -199666000.0, -499165000.0, -399332000.0, -199666000.0, -598998000.0, -399332000.0, -99833000.0, -499165000.0, -99833000.0, -299499000.0, -598998000.0, -998330000.0], \"yaxis\": \"y\"}, {\"hoverlabel\": {\"namelength\": 0}, \"hovertemplate\": \"<b>%{hovertext}</b><br><br>Club Joined=Flamengo <br>Year=%{x}<br>Surplus/Deficit_x=%{y}\", \"hovertext\": [\"Flamengo \", \"Flamengo \", \"Flamengo \", \"Flamengo \", \"Flamengo \", \"Flamengo \", \"Flamengo \", \"Flamengo \", \"Flamengo \", \"Flamengo \", \"Flamengo \", \"Flamengo \", \"Flamengo \"], \"legendgroup\": \"Flamengo \", \"line\": {\"color\": \"#aefdff\", \"dash\": \"solid\"}, \"mode\": \"lines\", \"name\": \"Flamengo \", \"showlegend\": true, \"type\": \"scatter\", \"x\": [2006, 2007, 2009, 2010, 2011, 2012, 2013, 2014, 2015, 2016, 2017, 2018, 2019], \"xaxis\": \"x\", \"y\": [-77610000.0, -77610000.0, -77610000.0, -77610000.0, -155220000.0, -232830000.0, -77610000.0, -388050000.0, -465660000.0, -465660000.0, -388050000.0, -232830000.0, -465660000.0], \"yaxis\": \"y\"}, {\"hoverlabel\": {\"namelength\": 0}, \"hovertemplate\": \"<b>%{hovertext}</b><br><br>Club Joined=Galatasaray <br>Year=%{x}<br>Surplus/Deficit_x=%{y}\", \"hovertext\": [\"Galatasaray \", \"Galatasaray \", \"Galatasaray \", \"Galatasaray \", \"Galatasaray \", \"Galatasaray \", \"Galatasaray \", \"Galatasaray \", \"Galatasaray \", \"Galatasaray \", \"Galatasaray \", \"Galatasaray \", \"Galatasaray \", \"Galatasaray \", \"Galatasaray \"], \"legendgroup\": \"Galatasaray \", \"line\": {\"color\": \"#f3f3f1\", \"dash\": \"solid\"}, \"mode\": \"lines\", \"name\": \"Galatasaray \", \"showlegend\": true, \"type\": \"scatter\", \"x\": [2005, 2006, 2007, 2008, 2009, 2010, 2011, 2012, 2013, 2014, 2015, 2016, 2017, 2018, 2019], \"xaxis\": \"x\", \"y\": [-373137000.0, -497516000.0, -621895000.0, -870653000.0, -373137000.0, -995032000.0, -1368169000.0, -746274000.0, -746274000.0, -1616927000.0, -497516000.0, -621895000.0, -995032000.0, -621895000.0, -373137000.0], \"yaxis\": \"y\"}, {\"hoverlabel\": {\"namelength\": 0}, \"hovertemplate\": \"<b>%{hovertext}</b><br><br>Club Joined=Hamburger SV <br>Year=%{x}<br>Surplus/Deficit_x=%{y}\", \"hovertext\": [\"Hamburger SV \", \"Hamburger SV \", \"Hamburger SV \", \"Hamburger SV \", \"Hamburger SV \", \"Hamburger SV \", \"Hamburger SV \", \"Hamburger SV \", \"Hamburger SV \", \"Hamburger SV \", \"Hamburger SV \", \"Hamburger SV \", \"Hamburger SV \", \"Hamburger SV \"], \"legendgroup\": \"Hamburger SV \", \"line\": {\"color\": \"#fffda9\", \"dash\": \"solid\"}, \"mode\": \"lines\", \"name\": \"Hamburger SV \", \"showlegend\": true, \"type\": \"scatter\", \"x\": [2005, 2006, 2007, 2008, 2009, 2010, 2011, 2012, 2013, 2014, 2015, 2016, 2017, 2019], \"xaxis\": \"x\", \"y\": [-135180000.0, -405540000.0, -202770000.0, -337950000.0, -337950000.0, -337950000.0, -202770000.0, -337950000.0, -67590000.0, -337950000.0, -608310000.0, -202770000.0, -135180000.0, -67590000.0], \"yaxis\": \"y\"}, {\"hoverlabel\": {\"namelength\": 0}, \"hovertemplate\": \"<b>%{hovertext}</b><br><br>Club Joined=Konyaspor <br>Year=%{x}<br>Surplus/Deficit_x=%{y}\", \"hovertext\": [\"Konyaspor \", \"Konyaspor \", \"Konyaspor \", \"Konyaspor \", \"Konyaspor \", \"Konyaspor \", \"Konyaspor \", \"Konyaspor \", \"Konyaspor \", \"Konyaspor \", \"Konyaspor \", \"Konyaspor \", \"Konyaspor \", \"Konyaspor \", \"Konyaspor \"], \"legendgroup\": \"Konyaspor \", \"line\": {\"color\": \"#fafd5b\", \"dash\": \"solid\"}, \"mode\": \"lines\", \"name\": \"Konyaspor \", \"showlegend\": true, \"type\": \"scatter\", \"x\": [2005, 2006, 2007, 2008, 2009, 2010, 2011, 2012, 2013, 2014, 2015, 2016, 2017, 2018, 2019], \"xaxis\": \"x\", \"y\": [-221970000.0, -517930000.0, -147980000.0, -665910000.0, -1109850000.0, -517930000.0, -73990000.0, -147980000.0, -517930000.0, -221970000.0, -221970000.0, -369950000.0, -517930000.0, -295960000.0, -295960000.0], \"yaxis\": \"y\"}, {\"hoverlabel\": {\"namelength\": 0}, \"hovertemplate\": \"<b>%{hovertext}</b><br><br>Club Joined=QPR <br>Year=%{x}<br>Surplus/Deficit_x=%{y}\", \"hovertext\": [\"QPR \", \"QPR \", \"QPR \", \"QPR \", \"QPR \", \"QPR \", \"QPR \", \"QPR \", \"QPR \", \"QPR \", \"QPR \", \"QPR \", \"QPR \", \"QPR \"], \"legendgroup\": \"QPR \", \"line\": {\"color\": \"#f7da29\", \"dash\": \"solid\"}, \"mode\": \"lines\", \"name\": \"QPR \", \"showlegend\": true, \"type\": \"scatter\", \"x\": [2005, 2006, 2007, 2008, 2009, 2010, 2011, 2012, 2013, 2014, 2015, 2016, 2017, 2019], \"xaxis\": \"x\", \"y\": [-136140000.0, -136140000.0, -340350000.0, -544560000.0, -68070000.0, -272280000.0, -476490000.0, -612630000.0, -680700000.0, -544560000.0, -340350000.0, -272280000.0, -204210000.0, -204210000.0], \"yaxis\": \"y\"}, {\"hoverlabel\": {\"namelength\": 0}, \"hovertemplate\": \"<b>%{hovertext}</b><br><br>Club Joined=Real Betis <br>Year=%{x}<br>Surplus/Deficit_x=%{y}\", \"hovertext\": [\"Real Betis \", \"Real Betis \", \"Real Betis \", \"Real Betis \", \"Real Betis \", \"Real Betis \", \"Real Betis \", \"Real Betis \", \"Real Betis \", \"Real Betis \", \"Real Betis \", \"Real Betis \", \"Real Betis \"], \"legendgroup\": \"Real Betis \", \"line\": {\"color\": \"#ff8e25\", \"dash\": \"solid\"}, \"mode\": \"lines\", \"name\": \"Real Betis \", \"showlegend\": true, \"type\": \"scatter\", \"x\": [2006, 2007, 2008, 2009, 2010, 2012, 2013, 2014, 2015, 2016, 2017, 2018, 2019], \"xaxis\": \"x\", \"y\": [-201600000.0, -67200000.0, -268800000.0, -67200000.0, -134400000.0, -201600000.0, -268800000.0, -134400000.0, -336000000.0, -201600000.0, -336000000.0, -201600000.0, -336000000.0], \"yaxis\": \"y\"}, {\"hoverlabel\": {\"namelength\": 0}, \"hovertemplate\": \"<b>%{hovertext}</b><br><br>Club Joined=Sivasspor <br>Year=%{x}<br>Surplus/Deficit_x=%{y}\", \"hovertext\": [\"Sivasspor \", \"Sivasspor \", \"Sivasspor \", \"Sivasspor \", \"Sivasspor \", \"Sivasspor \", \"Sivasspor \", \"Sivasspor \", \"Sivasspor \", \"Sivasspor \", \"Sivasspor \", \"Sivasspor \", \"Sivasspor \", \"Sivasspor \", \"Sivasspor \"], \"legendgroup\": \"Sivasspor \", \"line\": {\"color\": \"#f8432d\", \"dash\": \"solid\"}, \"mode\": \"lines\", \"name\": \"Sivasspor \", \"showlegend\": true, \"type\": \"scatter\", \"x\": [2005, 2006, 2007, 2008, 2009, 2010, 2011, 2012, 2013, 2014, 2015, 2016, 2017, 2018, 2019], \"xaxis\": \"x\", \"y\": [-309770000.0, -309770000.0, -309770000.0, -309770000.0, -681494000.0, -247816000.0, -247816000.0, -185862000.0, -433678000.0, -185862000.0, -247816000.0, -123908000.0, -371724000.0, -61954000.0, -61954000.0], \"yaxis\": \"y\"}, {\"hoverlabel\": {\"namelength\": 0}, \"hovertemplate\": \"<b>%{hovertext}</b><br><br>Club Joined=Trabzonspor <br>Year=%{x}<br>Surplus/Deficit_x=%{y}\", \"hovertext\": [\"Trabzonspor \", \"Trabzonspor \", \"Trabzonspor \", \"Trabzonspor \", \"Trabzonspor \", \"Trabzonspor \", \"Trabzonspor \", \"Trabzonspor \", \"Trabzonspor \", \"Trabzonspor \", \"Trabzonspor \", \"Trabzonspor \", \"Trabzonspor \", \"Trabzonspor \", \"Trabzonspor \"], \"legendgroup\": \"Trabzonspor \", \"line\": {\"color\": \"#d90d39\", \"dash\": \"solid\"}, \"mode\": \"lines\", \"name\": \"Trabzonspor \", \"showlegend\": true, \"type\": \"scatter\", \"x\": [2005, 2006, 2007, 2008, 2009, 2010, 2011, 2012, 2013, 2014, 2015, 2016, 2017, 2018, 2019], \"xaxis\": \"x\", \"y\": [-699738000.0, -932984000.0, -233246000.0, -699738000.0, -583115000.0, -583115000.0, -699738000.0, -349869000.0, -466492000.0, -1166230000.0, -1516099000.0, -1399476000.0, -1049607000.0, -932984000.0, -699738000.0], \"yaxis\": \"y\"}],\n",
       "                        {\"hoverlabel\": {\"bgcolor\": \"black\", \"bordercolor\": \"black\", \"font\": {\"color\": \"white\", \"family\": \"Arial, monospace\", \"size\": 14}}, \"legend\": {\"title\": {\"text\": \"Club Joined\"}, \"tracegroupgap\": 0}, \"template\": {\"data\": {\"bar\": [{\"error_x\": {\"color\": \"#f2f5fa\"}, \"error_y\": {\"color\": \"#f2f5fa\"}, \"marker\": {\"line\": {\"color\": \"rgb(17,17,17)\", \"width\": 0.5}}, \"type\": \"bar\"}], \"barpolar\": [{\"marker\": {\"line\": {\"color\": \"rgb(17,17,17)\", \"width\": 0.5}}, \"type\": \"barpolar\"}], \"carpet\": [{\"aaxis\": {\"endlinecolor\": \"#A2B1C6\", \"gridcolor\": \"#506784\", \"linecolor\": \"#506784\", \"minorgridcolor\": \"#506784\", \"startlinecolor\": \"#A2B1C6\"}, \"baxis\": {\"endlinecolor\": \"#A2B1C6\", \"gridcolor\": \"#506784\", \"linecolor\": \"#506784\", \"minorgridcolor\": \"#506784\", \"startlinecolor\": \"#A2B1C6\"}, \"type\": \"carpet\"}], \"choropleth\": [{\"colorbar\": {\"outlinewidth\": 0, \"ticks\": \"\"}, \"type\": \"choropleth\"}], \"contour\": [{\"colorbar\": {\"outlinewidth\": 0, \"ticks\": \"\"}, \"colorscale\": [[0.0, \"#0d0887\"], [0.1111111111111111, \"#46039f\"], [0.2222222222222222, \"#7201a8\"], [0.3333333333333333, \"#9c179e\"], [0.4444444444444444, \"#bd3786\"], [0.5555555555555556, \"#d8576b\"], [0.6666666666666666, \"#ed7953\"], [0.7777777777777778, \"#fb9f3a\"], [0.8888888888888888, \"#fdca26\"], [1.0, \"#f0f921\"]], \"type\": \"contour\"}], \"contourcarpet\": [{\"colorbar\": {\"outlinewidth\": 0, \"ticks\": \"\"}, \"type\": \"contourcarpet\"}], \"heatmap\": [{\"colorbar\": {\"outlinewidth\": 0, \"ticks\": \"\"}, \"colorscale\": [[0.0, \"#0d0887\"], [0.1111111111111111, \"#46039f\"], [0.2222222222222222, \"#7201a8\"], [0.3333333333333333, \"#9c179e\"], [0.4444444444444444, \"#bd3786\"], [0.5555555555555556, \"#d8576b\"], [0.6666666666666666, \"#ed7953\"], [0.7777777777777778, \"#fb9f3a\"], [0.8888888888888888, \"#fdca26\"], [1.0, \"#f0f921\"]], \"type\": \"heatmap\"}], \"heatmapgl\": [{\"colorbar\": {\"outlinewidth\": 0, \"ticks\": \"\"}, \"colorscale\": [[0.0, \"#0d0887\"], [0.1111111111111111, \"#46039f\"], [0.2222222222222222, \"#7201a8\"], [0.3333333333333333, \"#9c179e\"], [0.4444444444444444, \"#bd3786\"], [0.5555555555555556, \"#d8576b\"], [0.6666666666666666, \"#ed7953\"], [0.7777777777777778, \"#fb9f3a\"], [0.8888888888888888, \"#fdca26\"], [1.0, \"#f0f921\"]], \"type\": \"heatmapgl\"}], \"histogram\": [{\"marker\": {\"colorbar\": {\"outlinewidth\": 0, \"ticks\": \"\"}}, \"type\": \"histogram\"}], \"histogram2d\": [{\"colorbar\": {\"outlinewidth\": 0, \"ticks\": \"\"}, \"colorscale\": [[0.0, \"#0d0887\"], [0.1111111111111111, \"#46039f\"], [0.2222222222222222, \"#7201a8\"], [0.3333333333333333, \"#9c179e\"], [0.4444444444444444, \"#bd3786\"], [0.5555555555555556, \"#d8576b\"], [0.6666666666666666, \"#ed7953\"], [0.7777777777777778, \"#fb9f3a\"], [0.8888888888888888, \"#fdca26\"], [1.0, \"#f0f921\"]], \"type\": \"histogram2d\"}], \"histogram2dcontour\": [{\"colorbar\": {\"outlinewidth\": 0, \"ticks\": \"\"}, \"colorscale\": [[0.0, \"#0d0887\"], [0.1111111111111111, \"#46039f\"], [0.2222222222222222, \"#7201a8\"], [0.3333333333333333, \"#9c179e\"], [0.4444444444444444, \"#bd3786\"], [0.5555555555555556, \"#d8576b\"], [0.6666666666666666, \"#ed7953\"], [0.7777777777777778, \"#fb9f3a\"], [0.8888888888888888, \"#fdca26\"], [1.0, \"#f0f921\"]], \"type\": \"histogram2dcontour\"}], \"mesh3d\": [{\"colorbar\": {\"outlinewidth\": 0, \"ticks\": \"\"}, \"type\": \"mesh3d\"}], \"parcoords\": [{\"line\": {\"colorbar\": {\"outlinewidth\": 0, \"ticks\": \"\"}}, \"type\": \"parcoords\"}], \"pie\": [{\"automargin\": true, \"type\": \"pie\"}], \"scatter\": [{\"marker\": {\"line\": {\"color\": \"#283442\"}}, \"type\": \"scatter\"}], \"scatter3d\": [{\"line\": {\"colorbar\": {\"outlinewidth\": 0, \"ticks\": \"\"}}, \"marker\": {\"colorbar\": {\"outlinewidth\": 0, \"ticks\": \"\"}}, \"type\": \"scatter3d\"}], \"scattercarpet\": [{\"marker\": {\"colorbar\": {\"outlinewidth\": 0, \"ticks\": \"\"}}, \"type\": \"scattercarpet\"}], \"scattergeo\": [{\"marker\": {\"colorbar\": {\"outlinewidth\": 0, \"ticks\": \"\"}}, \"type\": \"scattergeo\"}], \"scattergl\": [{\"marker\": {\"line\": {\"color\": \"#283442\"}}, \"type\": \"scattergl\"}], \"scattermapbox\": [{\"marker\": {\"colorbar\": {\"outlinewidth\": 0, \"ticks\": \"\"}}, \"type\": \"scattermapbox\"}], \"scatterpolar\": [{\"marker\": {\"colorbar\": {\"outlinewidth\": 0, \"ticks\": \"\"}}, \"type\": \"scatterpolar\"}], \"scatterpolargl\": [{\"marker\": {\"colorbar\": {\"outlinewidth\": 0, \"ticks\": \"\"}}, \"type\": \"scatterpolargl\"}], \"scatterternary\": [{\"marker\": {\"colorbar\": {\"outlinewidth\": 0, \"ticks\": \"\"}}, \"type\": \"scatterternary\"}], \"surface\": [{\"colorbar\": {\"outlinewidth\": 0, \"ticks\": \"\"}, \"colorscale\": [[0.0, \"#0d0887\"], [0.1111111111111111, \"#46039f\"], [0.2222222222222222, \"#7201a8\"], [0.3333333333333333, \"#9c179e\"], [0.4444444444444444, \"#bd3786\"], [0.5555555555555556, \"#d8576b\"], [0.6666666666666666, \"#ed7953\"], [0.7777777777777778, \"#fb9f3a\"], [0.8888888888888888, \"#fdca26\"], [1.0, \"#f0f921\"]], \"type\": \"surface\"}], \"table\": [{\"cells\": {\"fill\": {\"color\": \"#506784\"}, \"line\": {\"color\": \"rgb(17,17,17)\"}}, \"header\": {\"fill\": {\"color\": \"#2a3f5f\"}, \"line\": {\"color\": \"rgb(17,17,17)\"}}, \"type\": \"table\"}]}, \"layout\": {\"annotationdefaults\": {\"arrowcolor\": \"#f2f5fa\", \"arrowhead\": 0, \"arrowwidth\": 1}, \"coloraxis\": {\"colorbar\": {\"outlinewidth\": 0, \"ticks\": \"\"}}, \"colorscale\": {\"diverging\": [[0, \"#8e0152\"], [0.1, \"#c51b7d\"], [0.2, \"#de77ae\"], [0.3, \"#f1b6da\"], [0.4, \"#fde0ef\"], [0.5, \"#f7f7f7\"], [0.6, \"#e6f5d0\"], [0.7, \"#b8e186\"], [0.8, \"#7fbc41\"], [0.9, \"#4d9221\"], [1, \"#276419\"]], \"sequential\": [[0.0, \"#0d0887\"], [0.1111111111111111, \"#46039f\"], [0.2222222222222222, \"#7201a8\"], [0.3333333333333333, \"#9c179e\"], [0.4444444444444444, \"#bd3786\"], [0.5555555555555556, \"#d8576b\"], [0.6666666666666666, \"#ed7953\"], [0.7777777777777778, \"#fb9f3a\"], [0.8888888888888888, \"#fdca26\"], [1.0, \"#f0f921\"]], \"sequentialminus\": [[0.0, \"#0d0887\"], [0.1111111111111111, \"#46039f\"], [0.2222222222222222, \"#7201a8\"], [0.3333333333333333, \"#9c179e\"], [0.4444444444444444, \"#bd3786\"], [0.5555555555555556, \"#d8576b\"], [0.6666666666666666, \"#ed7953\"], [0.7777777777777778, \"#fb9f3a\"], [0.8888888888888888, \"#fdca26\"], [1.0, \"#f0f921\"]]}, \"colorway\": [\"#636efa\", \"#EF553B\", \"#00cc96\", \"#ab63fa\", \"#FFA15A\", \"#19d3f3\", \"#FF6692\", \"#B6E880\", \"#FF97FF\", \"#FECB52\"], \"font\": {\"color\": \"#f2f5fa\"}, \"geo\": {\"bgcolor\": \"rgb(17,17,17)\", \"lakecolor\": \"rgb(17,17,17)\", \"landcolor\": \"rgb(17,17,17)\", \"showlakes\": true, \"showland\": true, \"subunitcolor\": \"#506784\"}, \"hoverlabel\": {\"align\": \"left\"}, \"hovermode\": \"closest\", \"mapbox\": {\"style\": \"dark\"}, \"paper_bgcolor\": \"rgb(17,17,17)\", \"plot_bgcolor\": \"rgb(17,17,17)\", \"polar\": {\"angularaxis\": {\"gridcolor\": \"#506784\", \"linecolor\": \"#506784\", \"ticks\": \"\"}, \"bgcolor\": \"rgb(17,17,17)\", \"radialaxis\": {\"gridcolor\": \"#506784\", \"linecolor\": \"#506784\", \"ticks\": \"\"}}, \"scene\": {\"xaxis\": {\"backgroundcolor\": \"rgb(17,17,17)\", \"gridcolor\": \"#506784\", \"gridwidth\": 2, \"linecolor\": \"#506784\", \"showbackground\": true, \"ticks\": \"\", \"zerolinecolor\": \"#C8D4E3\"}, \"yaxis\": {\"backgroundcolor\": \"rgb(17,17,17)\", \"gridcolor\": \"#506784\", \"gridwidth\": 2, \"linecolor\": \"#506784\", \"showbackground\": true, \"ticks\": \"\", \"zerolinecolor\": \"#C8D4E3\"}, \"zaxis\": {\"backgroundcolor\": \"rgb(17,17,17)\", \"gridcolor\": \"#506784\", \"gridwidth\": 2, \"linecolor\": \"#506784\", \"showbackground\": true, \"ticks\": \"\", \"zerolinecolor\": \"#C8D4E3\"}}, \"shapedefaults\": {\"line\": {\"color\": \"#f2f5fa\"}}, \"sliderdefaults\": {\"bgcolor\": \"#C8D4E3\", \"bordercolor\": \"rgb(17,17,17)\", \"borderwidth\": 1, \"tickwidth\": 0}, \"ternary\": {\"aaxis\": {\"gridcolor\": \"#506784\", \"linecolor\": \"#506784\", \"ticks\": \"\"}, \"baxis\": {\"gridcolor\": \"#506784\", \"linecolor\": \"#506784\", \"ticks\": \"\"}, \"bgcolor\": \"rgb(17,17,17)\", \"caxis\": {\"gridcolor\": \"#506784\", \"linecolor\": \"#506784\", \"ticks\": \"\"}}, \"title\": {\"x\": 0.05}, \"updatemenudefaults\": {\"bgcolor\": \"#506784\", \"borderwidth\": 0}, \"xaxis\": {\"automargin\": true, \"gridcolor\": \"#283442\", \"linecolor\": \"#506784\", \"ticks\": \"\", \"title\": {\"standoff\": 15}, \"zerolinecolor\": \"#283442\", \"zerolinewidth\": 2}, \"yaxis\": {\"automargin\": true, \"gridcolor\": \"#283442\", \"linecolor\": \"#506784\", \"ticks\": \"\", \"title\": {\"standoff\": 15}, \"zerolinecolor\": \"#283442\", \"zerolinewidth\": 2}}}, \"title\": {\"text\": \"Trend Analysis for Top 15 Clubs by Transfer Fee Under-Spending\"}, \"xaxis\": {\"linecolor\": \"white\", \"showgrid\": false, \"showline\": true, \"showticklabels\": true, \"tickfont\": {\"color\": \"white\", \"family\": \"Arial\", \"size\": 10}, \"title\": {\"font\": {\"color\": \"white\", \"family\": \"Arial, monospace\", \"size\": 14}, \"text\": \"Year\"}, \"zeroline\": false}, \"yaxis\": {\"linecolor\": \"white\", \"showgrid\": false, \"showline\": false, \"showticklabels\": true, \"tickfont\": {\"color\": \"white\", \"family\": \"Arial\", \"size\": 10}, \"title\": {\"font\": {\"color\": \"white\", \"family\": \"Arial, monospace\", \"size\": 14}, \"text\": \"Total Amount Under-Spent, in Euros\"}, \"zeroline\": true}},\n",
       "                        {\"responsive\": true}\n",
       "                    ).then(function(){\n",
       "                            \n",
       "var gd = document.getElementById('8c90c8d5-12f2-4e93-9362-6ddfb9507717');\n",
       "var x = new MutationObserver(function (mutations, observer) {{\n",
       "        var display = window.getComputedStyle(gd).display;\n",
       "        if (!display || display === 'none') {{\n",
       "            console.log([gd, 'removed!']);\n",
       "            Plotly.purge(gd);\n",
       "            observer.disconnect();\n",
       "        }}\n",
       "}});\n",
       "\n",
       "// Listen for the removal of the full notebook cells\n",
       "var notebookContainer = gd.closest('#notebook-container');\n",
       "if (notebookContainer) {{\n",
       "    x.observe(notebookContainer, {childList: true});\n",
       "}}\n",
       "\n",
       "// Listen for the clearing of the current output cell\n",
       "var outputEl = gd.closest('.output');\n",
       "if (outputEl) {{\n",
       "    x.observe(outputEl, {childList: true});\n",
       "}}\n",
       "\n",
       "                        })\n",
       "                };\n",
       "                });\n",
       "            </script>\n",
       "        </div>"
      ]
     },
     "metadata": {},
     "output_type": "display_data"
    }
   ],
   "source": [
    "fig3b = px.line(Trends_Top_UnderSpenders.reset_index(), \n",
    "                x=\"Year\", \n",
    "                y=\"Surplus/Deficit_x\",\n",
    "                color = \"Club Joined\",\n",
    "                color_discrete_sequence = px.colors.cyclical.Edge,\n",
    "                hover_name = \"Club Joined\", \n",
    "                title = 'Trend Analysis for Top 15 Clubs by Transfer Fee Under-Spending',\n",
    "                template = 'plotly_dark')\n",
    "\n",
    "fig3b.update_layout(\n",
    "    hoverlabel=dict(\n",
    "        bgcolor=\"black\",\n",
    "        font=dict(\n",
    "                family=\"Arial, monospace\",\n",
    "                size=14,\n",
    "                color=\"white\"\n",
    "            ),\n",
    "        bordercolor = \"black\"\n",
    "    ),\n",
    "    xaxis=go.layout.XAxis(\n",
    "        title=go.layout.xaxis.Title(\n",
    "            text=\"Year\",\n",
    "            font=dict(\n",
    "                family=\"Arial, monospace\",\n",
    "                size=14,\n",
    "                color=\"white\"\n",
    "            )\n",
    "        ),\n",
    "        showline = True,\n",
    "        linecolor = 'white',\n",
    "        showticklabels = True,\n",
    "        tickfont = dict(\n",
    "            family = 'Arial',\n",
    "            size = 10,\n",
    "            color = 'white'\n",
    "      )\n",
    "    ),\n",
    "    yaxis=go.layout.YAxis(\n",
    "        title=go.layout.yaxis.Title(\n",
    "            text=\"Total Amount Under-Spent, in Euros\",\n",
    "            font=dict(\n",
    "                family=\"Arial, monospace\",\n",
    "                size=14,\n",
    "                color=\"white\"\n",
    "            )\n",
    "        ),\n",
    "        showline = False,\n",
    "        linecolor = 'white',\n",
    "        showticklabels = True,\n",
    "        tickfont = dict(\n",
    "            family = 'Arial',\n",
    "            size = 10,\n",
    "            color = 'white'\n",
    "        )\n",
    "    )\n",
    ")\n",
    "\n",
    "fig3b.update_layout(\n",
    "    xaxis=dict(showgrid=False, zeroline=False),\n",
    "    yaxis=dict(showgrid=False, zeroline=True),\n",
    ")\n",
    "\n",
    "# plot(fig3b ,filename = 'TrendsTop15UnderSpenders.html')\n",
    "fig3b.show()"
   ]
  },
  {
   "cell_type": "markdown",
   "metadata": {},
   "source": [
    "<div class=\"alert alert-danger\" role=\"alert\">\n",
    "\n",
    "**Part 4: Analyses for Player Position** <br><br>\n",
    "We will analyze whether Player Position is a determinant of the nature of the Transfer that take place. Here, we are interested in the quantum of transfers that took place and their cumulative value. We will also analyze the surplus and deficit that transfers for different positions warrant.\n",
    "</div>"
   ]
  },
  {
   "cell_type": "code",
   "execution_count": 18,
   "metadata": {},
   "outputs": [
    {
     "data": {
      "text/html": [
       "<div>\n",
       "<style scoped>\n",
       "    .dataframe tbody tr th:only-of-type {\n",
       "        vertical-align: middle;\n",
       "    }\n",
       "\n",
       "    .dataframe tbody tr th {\n",
       "        vertical-align: top;\n",
       "    }\n",
       "\n",
       "    .dataframe thead th {\n",
       "        text-align: right;\n",
       "    }\n",
       "</style>\n",
       "<table border=\"1\" class=\"dataframe\">\n",
       "  <thead>\n",
       "    <tr style=\"text-align: right;\">\n",
       "      <th></th>\n",
       "      <th>index</th>\n",
       "      <th>Position</th>\n",
       "      <th>Transfer</th>\n",
       "      <th>No. of Transfers</th>\n",
       "      <th>Surplus/Deficit</th>\n",
       "    </tr>\n",
       "  </thead>\n",
       "  <tbody>\n",
       "    <tr>\n",
       "      <td>0</td>\n",
       "      <td>0</td>\n",
       "      <td>Centre-Forward</td>\n",
       "      <td>1.192161e+10</td>\n",
       "      <td>12338</td>\n",
       "      <td>-1.834332e+09</td>\n",
       "    </tr>\n",
       "    <tr>\n",
       "      <td>1</td>\n",
       "      <td>1</td>\n",
       "      <td>Centre-Back</td>\n",
       "      <td>7.118170e+09</td>\n",
       "      <td>10061</td>\n",
       "      <td>-1.093076e+09</td>\n",
       "    </tr>\n",
       "    <tr>\n",
       "      <td>2</td>\n",
       "      <td>2</td>\n",
       "      <td>Central Midfield</td>\n",
       "      <td>5.674836e+09</td>\n",
       "      <td>5721</td>\n",
       "      <td>-8.396422e+08</td>\n",
       "    </tr>\n",
       "    <tr>\n",
       "      <td>3</td>\n",
       "      <td>3</td>\n",
       "      <td>Left Winger</td>\n",
       "      <td>4.662268e+09</td>\n",
       "      <td>2765</td>\n",
       "      <td>4.519300e+07</td>\n",
       "    </tr>\n",
       "    <tr>\n",
       "      <td>4</td>\n",
       "      <td>4</td>\n",
       "      <td>Defensive Midfield</td>\n",
       "      <td>4.155074e+09</td>\n",
       "      <td>5174</td>\n",
       "      <td>-1.117551e+09</td>\n",
       "    </tr>\n",
       "    <tr>\n",
       "      <td>5</td>\n",
       "      <td>5</td>\n",
       "      <td>Attacking Midfield</td>\n",
       "      <td>4.018408e+09</td>\n",
       "      <td>4641</td>\n",
       "      <td>-1.192042e+09</td>\n",
       "    </tr>\n",
       "    <tr>\n",
       "      <td>6</td>\n",
       "      <td>6</td>\n",
       "      <td>Right Winger</td>\n",
       "      <td>3.966138e+09</td>\n",
       "      <td>2887</td>\n",
       "      <td>5.074750e+07</td>\n",
       "    </tr>\n",
       "    <tr>\n",
       "      <td>7</td>\n",
       "      <td>7</td>\n",
       "      <td>Left-Back</td>\n",
       "      <td>2.237758e+09</td>\n",
       "      <td>3606</td>\n",
       "      <td>-4.056720e+08</td>\n",
       "    </tr>\n",
       "    <tr>\n",
       "      <td>8</td>\n",
       "      <td>8</td>\n",
       "      <td>Right-Back</td>\n",
       "      <td>1.994593e+09</td>\n",
       "      <td>3476</td>\n",
       "      <td>-6.143620e+08</td>\n",
       "    </tr>\n",
       "    <tr>\n",
       "      <td>9</td>\n",
       "      <td>9</td>\n",
       "      <td>Goalkeeper</td>\n",
       "      <td>1.506380e+09</td>\n",
       "      <td>4984</td>\n",
       "      <td>-8.016100e+08</td>\n",
       "    </tr>\n",
       "    <tr>\n",
       "      <td>10</td>\n",
       "      <td>10</td>\n",
       "      <td>Second Striker</td>\n",
       "      <td>1.010190e+09</td>\n",
       "      <td>933</td>\n",
       "      <td>-2.052100e+08</td>\n",
       "    </tr>\n",
       "    <tr>\n",
       "      <td>11</td>\n",
       "      <td>11</td>\n",
       "      <td>Left Midfield</td>\n",
       "      <td>5.702800e+08</td>\n",
       "      <td>1436</td>\n",
       "      <td>-2.827550e+08</td>\n",
       "    </tr>\n",
       "    <tr>\n",
       "      <td>12</td>\n",
       "      <td>12</td>\n",
       "      <td>Right Midfield</td>\n",
       "      <td>3.403280e+08</td>\n",
       "      <td>1512</td>\n",
       "      <td>-2.957570e+08</td>\n",
       "    </tr>\n",
       "    <tr>\n",
       "      <td>13</td>\n",
       "      <td>13</td>\n",
       "      <td>Midfielder</td>\n",
       "      <td>6.673000e+06</td>\n",
       "      <td>1157</td>\n",
       "      <td>-9.151200e+07</td>\n",
       "    </tr>\n",
       "    <tr>\n",
       "      <td>14</td>\n",
       "      <td>14</td>\n",
       "      <td>Defender</td>\n",
       "      <td>4.892000e+06</td>\n",
       "      <td>555</td>\n",
       "      <td>-3.209300e+07</td>\n",
       "    </tr>\n",
       "    <tr>\n",
       "      <td>15</td>\n",
       "      <td>15</td>\n",
       "      <td>Forward</td>\n",
       "      <td>8.300000e+05</td>\n",
       "      <td>566</td>\n",
       "      <td>-5.877000e+07</td>\n",
       "    </tr>\n",
       "    <tr>\n",
       "      <td>16</td>\n",
       "      <td>16</td>\n",
       "      <td>Sweeper</td>\n",
       "      <td>0.000000e+00</td>\n",
       "      <td>12</td>\n",
       "      <td>-7.950000e+06</td>\n",
       "    </tr>\n",
       "  </tbody>\n",
       "</table>\n",
       "</div>"
      ],
      "text/plain": [
       "    index            Position      Transfer  No. of Transfers  Surplus/Deficit\n",
       "0       0      Centre-Forward  1.192161e+10             12338    -1.834332e+09\n",
       "1       1         Centre-Back  7.118170e+09             10061    -1.093076e+09\n",
       "2       2    Central Midfield  5.674836e+09              5721    -8.396422e+08\n",
       "3       3         Left Winger  4.662268e+09              2765     4.519300e+07\n",
       "4       4  Defensive Midfield  4.155074e+09              5174    -1.117551e+09\n",
       "5       5  Attacking Midfield  4.018408e+09              4641    -1.192042e+09\n",
       "6       6        Right Winger  3.966138e+09              2887     5.074750e+07\n",
       "7       7           Left-Back  2.237758e+09              3606    -4.056720e+08\n",
       "8       8          Right-Back  1.994593e+09              3476    -6.143620e+08\n",
       "9       9          Goalkeeper  1.506380e+09              4984    -8.016100e+08\n",
       "10     10      Second Striker  1.010190e+09               933    -2.052100e+08\n",
       "11     11       Left Midfield  5.702800e+08              1436    -2.827550e+08\n",
       "12     12      Right Midfield  3.403280e+08              1512    -2.957570e+08\n",
       "13     13          Midfielder  6.673000e+06              1157    -9.151200e+07\n",
       "14     14            Defender  4.892000e+06               555    -3.209300e+07\n",
       "15     15             Forward  8.300000e+05               566    -5.877000e+07\n",
       "16     16             Sweeper  0.000000e+00                12    -7.950000e+06"
      ]
     },
     "execution_count": 18,
     "metadata": {},
     "output_type": "execute_result"
    }
   ],
   "source": [
    "# Top positions in terms of surplus\n",
    "Top_Positions = Test_EDA.groupby(\"Position\").agg({\"Transfer\":\"sum\", 'Surplus/Deficit':'count'})\n",
    "Top_Positions= Top_Positions.sort_values(by='Transfer', ascending = False)\n",
    "Top_Positions.rename(columns={'Surplus/Deficit':'No. of Transfers'}, inplace=True)\n",
    "\n",
    "Top_Positions_New= pd.merge(Top_Positions.reset_index(),Test_EDA.groupby(\"Position\").agg({\"Surplus/Deficit\":\"sum\"}),\n",
    "                    how='inner',\n",
    "                    on = 'Position')\n",
    "\n",
    "Top_Positions_New.reset_index(inplace=True)\n",
    "Top_Positions_New"
   ]
  },
  {
   "cell_type": "markdown",
   "metadata": {},
   "source": [
    "<div class=\"alert alert-warning\" role=\"alert\">\n",
    "\n",
    "**Method** <br>\n",
    "In the following graph, we analyze the transfer market data for Player Position.\n",
    "</div>"
   ]
  },
  {
   "cell_type": "markdown",
   "metadata": {},
   "source": [
    "<div class=\"alert alert-success\" role=\"alert\">\n",
    "\n",
    "**Inference**<br>\n",
    "As expected, the position of the player is instrumental in determining the Transfer Fee and the number of transfers that take place. It is clear that positions such as Centre-Forward, Centre-Back and Central Midfield are far more important to managers in forming their team. Moreover, we observe that the Transfer Fee paid for a position like Centre-Forward is lower than the Market Valuation. We may infer that this is due to more number of players playing in that position.\n",
    "\n",
    "</div>    "
   ]
  },
  {
   "cell_type": "code",
   "execution_count": 19,
   "metadata": {},
   "outputs": [
    {
     "data": {
      "application/vnd.plotly.v1+json": {
       "config": {
        "plotlyServerURL": "https://plot.ly"
       },
       "data": [
        {
         "alignmentgroup": "True",
         "hoverlabel": {
          "namelength": 0
         },
         "hovertemplate": "<b>%{hovertext}</b><br><br>Position=%{x}<br>Transfer=%{y}<br>Surplus/Deficit=%{marker.color}",
         "hovertext": [
          "Centre-Forward",
          "Centre-Back",
          "Central Midfield",
          "Left Winger",
          "Defensive Midfield",
          "Attacking Midfield",
          "Right Winger",
          "Left-Back",
          "Right-Back",
          "Goalkeeper",
          "Second Striker",
          "Left Midfield",
          "Right Midfield",
          "Midfielder",
          "Defender",
          "Forward",
          "Sweeper"
         ],
         "legendgroup": "",
         "marker": {
          "color": [
           -1834331550,
           -1093075900,
           -839642150,
           45193000,
           -1117550900,
           -1192041500,
           50747500,
           -405672000,
           -614362000,
           -801610000,
           -205210000,
           -282755000,
           -295757000,
           -91512000,
           -32093000,
           -58770000,
           -7950000
          ],
          "coloraxis": "coloraxis"
         },
         "name": "",
         "offsetgroup": "",
         "orientation": "v",
         "showlegend": false,
         "textposition": "auto",
         "type": "bar",
         "x": [
          "Centre-Forward",
          "Centre-Back",
          "Central Midfield",
          "Left Winger",
          "Defensive Midfield",
          "Attacking Midfield",
          "Right Winger",
          "Left-Back",
          "Right-Back",
          "Goalkeeper",
          "Second Striker",
          "Left Midfield",
          "Right Midfield",
          "Midfielder",
          "Defender",
          "Forward",
          "Sweeper"
         ],
         "xaxis": "x",
         "y": [
          11921608450,
          7118170100,
          5674835850,
          4662268000,
          4155074100,
          4018408500,
          3966137500,
          2237758000,
          1994593000,
          1506380000,
          1010190000,
          570280000,
          340328000,
          6673000,
          4892000,
          830000,
          0
         ],
         "yaxis": "y"
        },
        {
         "hovertemplate": "Age: %{x}<br>Number of Transfers: %{y:,.0f}",
         "line": {
          "width": 3
         },
         "marker": {
          "color": "rgb(237,239,93)"
         },
         "name": "Number of Transfers",
         "text": [
          12338,
          10061,
          5721,
          2765,
          5174,
          4641,
          2887,
          3606,
          3476,
          4984,
          933,
          1436,
          1512,
          1157,
          555,
          566,
          12
         ],
         "type": "scatter",
         "x": [
          "Centre-Forward",
          "Centre-Back",
          "Central Midfield",
          "Left Winger",
          "Defensive Midfield",
          "Attacking Midfield",
          "Right Winger",
          "Left-Back",
          "Right-Back",
          "Goalkeeper",
          "Second Striker",
          "Left Midfield",
          "Right Midfield",
          "Midfielder",
          "Defender",
          "Forward",
          "Sweeper"
         ],
         "y": [
          12338,
          10061,
          5721,
          2765,
          5174,
          4641,
          2887,
          3606,
          3476,
          4984,
          933,
          1436,
          1512,
          1157,
          555,
          566,
          12
         ],
         "yaxis": "y2"
        }
       ],
       "layout": {
        "barmode": "relative",
        "coloraxis": {
         "colorbar": {
          "title": {
           "text": "Surplus/Deficit"
          }
         },
         "colorscale": [
          [
           0,
           "rgb(103,0,31)"
          ],
          [
           0.1,
           "rgb(178,24,43)"
          ],
          [
           0.2,
           "rgb(214,96,77)"
          ],
          [
           0.3,
           "rgb(244,165,130)"
          ],
          [
           0.4,
           "rgb(253,219,199)"
          ],
          [
           0.5,
           "rgb(247,247,247)"
          ],
          [
           0.6,
           "rgb(209,229,240)"
          ],
          [
           0.7,
           "rgb(146,197,222)"
          ],
          [
           0.8,
           "rgb(67,147,195)"
          ],
          [
           0.9,
           "rgb(33,102,172)"
          ],
          [
           1,
           "rgb(5,48,97)"
          ]
         ]
        },
        "font": {
         "color": "white",
         "family": "Arial, monospace",
         "size": 10
        },
        "hoverlabel": {
         "bgcolor": "black",
         "bordercolor": "black",
         "font": {
          "color": "white",
          "family": "Arial, monospace",
          "size": 14
         }
        },
        "legend": {
         "tracegroupgap": 0,
         "x": 0.8,
         "y": 1
        },
        "template": {
         "data": {
          "bar": [
           {
            "error_x": {
             "color": "#f2f5fa"
            },
            "error_y": {
             "color": "#f2f5fa"
            },
            "marker": {
             "line": {
              "color": "rgb(17,17,17)",
              "width": 0.5
             }
            },
            "type": "bar"
           }
          ],
          "barpolar": [
           {
            "marker": {
             "line": {
              "color": "rgb(17,17,17)",
              "width": 0.5
             }
            },
            "type": "barpolar"
           }
          ],
          "carpet": [
           {
            "aaxis": {
             "endlinecolor": "#A2B1C6",
             "gridcolor": "#506784",
             "linecolor": "#506784",
             "minorgridcolor": "#506784",
             "startlinecolor": "#A2B1C6"
            },
            "baxis": {
             "endlinecolor": "#A2B1C6",
             "gridcolor": "#506784",
             "linecolor": "#506784",
             "minorgridcolor": "#506784",
             "startlinecolor": "#A2B1C6"
            },
            "type": "carpet"
           }
          ],
          "choropleth": [
           {
            "colorbar": {
             "outlinewidth": 0,
             "ticks": ""
            },
            "type": "choropleth"
           }
          ],
          "contour": [
           {
            "colorbar": {
             "outlinewidth": 0,
             "ticks": ""
            },
            "colorscale": [
             [
              0,
              "#0d0887"
             ],
             [
              0.1111111111111111,
              "#46039f"
             ],
             [
              0.2222222222222222,
              "#7201a8"
             ],
             [
              0.3333333333333333,
              "#9c179e"
             ],
             [
              0.4444444444444444,
              "#bd3786"
             ],
             [
              0.5555555555555556,
              "#d8576b"
             ],
             [
              0.6666666666666666,
              "#ed7953"
             ],
             [
              0.7777777777777778,
              "#fb9f3a"
             ],
             [
              0.8888888888888888,
              "#fdca26"
             ],
             [
              1,
              "#f0f921"
             ]
            ],
            "type": "contour"
           }
          ],
          "contourcarpet": [
           {
            "colorbar": {
             "outlinewidth": 0,
             "ticks": ""
            },
            "type": "contourcarpet"
           }
          ],
          "heatmap": [
           {
            "colorbar": {
             "outlinewidth": 0,
             "ticks": ""
            },
            "colorscale": [
             [
              0,
              "#0d0887"
             ],
             [
              0.1111111111111111,
              "#46039f"
             ],
             [
              0.2222222222222222,
              "#7201a8"
             ],
             [
              0.3333333333333333,
              "#9c179e"
             ],
             [
              0.4444444444444444,
              "#bd3786"
             ],
             [
              0.5555555555555556,
              "#d8576b"
             ],
             [
              0.6666666666666666,
              "#ed7953"
             ],
             [
              0.7777777777777778,
              "#fb9f3a"
             ],
             [
              0.8888888888888888,
              "#fdca26"
             ],
             [
              1,
              "#f0f921"
             ]
            ],
            "type": "heatmap"
           }
          ],
          "heatmapgl": [
           {
            "colorbar": {
             "outlinewidth": 0,
             "ticks": ""
            },
            "colorscale": [
             [
              0,
              "#0d0887"
             ],
             [
              0.1111111111111111,
              "#46039f"
             ],
             [
              0.2222222222222222,
              "#7201a8"
             ],
             [
              0.3333333333333333,
              "#9c179e"
             ],
             [
              0.4444444444444444,
              "#bd3786"
             ],
             [
              0.5555555555555556,
              "#d8576b"
             ],
             [
              0.6666666666666666,
              "#ed7953"
             ],
             [
              0.7777777777777778,
              "#fb9f3a"
             ],
             [
              0.8888888888888888,
              "#fdca26"
             ],
             [
              1,
              "#f0f921"
             ]
            ],
            "type": "heatmapgl"
           }
          ],
          "histogram": [
           {
            "marker": {
             "colorbar": {
              "outlinewidth": 0,
              "ticks": ""
             }
            },
            "type": "histogram"
           }
          ],
          "histogram2d": [
           {
            "colorbar": {
             "outlinewidth": 0,
             "ticks": ""
            },
            "colorscale": [
             [
              0,
              "#0d0887"
             ],
             [
              0.1111111111111111,
              "#46039f"
             ],
             [
              0.2222222222222222,
              "#7201a8"
             ],
             [
              0.3333333333333333,
              "#9c179e"
             ],
             [
              0.4444444444444444,
              "#bd3786"
             ],
             [
              0.5555555555555556,
              "#d8576b"
             ],
             [
              0.6666666666666666,
              "#ed7953"
             ],
             [
              0.7777777777777778,
              "#fb9f3a"
             ],
             [
              0.8888888888888888,
              "#fdca26"
             ],
             [
              1,
              "#f0f921"
             ]
            ],
            "type": "histogram2d"
           }
          ],
          "histogram2dcontour": [
           {
            "colorbar": {
             "outlinewidth": 0,
             "ticks": ""
            },
            "colorscale": [
             [
              0,
              "#0d0887"
             ],
             [
              0.1111111111111111,
              "#46039f"
             ],
             [
              0.2222222222222222,
              "#7201a8"
             ],
             [
              0.3333333333333333,
              "#9c179e"
             ],
             [
              0.4444444444444444,
              "#bd3786"
             ],
             [
              0.5555555555555556,
              "#d8576b"
             ],
             [
              0.6666666666666666,
              "#ed7953"
             ],
             [
              0.7777777777777778,
              "#fb9f3a"
             ],
             [
              0.8888888888888888,
              "#fdca26"
             ],
             [
              1,
              "#f0f921"
             ]
            ],
            "type": "histogram2dcontour"
           }
          ],
          "mesh3d": [
           {
            "colorbar": {
             "outlinewidth": 0,
             "ticks": ""
            },
            "type": "mesh3d"
           }
          ],
          "parcoords": [
           {
            "line": {
             "colorbar": {
              "outlinewidth": 0,
              "ticks": ""
             }
            },
            "type": "parcoords"
           }
          ],
          "pie": [
           {
            "automargin": true,
            "type": "pie"
           }
          ],
          "scatter": [
           {
            "marker": {
             "line": {
              "color": "#283442"
             }
            },
            "type": "scatter"
           }
          ],
          "scatter3d": [
           {
            "line": {
             "colorbar": {
              "outlinewidth": 0,
              "ticks": ""
             }
            },
            "marker": {
             "colorbar": {
              "outlinewidth": 0,
              "ticks": ""
             }
            },
            "type": "scatter3d"
           }
          ],
          "scattercarpet": [
           {
            "marker": {
             "colorbar": {
              "outlinewidth": 0,
              "ticks": ""
             }
            },
            "type": "scattercarpet"
           }
          ],
          "scattergeo": [
           {
            "marker": {
             "colorbar": {
              "outlinewidth": 0,
              "ticks": ""
             }
            },
            "type": "scattergeo"
           }
          ],
          "scattergl": [
           {
            "marker": {
             "line": {
              "color": "#283442"
             }
            },
            "type": "scattergl"
           }
          ],
          "scattermapbox": [
           {
            "marker": {
             "colorbar": {
              "outlinewidth": 0,
              "ticks": ""
             }
            },
            "type": "scattermapbox"
           }
          ],
          "scatterpolar": [
           {
            "marker": {
             "colorbar": {
              "outlinewidth": 0,
              "ticks": ""
             }
            },
            "type": "scatterpolar"
           }
          ],
          "scatterpolargl": [
           {
            "marker": {
             "colorbar": {
              "outlinewidth": 0,
              "ticks": ""
             }
            },
            "type": "scatterpolargl"
           }
          ],
          "scatterternary": [
           {
            "marker": {
             "colorbar": {
              "outlinewidth": 0,
              "ticks": ""
             }
            },
            "type": "scatterternary"
           }
          ],
          "surface": [
           {
            "colorbar": {
             "outlinewidth": 0,
             "ticks": ""
            },
            "colorscale": [
             [
              0,
              "#0d0887"
             ],
             [
              0.1111111111111111,
              "#46039f"
             ],
             [
              0.2222222222222222,
              "#7201a8"
             ],
             [
              0.3333333333333333,
              "#9c179e"
             ],
             [
              0.4444444444444444,
              "#bd3786"
             ],
             [
              0.5555555555555556,
              "#d8576b"
             ],
             [
              0.6666666666666666,
              "#ed7953"
             ],
             [
              0.7777777777777778,
              "#fb9f3a"
             ],
             [
              0.8888888888888888,
              "#fdca26"
             ],
             [
              1,
              "#f0f921"
             ]
            ],
            "type": "surface"
           }
          ],
          "table": [
           {
            "cells": {
             "fill": {
              "color": "#506784"
             },
             "line": {
              "color": "rgb(17,17,17)"
             }
            },
            "header": {
             "fill": {
              "color": "#2a3f5f"
             },
             "line": {
              "color": "rgb(17,17,17)"
             }
            },
            "type": "table"
           }
          ]
         },
         "layout": {
          "annotationdefaults": {
           "arrowcolor": "#f2f5fa",
           "arrowhead": 0,
           "arrowwidth": 1
          },
          "coloraxis": {
           "colorbar": {
            "outlinewidth": 0,
            "ticks": ""
           }
          },
          "colorscale": {
           "diverging": [
            [
             0,
             "#8e0152"
            ],
            [
             0.1,
             "#c51b7d"
            ],
            [
             0.2,
             "#de77ae"
            ],
            [
             0.3,
             "#f1b6da"
            ],
            [
             0.4,
             "#fde0ef"
            ],
            [
             0.5,
             "#f7f7f7"
            ],
            [
             0.6,
             "#e6f5d0"
            ],
            [
             0.7,
             "#b8e186"
            ],
            [
             0.8,
             "#7fbc41"
            ],
            [
             0.9,
             "#4d9221"
            ],
            [
             1,
             "#276419"
            ]
           ],
           "sequential": [
            [
             0,
             "#0d0887"
            ],
            [
             0.1111111111111111,
             "#46039f"
            ],
            [
             0.2222222222222222,
             "#7201a8"
            ],
            [
             0.3333333333333333,
             "#9c179e"
            ],
            [
             0.4444444444444444,
             "#bd3786"
            ],
            [
             0.5555555555555556,
             "#d8576b"
            ],
            [
             0.6666666666666666,
             "#ed7953"
            ],
            [
             0.7777777777777778,
             "#fb9f3a"
            ],
            [
             0.8888888888888888,
             "#fdca26"
            ],
            [
             1,
             "#f0f921"
            ]
           ],
           "sequentialminus": [
            [
             0,
             "#0d0887"
            ],
            [
             0.1111111111111111,
             "#46039f"
            ],
            [
             0.2222222222222222,
             "#7201a8"
            ],
            [
             0.3333333333333333,
             "#9c179e"
            ],
            [
             0.4444444444444444,
             "#bd3786"
            ],
            [
             0.5555555555555556,
             "#d8576b"
            ],
            [
             0.6666666666666666,
             "#ed7953"
            ],
            [
             0.7777777777777778,
             "#fb9f3a"
            ],
            [
             0.8888888888888888,
             "#fdca26"
            ],
            [
             1,
             "#f0f921"
            ]
           ]
          },
          "colorway": [
           "#636efa",
           "#EF553B",
           "#00cc96",
           "#ab63fa",
           "#FFA15A",
           "#19d3f3",
           "#FF6692",
           "#B6E880",
           "#FF97FF",
           "#FECB52"
          ],
          "font": {
           "color": "#f2f5fa"
          },
          "geo": {
           "bgcolor": "rgb(17,17,17)",
           "lakecolor": "rgb(17,17,17)",
           "landcolor": "rgb(17,17,17)",
           "showlakes": true,
           "showland": true,
           "subunitcolor": "#506784"
          },
          "hoverlabel": {
           "align": "left"
          },
          "hovermode": "closest",
          "mapbox": {
           "style": "dark"
          },
          "paper_bgcolor": "rgb(17,17,17)",
          "plot_bgcolor": "rgb(17,17,17)",
          "polar": {
           "angularaxis": {
            "gridcolor": "#506784",
            "linecolor": "#506784",
            "ticks": ""
           },
           "bgcolor": "rgb(17,17,17)",
           "radialaxis": {
            "gridcolor": "#506784",
            "linecolor": "#506784",
            "ticks": ""
           }
          },
          "scene": {
           "xaxis": {
            "backgroundcolor": "rgb(17,17,17)",
            "gridcolor": "#506784",
            "gridwidth": 2,
            "linecolor": "#506784",
            "showbackground": true,
            "ticks": "",
            "zerolinecolor": "#C8D4E3"
           },
           "yaxis": {
            "backgroundcolor": "rgb(17,17,17)",
            "gridcolor": "#506784",
            "gridwidth": 2,
            "linecolor": "#506784",
            "showbackground": true,
            "ticks": "",
            "zerolinecolor": "#C8D4E3"
           },
           "zaxis": {
            "backgroundcolor": "rgb(17,17,17)",
            "gridcolor": "#506784",
            "gridwidth": 2,
            "linecolor": "#506784",
            "showbackground": true,
            "ticks": "",
            "zerolinecolor": "#C8D4E3"
           }
          },
          "shapedefaults": {
           "line": {
            "color": "#f2f5fa"
           }
          },
          "sliderdefaults": {
           "bgcolor": "#C8D4E3",
           "bordercolor": "rgb(17,17,17)",
           "borderwidth": 1,
           "tickwidth": 0
          },
          "ternary": {
           "aaxis": {
            "gridcolor": "#506784",
            "linecolor": "#506784",
            "ticks": ""
           },
           "baxis": {
            "gridcolor": "#506784",
            "linecolor": "#506784",
            "ticks": ""
           },
           "bgcolor": "rgb(17,17,17)",
           "caxis": {
            "gridcolor": "#506784",
            "linecolor": "#506784",
            "ticks": ""
           }
          },
          "title": {
           "x": 0.05
          },
          "updatemenudefaults": {
           "bgcolor": "#506784",
           "borderwidth": 0
          },
          "xaxis": {
           "automargin": true,
           "gridcolor": "#283442",
           "linecolor": "#506784",
           "ticks": "",
           "title": {
            "standoff": 15
           },
           "zerolinecolor": "#283442",
           "zerolinewidth": 2
          },
          "yaxis": {
           "automargin": true,
           "gridcolor": "#283442",
           "linecolor": "#506784",
           "ticks": "",
           "title": {
            "standoff": 15
           },
           "zerolinecolor": "#283442",
           "zerolinewidth": 2
          }
         }
        },
        "title": {
         "text": "Transfer Market Analysis based on Player Position"
        },
        "xaxis": {
         "linecolor": "white",
         "showgrid": false,
         "showline": true,
         "showticklabels": true,
         "tickfont": {
          "color": "white",
          "family": "Arial",
          "size": 10
         },
         "title": {
          "font": {
           "color": "white",
           "family": "Arial, monospace",
           "size": 14
          },
          "text": "Position"
         },
         "zeroline": false
        },
        "yaxis": {
         "showgrid": false,
         "title": {
          "font": {
           "color": "white",
           "family": "Arial, monospace",
           "size": 14
          },
          "text": "Total Transfer Fee Spent (2005-2019), in Euros"
         },
         "zeroline": false
        },
        "yaxis2": {
         "overlaying": "y",
         "showgrid": false,
         "side": "right",
         "title": {
          "text": ""
         },
         "zeroline": false
        }
       }
      },
      "text/html": [
       "<div>\n",
       "        \n",
       "        \n",
       "            <div id=\"e163a1cf-4aca-43e6-9193-30cbc09e86f0\" class=\"plotly-graph-div\" style=\"height:525px; width:100%;\"></div>\n",
       "            <script type=\"text/javascript\">\n",
       "                require([\"plotly\"], function(Plotly) {\n",
       "                    window.PLOTLYENV=window.PLOTLYENV || {};\n",
       "                    \n",
       "                if (document.getElementById(\"e163a1cf-4aca-43e6-9193-30cbc09e86f0\")) {\n",
       "                    Plotly.newPlot(\n",
       "                        'e163a1cf-4aca-43e6-9193-30cbc09e86f0',\n",
       "                        [{\"alignmentgroup\": \"True\", \"hoverlabel\": {\"namelength\": 0}, \"hovertemplate\": \"<b>%{hovertext}</b><br><br>Position=%{x}<br>Transfer=%{y}<br>Surplus/Deficit=%{marker.color}\", \"hovertext\": [\"Centre-Forward\", \"Centre-Back\", \"Central Midfield\", \"Left Winger\", \"Defensive Midfield\", \"Attacking Midfield\", \"Right Winger\", \"Left-Back\", \"Right-Back\", \"Goalkeeper\", \"Second Striker\", \"Left Midfield\", \"Right Midfield\", \"Midfielder\", \"Defender\", \"Forward\", \"Sweeper\"], \"legendgroup\": \"\", \"marker\": {\"color\": [-1834331550.0, -1093075900.0, -839642150.0, 45193000.0, -1117550900.0, -1192041500.0, 50747500.0, -405672000.0, -614362000.0, -801610000.0, -205210000.0, -282755000.0, -295757000.0, -91512000.0, -32093000.0, -58770000.0, -7950000.0], \"coloraxis\": \"coloraxis\"}, \"name\": \"\", \"offsetgroup\": \"\", \"orientation\": \"v\", \"showlegend\": false, \"textposition\": \"auto\", \"type\": \"bar\", \"x\": [\"Centre-Forward\", \"Centre-Back\", \"Central Midfield\", \"Left Winger\", \"Defensive Midfield\", \"Attacking Midfield\", \"Right Winger\", \"Left-Back\", \"Right-Back\", \"Goalkeeper\", \"Second Striker\", \"Left Midfield\", \"Right Midfield\", \"Midfielder\", \"Defender\", \"Forward\", \"Sweeper\"], \"xaxis\": \"x\", \"y\": [11921608450.0, 7118170100.0, 5674835850.0, 4662268000.0, 4155074100.0, 4018408500.0, 3966137500.0, 2237758000.0, 1994593000.0, 1506380000.0, 1010190000.0, 570280000.0, 340328000.0, 6673000.0, 4892000.0, 830000.0, 0.0], \"yaxis\": \"y\"}, {\"hovertemplate\": \"Age: %{x}<br>Number of Transfers: %{y:,.0f}\", \"line\": {\"width\": 3}, \"marker\": {\"color\": \"rgb(237,239,93)\"}, \"name\": \"Number of Transfers\", \"text\": [12338.0, 10061.0, 5721.0, 2765.0, 5174.0, 4641.0, 2887.0, 3606.0, 3476.0, 4984.0, 933.0, 1436.0, 1512.0, 1157.0, 555.0, 566.0, 12.0], \"type\": \"scatter\", \"x\": [\"Centre-Forward\", \"Centre-Back\", \"Central Midfield\", \"Left Winger\", \"Defensive Midfield\", \"Attacking Midfield\", \"Right Winger\", \"Left-Back\", \"Right-Back\", \"Goalkeeper\", \"Second Striker\", \"Left Midfield\", \"Right Midfield\", \"Midfielder\", \"Defender\", \"Forward\", \"Sweeper\"], \"y\": [12338, 10061, 5721, 2765, 5174, 4641, 2887, 3606, 3476, 4984, 933, 1436, 1512, 1157, 555, 566, 12], \"yaxis\": \"y2\"}],\n",
       "                        {\"barmode\": \"relative\", \"coloraxis\": {\"colorbar\": {\"title\": {\"text\": \"Surplus/Deficit\"}}, \"colorscale\": [[0.0, \"rgb(103,0,31)\"], [0.1, \"rgb(178,24,43)\"], [0.2, \"rgb(214,96,77)\"], [0.3, \"rgb(244,165,130)\"], [0.4, \"rgb(253,219,199)\"], [0.5, \"rgb(247,247,247)\"], [0.6, \"rgb(209,229,240)\"], [0.7, \"rgb(146,197,222)\"], [0.8, \"rgb(67,147,195)\"], [0.9, \"rgb(33,102,172)\"], [1.0, \"rgb(5,48,97)\"]]}, \"font\": {\"color\": \"white\", \"family\": \"Arial, monospace\", \"size\": 10}, \"hoverlabel\": {\"bgcolor\": \"black\", \"bordercolor\": \"black\", \"font\": {\"color\": \"white\", \"family\": \"Arial, monospace\", \"size\": 14}}, \"legend\": {\"tracegroupgap\": 0, \"x\": 0.8, \"y\": 1}, \"template\": {\"data\": {\"bar\": [{\"error_x\": {\"color\": \"#f2f5fa\"}, \"error_y\": {\"color\": \"#f2f5fa\"}, \"marker\": {\"line\": {\"color\": \"rgb(17,17,17)\", \"width\": 0.5}}, \"type\": \"bar\"}], \"barpolar\": [{\"marker\": {\"line\": {\"color\": \"rgb(17,17,17)\", \"width\": 0.5}}, \"type\": \"barpolar\"}], \"carpet\": [{\"aaxis\": {\"endlinecolor\": \"#A2B1C6\", \"gridcolor\": \"#506784\", \"linecolor\": \"#506784\", \"minorgridcolor\": \"#506784\", \"startlinecolor\": \"#A2B1C6\"}, \"baxis\": {\"endlinecolor\": \"#A2B1C6\", \"gridcolor\": \"#506784\", \"linecolor\": \"#506784\", \"minorgridcolor\": \"#506784\", \"startlinecolor\": \"#A2B1C6\"}, \"type\": \"carpet\"}], \"choropleth\": [{\"colorbar\": {\"outlinewidth\": 0, \"ticks\": \"\"}, \"type\": \"choropleth\"}], \"contour\": [{\"colorbar\": {\"outlinewidth\": 0, \"ticks\": \"\"}, \"colorscale\": [[0.0, \"#0d0887\"], [0.1111111111111111, \"#46039f\"], [0.2222222222222222, \"#7201a8\"], [0.3333333333333333, \"#9c179e\"], [0.4444444444444444, \"#bd3786\"], [0.5555555555555556, \"#d8576b\"], [0.6666666666666666, \"#ed7953\"], [0.7777777777777778, \"#fb9f3a\"], [0.8888888888888888, \"#fdca26\"], [1.0, \"#f0f921\"]], \"type\": \"contour\"}], \"contourcarpet\": [{\"colorbar\": {\"outlinewidth\": 0, \"ticks\": \"\"}, \"type\": \"contourcarpet\"}], \"heatmap\": [{\"colorbar\": {\"outlinewidth\": 0, \"ticks\": \"\"}, \"colorscale\": [[0.0, \"#0d0887\"], [0.1111111111111111, \"#46039f\"], [0.2222222222222222, \"#7201a8\"], [0.3333333333333333, \"#9c179e\"], [0.4444444444444444, \"#bd3786\"], [0.5555555555555556, \"#d8576b\"], [0.6666666666666666, \"#ed7953\"], [0.7777777777777778, \"#fb9f3a\"], [0.8888888888888888, \"#fdca26\"], [1.0, \"#f0f921\"]], \"type\": \"heatmap\"}], \"heatmapgl\": [{\"colorbar\": {\"outlinewidth\": 0, \"ticks\": \"\"}, \"colorscale\": [[0.0, \"#0d0887\"], [0.1111111111111111, \"#46039f\"], [0.2222222222222222, \"#7201a8\"], [0.3333333333333333, \"#9c179e\"], [0.4444444444444444, \"#bd3786\"], [0.5555555555555556, \"#d8576b\"], [0.6666666666666666, \"#ed7953\"], [0.7777777777777778, \"#fb9f3a\"], [0.8888888888888888, \"#fdca26\"], [1.0, \"#f0f921\"]], \"type\": \"heatmapgl\"}], \"histogram\": [{\"marker\": {\"colorbar\": {\"outlinewidth\": 0, \"ticks\": \"\"}}, \"type\": \"histogram\"}], \"histogram2d\": [{\"colorbar\": {\"outlinewidth\": 0, \"ticks\": \"\"}, \"colorscale\": [[0.0, \"#0d0887\"], [0.1111111111111111, \"#46039f\"], [0.2222222222222222, \"#7201a8\"], [0.3333333333333333, \"#9c179e\"], [0.4444444444444444, \"#bd3786\"], [0.5555555555555556, \"#d8576b\"], [0.6666666666666666, \"#ed7953\"], [0.7777777777777778, \"#fb9f3a\"], [0.8888888888888888, \"#fdca26\"], [1.0, \"#f0f921\"]], \"type\": \"histogram2d\"}], \"histogram2dcontour\": [{\"colorbar\": {\"outlinewidth\": 0, \"ticks\": \"\"}, \"colorscale\": [[0.0, \"#0d0887\"], [0.1111111111111111, \"#46039f\"], [0.2222222222222222, \"#7201a8\"], [0.3333333333333333, \"#9c179e\"], [0.4444444444444444, \"#bd3786\"], [0.5555555555555556, \"#d8576b\"], [0.6666666666666666, \"#ed7953\"], [0.7777777777777778, \"#fb9f3a\"], [0.8888888888888888, \"#fdca26\"], [1.0, \"#f0f921\"]], \"type\": \"histogram2dcontour\"}], \"mesh3d\": [{\"colorbar\": {\"outlinewidth\": 0, \"ticks\": \"\"}, \"type\": \"mesh3d\"}], \"parcoords\": [{\"line\": {\"colorbar\": {\"outlinewidth\": 0, \"ticks\": \"\"}}, \"type\": \"parcoords\"}], \"pie\": [{\"automargin\": true, \"type\": \"pie\"}], \"scatter\": [{\"marker\": {\"line\": {\"color\": \"#283442\"}}, \"type\": \"scatter\"}], \"scatter3d\": [{\"line\": {\"colorbar\": {\"outlinewidth\": 0, \"ticks\": \"\"}}, \"marker\": {\"colorbar\": {\"outlinewidth\": 0, \"ticks\": \"\"}}, \"type\": \"scatter3d\"}], \"scattercarpet\": [{\"marker\": {\"colorbar\": {\"outlinewidth\": 0, \"ticks\": \"\"}}, \"type\": \"scattercarpet\"}], \"scattergeo\": [{\"marker\": {\"colorbar\": {\"outlinewidth\": 0, \"ticks\": \"\"}}, \"type\": \"scattergeo\"}], \"scattergl\": [{\"marker\": {\"line\": {\"color\": \"#283442\"}}, \"type\": \"scattergl\"}], \"scattermapbox\": [{\"marker\": {\"colorbar\": {\"outlinewidth\": 0, \"ticks\": \"\"}}, \"type\": \"scattermapbox\"}], \"scatterpolar\": [{\"marker\": {\"colorbar\": {\"outlinewidth\": 0, \"ticks\": \"\"}}, \"type\": \"scatterpolar\"}], \"scatterpolargl\": [{\"marker\": {\"colorbar\": {\"outlinewidth\": 0, \"ticks\": \"\"}}, \"type\": \"scatterpolargl\"}], \"scatterternary\": [{\"marker\": {\"colorbar\": {\"outlinewidth\": 0, \"ticks\": \"\"}}, \"type\": \"scatterternary\"}], \"surface\": [{\"colorbar\": {\"outlinewidth\": 0, \"ticks\": \"\"}, \"colorscale\": [[0.0, \"#0d0887\"], [0.1111111111111111, \"#46039f\"], [0.2222222222222222, \"#7201a8\"], [0.3333333333333333, \"#9c179e\"], [0.4444444444444444, \"#bd3786\"], [0.5555555555555556, \"#d8576b\"], [0.6666666666666666, \"#ed7953\"], [0.7777777777777778, \"#fb9f3a\"], [0.8888888888888888, \"#fdca26\"], [1.0, \"#f0f921\"]], \"type\": \"surface\"}], \"table\": [{\"cells\": {\"fill\": {\"color\": \"#506784\"}, \"line\": {\"color\": \"rgb(17,17,17)\"}}, \"header\": {\"fill\": {\"color\": \"#2a3f5f\"}, \"line\": {\"color\": \"rgb(17,17,17)\"}}, \"type\": \"table\"}]}, \"layout\": {\"annotationdefaults\": {\"arrowcolor\": \"#f2f5fa\", \"arrowhead\": 0, \"arrowwidth\": 1}, \"coloraxis\": {\"colorbar\": {\"outlinewidth\": 0, \"ticks\": \"\"}}, \"colorscale\": {\"diverging\": [[0, \"#8e0152\"], [0.1, \"#c51b7d\"], [0.2, \"#de77ae\"], [0.3, \"#f1b6da\"], [0.4, \"#fde0ef\"], [0.5, \"#f7f7f7\"], [0.6, \"#e6f5d0\"], [0.7, \"#b8e186\"], [0.8, \"#7fbc41\"], [0.9, \"#4d9221\"], [1, \"#276419\"]], \"sequential\": [[0.0, \"#0d0887\"], [0.1111111111111111, \"#46039f\"], [0.2222222222222222, \"#7201a8\"], [0.3333333333333333, \"#9c179e\"], [0.4444444444444444, \"#bd3786\"], [0.5555555555555556, \"#d8576b\"], [0.6666666666666666, \"#ed7953\"], [0.7777777777777778, \"#fb9f3a\"], [0.8888888888888888, \"#fdca26\"], [1.0, \"#f0f921\"]], \"sequentialminus\": [[0.0, \"#0d0887\"], [0.1111111111111111, \"#46039f\"], [0.2222222222222222, \"#7201a8\"], [0.3333333333333333, \"#9c179e\"], [0.4444444444444444, \"#bd3786\"], [0.5555555555555556, \"#d8576b\"], [0.6666666666666666, \"#ed7953\"], [0.7777777777777778, \"#fb9f3a\"], [0.8888888888888888, \"#fdca26\"], [1.0, \"#f0f921\"]]}, \"colorway\": [\"#636efa\", \"#EF553B\", \"#00cc96\", \"#ab63fa\", \"#FFA15A\", \"#19d3f3\", \"#FF6692\", \"#B6E880\", \"#FF97FF\", \"#FECB52\"], \"font\": {\"color\": \"#f2f5fa\"}, \"geo\": {\"bgcolor\": \"rgb(17,17,17)\", \"lakecolor\": \"rgb(17,17,17)\", \"landcolor\": \"rgb(17,17,17)\", \"showlakes\": true, \"showland\": true, \"subunitcolor\": \"#506784\"}, \"hoverlabel\": {\"align\": \"left\"}, \"hovermode\": \"closest\", \"mapbox\": {\"style\": \"dark\"}, \"paper_bgcolor\": \"rgb(17,17,17)\", \"plot_bgcolor\": \"rgb(17,17,17)\", \"polar\": {\"angularaxis\": {\"gridcolor\": \"#506784\", \"linecolor\": \"#506784\", \"ticks\": \"\"}, \"bgcolor\": \"rgb(17,17,17)\", \"radialaxis\": {\"gridcolor\": \"#506784\", \"linecolor\": \"#506784\", \"ticks\": \"\"}}, \"scene\": {\"xaxis\": {\"backgroundcolor\": \"rgb(17,17,17)\", \"gridcolor\": \"#506784\", \"gridwidth\": 2, \"linecolor\": \"#506784\", \"showbackground\": true, \"ticks\": \"\", \"zerolinecolor\": \"#C8D4E3\"}, \"yaxis\": {\"backgroundcolor\": \"rgb(17,17,17)\", \"gridcolor\": \"#506784\", \"gridwidth\": 2, \"linecolor\": \"#506784\", \"showbackground\": true, \"ticks\": \"\", \"zerolinecolor\": \"#C8D4E3\"}, \"zaxis\": {\"backgroundcolor\": \"rgb(17,17,17)\", \"gridcolor\": \"#506784\", \"gridwidth\": 2, \"linecolor\": \"#506784\", \"showbackground\": true, \"ticks\": \"\", \"zerolinecolor\": \"#C8D4E3\"}}, \"shapedefaults\": {\"line\": {\"color\": \"#f2f5fa\"}}, \"sliderdefaults\": {\"bgcolor\": \"#C8D4E3\", \"bordercolor\": \"rgb(17,17,17)\", \"borderwidth\": 1, \"tickwidth\": 0}, \"ternary\": {\"aaxis\": {\"gridcolor\": \"#506784\", \"linecolor\": \"#506784\", \"ticks\": \"\"}, \"baxis\": {\"gridcolor\": \"#506784\", \"linecolor\": \"#506784\", \"ticks\": \"\"}, \"bgcolor\": \"rgb(17,17,17)\", \"caxis\": {\"gridcolor\": \"#506784\", \"linecolor\": \"#506784\", \"ticks\": \"\"}}, \"title\": {\"x\": 0.05}, \"updatemenudefaults\": {\"bgcolor\": \"#506784\", \"borderwidth\": 0}, \"xaxis\": {\"automargin\": true, \"gridcolor\": \"#283442\", \"linecolor\": \"#506784\", \"ticks\": \"\", \"title\": {\"standoff\": 15}, \"zerolinecolor\": \"#283442\", \"zerolinewidth\": 2}, \"yaxis\": {\"automargin\": true, \"gridcolor\": \"#283442\", \"linecolor\": \"#506784\", \"ticks\": \"\", \"title\": {\"standoff\": 15}, \"zerolinecolor\": \"#283442\", \"zerolinewidth\": 2}}}, \"title\": {\"text\": \"Transfer Market Analysis based on Player Position\"}, \"xaxis\": {\"linecolor\": \"white\", \"showgrid\": false, \"showline\": true, \"showticklabels\": true, \"tickfont\": {\"color\": \"white\", \"family\": \"Arial\", \"size\": 10}, \"title\": {\"font\": {\"color\": \"white\", \"family\": \"Arial, monospace\", \"size\": 14}, \"text\": \"Position\"}, \"zeroline\": false}, \"yaxis\": {\"showgrid\": false, \"title\": {\"font\": {\"color\": \"white\", \"family\": \"Arial, monospace\", \"size\": 14}, \"text\": \"Total Transfer Fee Spent (2005-2019), in Euros\"}, \"zeroline\": false}, \"yaxis2\": {\"overlaying\": \"y\", \"showgrid\": false, \"side\": \"right\", \"title\": {\"text\": \"\"}, \"zeroline\": false}},\n",
       "                        {\"responsive\": true}\n",
       "                    ).then(function(){\n",
       "                            \n",
       "var gd = document.getElementById('e163a1cf-4aca-43e6-9193-30cbc09e86f0');\n",
       "var x = new MutationObserver(function (mutations, observer) {{\n",
       "        var display = window.getComputedStyle(gd).display;\n",
       "        if (!display || display === 'none') {{\n",
       "            console.log([gd, 'removed!']);\n",
       "            Plotly.purge(gd);\n",
       "            observer.disconnect();\n",
       "        }}\n",
       "}});\n",
       "\n",
       "// Listen for the removal of the full notebook cells\n",
       "var notebookContainer = gd.closest('#notebook-container');\n",
       "if (notebookContainer) {{\n",
       "    x.observe(notebookContainer, {childList: true});\n",
       "}}\n",
       "\n",
       "// Listen for the clearing of the current output cell\n",
       "var outputEl = gd.closest('.output');\n",
       "if (outputEl) {{\n",
       "    x.observe(outputEl, {childList: true});\n",
       "}}\n",
       "\n",
       "                        })\n",
       "                };\n",
       "                });\n",
       "            </script>\n",
       "        </div>"
      ]
     },
     "metadata": {},
     "output_type": "display_data"
    }
   ],
   "source": [
    "fig5 = px.bar(Top_Positions_New.reset_index(),\n",
    "               x = \"Position\",\n",
    "               y = \"Transfer\",\n",
    "               color = \"Surplus/Deficit\",\n",
    "               color_continuous_scale = px.colors.sequential.RdBu,\n",
    "               hover_name = \"Position\",\n",
    "               title = 'Transfer Market Analysis based on Player Position',\n",
    "               template = 'plotly_dark')\n",
    "\n",
    "fig5.add_trace(\n",
    "    go.Line(# interactive bar object\n",
    "                x = Top_Positions_New.Position,\n",
    "                y = Top_Positions_New['No. of Transfers'],\n",
    "                name = \"Number of Transfers\",\n",
    "                marker = dict(color = 'rgb(237,239,93)'),\n",
    "                line = dict(width = 3),\n",
    "                text = Top_Positions_New['No. of Transfers'],\n",
    "                hovertemplate =\n",
    "                \"Age: %{x}<br>\" +\n",
    "                \"Number of Transfers: %{y:,.0f}\",\n",
    "                yaxis='y2')\n",
    ")\n",
    "\n",
    "fig5.update_layout(\n",
    "    hoverlabel=dict(\n",
    "        bgcolor=\"black\",\n",
    "        font=dict(\n",
    "                family=\"Arial, monospace\",\n",
    "                size=14,\n",
    "                color=\"white\"\n",
    "            ),\n",
    "        bordercolor = \"black\"\n",
    "    ),\n",
    "    xaxis=go.layout.XAxis(\n",
    "        title=go.layout.xaxis.Title(\n",
    "            text=\"Position\",\n",
    "            font=dict(\n",
    "                family=\"Arial, monospace\",\n",
    "                size=14,\n",
    "                color=\"white\"\n",
    "            )\n",
    "        ),\n",
    "        showline = True,\n",
    "        linecolor = 'white',\n",
    "        showticklabels = True,\n",
    "        tickfont = dict(\n",
    "            family = 'Arial',\n",
    "            size = 10,\n",
    "            color = 'white'\n",
    "      )\n",
    "    ),\n",
    "    yaxis=go.layout.YAxis(\n",
    "        title=go.layout.yaxis.Title(\n",
    "            text=\"Total Transfer Fee Spent (2005-2019), in Euros\",\n",
    "            font=dict(\n",
    "                family=\"Arial, monospace\",\n",
    "                size=14,\n",
    "                color=\"white\"\n",
    "            )\n",
    "        )\n",
    "    ),\n",
    "      yaxis2=dict(title='',\n",
    "           overlaying='y',\n",
    "           side='right'),\n",
    "           font=dict(\n",
    "                family=\"Arial, monospace\",\n",
    "                size=10,\n",
    "                color=\"white\"\n",
    "            )\n",
    "                 )\n",
    "\n",
    "fig5.update_layout(\n",
    "    legend=dict(\n",
    "        x=0.80,\n",
    "        y=1\n",
    "    )\n",
    ")\n",
    "\n",
    "fig5.update_layout(\n",
    "    xaxis=dict(showgrid=False, zeroline=False),\n",
    "    yaxis=dict(showgrid=False, zeroline=False),\n",
    "    yaxis2=dict(showgrid=False, zeroline=False)\n",
    ")\n",
    "\n",
    "# plot(fig5 ,filename = 'TopPosition.html')\n",
    "fig5.show()"
   ]
  },
  {
   "cell_type": "markdown",
   "metadata": {},
   "source": [
    "<div class=\"alert alert-danger\" role=\"alert\">\n",
    "\n",
    "**Part 5: Time-Series Analyses for Transfermarkt Data** <br><br>\n",
    "This is a summary of the Transfer data obtained from the Transfermarkt website.\n",
    "</div>"
   ]
  },
  {
   "cell_type": "code",
   "execution_count": 20,
   "metadata": {},
   "outputs": [
    {
     "data": {
      "text/html": [
       "<div>\n",
       "<style scoped>\n",
       "    .dataframe tbody tr th:only-of-type {\n",
       "        vertical-align: middle;\n",
       "    }\n",
       "\n",
       "    .dataframe tbody tr th {\n",
       "        vertical-align: top;\n",
       "    }\n",
       "\n",
       "    .dataframe thead th {\n",
       "        text-align: right;\n",
       "    }\n",
       "</style>\n",
       "<table border=\"1\" class=\"dataframe\">\n",
       "  <thead>\n",
       "    <tr style=\"text-align: right;\">\n",
       "      <th></th>\n",
       "      <th>Year</th>\n",
       "      <th>Transfer</th>\n",
       "      <th>No. of Transfers</th>\n",
       "      <th>Market Valuation</th>\n",
       "      <th>Surplus/Deficit</th>\n",
       "    </tr>\n",
       "  </thead>\n",
       "  <tbody>\n",
       "    <tr>\n",
       "      <td>0</td>\n",
       "      <td>2005</td>\n",
       "      <td>9.942693e+05</td>\n",
       "      <td>973</td>\n",
       "      <td>1.544702e+06</td>\n",
       "      <td>-550432.682425</td>\n",
       "    </tr>\n",
       "    <tr>\n",
       "      <td>1</td>\n",
       "      <td>2006</td>\n",
       "      <td>9.801514e+05</td>\n",
       "      <td>1212</td>\n",
       "      <td>1.504357e+06</td>\n",
       "      <td>-525405.528053</td>\n",
       "    </tr>\n",
       "    <tr>\n",
       "      <td>2</td>\n",
       "      <td>2007</td>\n",
       "      <td>1.253471e+06</td>\n",
       "      <td>1430</td>\n",
       "      <td>1.454310e+06</td>\n",
       "      <td>-203123.076923</td>\n",
       "    </tr>\n",
       "    <tr>\n",
       "      <td>3</td>\n",
       "      <td>2008</td>\n",
       "      <td>1.211738e+06</td>\n",
       "      <td>1705</td>\n",
       "      <td>1.433811e+06</td>\n",
       "      <td>-223936.187683</td>\n",
       "    </tr>\n",
       "    <tr>\n",
       "      <td>4</td>\n",
       "      <td>2009</td>\n",
       "      <td>1.073434e+06</td>\n",
       "      <td>2128</td>\n",
       "      <td>1.279467e+06</td>\n",
       "      <td>-206032.424812</td>\n",
       "    </tr>\n",
       "    <tr>\n",
       "      <td>5</td>\n",
       "      <td>2010</td>\n",
       "      <td>6.821355e+05</td>\n",
       "      <td>2580</td>\n",
       "      <td>9.942248e+05</td>\n",
       "      <td>-312089.302326</td>\n",
       "    </tr>\n",
       "    <tr>\n",
       "      <td>6</td>\n",
       "      <td>2011</td>\n",
       "      <td>7.934357e+05</td>\n",
       "      <td>3103</td>\n",
       "      <td>1.092635e+06</td>\n",
       "      <td>-299198.823719</td>\n",
       "    </tr>\n",
       "    <tr>\n",
       "      <td>7</td>\n",
       "      <td>2012</td>\n",
       "      <td>5.943953e+05</td>\n",
       "      <td>4336</td>\n",
       "      <td>9.047528e+05</td>\n",
       "      <td>-310560.401292</td>\n",
       "    </tr>\n",
       "    <tr>\n",
       "      <td>8</td>\n",
       "      <td>2013</td>\n",
       "      <td>6.591834e+05</td>\n",
       "      <td>5209</td>\n",
       "      <td>8.600490e+05</td>\n",
       "      <td>-200865.521213</td>\n",
       "    </tr>\n",
       "    <tr>\n",
       "      <td>9</td>\n",
       "      <td>2014</td>\n",
       "      <td>5.709954e+05</td>\n",
       "      <td>5709</td>\n",
       "      <td>7.426095e+05</td>\n",
       "      <td>-171533.893852</td>\n",
       "    </tr>\n",
       "    <tr>\n",
       "      <td>10</td>\n",
       "      <td>2015</td>\n",
       "      <td>6.507384e+05</td>\n",
       "      <td>6104</td>\n",
       "      <td>7.642226e+05</td>\n",
       "      <td>-113693.643512</td>\n",
       "    </tr>\n",
       "    <tr>\n",
       "      <td>11</td>\n",
       "      <td>2016</td>\n",
       "      <td>7.485612e+05</td>\n",
       "      <td>6476</td>\n",
       "      <td>7.570472e+05</td>\n",
       "      <td>-8579.771464</td>\n",
       "    </tr>\n",
       "    <tr>\n",
       "      <td>12</td>\n",
       "      <td>2017</td>\n",
       "      <td>8.664987e+05</td>\n",
       "      <td>6851</td>\n",
       "      <td>7.876358e+05</td>\n",
       "      <td>78862.874033</td>\n",
       "    </tr>\n",
       "    <tr>\n",
       "      <td>13</td>\n",
       "      <td>2018</td>\n",
       "      <td>8.514616e+05</td>\n",
       "      <td>6841</td>\n",
       "      <td>9.072789e+05</td>\n",
       "      <td>-55817.278176</td>\n",
       "    </tr>\n",
       "    <tr>\n",
       "      <td>14</td>\n",
       "      <td>2019</td>\n",
       "      <td>9.507049e+05</td>\n",
       "      <td>7170</td>\n",
       "      <td>1.061820e+06</td>\n",
       "      <td>-111115.202232</td>\n",
       "    </tr>\n",
       "  </tbody>\n",
       "</table>\n",
       "</div>"
      ],
      "text/plain": [
       "    Year      Transfer  No. of Transfers  Market Valuation  Surplus/Deficit\n",
       "0   2005  9.942693e+05               973      1.544702e+06   -550432.682425\n",
       "1   2006  9.801514e+05              1212      1.504357e+06   -525405.528053\n",
       "2   2007  1.253471e+06              1430      1.454310e+06   -203123.076923\n",
       "3   2008  1.211738e+06              1705      1.433811e+06   -223936.187683\n",
       "4   2009  1.073434e+06              2128      1.279467e+06   -206032.424812\n",
       "5   2010  6.821355e+05              2580      9.942248e+05   -312089.302326\n",
       "6   2011  7.934357e+05              3103      1.092635e+06   -299198.823719\n",
       "7   2012  5.943953e+05              4336      9.047528e+05   -310560.401292\n",
       "8   2013  6.591834e+05              5209      8.600490e+05   -200865.521213\n",
       "9   2014  5.709954e+05              5709      7.426095e+05   -171533.893852\n",
       "10  2015  6.507384e+05              6104      7.642226e+05   -113693.643512\n",
       "11  2016  7.485612e+05              6476      7.570472e+05     -8579.771464\n",
       "12  2017  8.664987e+05              6851      7.876358e+05     78862.874033\n",
       "13  2018  8.514616e+05              6841      9.072789e+05    -55817.278176\n",
       "14  2019  9.507049e+05              7170      1.061820e+06   -111115.202232"
      ]
     },
     "execution_count": 20,
     "metadata": {},
     "output_type": "execute_result"
    }
   ],
   "source": [
    "# Year-wise average Transfer data trend\n",
    "Transfer_Fee_Trend=Test_EDA.groupby(\"Year\").agg({\"Transfer\":np.mean, 'Surplus/Deficit':'count'})\n",
    "Transfer_Fee_Trend.rename(columns={\"Surplus/Deficit\": \"No. of Transfers\"}, inplace=True)\n",
    "Transfer_Fee_Trend\n",
    "# Year-wise trend for player valuation\n",
    "Market_Valuation_Trend=Test_EDA.groupby(\"Year\").agg({\"Market Valuation\":np.mean})\n",
    "Market_Valuation_Trend\n",
    "# Year-wise trend for surplus/deficit\n",
    "Surplus_Trend=Test_EDA.groupby(\"Year\").agg({\"Surplus/Deficit\":np.mean})\n",
    "Surplus_Trend\n",
    "Test_EDA.groupby(\"Year\").agg({\"Transfer\": ['mean', 'min', 'max', 'var']})\n",
    "\n",
    "Trend_Combined = pd.concat([Transfer_Fee_Trend, Market_Valuation_Trend, Surplus_Trend], axis=1, join='inner')\n",
    "Trend_Combined.reset_index(inplace=True)\n",
    "Trend_Combined"
   ]
  },
  {
   "cell_type": "markdown",
   "metadata": {},
   "source": [
    "<div class=\"alert alert-warning\" role=\"alert\">\n",
    "\n",
    "**Method** <br>\n",
    "In the following graph, we analyze the evolution of the Transfer Market over the last 15 years,\n",
    "</div>"
   ]
  },
  {
   "cell_type": "markdown",
   "metadata": {},
   "source": [
    "<div class=\"alert alert-success\" role=\"alert\">\n",
    "\n",
    "**Inference**<br>\n",
    "We can immediately see that discrepancy between Market Valuation and Transfer Fee has been reducing gradually over the last 15 years. This may be due to wider availability of data and the use of data analytics techniques is determining transfer fee, thereby leading to consistency between market valuation and transfer fee paid. Moreover, the number of transfers have also increased significantly as China, USA and middle-eastern nations have been spending a lot of money to develop the football market in their nations.\n",
    "\n",
    "</div>    "
   ]
  },
  {
   "cell_type": "code",
   "execution_count": 21,
   "metadata": {},
   "outputs": [
    {
     "data": {
      "application/vnd.plotly.v1+json": {
       "config": {
        "plotlyServerURL": "https://plot.ly"
       },
       "data": [
        {
         "alignmentgroup": "True",
         "hoverlabel": {
          "namelength": 0
         },
         "hovertemplate": "<b>%{hovertext}</b><br><br>Year=%{x}<br>Surplus/Deficit=%{y}<br>No. of Transfers=%{marker.color}",
         "hovertext": [
          2005,
          2006,
          2007,
          2008,
          2009,
          2010,
          2011,
          2012,
          2013,
          2014,
          2015,
          2016,
          2017,
          2018,
          2019
         ],
         "legendgroup": "",
         "marker": {
          "color": [
           973,
           1212,
           1430,
           1705,
           2128,
           2580,
           3103,
           4336,
           5209,
           5709,
           6104,
           6476,
           6851,
           6841,
           7170
          ],
          "coloraxis": "coloraxis"
         },
         "name": "",
         "offsetgroup": "",
         "orientation": "v",
         "showlegend": false,
         "textposition": "auto",
         "type": "bar",
         "x": [
          2005,
          2006,
          2007,
          2008,
          2009,
          2010,
          2011,
          2012,
          2013,
          2014,
          2015,
          2016,
          2017,
          2018,
          2019
         ],
         "xaxis": "x",
         "y": [
          -550432.6824254881,
          -525405.5280528052,
          -203123.07692307694,
          -223936.18768328446,
          -206032.42481203008,
          -312089.3023255814,
          -299198.82371898164,
          -310560.40129151294,
          -200865.5212132847,
          -171533.89385181293,
          -113693.64351245086,
          -8579.771463866584,
          78862.87403298788,
          -55817.27817570531,
          -111115.20223152022
         ],
         "yaxis": "y"
        },
        {
         "hovertemplate": "Year: %{x}<br>Transfer Fee: %{y:,.0f} Euros",
         "line": {
          "width": 3
         },
         "marker": {
          "color": "rgb(156,219,165)"
         },
         "name": "Transfer Fee",
         "text": [
          994269.2702980472,
          980151.402640264,
          1253471.3286713287,
          1211738.2991202346,
          1073434.2105263157,
          682135.503875969,
          793435.7234933935,
          594395.3182656827,
          659183.4325206374,
          570995.4457873533,
          650738.3682830931,
          748561.2106238418,
          866498.6936213692,
          851461.6284168981,
          950704.8814504881
         ],
         "type": "scatter",
         "x": [
          2005,
          2006,
          2007,
          2008,
          2009,
          2010,
          2011,
          2012,
          2013,
          2014,
          2015,
          2016,
          2017,
          2018,
          2019
         ],
         "y": [
          994269.2702980472,
          980151.402640264,
          1253471.3286713287,
          1211738.2991202346,
          1073434.2105263157,
          682135.503875969,
          793435.7234933935,
          594395.3182656827,
          659183.4325206374,
          570995.4457873533,
          650738.3682830931,
          748561.2106238418,
          866498.6936213692,
          851461.6284168981,
          950704.8814504881
         ]
        },
        {
         "hovertemplate": "Year: %{x}<br>Market Valuation: %{y:,.0f} Euros",
         "line": {
          "width": 3
         },
         "marker": {
          "color": "rgb(231,109,84)"
         },
         "name": "Market Valuation",
         "text": [
          1544701.9527235355,
          1504356.9661995054,
          1454309.6234309624,
          1433811.475409836,
          1279466.6353383458,
          994224.8062015504,
          1092634.547212375,
          904752.8245330874,
          860048.9537339221,
          742609.4570928196,
          764222.5679659351,
          757047.2440944882,
          787635.8195883812,
          907278.9065926034,
          1061820.0836820083
         ],
         "type": "scatter",
         "x": [
          2005,
          2006,
          2007,
          2008,
          2009,
          2010,
          2011,
          2012,
          2013,
          2014,
          2015,
          2016,
          2017,
          2018,
          2019
         ],
         "y": [
          1544701.9527235355,
          1504356.9661995054,
          1454309.6234309624,
          1433811.475409836,
          1279466.6353383458,
          994224.8062015504,
          1092634.547212375,
          904752.8245330874,
          860048.9537339221,
          742609.4570928196,
          764222.5679659351,
          757047.2440944882,
          787635.8195883812,
          907278.9065926034,
          1061820.0836820083
         ]
        }
       ],
       "layout": {
        "annotations": [
         {
          "align": "left",
          "bordercolor": "black",
          "borderwidth": 1,
          "showarrow": false,
          "text": "The Bars represent<br>Surplus/Deficit",
          "x": 0.98,
          "xref": "paper",
          "y": 0.92,
          "yref": "paper"
         }
        ],
        "barmode": "relative",
        "coloraxis": {
         "colorbar": {
          "title": {
           "text": "No. of Transfers"
          }
         },
         "colorscale": [
          [
           0,
           "rgb(247,251,255)"
          ],
          [
           0.125,
           "rgb(222,235,247)"
          ],
          [
           0.25,
           "rgb(198,219,239)"
          ],
          [
           0.375,
           "rgb(158,202,225)"
          ],
          [
           0.5,
           "rgb(107,174,214)"
          ],
          [
           0.625,
           "rgb(66,146,198)"
          ],
          [
           0.75,
           "rgb(33,113,181)"
          ],
          [
           0.875,
           "rgb(8,81,156)"
          ],
          [
           1,
           "rgb(8,48,107)"
          ]
         ]
        },
        "hoverlabel": {
         "bgcolor": "black",
         "bordercolor": "black",
         "font": {
          "color": "white",
          "family": "Arial, monospace",
          "size": 14
         }
        },
        "legend": {
         "tracegroupgap": 0,
         "x": 0.8,
         "y": 1
        },
        "template": {
         "data": {
          "bar": [
           {
            "error_x": {
             "color": "#f2f5fa"
            },
            "error_y": {
             "color": "#f2f5fa"
            },
            "marker": {
             "line": {
              "color": "rgb(17,17,17)",
              "width": 0.5
             }
            },
            "type": "bar"
           }
          ],
          "barpolar": [
           {
            "marker": {
             "line": {
              "color": "rgb(17,17,17)",
              "width": 0.5
             }
            },
            "type": "barpolar"
           }
          ],
          "carpet": [
           {
            "aaxis": {
             "endlinecolor": "#A2B1C6",
             "gridcolor": "#506784",
             "linecolor": "#506784",
             "minorgridcolor": "#506784",
             "startlinecolor": "#A2B1C6"
            },
            "baxis": {
             "endlinecolor": "#A2B1C6",
             "gridcolor": "#506784",
             "linecolor": "#506784",
             "minorgridcolor": "#506784",
             "startlinecolor": "#A2B1C6"
            },
            "type": "carpet"
           }
          ],
          "choropleth": [
           {
            "colorbar": {
             "outlinewidth": 0,
             "ticks": ""
            },
            "type": "choropleth"
           }
          ],
          "contour": [
           {
            "colorbar": {
             "outlinewidth": 0,
             "ticks": ""
            },
            "colorscale": [
             [
              0,
              "#0d0887"
             ],
             [
              0.1111111111111111,
              "#46039f"
             ],
             [
              0.2222222222222222,
              "#7201a8"
             ],
             [
              0.3333333333333333,
              "#9c179e"
             ],
             [
              0.4444444444444444,
              "#bd3786"
             ],
             [
              0.5555555555555556,
              "#d8576b"
             ],
             [
              0.6666666666666666,
              "#ed7953"
             ],
             [
              0.7777777777777778,
              "#fb9f3a"
             ],
             [
              0.8888888888888888,
              "#fdca26"
             ],
             [
              1,
              "#f0f921"
             ]
            ],
            "type": "contour"
           }
          ],
          "contourcarpet": [
           {
            "colorbar": {
             "outlinewidth": 0,
             "ticks": ""
            },
            "type": "contourcarpet"
           }
          ],
          "heatmap": [
           {
            "colorbar": {
             "outlinewidth": 0,
             "ticks": ""
            },
            "colorscale": [
             [
              0,
              "#0d0887"
             ],
             [
              0.1111111111111111,
              "#46039f"
             ],
             [
              0.2222222222222222,
              "#7201a8"
             ],
             [
              0.3333333333333333,
              "#9c179e"
             ],
             [
              0.4444444444444444,
              "#bd3786"
             ],
             [
              0.5555555555555556,
              "#d8576b"
             ],
             [
              0.6666666666666666,
              "#ed7953"
             ],
             [
              0.7777777777777778,
              "#fb9f3a"
             ],
             [
              0.8888888888888888,
              "#fdca26"
             ],
             [
              1,
              "#f0f921"
             ]
            ],
            "type": "heatmap"
           }
          ],
          "heatmapgl": [
           {
            "colorbar": {
             "outlinewidth": 0,
             "ticks": ""
            },
            "colorscale": [
             [
              0,
              "#0d0887"
             ],
             [
              0.1111111111111111,
              "#46039f"
             ],
             [
              0.2222222222222222,
              "#7201a8"
             ],
             [
              0.3333333333333333,
              "#9c179e"
             ],
             [
              0.4444444444444444,
              "#bd3786"
             ],
             [
              0.5555555555555556,
              "#d8576b"
             ],
             [
              0.6666666666666666,
              "#ed7953"
             ],
             [
              0.7777777777777778,
              "#fb9f3a"
             ],
             [
              0.8888888888888888,
              "#fdca26"
             ],
             [
              1,
              "#f0f921"
             ]
            ],
            "type": "heatmapgl"
           }
          ],
          "histogram": [
           {
            "marker": {
             "colorbar": {
              "outlinewidth": 0,
              "ticks": ""
             }
            },
            "type": "histogram"
           }
          ],
          "histogram2d": [
           {
            "colorbar": {
             "outlinewidth": 0,
             "ticks": ""
            },
            "colorscale": [
             [
              0,
              "#0d0887"
             ],
             [
              0.1111111111111111,
              "#46039f"
             ],
             [
              0.2222222222222222,
              "#7201a8"
             ],
             [
              0.3333333333333333,
              "#9c179e"
             ],
             [
              0.4444444444444444,
              "#bd3786"
             ],
             [
              0.5555555555555556,
              "#d8576b"
             ],
             [
              0.6666666666666666,
              "#ed7953"
             ],
             [
              0.7777777777777778,
              "#fb9f3a"
             ],
             [
              0.8888888888888888,
              "#fdca26"
             ],
             [
              1,
              "#f0f921"
             ]
            ],
            "type": "histogram2d"
           }
          ],
          "histogram2dcontour": [
           {
            "colorbar": {
             "outlinewidth": 0,
             "ticks": ""
            },
            "colorscale": [
             [
              0,
              "#0d0887"
             ],
             [
              0.1111111111111111,
              "#46039f"
             ],
             [
              0.2222222222222222,
              "#7201a8"
             ],
             [
              0.3333333333333333,
              "#9c179e"
             ],
             [
              0.4444444444444444,
              "#bd3786"
             ],
             [
              0.5555555555555556,
              "#d8576b"
             ],
             [
              0.6666666666666666,
              "#ed7953"
             ],
             [
              0.7777777777777778,
              "#fb9f3a"
             ],
             [
              0.8888888888888888,
              "#fdca26"
             ],
             [
              1,
              "#f0f921"
             ]
            ],
            "type": "histogram2dcontour"
           }
          ],
          "mesh3d": [
           {
            "colorbar": {
             "outlinewidth": 0,
             "ticks": ""
            },
            "type": "mesh3d"
           }
          ],
          "parcoords": [
           {
            "line": {
             "colorbar": {
              "outlinewidth": 0,
              "ticks": ""
             }
            },
            "type": "parcoords"
           }
          ],
          "pie": [
           {
            "automargin": true,
            "type": "pie"
           }
          ],
          "scatter": [
           {
            "marker": {
             "line": {
              "color": "#283442"
             }
            },
            "type": "scatter"
           }
          ],
          "scatter3d": [
           {
            "line": {
             "colorbar": {
              "outlinewidth": 0,
              "ticks": ""
             }
            },
            "marker": {
             "colorbar": {
              "outlinewidth": 0,
              "ticks": ""
             }
            },
            "type": "scatter3d"
           }
          ],
          "scattercarpet": [
           {
            "marker": {
             "colorbar": {
              "outlinewidth": 0,
              "ticks": ""
             }
            },
            "type": "scattercarpet"
           }
          ],
          "scattergeo": [
           {
            "marker": {
             "colorbar": {
              "outlinewidth": 0,
              "ticks": ""
             }
            },
            "type": "scattergeo"
           }
          ],
          "scattergl": [
           {
            "marker": {
             "line": {
              "color": "#283442"
             }
            },
            "type": "scattergl"
           }
          ],
          "scattermapbox": [
           {
            "marker": {
             "colorbar": {
              "outlinewidth": 0,
              "ticks": ""
             }
            },
            "type": "scattermapbox"
           }
          ],
          "scatterpolar": [
           {
            "marker": {
             "colorbar": {
              "outlinewidth": 0,
              "ticks": ""
             }
            },
            "type": "scatterpolar"
           }
          ],
          "scatterpolargl": [
           {
            "marker": {
             "colorbar": {
              "outlinewidth": 0,
              "ticks": ""
             }
            },
            "type": "scatterpolargl"
           }
          ],
          "scatterternary": [
           {
            "marker": {
             "colorbar": {
              "outlinewidth": 0,
              "ticks": ""
             }
            },
            "type": "scatterternary"
           }
          ],
          "surface": [
           {
            "colorbar": {
             "outlinewidth": 0,
             "ticks": ""
            },
            "colorscale": [
             [
              0,
              "#0d0887"
             ],
             [
              0.1111111111111111,
              "#46039f"
             ],
             [
              0.2222222222222222,
              "#7201a8"
             ],
             [
              0.3333333333333333,
              "#9c179e"
             ],
             [
              0.4444444444444444,
              "#bd3786"
             ],
             [
              0.5555555555555556,
              "#d8576b"
             ],
             [
              0.6666666666666666,
              "#ed7953"
             ],
             [
              0.7777777777777778,
              "#fb9f3a"
             ],
             [
              0.8888888888888888,
              "#fdca26"
             ],
             [
              1,
              "#f0f921"
             ]
            ],
            "type": "surface"
           }
          ],
          "table": [
           {
            "cells": {
             "fill": {
              "color": "#506784"
             },
             "line": {
              "color": "rgb(17,17,17)"
             }
            },
            "header": {
             "fill": {
              "color": "#2a3f5f"
             },
             "line": {
              "color": "rgb(17,17,17)"
             }
            },
            "type": "table"
           }
          ]
         },
         "layout": {
          "annotationdefaults": {
           "arrowcolor": "#f2f5fa",
           "arrowhead": 0,
           "arrowwidth": 1
          },
          "coloraxis": {
           "colorbar": {
            "outlinewidth": 0,
            "ticks": ""
           }
          },
          "colorscale": {
           "diverging": [
            [
             0,
             "#8e0152"
            ],
            [
             0.1,
             "#c51b7d"
            ],
            [
             0.2,
             "#de77ae"
            ],
            [
             0.3,
             "#f1b6da"
            ],
            [
             0.4,
             "#fde0ef"
            ],
            [
             0.5,
             "#f7f7f7"
            ],
            [
             0.6,
             "#e6f5d0"
            ],
            [
             0.7,
             "#b8e186"
            ],
            [
             0.8,
             "#7fbc41"
            ],
            [
             0.9,
             "#4d9221"
            ],
            [
             1,
             "#276419"
            ]
           ],
           "sequential": [
            [
             0,
             "#0d0887"
            ],
            [
             0.1111111111111111,
             "#46039f"
            ],
            [
             0.2222222222222222,
             "#7201a8"
            ],
            [
             0.3333333333333333,
             "#9c179e"
            ],
            [
             0.4444444444444444,
             "#bd3786"
            ],
            [
             0.5555555555555556,
             "#d8576b"
            ],
            [
             0.6666666666666666,
             "#ed7953"
            ],
            [
             0.7777777777777778,
             "#fb9f3a"
            ],
            [
             0.8888888888888888,
             "#fdca26"
            ],
            [
             1,
             "#f0f921"
            ]
           ],
           "sequentialminus": [
            [
             0,
             "#0d0887"
            ],
            [
             0.1111111111111111,
             "#46039f"
            ],
            [
             0.2222222222222222,
             "#7201a8"
            ],
            [
             0.3333333333333333,
             "#9c179e"
            ],
            [
             0.4444444444444444,
             "#bd3786"
            ],
            [
             0.5555555555555556,
             "#d8576b"
            ],
            [
             0.6666666666666666,
             "#ed7953"
            ],
            [
             0.7777777777777778,
             "#fb9f3a"
            ],
            [
             0.8888888888888888,
             "#fdca26"
            ],
            [
             1,
             "#f0f921"
            ]
           ]
          },
          "colorway": [
           "#636efa",
           "#EF553B",
           "#00cc96",
           "#ab63fa",
           "#FFA15A",
           "#19d3f3",
           "#FF6692",
           "#B6E880",
           "#FF97FF",
           "#FECB52"
          ],
          "font": {
           "color": "#f2f5fa"
          },
          "geo": {
           "bgcolor": "rgb(17,17,17)",
           "lakecolor": "rgb(17,17,17)",
           "landcolor": "rgb(17,17,17)",
           "showlakes": true,
           "showland": true,
           "subunitcolor": "#506784"
          },
          "hoverlabel": {
           "align": "left"
          },
          "hovermode": "closest",
          "mapbox": {
           "style": "dark"
          },
          "paper_bgcolor": "rgb(17,17,17)",
          "plot_bgcolor": "rgb(17,17,17)",
          "polar": {
           "angularaxis": {
            "gridcolor": "#506784",
            "linecolor": "#506784",
            "ticks": ""
           },
           "bgcolor": "rgb(17,17,17)",
           "radialaxis": {
            "gridcolor": "#506784",
            "linecolor": "#506784",
            "ticks": ""
           }
          },
          "scene": {
           "xaxis": {
            "backgroundcolor": "rgb(17,17,17)",
            "gridcolor": "#506784",
            "gridwidth": 2,
            "linecolor": "#506784",
            "showbackground": true,
            "ticks": "",
            "zerolinecolor": "#C8D4E3"
           },
           "yaxis": {
            "backgroundcolor": "rgb(17,17,17)",
            "gridcolor": "#506784",
            "gridwidth": 2,
            "linecolor": "#506784",
            "showbackground": true,
            "ticks": "",
            "zerolinecolor": "#C8D4E3"
           },
           "zaxis": {
            "backgroundcolor": "rgb(17,17,17)",
            "gridcolor": "#506784",
            "gridwidth": 2,
            "linecolor": "#506784",
            "showbackground": true,
            "ticks": "",
            "zerolinecolor": "#C8D4E3"
           }
          },
          "shapedefaults": {
           "line": {
            "color": "#f2f5fa"
           }
          },
          "sliderdefaults": {
           "bgcolor": "#C8D4E3",
           "bordercolor": "rgb(17,17,17)",
           "borderwidth": 1,
           "tickwidth": 0
          },
          "ternary": {
           "aaxis": {
            "gridcolor": "#506784",
            "linecolor": "#506784",
            "ticks": ""
           },
           "baxis": {
            "gridcolor": "#506784",
            "linecolor": "#506784",
            "ticks": ""
           },
           "bgcolor": "rgb(17,17,17)",
           "caxis": {
            "gridcolor": "#506784",
            "linecolor": "#506784",
            "ticks": ""
           }
          },
          "title": {
           "x": 0.05
          },
          "updatemenudefaults": {
           "bgcolor": "#506784",
           "borderwidth": 0
          },
          "xaxis": {
           "automargin": true,
           "gridcolor": "#283442",
           "linecolor": "#506784",
           "ticks": "",
           "title": {
            "standoff": 15
           },
           "zerolinecolor": "#283442",
           "zerolinewidth": 2
          },
          "yaxis": {
           "automargin": true,
           "gridcolor": "#283442",
           "linecolor": "#506784",
           "ticks": "",
           "title": {
            "standoff": 15
           },
           "zerolinecolor": "#283442",
           "zerolinewidth": 2
          }
         }
        },
        "title": {
         "text": "Time-Series Analysis based of the Transfermarkt Data"
        },
        "xaxis": {
         "linecolor": "white",
         "showgrid": false,
         "showline": true,
         "showticklabels": true,
         "tickfont": {
          "color": "white",
          "family": "Arial",
          "size": 10
         },
         "title": {
          "font": {
           "color": "white",
           "family": "Arial, monospace",
           "size": 14
          },
          "text": "Year"
         },
         "zeroline": false
        },
        "yaxis": {
         "linecolor": "white",
         "showgrid": false,
         "showline": false,
         "showticklabels": true,
         "tickfont": {
          "color": "white",
          "family": "Arial",
          "size": 10
         },
         "title": {
          "font": {
           "color": "white",
           "family": "Arial, monospace",
           "size": 14
          },
          "text": "Total Amount (in EUR)"
         },
         "zeroline": false
        }
       }
      },
      "text/html": [
       "<div>\n",
       "        \n",
       "        \n",
       "            <div id=\"ca63df8a-2ede-4990-bc7d-ad333dca893b\" class=\"plotly-graph-div\" style=\"height:525px; width:100%;\"></div>\n",
       "            <script type=\"text/javascript\">\n",
       "                require([\"plotly\"], function(Plotly) {\n",
       "                    window.PLOTLYENV=window.PLOTLYENV || {};\n",
       "                    \n",
       "                if (document.getElementById(\"ca63df8a-2ede-4990-bc7d-ad333dca893b\")) {\n",
       "                    Plotly.newPlot(\n",
       "                        'ca63df8a-2ede-4990-bc7d-ad333dca893b',\n",
       "                        [{\"alignmentgroup\": \"True\", \"hoverlabel\": {\"namelength\": 0}, \"hovertemplate\": \"<b>%{hovertext}</b><br><br>Year=%{x}<br>Surplus/Deficit=%{y}<br>No. of Transfers=%{marker.color}\", \"hovertext\": [2005.0, 2006.0, 2007.0, 2008.0, 2009.0, 2010.0, 2011.0, 2012.0, 2013.0, 2014.0, 2015.0, 2016.0, 2017.0, 2018.0, 2019.0], \"legendgroup\": \"\", \"marker\": {\"color\": [973, 1212, 1430, 1705, 2128, 2580, 3103, 4336, 5209, 5709, 6104, 6476, 6851, 6841, 7170], \"coloraxis\": \"coloraxis\"}, \"name\": \"\", \"offsetgroup\": \"\", \"orientation\": \"v\", \"showlegend\": false, \"textposition\": \"auto\", \"type\": \"bar\", \"x\": [2005, 2006, 2007, 2008, 2009, 2010, 2011, 2012, 2013, 2014, 2015, 2016, 2017, 2018, 2019], \"xaxis\": \"x\", \"y\": [-550432.6824254881, -525405.5280528052, -203123.07692307694, -223936.18768328446, -206032.42481203008, -312089.3023255814, -299198.82371898164, -310560.40129151294, -200865.5212132847, -171533.89385181293, -113693.64351245086, -8579.771463866584, 78862.87403298788, -55817.27817570531, -111115.20223152022], \"yaxis\": \"y\"}, {\"hovertemplate\": \"Year: %{x}<br>Transfer Fee: %{y:,.0f} Euros\", \"line\": {\"width\": 3}, \"marker\": {\"color\": \"rgb(156,219,165)\"}, \"name\": \"Transfer Fee\", \"text\": [994269.2702980472, 980151.402640264, 1253471.3286713287, 1211738.2991202346, 1073434.2105263157, 682135.503875969, 793435.7234933935, 594395.3182656827, 659183.4325206374, 570995.4457873533, 650738.3682830931, 748561.2106238418, 866498.6936213692, 851461.6284168981, 950704.8814504881], \"type\": \"scatter\", \"x\": [2005, 2006, 2007, 2008, 2009, 2010, 2011, 2012, 2013, 2014, 2015, 2016, 2017, 2018, 2019], \"y\": [994269.2702980472, 980151.402640264, 1253471.3286713287, 1211738.2991202346, 1073434.2105263157, 682135.503875969, 793435.7234933935, 594395.3182656827, 659183.4325206374, 570995.4457873533, 650738.3682830931, 748561.2106238418, 866498.6936213692, 851461.6284168981, 950704.8814504881]}, {\"hovertemplate\": \"Year: %{x}<br>Market Valuation: %{y:,.0f} Euros\", \"line\": {\"width\": 3}, \"marker\": {\"color\": \"rgb(231,109,84)\"}, \"name\": \"Market Valuation\", \"text\": [1544701.9527235355, 1504356.9661995054, 1454309.6234309624, 1433811.475409836, 1279466.6353383458, 994224.8062015504, 1092634.547212375, 904752.8245330874, 860048.9537339221, 742609.4570928196, 764222.5679659351, 757047.2440944882, 787635.8195883812, 907278.9065926034, 1061820.0836820083], \"type\": \"scatter\", \"x\": [2005, 2006, 2007, 2008, 2009, 2010, 2011, 2012, 2013, 2014, 2015, 2016, 2017, 2018, 2019], \"y\": [1544701.9527235355, 1504356.9661995054, 1454309.6234309624, 1433811.475409836, 1279466.6353383458, 994224.8062015504, 1092634.547212375, 904752.8245330874, 860048.9537339221, 742609.4570928196, 764222.5679659351, 757047.2440944882, 787635.8195883812, 907278.9065926034, 1061820.0836820083]}],\n",
       "                        {\"annotations\": [{\"align\": \"left\", \"bordercolor\": \"black\", \"borderwidth\": 1, \"showarrow\": false, \"text\": \"The Bars represent<br>Surplus/Deficit\", \"x\": 0.98, \"xref\": \"paper\", \"y\": 0.92, \"yref\": \"paper\"}], \"barmode\": \"relative\", \"coloraxis\": {\"colorbar\": {\"title\": {\"text\": \"No. of Transfers\"}}, \"colorscale\": [[0.0, \"rgb(247,251,255)\"], [0.125, \"rgb(222,235,247)\"], [0.25, \"rgb(198,219,239)\"], [0.375, \"rgb(158,202,225)\"], [0.5, \"rgb(107,174,214)\"], [0.625, \"rgb(66,146,198)\"], [0.75, \"rgb(33,113,181)\"], [0.875, \"rgb(8,81,156)\"], [1.0, \"rgb(8,48,107)\"]]}, \"hoverlabel\": {\"bgcolor\": \"black\", \"bordercolor\": \"black\", \"font\": {\"color\": \"white\", \"family\": \"Arial, monospace\", \"size\": 14}}, \"legend\": {\"tracegroupgap\": 0, \"x\": 0.8, \"y\": 1}, \"template\": {\"data\": {\"bar\": [{\"error_x\": {\"color\": \"#f2f5fa\"}, \"error_y\": {\"color\": \"#f2f5fa\"}, \"marker\": {\"line\": {\"color\": \"rgb(17,17,17)\", \"width\": 0.5}}, \"type\": \"bar\"}], \"barpolar\": [{\"marker\": {\"line\": {\"color\": \"rgb(17,17,17)\", \"width\": 0.5}}, \"type\": \"barpolar\"}], \"carpet\": [{\"aaxis\": {\"endlinecolor\": \"#A2B1C6\", \"gridcolor\": \"#506784\", \"linecolor\": \"#506784\", \"minorgridcolor\": \"#506784\", \"startlinecolor\": \"#A2B1C6\"}, \"baxis\": {\"endlinecolor\": \"#A2B1C6\", \"gridcolor\": \"#506784\", \"linecolor\": \"#506784\", \"minorgridcolor\": \"#506784\", \"startlinecolor\": \"#A2B1C6\"}, \"type\": \"carpet\"}], \"choropleth\": [{\"colorbar\": {\"outlinewidth\": 0, \"ticks\": \"\"}, \"type\": \"choropleth\"}], \"contour\": [{\"colorbar\": {\"outlinewidth\": 0, \"ticks\": \"\"}, \"colorscale\": [[0.0, \"#0d0887\"], [0.1111111111111111, \"#46039f\"], [0.2222222222222222, \"#7201a8\"], [0.3333333333333333, \"#9c179e\"], [0.4444444444444444, \"#bd3786\"], [0.5555555555555556, \"#d8576b\"], [0.6666666666666666, \"#ed7953\"], [0.7777777777777778, \"#fb9f3a\"], [0.8888888888888888, \"#fdca26\"], [1.0, \"#f0f921\"]], \"type\": \"contour\"}], \"contourcarpet\": [{\"colorbar\": {\"outlinewidth\": 0, \"ticks\": \"\"}, \"type\": \"contourcarpet\"}], \"heatmap\": [{\"colorbar\": {\"outlinewidth\": 0, \"ticks\": \"\"}, \"colorscale\": [[0.0, \"#0d0887\"], [0.1111111111111111, \"#46039f\"], [0.2222222222222222, \"#7201a8\"], [0.3333333333333333, \"#9c179e\"], [0.4444444444444444, \"#bd3786\"], [0.5555555555555556, \"#d8576b\"], [0.6666666666666666, \"#ed7953\"], [0.7777777777777778, \"#fb9f3a\"], [0.8888888888888888, \"#fdca26\"], [1.0, \"#f0f921\"]], \"type\": \"heatmap\"}], \"heatmapgl\": [{\"colorbar\": {\"outlinewidth\": 0, \"ticks\": \"\"}, \"colorscale\": [[0.0, \"#0d0887\"], [0.1111111111111111, \"#46039f\"], [0.2222222222222222, \"#7201a8\"], [0.3333333333333333, \"#9c179e\"], [0.4444444444444444, \"#bd3786\"], [0.5555555555555556, \"#d8576b\"], [0.6666666666666666, \"#ed7953\"], [0.7777777777777778, \"#fb9f3a\"], [0.8888888888888888, \"#fdca26\"], [1.0, \"#f0f921\"]], \"type\": \"heatmapgl\"}], \"histogram\": [{\"marker\": {\"colorbar\": {\"outlinewidth\": 0, \"ticks\": \"\"}}, \"type\": \"histogram\"}], \"histogram2d\": [{\"colorbar\": {\"outlinewidth\": 0, \"ticks\": \"\"}, \"colorscale\": [[0.0, \"#0d0887\"], [0.1111111111111111, \"#46039f\"], [0.2222222222222222, \"#7201a8\"], [0.3333333333333333, \"#9c179e\"], [0.4444444444444444, \"#bd3786\"], [0.5555555555555556, \"#d8576b\"], [0.6666666666666666, \"#ed7953\"], [0.7777777777777778, \"#fb9f3a\"], [0.8888888888888888, \"#fdca26\"], [1.0, \"#f0f921\"]], \"type\": \"histogram2d\"}], \"histogram2dcontour\": [{\"colorbar\": {\"outlinewidth\": 0, \"ticks\": \"\"}, \"colorscale\": [[0.0, \"#0d0887\"], [0.1111111111111111, \"#46039f\"], [0.2222222222222222, \"#7201a8\"], [0.3333333333333333, \"#9c179e\"], [0.4444444444444444, \"#bd3786\"], [0.5555555555555556, \"#d8576b\"], [0.6666666666666666, \"#ed7953\"], [0.7777777777777778, \"#fb9f3a\"], [0.8888888888888888, \"#fdca26\"], [1.0, \"#f0f921\"]], \"type\": \"histogram2dcontour\"}], \"mesh3d\": [{\"colorbar\": {\"outlinewidth\": 0, \"ticks\": \"\"}, \"type\": \"mesh3d\"}], \"parcoords\": [{\"line\": {\"colorbar\": {\"outlinewidth\": 0, \"ticks\": \"\"}}, \"type\": \"parcoords\"}], \"pie\": [{\"automargin\": true, \"type\": \"pie\"}], \"scatter\": [{\"marker\": {\"line\": {\"color\": \"#283442\"}}, \"type\": \"scatter\"}], \"scatter3d\": [{\"line\": {\"colorbar\": {\"outlinewidth\": 0, \"ticks\": \"\"}}, \"marker\": {\"colorbar\": {\"outlinewidth\": 0, \"ticks\": \"\"}}, \"type\": \"scatter3d\"}], \"scattercarpet\": [{\"marker\": {\"colorbar\": {\"outlinewidth\": 0, \"ticks\": \"\"}}, \"type\": \"scattercarpet\"}], \"scattergeo\": [{\"marker\": {\"colorbar\": {\"outlinewidth\": 0, \"ticks\": \"\"}}, \"type\": \"scattergeo\"}], \"scattergl\": [{\"marker\": {\"line\": {\"color\": \"#283442\"}}, \"type\": \"scattergl\"}], \"scattermapbox\": [{\"marker\": {\"colorbar\": {\"outlinewidth\": 0, \"ticks\": \"\"}}, \"type\": \"scattermapbox\"}], \"scatterpolar\": [{\"marker\": {\"colorbar\": {\"outlinewidth\": 0, \"ticks\": \"\"}}, \"type\": \"scatterpolar\"}], \"scatterpolargl\": [{\"marker\": {\"colorbar\": {\"outlinewidth\": 0, \"ticks\": \"\"}}, \"type\": \"scatterpolargl\"}], \"scatterternary\": [{\"marker\": {\"colorbar\": {\"outlinewidth\": 0, \"ticks\": \"\"}}, \"type\": \"scatterternary\"}], \"surface\": [{\"colorbar\": {\"outlinewidth\": 0, \"ticks\": \"\"}, \"colorscale\": [[0.0, \"#0d0887\"], [0.1111111111111111, \"#46039f\"], [0.2222222222222222, \"#7201a8\"], [0.3333333333333333, \"#9c179e\"], [0.4444444444444444, \"#bd3786\"], [0.5555555555555556, \"#d8576b\"], [0.6666666666666666, \"#ed7953\"], [0.7777777777777778, \"#fb9f3a\"], [0.8888888888888888, \"#fdca26\"], [1.0, \"#f0f921\"]], \"type\": \"surface\"}], \"table\": [{\"cells\": {\"fill\": {\"color\": \"#506784\"}, \"line\": {\"color\": \"rgb(17,17,17)\"}}, \"header\": {\"fill\": {\"color\": \"#2a3f5f\"}, \"line\": {\"color\": \"rgb(17,17,17)\"}}, \"type\": \"table\"}]}, \"layout\": {\"annotationdefaults\": {\"arrowcolor\": \"#f2f5fa\", \"arrowhead\": 0, \"arrowwidth\": 1}, \"coloraxis\": {\"colorbar\": {\"outlinewidth\": 0, \"ticks\": \"\"}}, \"colorscale\": {\"diverging\": [[0, \"#8e0152\"], [0.1, \"#c51b7d\"], [0.2, \"#de77ae\"], [0.3, \"#f1b6da\"], [0.4, \"#fde0ef\"], [0.5, \"#f7f7f7\"], [0.6, \"#e6f5d0\"], [0.7, \"#b8e186\"], [0.8, \"#7fbc41\"], [0.9, \"#4d9221\"], [1, \"#276419\"]], \"sequential\": [[0.0, \"#0d0887\"], [0.1111111111111111, \"#46039f\"], [0.2222222222222222, \"#7201a8\"], [0.3333333333333333, \"#9c179e\"], [0.4444444444444444, \"#bd3786\"], [0.5555555555555556, \"#d8576b\"], [0.6666666666666666, \"#ed7953\"], [0.7777777777777778, \"#fb9f3a\"], [0.8888888888888888, \"#fdca26\"], [1.0, \"#f0f921\"]], \"sequentialminus\": [[0.0, \"#0d0887\"], [0.1111111111111111, \"#46039f\"], [0.2222222222222222, \"#7201a8\"], [0.3333333333333333, \"#9c179e\"], [0.4444444444444444, \"#bd3786\"], [0.5555555555555556, \"#d8576b\"], [0.6666666666666666, \"#ed7953\"], [0.7777777777777778, \"#fb9f3a\"], [0.8888888888888888, \"#fdca26\"], [1.0, \"#f0f921\"]]}, \"colorway\": [\"#636efa\", \"#EF553B\", \"#00cc96\", \"#ab63fa\", \"#FFA15A\", \"#19d3f3\", \"#FF6692\", \"#B6E880\", \"#FF97FF\", \"#FECB52\"], \"font\": {\"color\": \"#f2f5fa\"}, \"geo\": {\"bgcolor\": \"rgb(17,17,17)\", \"lakecolor\": \"rgb(17,17,17)\", \"landcolor\": \"rgb(17,17,17)\", \"showlakes\": true, \"showland\": true, \"subunitcolor\": \"#506784\"}, \"hoverlabel\": {\"align\": \"left\"}, \"hovermode\": \"closest\", \"mapbox\": {\"style\": \"dark\"}, \"paper_bgcolor\": \"rgb(17,17,17)\", \"plot_bgcolor\": \"rgb(17,17,17)\", \"polar\": {\"angularaxis\": {\"gridcolor\": \"#506784\", \"linecolor\": \"#506784\", \"ticks\": \"\"}, \"bgcolor\": \"rgb(17,17,17)\", \"radialaxis\": {\"gridcolor\": \"#506784\", \"linecolor\": \"#506784\", \"ticks\": \"\"}}, \"scene\": {\"xaxis\": {\"backgroundcolor\": \"rgb(17,17,17)\", \"gridcolor\": \"#506784\", \"gridwidth\": 2, \"linecolor\": \"#506784\", \"showbackground\": true, \"ticks\": \"\", \"zerolinecolor\": \"#C8D4E3\"}, \"yaxis\": {\"backgroundcolor\": \"rgb(17,17,17)\", \"gridcolor\": \"#506784\", \"gridwidth\": 2, \"linecolor\": \"#506784\", \"showbackground\": true, \"ticks\": \"\", \"zerolinecolor\": \"#C8D4E3\"}, \"zaxis\": {\"backgroundcolor\": \"rgb(17,17,17)\", \"gridcolor\": \"#506784\", \"gridwidth\": 2, \"linecolor\": \"#506784\", \"showbackground\": true, \"ticks\": \"\", \"zerolinecolor\": \"#C8D4E3\"}}, \"shapedefaults\": {\"line\": {\"color\": \"#f2f5fa\"}}, \"sliderdefaults\": {\"bgcolor\": \"#C8D4E3\", \"bordercolor\": \"rgb(17,17,17)\", \"borderwidth\": 1, \"tickwidth\": 0}, \"ternary\": {\"aaxis\": {\"gridcolor\": \"#506784\", \"linecolor\": \"#506784\", \"ticks\": \"\"}, \"baxis\": {\"gridcolor\": \"#506784\", \"linecolor\": \"#506784\", \"ticks\": \"\"}, \"bgcolor\": \"rgb(17,17,17)\", \"caxis\": {\"gridcolor\": \"#506784\", \"linecolor\": \"#506784\", \"ticks\": \"\"}}, \"title\": {\"x\": 0.05}, \"updatemenudefaults\": {\"bgcolor\": \"#506784\", \"borderwidth\": 0}, \"xaxis\": {\"automargin\": true, \"gridcolor\": \"#283442\", \"linecolor\": \"#506784\", \"ticks\": \"\", \"title\": {\"standoff\": 15}, \"zerolinecolor\": \"#283442\", \"zerolinewidth\": 2}, \"yaxis\": {\"automargin\": true, \"gridcolor\": \"#283442\", \"linecolor\": \"#506784\", \"ticks\": \"\", \"title\": {\"standoff\": 15}, \"zerolinecolor\": \"#283442\", \"zerolinewidth\": 2}}}, \"title\": {\"text\": \"Time-Series Analysis based of the Transfermarkt Data\"}, \"xaxis\": {\"linecolor\": \"white\", \"showgrid\": false, \"showline\": true, \"showticklabels\": true, \"tickfont\": {\"color\": \"white\", \"family\": \"Arial\", \"size\": 10}, \"title\": {\"font\": {\"color\": \"white\", \"family\": \"Arial, monospace\", \"size\": 14}, \"text\": \"Year\"}, \"zeroline\": false}, \"yaxis\": {\"linecolor\": \"white\", \"showgrid\": false, \"showline\": false, \"showticklabels\": true, \"tickfont\": {\"color\": \"white\", \"family\": \"Arial\", \"size\": 10}, \"title\": {\"font\": {\"color\": \"white\", \"family\": \"Arial, monospace\", \"size\": 14}, \"text\": \"Total Amount (in EUR)\"}, \"zeroline\": false}},\n",
       "                        {\"responsive\": true}\n",
       "                    ).then(function(){\n",
       "                            \n",
       "var gd = document.getElementById('ca63df8a-2ede-4990-bc7d-ad333dca893b');\n",
       "var x = new MutationObserver(function (mutations, observer) {{\n",
       "        var display = window.getComputedStyle(gd).display;\n",
       "        if (!display || display === 'none') {{\n",
       "            console.log([gd, 'removed!']);\n",
       "            Plotly.purge(gd);\n",
       "            observer.disconnect();\n",
       "        }}\n",
       "}});\n",
       "\n",
       "// Listen for the removal of the full notebook cells\n",
       "var notebookContainer = gd.closest('#notebook-container');\n",
       "if (notebookContainer) {{\n",
       "    x.observe(notebookContainer, {childList: true});\n",
       "}}\n",
       "\n",
       "// Listen for the clearing of the current output cell\n",
       "var outputEl = gd.closest('.output');\n",
       "if (outputEl) {{\n",
       "    x.observe(outputEl, {childList: true});\n",
       "}}\n",
       "\n",
       "                        })\n",
       "                };\n",
       "                });\n",
       "            </script>\n",
       "        </div>"
      ]
     },
     "metadata": {},
     "output_type": "display_data"
    }
   ],
   "source": [
    "fig6 = px.bar(Trend_Combined.reset_index(),\n",
    "               x = \"Year\",\n",
    "               y = \"Surplus/Deficit\",\n",
    "               color = \"No. of Transfers\",\n",
    "               color_continuous_scale = px.colors.sequential.Blues,\n",
    "               hover_name = \"Year\",\n",
    "               title = 'Time-Series Analysis based of the Transfermarkt Data',\n",
    "               template = 'plotly_dark')\n",
    "\n",
    "fig6.add_trace(\n",
    "    go.Line(# interactive bar object\n",
    "                x = Trend_Combined['Year'],\n",
    "                y = Trend_Combined.Transfer,\n",
    "                name = \"Transfer Fee\",\n",
    "                marker = dict(color = 'rgb(156,219,165)'),\n",
    "                line = dict(width = 3),\n",
    "                text = Trend_Combined['Transfer'],\n",
    "                hovertemplate =\n",
    "                \"Year: %{x}<br>\" +\n",
    "                \"Transfer Fee: %{y:,.0f} Euros\")\n",
    ")\n",
    "fig6.add_trace(\n",
    "    go.Line(# interactive bar object\n",
    "                x = Trend_Combined['Year'],\n",
    "                y = Trend_Combined['Market Valuation'],\n",
    "                name = \"Market Valuation\",\n",
    "                marker = dict(color = 'rgb(231,109,84)'),\n",
    "                line = dict(width = 3),\n",
    "                text = Trend_Combined['Market Valuation'],\n",
    "                hovertemplate =\n",
    "                \"Year: %{x}<br>\" +\n",
    "                \"Market Valuation: %{y:,.0f} Euros\")\n",
    ")\n",
    "fig6.update_layout(\n",
    "    hoverlabel=dict(\n",
    "        bgcolor=\"black\",\n",
    "        font=dict(\n",
    "                family=\"Arial, monospace\",\n",
    "                size=14,\n",
    "                color=\"white\"\n",
    "            ),\n",
    "        bordercolor = \"black\"\n",
    "    ),\n",
    "    annotations=[\n",
    "            go.layout.Annotation(\n",
    "                text='The Bars represent<br>Surplus/Deficit',\n",
    "                align='left',\n",
    "                showarrow=False,\n",
    "                xref='paper',\n",
    "                yref='paper',\n",
    "                x=0.98,\n",
    "                y=0.92,\n",
    "                bordercolor='black',\n",
    "                borderwidth=1)\n",
    "    ],\n",
    "    xaxis=go.layout.XAxis(\n",
    "        title=go.layout.xaxis.Title(\n",
    "            text=\"Year\",\n",
    "            font=dict(\n",
    "                family=\"Arial, monospace\",\n",
    "                size=14,\n",
    "                color=\"white\"\n",
    "            )\n",
    "        ),\n",
    "        showline = True,\n",
    "        linecolor = 'white',\n",
    "        showticklabels = True,\n",
    "        tickfont = dict(\n",
    "            family = 'Arial',\n",
    "            size = 10,\n",
    "            color = 'white'\n",
    "      )\n",
    "    ),\n",
    "    yaxis=go.layout.YAxis(\n",
    "        title=go.layout.yaxis.Title(\n",
    "            text=\"Total Amount (in EUR)\",\n",
    "            font=dict(\n",
    "                family=\"Arial, monospace\",\n",
    "                size=14,\n",
    "                color=\"white\"\n",
    "            )\n",
    "        ),\n",
    "        showline = False,\n",
    "        linecolor = 'white',\n",
    "        showticklabels = True,\n",
    "        tickfont = dict(\n",
    "            family = 'Arial',\n",
    "            size = 10,\n",
    "            color = 'white'\n",
    "        )\n",
    "    )\n",
    ")\n",
    "\n",
    "fig6.update_layout(\n",
    "    legend=dict(\n",
    "        x=0.8,\n",
    "        y=1\n",
    "    )\n",
    ")\n",
    "\n",
    "fig6.update_layout(\n",
    "    xaxis=dict(showgrid=False, zeroline=False),\n",
    "    yaxis=dict(showgrid=False, zeroline=False),\n",
    ")\n",
    "\n",
    "# plot(fig6 ,filename = 'TimeSeries.html')\n",
    "fig6.show()"
   ]
  },
  {
   "cell_type": "markdown",
   "metadata": {},
   "source": [
    "<div class=\"alert alert-danger\" role=\"alert\">\n",
    "\n",
    "**Part 6: Analyses for Player Age** <br><br>\n",
    "We will analyze whether Player Age is a determinant of the nature of the Transfer that take place. Here, we are interested in the quantum of transfers that took place and their cumulative value. We will also analyze the surplus and deficit that transfers for different age groups warrant.\n",
    "\n",
    "</div>"
   ]
  },
  {
   "cell_type": "code",
   "execution_count": 22,
   "metadata": {},
   "outputs": [
    {
     "data": {
      "text/html": [
       "<div>\n",
       "<style scoped>\n",
       "    .dataframe tbody tr th:only-of-type {\n",
       "        vertical-align: middle;\n",
       "    }\n",
       "\n",
       "    .dataframe tbody tr th {\n",
       "        vertical-align: top;\n",
       "    }\n",
       "\n",
       "    .dataframe thead th {\n",
       "        text-align: right;\n",
       "    }\n",
       "</style>\n",
       "<table border=\"1\" class=\"dataframe\">\n",
       "  <thead>\n",
       "    <tr style=\"text-align: right;\">\n",
       "      <th></th>\n",
       "      <th>Age</th>\n",
       "      <th>Transfer_Count</th>\n",
       "      <th>Surplus/Deficit</th>\n",
       "      <th>Transfer_mean</th>\n",
       "    </tr>\n",
       "  </thead>\n",
       "  <tbody>\n",
       "    <tr>\n",
       "      <td>0</td>\n",
       "      <td>14.0</td>\n",
       "      <td>1</td>\n",
       "      <td>-25000.000000</td>\n",
       "      <td>0.000000e+00</td>\n",
       "    </tr>\n",
       "    <tr>\n",
       "      <td>1</td>\n",
       "      <td>15.0</td>\n",
       "      <td>5</td>\n",
       "      <td>-230000.000000</td>\n",
       "      <td>0.000000e+00</td>\n",
       "    </tr>\n",
       "    <tr>\n",
       "      <td>2</td>\n",
       "      <td>16.0</td>\n",
       "      <td>48</td>\n",
       "      <td>813854.166667</td>\n",
       "      <td>1.336771e+06</td>\n",
       "    </tr>\n",
       "    <tr>\n",
       "      <td>3</td>\n",
       "      <td>17.0</td>\n",
       "      <td>193</td>\n",
       "      <td>500290.155440</td>\n",
       "      <td>7.854974e+05</td>\n",
       "    </tr>\n",
       "    <tr>\n",
       "      <td>4</td>\n",
       "      <td>18.0</td>\n",
       "      <td>689</td>\n",
       "      <td>669534.107402</td>\n",
       "      <td>1.362284e+06</td>\n",
       "    </tr>\n",
       "    <tr>\n",
       "      <td>5</td>\n",
       "      <td>19.0</td>\n",
       "      <td>1572</td>\n",
       "      <td>491468.702290</td>\n",
       "      <td>1.271838e+06</td>\n",
       "    </tr>\n",
       "    <tr>\n",
       "      <td>6</td>\n",
       "      <td>20.0</td>\n",
       "      <td>2445</td>\n",
       "      <td>390209.734151</td>\n",
       "      <td>1.139729e+06</td>\n",
       "    </tr>\n",
       "    <tr>\n",
       "      <td>7</td>\n",
       "      <td>21.0</td>\n",
       "      <td>3159</td>\n",
       "      <td>285056.853435</td>\n",
       "      <td>1.280965e+06</td>\n",
       "    </tr>\n",
       "    <tr>\n",
       "      <td>8</td>\n",
       "      <td>22.0</td>\n",
       "      <td>3673</td>\n",
       "      <td>217211.543697</td>\n",
       "      <td>1.292614e+06</td>\n",
       "    </tr>\n",
       "    <tr>\n",
       "      <td>9</td>\n",
       "      <td>23.0</td>\n",
       "      <td>4230</td>\n",
       "      <td>165837.115839</td>\n",
       "      <td>1.343344e+06</td>\n",
       "    </tr>\n",
       "    <tr>\n",
       "      <td>10</td>\n",
       "      <td>24.0</td>\n",
       "      <td>4383</td>\n",
       "      <td>43132.580424</td>\n",
       "      <td>1.328558e+06</td>\n",
       "    </tr>\n",
       "    <tr>\n",
       "      <td>11</td>\n",
       "      <td>25.0</td>\n",
       "      <td>4574</td>\n",
       "      <td>-25900.251421</td>\n",
       "      <td>1.212498e+06</td>\n",
       "    </tr>\n",
       "    <tr>\n",
       "      <td>12</td>\n",
       "      <td>26.0</td>\n",
       "      <td>4643</td>\n",
       "      <td>-174422.356235</td>\n",
       "      <td>1.005174e+06</td>\n",
       "    </tr>\n",
       "    <tr>\n",
       "      <td>13</td>\n",
       "      <td>27.0</td>\n",
       "      <td>4766</td>\n",
       "      <td>-227199.223668</td>\n",
       "      <td>8.701833e+05</td>\n",
       "    </tr>\n",
       "    <tr>\n",
       "      <td>14</td>\n",
       "      <td>28.0</td>\n",
       "      <td>4489</td>\n",
       "      <td>-396000.790822</td>\n",
       "      <td>7.565220e+05</td>\n",
       "    </tr>\n",
       "    <tr>\n",
       "      <td>15</td>\n",
       "      <td>29.0</td>\n",
       "      <td>4408</td>\n",
       "      <td>-449225.045372</td>\n",
       "      <td>5.510683e+05</td>\n",
       "    </tr>\n",
       "    <tr>\n",
       "      <td>16</td>\n",
       "      <td>30.0</td>\n",
       "      <td>4053</td>\n",
       "      <td>-524894.152480</td>\n",
       "      <td>3.444940e+05</td>\n",
       "    </tr>\n",
       "    <tr>\n",
       "      <td>17</td>\n",
       "      <td>31.0</td>\n",
       "      <td>3641</td>\n",
       "      <td>-526751.441912</td>\n",
       "      <td>1.961969e+05</td>\n",
       "    </tr>\n",
       "    <tr>\n",
       "      <td>18</td>\n",
       "      <td>32.0</td>\n",
       "      <td>3234</td>\n",
       "      <td>-466355.905999</td>\n",
       "      <td>9.620748e+04</td>\n",
       "    </tr>\n",
       "    <tr>\n",
       "      <td>19</td>\n",
       "      <td>33.0</td>\n",
       "      <td>2572</td>\n",
       "      <td>-404837.091757</td>\n",
       "      <td>1.064809e+05</td>\n",
       "    </tr>\n",
       "    <tr>\n",
       "      <td>20</td>\n",
       "      <td>34.0</td>\n",
       "      <td>1969</td>\n",
       "      <td>-332799.898426</td>\n",
       "      <td>2.256069e+04</td>\n",
       "    </tr>\n",
       "    <tr>\n",
       "      <td>21</td>\n",
       "      <td>35.0</td>\n",
       "      <td>1278</td>\n",
       "      <td>-250271.517997</td>\n",
       "      <td>1.213067e+04</td>\n",
       "    </tr>\n",
       "    <tr>\n",
       "      <td>22</td>\n",
       "      <td>36.0</td>\n",
       "      <td>803</td>\n",
       "      <td>-233032.378580</td>\n",
       "      <td>5.099626e+03</td>\n",
       "    </tr>\n",
       "    <tr>\n",
       "      <td>23</td>\n",
       "      <td>37.0</td>\n",
       "      <td>449</td>\n",
       "      <td>-200590.200445</td>\n",
       "      <td>6.425390e+03</td>\n",
       "    </tr>\n",
       "    <tr>\n",
       "      <td>24</td>\n",
       "      <td>38.0</td>\n",
       "      <td>237</td>\n",
       "      <td>-150611.814346</td>\n",
       "      <td>1.687764e+03</td>\n",
       "    </tr>\n",
       "    <tr>\n",
       "      <td>25</td>\n",
       "      <td>39.0</td>\n",
       "      <td>117</td>\n",
       "      <td>-143589.743590</td>\n",
       "      <td>0.000000e+00</td>\n",
       "    </tr>\n",
       "    <tr>\n",
       "      <td>26</td>\n",
       "      <td>40.0</td>\n",
       "      <td>60</td>\n",
       "      <td>-138500.000000</td>\n",
       "      <td>0.000000e+00</td>\n",
       "    </tr>\n",
       "    <tr>\n",
       "      <td>27</td>\n",
       "      <td>41.0</td>\n",
       "      <td>29</td>\n",
       "      <td>-126724.137931</td>\n",
       "      <td>0.000000e+00</td>\n",
       "    </tr>\n",
       "    <tr>\n",
       "      <td>28</td>\n",
       "      <td>42.0</td>\n",
       "      <td>17</td>\n",
       "      <td>-139705.882353</td>\n",
       "      <td>0.000000e+00</td>\n",
       "    </tr>\n",
       "    <tr>\n",
       "      <td>29</td>\n",
       "      <td>43.0</td>\n",
       "      <td>4</td>\n",
       "      <td>-100000.000000</td>\n",
       "      <td>0.000000e+00</td>\n",
       "    </tr>\n",
       "    <tr>\n",
       "      <td>30</td>\n",
       "      <td>44.0</td>\n",
       "      <td>2</td>\n",
       "      <td>-175000.000000</td>\n",
       "      <td>0.000000e+00</td>\n",
       "    </tr>\n",
       "    <tr>\n",
       "      <td>31</td>\n",
       "      <td>45.0</td>\n",
       "      <td>3</td>\n",
       "      <td>-158333.333333</td>\n",
       "      <td>0.000000e+00</td>\n",
       "    </tr>\n",
       "    <tr>\n",
       "      <td>32</td>\n",
       "      <td>46.0</td>\n",
       "      <td>1</td>\n",
       "      <td>-50000.000000</td>\n",
       "      <td>0.000000e+00</td>\n",
       "    </tr>\n",
       "  </tbody>\n",
       "</table>\n",
       "</div>"
      ],
      "text/plain": [
       "     Age  Transfer_Count  Surplus/Deficit  Transfer_mean\n",
       "0   14.0               1    -25000.000000   0.000000e+00\n",
       "1   15.0               5   -230000.000000   0.000000e+00\n",
       "2   16.0              48    813854.166667   1.336771e+06\n",
       "3   17.0             193    500290.155440   7.854974e+05\n",
       "4   18.0             689    669534.107402   1.362284e+06\n",
       "5   19.0            1572    491468.702290   1.271838e+06\n",
       "6   20.0            2445    390209.734151   1.139729e+06\n",
       "7   21.0            3159    285056.853435   1.280965e+06\n",
       "8   22.0            3673    217211.543697   1.292614e+06\n",
       "9   23.0            4230    165837.115839   1.343344e+06\n",
       "10  24.0            4383     43132.580424   1.328558e+06\n",
       "11  25.0            4574    -25900.251421   1.212498e+06\n",
       "12  26.0            4643   -174422.356235   1.005174e+06\n",
       "13  27.0            4766   -227199.223668   8.701833e+05\n",
       "14  28.0            4489   -396000.790822   7.565220e+05\n",
       "15  29.0            4408   -449225.045372   5.510683e+05\n",
       "16  30.0            4053   -524894.152480   3.444940e+05\n",
       "17  31.0            3641   -526751.441912   1.961969e+05\n",
       "18  32.0            3234   -466355.905999   9.620748e+04\n",
       "19  33.0            2572   -404837.091757   1.064809e+05\n",
       "20  34.0            1969   -332799.898426   2.256069e+04\n",
       "21  35.0            1278   -250271.517997   1.213067e+04\n",
       "22  36.0             803   -233032.378580   5.099626e+03\n",
       "23  37.0             449   -200590.200445   6.425390e+03\n",
       "24  38.0             237   -150611.814346   1.687764e+03\n",
       "25  39.0             117   -143589.743590   0.000000e+00\n",
       "26  40.0              60   -138500.000000   0.000000e+00\n",
       "27  41.0              29   -126724.137931   0.000000e+00\n",
       "28  42.0              17   -139705.882353   0.000000e+00\n",
       "29  43.0               4   -100000.000000   0.000000e+00\n",
       "30  44.0               2   -175000.000000   0.000000e+00\n",
       "31  45.0               3   -158333.333333   0.000000e+00\n",
       "32  46.0               1    -50000.000000   0.000000e+00"
      ]
     },
     "execution_count": 22,
     "metadata": {},
     "output_type": "execute_result"
    }
   ],
   "source": [
    "Age1 = Test_EDA.groupby(\"Age\").agg({\"Transfer\":np.mean})\n",
    "Age1 = Age1.sort_values(by='Age', ascending = True)\n",
    "# Age-wise no. of transfers and average surplus/deficit\n",
    "\n",
    "Age2=Test_EDA.groupby(\"Age\").agg({\"Transfer\":\"count\", \"Surplus/Deficit\":\"mean\"})\n",
    "Age_Analysis = pd.merge(Age2, Age1, \n",
    "                     how = 'outer',\n",
    "                     on = 'Age',\n",
    "                    suffixes = ('_Count','_mean'))\n",
    "Age_Analysis.reset_index(inplace=True)\n",
    "Age_Analysis\n"
   ]
  },
  {
   "cell_type": "markdown",
   "metadata": {},
   "source": [
    "<div class=\"alert alert-warning\" role=\"alert\">\n",
    "\n",
    "**Method** <br>\n",
    "In the following graph, we analyze the transfer market data for Player Age.\n",
    "</div>"
   ]
  },
  {
   "cell_type": "markdown",
   "metadata": {},
   "source": [
    "<div class=\"alert alert-success\" role=\"alert\">\n",
    "\n",
    "**Inference**<br>\n",
    "As expected, the age of the player is instrumental in determining the Transfer Fee and the number of transfers that take place. Evidently, the number of transfers are high in number for two age groups. Ages 16-18 see the most number of transfers as clubs look to buy promising players and developing them within the club from a young age. Another peak age for transfers is between the 21-25 where players have proved themselves on the big stage but not yet matured fully in their careers. After 25, the number of transfers drop as clubs look to retain the mature and tested players and players themselves are more settled where they are.\n",
    "\n",
    "</div>    "
   ]
  },
  {
   "cell_type": "code",
   "execution_count": 23,
   "metadata": {},
   "outputs": [
    {
     "data": {
      "application/vnd.plotly.v1+json": {
       "config": {
        "plotlyServerURL": "https://plot.ly"
       },
       "data": [
        {
         "alignmentgroup": "True",
         "hoverlabel": {
          "namelength": 0
         },
         "hovertemplate": "<b>%{hovertext}</b><br><br>Age=%{x}<br>Transfer_mean=%{y}<br>Surplus/Deficit=%{marker.color}",
         "hovertext": [
          14,
          15,
          16,
          17,
          18,
          19,
          20,
          21,
          22,
          23,
          24,
          25,
          26,
          27,
          28,
          29,
          30,
          31,
          32,
          33,
          34,
          35,
          36,
          37,
          38,
          39,
          40,
          41,
          42,
          43,
          44,
          45,
          46
         ],
         "legendgroup": "",
         "marker": {
          "color": [
           -25000,
           -230000,
           813854.1666666666,
           500290.1554404145,
           669534.1074020319,
           491468.70229007635,
           390209.73415132926,
           285056.8534346312,
           217211.5436972502,
           165837.1158392435,
           43132.580424366875,
           -25900.251421075645,
           -174422.35623519277,
           -227199.22366764583,
           -396000.7908220094,
           -449225.04537205084,
           -524894.1524796447,
           -526751.4419115628,
           -466355.90599876316,
           -404837.0917573873,
           -332799.89842559677,
           -250271.5179968701,
           -233032.3785803238,
           -200590.2004454343,
           -150611.81434599156,
           -143589.7435897436,
           -138500,
           -126724.13793103448,
           -139705.88235294117,
           -100000,
           -175000,
           -158333.33333333334,
           -50000
          ],
          "coloraxis": "coloraxis"
         },
         "name": "",
         "offsetgroup": "",
         "orientation": "v",
         "showlegend": false,
         "textposition": "auto",
         "type": "bar",
         "x": [
          14,
          15,
          16,
          17,
          18,
          19,
          20,
          21,
          22,
          23,
          24,
          25,
          26,
          27,
          28,
          29,
          30,
          31,
          32,
          33,
          34,
          35,
          36,
          37,
          38,
          39,
          40,
          41,
          42,
          43,
          44,
          45,
          46
         ],
         "xaxis": "x",
         "y": [
          0,
          0,
          1336770.8333333333,
          785497.4093264248,
          1362284.4702467343,
          1271837.659033079,
          1139729.1615541922,
          1280965.368787591,
          1292614.4840729649,
          1343344.208037825,
          1328558.316221766,
          1212498.305640577,
          1005173.8100366143,
          870183.2773814519,
          756522.0427712186,
          551068.2849364792,
          344493.95509499137,
          196196.92392199946,
          96207.48299319728,
          106480.94867807154,
          22560.690705942103,
          12130.672926447574,
          5099.626400996264,
          6425.389755011136,
          1687.7637130801688,
          0,
          0,
          0,
          0,
          0,
          0,
          0,
          0
         ],
         "yaxis": "y"
        },
        {
         "hovertemplate": "Age: %{x}<br>Number of Transfers: %{y:,.0f}",
         "line": {
          "width": 3
         },
         "marker": {
          "color": "rgb(237,239,93)"
         },
         "name": "Number of Transfers",
         "text": [
          1,
          5,
          48,
          193,
          689,
          1572,
          2445,
          3159,
          3673,
          4230,
          4383,
          4574,
          4643,
          4766,
          4489,
          4408,
          4053,
          3641,
          3234,
          2572,
          1969,
          1278,
          803,
          449,
          237,
          117,
          60,
          29,
          17,
          4,
          2,
          3,
          1
         ],
         "type": "scatter",
         "x": [
          14,
          15,
          16,
          17,
          18,
          19,
          20,
          21,
          22,
          23,
          24,
          25,
          26,
          27,
          28,
          29,
          30,
          31,
          32,
          33,
          34,
          35,
          36,
          37,
          38,
          39,
          40,
          41,
          42,
          43,
          44,
          45,
          46
         ],
         "y": [
          1,
          5,
          48,
          193,
          689,
          1572,
          2445,
          3159,
          3673,
          4230,
          4383,
          4574,
          4643,
          4766,
          4489,
          4408,
          4053,
          3641,
          3234,
          2572,
          1969,
          1278,
          803,
          449,
          237,
          117,
          60,
          29,
          17,
          4,
          2,
          3,
          1
         ],
         "yaxis": "y2"
        }
       ],
       "layout": {
        "barmode": "relative",
        "coloraxis": {
         "colorbar": {
          "title": {
           "text": "Surplus/Deficit"
          }
         },
         "colorscale": [
          [
           0,
           "rgb(247,251,255)"
          ],
          [
           0.125,
           "rgb(222,235,247)"
          ],
          [
           0.25,
           "rgb(198,219,239)"
          ],
          [
           0.375,
           "rgb(158,202,225)"
          ],
          [
           0.5,
           "rgb(107,174,214)"
          ],
          [
           0.625,
           "rgb(66,146,198)"
          ],
          [
           0.75,
           "rgb(33,113,181)"
          ],
          [
           0.875,
           "rgb(8,81,156)"
          ],
          [
           1,
           "rgb(8,48,107)"
          ]
         ]
        },
        "font": {
         "color": "white",
         "family": "Arial, monospace",
         "size": 10
        },
        "hoverlabel": {
         "bgcolor": "black",
         "bordercolor": "black",
         "font": {
          "color": "white",
          "family": "Arial, monospace",
          "size": 14
         }
        },
        "legend": {
         "tracegroupgap": 0,
         "x": 0.8,
         "y": 1
        },
        "template": {
         "data": {
          "bar": [
           {
            "error_x": {
             "color": "#f2f5fa"
            },
            "error_y": {
             "color": "#f2f5fa"
            },
            "marker": {
             "line": {
              "color": "rgb(17,17,17)",
              "width": 0.5
             }
            },
            "type": "bar"
           }
          ],
          "barpolar": [
           {
            "marker": {
             "line": {
              "color": "rgb(17,17,17)",
              "width": 0.5
             }
            },
            "type": "barpolar"
           }
          ],
          "carpet": [
           {
            "aaxis": {
             "endlinecolor": "#A2B1C6",
             "gridcolor": "#506784",
             "linecolor": "#506784",
             "minorgridcolor": "#506784",
             "startlinecolor": "#A2B1C6"
            },
            "baxis": {
             "endlinecolor": "#A2B1C6",
             "gridcolor": "#506784",
             "linecolor": "#506784",
             "minorgridcolor": "#506784",
             "startlinecolor": "#A2B1C6"
            },
            "type": "carpet"
           }
          ],
          "choropleth": [
           {
            "colorbar": {
             "outlinewidth": 0,
             "ticks": ""
            },
            "type": "choropleth"
           }
          ],
          "contour": [
           {
            "colorbar": {
             "outlinewidth": 0,
             "ticks": ""
            },
            "colorscale": [
             [
              0,
              "#0d0887"
             ],
             [
              0.1111111111111111,
              "#46039f"
             ],
             [
              0.2222222222222222,
              "#7201a8"
             ],
             [
              0.3333333333333333,
              "#9c179e"
             ],
             [
              0.4444444444444444,
              "#bd3786"
             ],
             [
              0.5555555555555556,
              "#d8576b"
             ],
             [
              0.6666666666666666,
              "#ed7953"
             ],
             [
              0.7777777777777778,
              "#fb9f3a"
             ],
             [
              0.8888888888888888,
              "#fdca26"
             ],
             [
              1,
              "#f0f921"
             ]
            ],
            "type": "contour"
           }
          ],
          "contourcarpet": [
           {
            "colorbar": {
             "outlinewidth": 0,
             "ticks": ""
            },
            "type": "contourcarpet"
           }
          ],
          "heatmap": [
           {
            "colorbar": {
             "outlinewidth": 0,
             "ticks": ""
            },
            "colorscale": [
             [
              0,
              "#0d0887"
             ],
             [
              0.1111111111111111,
              "#46039f"
             ],
             [
              0.2222222222222222,
              "#7201a8"
             ],
             [
              0.3333333333333333,
              "#9c179e"
             ],
             [
              0.4444444444444444,
              "#bd3786"
             ],
             [
              0.5555555555555556,
              "#d8576b"
             ],
             [
              0.6666666666666666,
              "#ed7953"
             ],
             [
              0.7777777777777778,
              "#fb9f3a"
             ],
             [
              0.8888888888888888,
              "#fdca26"
             ],
             [
              1,
              "#f0f921"
             ]
            ],
            "type": "heatmap"
           }
          ],
          "heatmapgl": [
           {
            "colorbar": {
             "outlinewidth": 0,
             "ticks": ""
            },
            "colorscale": [
             [
              0,
              "#0d0887"
             ],
             [
              0.1111111111111111,
              "#46039f"
             ],
             [
              0.2222222222222222,
              "#7201a8"
             ],
             [
              0.3333333333333333,
              "#9c179e"
             ],
             [
              0.4444444444444444,
              "#bd3786"
             ],
             [
              0.5555555555555556,
              "#d8576b"
             ],
             [
              0.6666666666666666,
              "#ed7953"
             ],
             [
              0.7777777777777778,
              "#fb9f3a"
             ],
             [
              0.8888888888888888,
              "#fdca26"
             ],
             [
              1,
              "#f0f921"
             ]
            ],
            "type": "heatmapgl"
           }
          ],
          "histogram": [
           {
            "marker": {
             "colorbar": {
              "outlinewidth": 0,
              "ticks": ""
             }
            },
            "type": "histogram"
           }
          ],
          "histogram2d": [
           {
            "colorbar": {
             "outlinewidth": 0,
             "ticks": ""
            },
            "colorscale": [
             [
              0,
              "#0d0887"
             ],
             [
              0.1111111111111111,
              "#46039f"
             ],
             [
              0.2222222222222222,
              "#7201a8"
             ],
             [
              0.3333333333333333,
              "#9c179e"
             ],
             [
              0.4444444444444444,
              "#bd3786"
             ],
             [
              0.5555555555555556,
              "#d8576b"
             ],
             [
              0.6666666666666666,
              "#ed7953"
             ],
             [
              0.7777777777777778,
              "#fb9f3a"
             ],
             [
              0.8888888888888888,
              "#fdca26"
             ],
             [
              1,
              "#f0f921"
             ]
            ],
            "type": "histogram2d"
           }
          ],
          "histogram2dcontour": [
           {
            "colorbar": {
             "outlinewidth": 0,
             "ticks": ""
            },
            "colorscale": [
             [
              0,
              "#0d0887"
             ],
             [
              0.1111111111111111,
              "#46039f"
             ],
             [
              0.2222222222222222,
              "#7201a8"
             ],
             [
              0.3333333333333333,
              "#9c179e"
             ],
             [
              0.4444444444444444,
              "#bd3786"
             ],
             [
              0.5555555555555556,
              "#d8576b"
             ],
             [
              0.6666666666666666,
              "#ed7953"
             ],
             [
              0.7777777777777778,
              "#fb9f3a"
             ],
             [
              0.8888888888888888,
              "#fdca26"
             ],
             [
              1,
              "#f0f921"
             ]
            ],
            "type": "histogram2dcontour"
           }
          ],
          "mesh3d": [
           {
            "colorbar": {
             "outlinewidth": 0,
             "ticks": ""
            },
            "type": "mesh3d"
           }
          ],
          "parcoords": [
           {
            "line": {
             "colorbar": {
              "outlinewidth": 0,
              "ticks": ""
             }
            },
            "type": "parcoords"
           }
          ],
          "pie": [
           {
            "automargin": true,
            "type": "pie"
           }
          ],
          "scatter": [
           {
            "marker": {
             "line": {
              "color": "#283442"
             }
            },
            "type": "scatter"
           }
          ],
          "scatter3d": [
           {
            "line": {
             "colorbar": {
              "outlinewidth": 0,
              "ticks": ""
             }
            },
            "marker": {
             "colorbar": {
              "outlinewidth": 0,
              "ticks": ""
             }
            },
            "type": "scatter3d"
           }
          ],
          "scattercarpet": [
           {
            "marker": {
             "colorbar": {
              "outlinewidth": 0,
              "ticks": ""
             }
            },
            "type": "scattercarpet"
           }
          ],
          "scattergeo": [
           {
            "marker": {
             "colorbar": {
              "outlinewidth": 0,
              "ticks": ""
             }
            },
            "type": "scattergeo"
           }
          ],
          "scattergl": [
           {
            "marker": {
             "line": {
              "color": "#283442"
             }
            },
            "type": "scattergl"
           }
          ],
          "scattermapbox": [
           {
            "marker": {
             "colorbar": {
              "outlinewidth": 0,
              "ticks": ""
             }
            },
            "type": "scattermapbox"
           }
          ],
          "scatterpolar": [
           {
            "marker": {
             "colorbar": {
              "outlinewidth": 0,
              "ticks": ""
             }
            },
            "type": "scatterpolar"
           }
          ],
          "scatterpolargl": [
           {
            "marker": {
             "colorbar": {
              "outlinewidth": 0,
              "ticks": ""
             }
            },
            "type": "scatterpolargl"
           }
          ],
          "scatterternary": [
           {
            "marker": {
             "colorbar": {
              "outlinewidth": 0,
              "ticks": ""
             }
            },
            "type": "scatterternary"
           }
          ],
          "surface": [
           {
            "colorbar": {
             "outlinewidth": 0,
             "ticks": ""
            },
            "colorscale": [
             [
              0,
              "#0d0887"
             ],
             [
              0.1111111111111111,
              "#46039f"
             ],
             [
              0.2222222222222222,
              "#7201a8"
             ],
             [
              0.3333333333333333,
              "#9c179e"
             ],
             [
              0.4444444444444444,
              "#bd3786"
             ],
             [
              0.5555555555555556,
              "#d8576b"
             ],
             [
              0.6666666666666666,
              "#ed7953"
             ],
             [
              0.7777777777777778,
              "#fb9f3a"
             ],
             [
              0.8888888888888888,
              "#fdca26"
             ],
             [
              1,
              "#f0f921"
             ]
            ],
            "type": "surface"
           }
          ],
          "table": [
           {
            "cells": {
             "fill": {
              "color": "#506784"
             },
             "line": {
              "color": "rgb(17,17,17)"
             }
            },
            "header": {
             "fill": {
              "color": "#2a3f5f"
             },
             "line": {
              "color": "rgb(17,17,17)"
             }
            },
            "type": "table"
           }
          ]
         },
         "layout": {
          "annotationdefaults": {
           "arrowcolor": "#f2f5fa",
           "arrowhead": 0,
           "arrowwidth": 1
          },
          "coloraxis": {
           "colorbar": {
            "outlinewidth": 0,
            "ticks": ""
           }
          },
          "colorscale": {
           "diverging": [
            [
             0,
             "#8e0152"
            ],
            [
             0.1,
             "#c51b7d"
            ],
            [
             0.2,
             "#de77ae"
            ],
            [
             0.3,
             "#f1b6da"
            ],
            [
             0.4,
             "#fde0ef"
            ],
            [
             0.5,
             "#f7f7f7"
            ],
            [
             0.6,
             "#e6f5d0"
            ],
            [
             0.7,
             "#b8e186"
            ],
            [
             0.8,
             "#7fbc41"
            ],
            [
             0.9,
             "#4d9221"
            ],
            [
             1,
             "#276419"
            ]
           ],
           "sequential": [
            [
             0,
             "#0d0887"
            ],
            [
             0.1111111111111111,
             "#46039f"
            ],
            [
             0.2222222222222222,
             "#7201a8"
            ],
            [
             0.3333333333333333,
             "#9c179e"
            ],
            [
             0.4444444444444444,
             "#bd3786"
            ],
            [
             0.5555555555555556,
             "#d8576b"
            ],
            [
             0.6666666666666666,
             "#ed7953"
            ],
            [
             0.7777777777777778,
             "#fb9f3a"
            ],
            [
             0.8888888888888888,
             "#fdca26"
            ],
            [
             1,
             "#f0f921"
            ]
           ],
           "sequentialminus": [
            [
             0,
             "#0d0887"
            ],
            [
             0.1111111111111111,
             "#46039f"
            ],
            [
             0.2222222222222222,
             "#7201a8"
            ],
            [
             0.3333333333333333,
             "#9c179e"
            ],
            [
             0.4444444444444444,
             "#bd3786"
            ],
            [
             0.5555555555555556,
             "#d8576b"
            ],
            [
             0.6666666666666666,
             "#ed7953"
            ],
            [
             0.7777777777777778,
             "#fb9f3a"
            ],
            [
             0.8888888888888888,
             "#fdca26"
            ],
            [
             1,
             "#f0f921"
            ]
           ]
          },
          "colorway": [
           "#636efa",
           "#EF553B",
           "#00cc96",
           "#ab63fa",
           "#FFA15A",
           "#19d3f3",
           "#FF6692",
           "#B6E880",
           "#FF97FF",
           "#FECB52"
          ],
          "font": {
           "color": "#f2f5fa"
          },
          "geo": {
           "bgcolor": "rgb(17,17,17)",
           "lakecolor": "rgb(17,17,17)",
           "landcolor": "rgb(17,17,17)",
           "showlakes": true,
           "showland": true,
           "subunitcolor": "#506784"
          },
          "hoverlabel": {
           "align": "left"
          },
          "hovermode": "closest",
          "mapbox": {
           "style": "dark"
          },
          "paper_bgcolor": "rgb(17,17,17)",
          "plot_bgcolor": "rgb(17,17,17)",
          "polar": {
           "angularaxis": {
            "gridcolor": "#506784",
            "linecolor": "#506784",
            "ticks": ""
           },
           "bgcolor": "rgb(17,17,17)",
           "radialaxis": {
            "gridcolor": "#506784",
            "linecolor": "#506784",
            "ticks": ""
           }
          },
          "scene": {
           "xaxis": {
            "backgroundcolor": "rgb(17,17,17)",
            "gridcolor": "#506784",
            "gridwidth": 2,
            "linecolor": "#506784",
            "showbackground": true,
            "ticks": "",
            "zerolinecolor": "#C8D4E3"
           },
           "yaxis": {
            "backgroundcolor": "rgb(17,17,17)",
            "gridcolor": "#506784",
            "gridwidth": 2,
            "linecolor": "#506784",
            "showbackground": true,
            "ticks": "",
            "zerolinecolor": "#C8D4E3"
           },
           "zaxis": {
            "backgroundcolor": "rgb(17,17,17)",
            "gridcolor": "#506784",
            "gridwidth": 2,
            "linecolor": "#506784",
            "showbackground": true,
            "ticks": "",
            "zerolinecolor": "#C8D4E3"
           }
          },
          "shapedefaults": {
           "line": {
            "color": "#f2f5fa"
           }
          },
          "sliderdefaults": {
           "bgcolor": "#C8D4E3",
           "bordercolor": "rgb(17,17,17)",
           "borderwidth": 1,
           "tickwidth": 0
          },
          "ternary": {
           "aaxis": {
            "gridcolor": "#506784",
            "linecolor": "#506784",
            "ticks": ""
           },
           "baxis": {
            "gridcolor": "#506784",
            "linecolor": "#506784",
            "ticks": ""
           },
           "bgcolor": "rgb(17,17,17)",
           "caxis": {
            "gridcolor": "#506784",
            "linecolor": "#506784",
            "ticks": ""
           }
          },
          "title": {
           "x": 0.05
          },
          "updatemenudefaults": {
           "bgcolor": "#506784",
           "borderwidth": 0
          },
          "xaxis": {
           "automargin": true,
           "gridcolor": "#283442",
           "linecolor": "#506784",
           "ticks": "",
           "title": {
            "standoff": 15
           },
           "zerolinecolor": "#283442",
           "zerolinewidth": 2
          },
          "yaxis": {
           "automargin": true,
           "gridcolor": "#283442",
           "linecolor": "#506784",
           "ticks": "",
           "title": {
            "standoff": 15
           },
           "zerolinecolor": "#283442",
           "zerolinewidth": 2
          }
         }
        },
        "title": {
         "text": "Transfer Market Analysis based on Player Age"
        },
        "xaxis": {
         "linecolor": "white",
         "showgrid": false,
         "showline": true,
         "showticklabels": true,
         "tickfont": {
          "color": "white",
          "family": "Arial",
          "size": 10
         },
         "title": {
          "font": {
           "color": "white",
           "family": "Arial, monospace",
           "size": 14
          },
          "text": "Age"
         },
         "zeroline": false
        },
        "yaxis": {
         "linecolor": "white",
         "showgrid": false,
         "showline": false,
         "showticklabels": true,
         "tickfont": {
          "color": "white",
          "family": "Arial",
          "size": 10
         },
         "title": {
          "font": {
           "color": "white",
           "family": "Arial, monospace",
           "size": 14
          },
          "text": "Average Transfer Fee, in Euros"
         },
         "zeroline": false
        },
        "yaxis2": {
         "overlaying": "y",
         "showgrid": false,
         "side": "right",
         "title": {
          "text": ""
         },
         "zeroline": false
        }
       }
      },
      "text/html": [
       "<div>\n",
       "        \n",
       "        \n",
       "            <div id=\"5e9cf8a8-5996-46e3-afd3-1fb5c7696b49\" class=\"plotly-graph-div\" style=\"height:525px; width:100%;\"></div>\n",
       "            <script type=\"text/javascript\">\n",
       "                require([\"plotly\"], function(Plotly) {\n",
       "                    window.PLOTLYENV=window.PLOTLYENV || {};\n",
       "                    \n",
       "                if (document.getElementById(\"5e9cf8a8-5996-46e3-afd3-1fb5c7696b49\")) {\n",
       "                    Plotly.newPlot(\n",
       "                        '5e9cf8a8-5996-46e3-afd3-1fb5c7696b49',\n",
       "                        [{\"alignmentgroup\": \"True\", \"hoverlabel\": {\"namelength\": 0}, \"hovertemplate\": \"<b>%{hovertext}</b><br><br>Age=%{x}<br>Transfer_mean=%{y}<br>Surplus/Deficit=%{marker.color}\", \"hovertext\": [14.0, 15.0, 16.0, 17.0, 18.0, 19.0, 20.0, 21.0, 22.0, 23.0, 24.0, 25.0, 26.0, 27.0, 28.0, 29.0, 30.0, 31.0, 32.0, 33.0, 34.0, 35.0, 36.0, 37.0, 38.0, 39.0, 40.0, 41.0, 42.0, 43.0, 44.0, 45.0, 46.0], \"legendgroup\": \"\", \"marker\": {\"color\": [-25000.0, -230000.0, 813854.1666666666, 500290.1554404145, 669534.1074020319, 491468.70229007635, 390209.73415132926, 285056.8534346312, 217211.5436972502, 165837.1158392435, 43132.580424366875, -25900.251421075645, -174422.35623519277, -227199.22366764583, -396000.7908220094, -449225.04537205084, -524894.1524796447, -526751.4419115628, -466355.90599876316, -404837.0917573873, -332799.89842559677, -250271.5179968701, -233032.3785803238, -200590.2004454343, -150611.81434599156, -143589.7435897436, -138500.0, -126724.13793103448, -139705.88235294117, -100000.0, -175000.0, -158333.33333333334, -50000.0], \"coloraxis\": \"coloraxis\"}, \"name\": \"\", \"offsetgroup\": \"\", \"orientation\": \"v\", \"showlegend\": false, \"textposition\": \"auto\", \"type\": \"bar\", \"x\": [14.0, 15.0, 16.0, 17.0, 18.0, 19.0, 20.0, 21.0, 22.0, 23.0, 24.0, 25.0, 26.0, 27.0, 28.0, 29.0, 30.0, 31.0, 32.0, 33.0, 34.0, 35.0, 36.0, 37.0, 38.0, 39.0, 40.0, 41.0, 42.0, 43.0, 44.0, 45.0, 46.0], \"xaxis\": \"x\", \"y\": [0.0, 0.0, 1336770.8333333333, 785497.4093264248, 1362284.4702467343, 1271837.659033079, 1139729.1615541922, 1280965.368787591, 1292614.4840729649, 1343344.208037825, 1328558.316221766, 1212498.305640577, 1005173.8100366143, 870183.2773814519, 756522.0427712186, 551068.2849364792, 344493.95509499137, 196196.92392199946, 96207.48299319728, 106480.94867807154, 22560.690705942103, 12130.672926447574, 5099.626400996264, 6425.389755011136, 1687.7637130801688, 0.0, 0.0, 0.0, 0.0, 0.0, 0.0, 0.0, 0.0], \"yaxis\": \"y\"}, {\"hovertemplate\": \"Age: %{x}<br>Number of Transfers: %{y:,.0f}\", \"line\": {\"width\": 3}, \"marker\": {\"color\": \"rgb(237,239,93)\"}, \"name\": \"Number of Transfers\", \"text\": [1.0, 5.0, 48.0, 193.0, 689.0, 1572.0, 2445.0, 3159.0, 3673.0, 4230.0, 4383.0, 4574.0, 4643.0, 4766.0, 4489.0, 4408.0, 4053.0, 3641.0, 3234.0, 2572.0, 1969.0, 1278.0, 803.0, 449.0, 237.0, 117.0, 60.0, 29.0, 17.0, 4.0, 2.0, 3.0, 1.0], \"type\": \"scatter\", \"x\": [14.0, 15.0, 16.0, 17.0, 18.0, 19.0, 20.0, 21.0, 22.0, 23.0, 24.0, 25.0, 26.0, 27.0, 28.0, 29.0, 30.0, 31.0, 32.0, 33.0, 34.0, 35.0, 36.0, 37.0, 38.0, 39.0, 40.0, 41.0, 42.0, 43.0, 44.0, 45.0, 46.0], \"y\": [1, 5, 48, 193, 689, 1572, 2445, 3159, 3673, 4230, 4383, 4574, 4643, 4766, 4489, 4408, 4053, 3641, 3234, 2572, 1969, 1278, 803, 449, 237, 117, 60, 29, 17, 4, 2, 3, 1], \"yaxis\": \"y2\"}],\n",
       "                        {\"barmode\": \"relative\", \"coloraxis\": {\"colorbar\": {\"title\": {\"text\": \"Surplus/Deficit\"}}, \"colorscale\": [[0.0, \"rgb(247,251,255)\"], [0.125, \"rgb(222,235,247)\"], [0.25, \"rgb(198,219,239)\"], [0.375, \"rgb(158,202,225)\"], [0.5, \"rgb(107,174,214)\"], [0.625, \"rgb(66,146,198)\"], [0.75, \"rgb(33,113,181)\"], [0.875, \"rgb(8,81,156)\"], [1.0, \"rgb(8,48,107)\"]]}, \"font\": {\"color\": \"white\", \"family\": \"Arial, monospace\", \"size\": 10}, \"hoverlabel\": {\"bgcolor\": \"black\", \"bordercolor\": \"black\", \"font\": {\"color\": \"white\", \"family\": \"Arial, monospace\", \"size\": 14}}, \"legend\": {\"tracegroupgap\": 0, \"x\": 0.8, \"y\": 1}, \"template\": {\"data\": {\"bar\": [{\"error_x\": {\"color\": \"#f2f5fa\"}, \"error_y\": {\"color\": \"#f2f5fa\"}, \"marker\": {\"line\": {\"color\": \"rgb(17,17,17)\", \"width\": 0.5}}, \"type\": \"bar\"}], \"barpolar\": [{\"marker\": {\"line\": {\"color\": \"rgb(17,17,17)\", \"width\": 0.5}}, \"type\": \"barpolar\"}], \"carpet\": [{\"aaxis\": {\"endlinecolor\": \"#A2B1C6\", \"gridcolor\": \"#506784\", \"linecolor\": \"#506784\", \"minorgridcolor\": \"#506784\", \"startlinecolor\": \"#A2B1C6\"}, \"baxis\": {\"endlinecolor\": \"#A2B1C6\", \"gridcolor\": \"#506784\", \"linecolor\": \"#506784\", \"minorgridcolor\": \"#506784\", \"startlinecolor\": \"#A2B1C6\"}, \"type\": \"carpet\"}], \"choropleth\": [{\"colorbar\": {\"outlinewidth\": 0, \"ticks\": \"\"}, \"type\": \"choropleth\"}], \"contour\": [{\"colorbar\": {\"outlinewidth\": 0, \"ticks\": \"\"}, \"colorscale\": [[0.0, \"#0d0887\"], [0.1111111111111111, \"#46039f\"], [0.2222222222222222, \"#7201a8\"], [0.3333333333333333, \"#9c179e\"], [0.4444444444444444, \"#bd3786\"], [0.5555555555555556, \"#d8576b\"], [0.6666666666666666, \"#ed7953\"], [0.7777777777777778, \"#fb9f3a\"], [0.8888888888888888, \"#fdca26\"], [1.0, \"#f0f921\"]], \"type\": \"contour\"}], \"contourcarpet\": [{\"colorbar\": {\"outlinewidth\": 0, \"ticks\": \"\"}, \"type\": \"contourcarpet\"}], \"heatmap\": [{\"colorbar\": {\"outlinewidth\": 0, \"ticks\": \"\"}, \"colorscale\": [[0.0, \"#0d0887\"], [0.1111111111111111, \"#46039f\"], [0.2222222222222222, \"#7201a8\"], [0.3333333333333333, \"#9c179e\"], [0.4444444444444444, \"#bd3786\"], [0.5555555555555556, \"#d8576b\"], [0.6666666666666666, \"#ed7953\"], [0.7777777777777778, \"#fb9f3a\"], [0.8888888888888888, \"#fdca26\"], [1.0, \"#f0f921\"]], \"type\": \"heatmap\"}], \"heatmapgl\": [{\"colorbar\": {\"outlinewidth\": 0, \"ticks\": \"\"}, \"colorscale\": [[0.0, \"#0d0887\"], [0.1111111111111111, \"#46039f\"], [0.2222222222222222, \"#7201a8\"], [0.3333333333333333, \"#9c179e\"], [0.4444444444444444, \"#bd3786\"], [0.5555555555555556, \"#d8576b\"], [0.6666666666666666, \"#ed7953\"], [0.7777777777777778, \"#fb9f3a\"], [0.8888888888888888, \"#fdca26\"], [1.0, \"#f0f921\"]], \"type\": \"heatmapgl\"}], \"histogram\": [{\"marker\": {\"colorbar\": {\"outlinewidth\": 0, \"ticks\": \"\"}}, \"type\": \"histogram\"}], \"histogram2d\": [{\"colorbar\": {\"outlinewidth\": 0, \"ticks\": \"\"}, \"colorscale\": [[0.0, \"#0d0887\"], [0.1111111111111111, \"#46039f\"], [0.2222222222222222, \"#7201a8\"], [0.3333333333333333, \"#9c179e\"], [0.4444444444444444, \"#bd3786\"], [0.5555555555555556, \"#d8576b\"], [0.6666666666666666, \"#ed7953\"], [0.7777777777777778, \"#fb9f3a\"], [0.8888888888888888, \"#fdca26\"], [1.0, \"#f0f921\"]], \"type\": \"histogram2d\"}], \"histogram2dcontour\": [{\"colorbar\": {\"outlinewidth\": 0, \"ticks\": \"\"}, \"colorscale\": [[0.0, \"#0d0887\"], [0.1111111111111111, \"#46039f\"], [0.2222222222222222, \"#7201a8\"], [0.3333333333333333, \"#9c179e\"], [0.4444444444444444, \"#bd3786\"], [0.5555555555555556, \"#d8576b\"], [0.6666666666666666, \"#ed7953\"], [0.7777777777777778, \"#fb9f3a\"], [0.8888888888888888, \"#fdca26\"], [1.0, \"#f0f921\"]], \"type\": \"histogram2dcontour\"}], \"mesh3d\": [{\"colorbar\": {\"outlinewidth\": 0, \"ticks\": \"\"}, \"type\": \"mesh3d\"}], \"parcoords\": [{\"line\": {\"colorbar\": {\"outlinewidth\": 0, \"ticks\": \"\"}}, \"type\": \"parcoords\"}], \"pie\": [{\"automargin\": true, \"type\": \"pie\"}], \"scatter\": [{\"marker\": {\"line\": {\"color\": \"#283442\"}}, \"type\": \"scatter\"}], \"scatter3d\": [{\"line\": {\"colorbar\": {\"outlinewidth\": 0, \"ticks\": \"\"}}, \"marker\": {\"colorbar\": {\"outlinewidth\": 0, \"ticks\": \"\"}}, \"type\": \"scatter3d\"}], \"scattercarpet\": [{\"marker\": {\"colorbar\": {\"outlinewidth\": 0, \"ticks\": \"\"}}, \"type\": \"scattercarpet\"}], \"scattergeo\": [{\"marker\": {\"colorbar\": {\"outlinewidth\": 0, \"ticks\": \"\"}}, \"type\": \"scattergeo\"}], \"scattergl\": [{\"marker\": {\"line\": {\"color\": \"#283442\"}}, \"type\": \"scattergl\"}], \"scattermapbox\": [{\"marker\": {\"colorbar\": {\"outlinewidth\": 0, \"ticks\": \"\"}}, \"type\": \"scattermapbox\"}], \"scatterpolar\": [{\"marker\": {\"colorbar\": {\"outlinewidth\": 0, \"ticks\": \"\"}}, \"type\": \"scatterpolar\"}], \"scatterpolargl\": [{\"marker\": {\"colorbar\": {\"outlinewidth\": 0, \"ticks\": \"\"}}, \"type\": \"scatterpolargl\"}], \"scatterternary\": [{\"marker\": {\"colorbar\": {\"outlinewidth\": 0, \"ticks\": \"\"}}, \"type\": \"scatterternary\"}], \"surface\": [{\"colorbar\": {\"outlinewidth\": 0, \"ticks\": \"\"}, \"colorscale\": [[0.0, \"#0d0887\"], [0.1111111111111111, \"#46039f\"], [0.2222222222222222, \"#7201a8\"], [0.3333333333333333, \"#9c179e\"], [0.4444444444444444, \"#bd3786\"], [0.5555555555555556, \"#d8576b\"], [0.6666666666666666, \"#ed7953\"], [0.7777777777777778, \"#fb9f3a\"], [0.8888888888888888, \"#fdca26\"], [1.0, \"#f0f921\"]], \"type\": \"surface\"}], \"table\": [{\"cells\": {\"fill\": {\"color\": \"#506784\"}, \"line\": {\"color\": \"rgb(17,17,17)\"}}, \"header\": {\"fill\": {\"color\": \"#2a3f5f\"}, \"line\": {\"color\": \"rgb(17,17,17)\"}}, \"type\": \"table\"}]}, \"layout\": {\"annotationdefaults\": {\"arrowcolor\": \"#f2f5fa\", \"arrowhead\": 0, \"arrowwidth\": 1}, \"coloraxis\": {\"colorbar\": {\"outlinewidth\": 0, \"ticks\": \"\"}}, \"colorscale\": {\"diverging\": [[0, \"#8e0152\"], [0.1, \"#c51b7d\"], [0.2, \"#de77ae\"], [0.3, \"#f1b6da\"], [0.4, \"#fde0ef\"], [0.5, \"#f7f7f7\"], [0.6, \"#e6f5d0\"], [0.7, \"#b8e186\"], [0.8, \"#7fbc41\"], [0.9, \"#4d9221\"], [1, \"#276419\"]], \"sequential\": [[0.0, \"#0d0887\"], [0.1111111111111111, \"#46039f\"], [0.2222222222222222, \"#7201a8\"], [0.3333333333333333, \"#9c179e\"], [0.4444444444444444, \"#bd3786\"], [0.5555555555555556, \"#d8576b\"], [0.6666666666666666, \"#ed7953\"], [0.7777777777777778, \"#fb9f3a\"], [0.8888888888888888, \"#fdca26\"], [1.0, \"#f0f921\"]], \"sequentialminus\": [[0.0, \"#0d0887\"], [0.1111111111111111, \"#46039f\"], [0.2222222222222222, \"#7201a8\"], [0.3333333333333333, \"#9c179e\"], [0.4444444444444444, \"#bd3786\"], [0.5555555555555556, \"#d8576b\"], [0.6666666666666666, \"#ed7953\"], [0.7777777777777778, \"#fb9f3a\"], [0.8888888888888888, \"#fdca26\"], [1.0, \"#f0f921\"]]}, \"colorway\": [\"#636efa\", \"#EF553B\", \"#00cc96\", \"#ab63fa\", \"#FFA15A\", \"#19d3f3\", \"#FF6692\", \"#B6E880\", \"#FF97FF\", \"#FECB52\"], \"font\": {\"color\": \"#f2f5fa\"}, \"geo\": {\"bgcolor\": \"rgb(17,17,17)\", \"lakecolor\": \"rgb(17,17,17)\", \"landcolor\": \"rgb(17,17,17)\", \"showlakes\": true, \"showland\": true, \"subunitcolor\": \"#506784\"}, \"hoverlabel\": {\"align\": \"left\"}, \"hovermode\": \"closest\", \"mapbox\": {\"style\": \"dark\"}, \"paper_bgcolor\": \"rgb(17,17,17)\", \"plot_bgcolor\": \"rgb(17,17,17)\", \"polar\": {\"angularaxis\": {\"gridcolor\": \"#506784\", \"linecolor\": \"#506784\", \"ticks\": \"\"}, \"bgcolor\": \"rgb(17,17,17)\", \"radialaxis\": {\"gridcolor\": \"#506784\", \"linecolor\": \"#506784\", \"ticks\": \"\"}}, \"scene\": {\"xaxis\": {\"backgroundcolor\": \"rgb(17,17,17)\", \"gridcolor\": \"#506784\", \"gridwidth\": 2, \"linecolor\": \"#506784\", \"showbackground\": true, \"ticks\": \"\", \"zerolinecolor\": \"#C8D4E3\"}, \"yaxis\": {\"backgroundcolor\": \"rgb(17,17,17)\", \"gridcolor\": \"#506784\", \"gridwidth\": 2, \"linecolor\": \"#506784\", \"showbackground\": true, \"ticks\": \"\", \"zerolinecolor\": \"#C8D4E3\"}, \"zaxis\": {\"backgroundcolor\": \"rgb(17,17,17)\", \"gridcolor\": \"#506784\", \"gridwidth\": 2, \"linecolor\": \"#506784\", \"showbackground\": true, \"ticks\": \"\", \"zerolinecolor\": \"#C8D4E3\"}}, \"shapedefaults\": {\"line\": {\"color\": \"#f2f5fa\"}}, \"sliderdefaults\": {\"bgcolor\": \"#C8D4E3\", \"bordercolor\": \"rgb(17,17,17)\", \"borderwidth\": 1, \"tickwidth\": 0}, \"ternary\": {\"aaxis\": {\"gridcolor\": \"#506784\", \"linecolor\": \"#506784\", \"ticks\": \"\"}, \"baxis\": {\"gridcolor\": \"#506784\", \"linecolor\": \"#506784\", \"ticks\": \"\"}, \"bgcolor\": \"rgb(17,17,17)\", \"caxis\": {\"gridcolor\": \"#506784\", \"linecolor\": \"#506784\", \"ticks\": \"\"}}, \"title\": {\"x\": 0.05}, \"updatemenudefaults\": {\"bgcolor\": \"#506784\", \"borderwidth\": 0}, \"xaxis\": {\"automargin\": true, \"gridcolor\": \"#283442\", \"linecolor\": \"#506784\", \"ticks\": \"\", \"title\": {\"standoff\": 15}, \"zerolinecolor\": \"#283442\", \"zerolinewidth\": 2}, \"yaxis\": {\"automargin\": true, \"gridcolor\": \"#283442\", \"linecolor\": \"#506784\", \"ticks\": \"\", \"title\": {\"standoff\": 15}, \"zerolinecolor\": \"#283442\", \"zerolinewidth\": 2}}}, \"title\": {\"text\": \"Transfer Market Analysis based on Player Age\"}, \"xaxis\": {\"linecolor\": \"white\", \"showgrid\": false, \"showline\": true, \"showticklabels\": true, \"tickfont\": {\"color\": \"white\", \"family\": \"Arial\", \"size\": 10}, \"title\": {\"font\": {\"color\": \"white\", \"family\": \"Arial, monospace\", \"size\": 14}, \"text\": \"Age\"}, \"zeroline\": false}, \"yaxis\": {\"linecolor\": \"white\", \"showgrid\": false, \"showline\": false, \"showticklabels\": true, \"tickfont\": {\"color\": \"white\", \"family\": \"Arial\", \"size\": 10}, \"title\": {\"font\": {\"color\": \"white\", \"family\": \"Arial, monospace\", \"size\": 14}, \"text\": \"Average Transfer Fee, in Euros\"}, \"zeroline\": false}, \"yaxis2\": {\"overlaying\": \"y\", \"showgrid\": false, \"side\": \"right\", \"title\": {\"text\": \"\"}, \"zeroline\": false}},\n",
       "                        {\"responsive\": true}\n",
       "                    ).then(function(){\n",
       "                            \n",
       "var gd = document.getElementById('5e9cf8a8-5996-46e3-afd3-1fb5c7696b49');\n",
       "var x = new MutationObserver(function (mutations, observer) {{\n",
       "        var display = window.getComputedStyle(gd).display;\n",
       "        if (!display || display === 'none') {{\n",
       "            console.log([gd, 'removed!']);\n",
       "            Plotly.purge(gd);\n",
       "            observer.disconnect();\n",
       "        }}\n",
       "}});\n",
       "\n",
       "// Listen for the removal of the full notebook cells\n",
       "var notebookContainer = gd.closest('#notebook-container');\n",
       "if (notebookContainer) {{\n",
       "    x.observe(notebookContainer, {childList: true});\n",
       "}}\n",
       "\n",
       "// Listen for the clearing of the current output cell\n",
       "var outputEl = gd.closest('.output');\n",
       "if (outputEl) {{\n",
       "    x.observe(outputEl, {childList: true});\n",
       "}}\n",
       "\n",
       "                        })\n",
       "                };\n",
       "                });\n",
       "            </script>\n",
       "        </div>"
      ]
     },
     "metadata": {},
     "output_type": "display_data"
    }
   ],
   "source": [
    "fig7 = px.bar(Age_Analysis.reset_index(),\n",
    "               x = \"Age\",\n",
    "               y = \"Transfer_mean\",\n",
    "               color = \"Surplus/Deficit\",\n",
    "               color_continuous_scale = px.colors.sequential.Blues,\n",
    "               hover_name = \"Age\",\n",
    "               title = 'Transfer Market Analysis based on Player Age',\n",
    "               template = 'plotly_dark')\n",
    "\n",
    "fig7.add_trace(\n",
    "    go.Line(# interactive bar object\n",
    "                x = Age_Analysis['Age'],\n",
    "                y = Age_Analysis['Transfer_Count'],\n",
    "                name = \"Number of Transfers\",\n",
    "                marker = dict(color = 'rgb(237,239,93)'),\n",
    "                line = dict(width = 3),\n",
    "                text = Age_Analysis['Transfer_Count'],\n",
    "                hovertemplate =\n",
    "                \"Age: %{x}<br>\" +\n",
    "                \"Number of Transfers: %{y:,.0f}\",\n",
    "                yaxis='y2')\n",
    ")    \n",
    "\n",
    "fig7.update_layout(\n",
    "    hoverlabel=dict(\n",
    "        bgcolor=\"black\",\n",
    "        font=dict(\n",
    "                family=\"Arial, monospace\",\n",
    "                size=14,\n",
    "                color=\"white\"\n",
    "            ),\n",
    "        bordercolor = \"black\"\n",
    "    ),\n",
    "    xaxis=go.layout.XAxis(\n",
    "        title=go.layout.xaxis.Title(\n",
    "            text=\"Age\",\n",
    "            font=dict(\n",
    "                family=\"Arial, monospace\",\n",
    "                size=14,\n",
    "                color=\"white\"\n",
    "            )\n",
    "        ),\n",
    "        showline = True,\n",
    "        linecolor = 'white',\n",
    "        showticklabels = True,\n",
    "        tickfont = dict(\n",
    "            family = 'Arial',\n",
    "            size = 10,\n",
    "            color = 'white'\n",
    "      )\n",
    "    ),\n",
    "    yaxis=go.layout.YAxis(\n",
    "        title=go.layout.yaxis.Title(\n",
    "            text=\"Average Transfer Fee, in Euros\",\n",
    "            font=dict(\n",
    "                family=\"Arial, monospace\",\n",
    "                size=14,\n",
    "                color=\"white\"\n",
    "            )\n",
    "        ),\n",
    "        showline = False,\n",
    "        linecolor = 'white',\n",
    "        showticklabels = True,\n",
    "        tickfont = dict(\n",
    "            family = 'Arial',\n",
    "            size = 10,\n",
    "            color = 'white'\n",
    "        )\n",
    "    ),\n",
    "yaxis2=dict(title='',\n",
    "           overlaying='y',\n",
    "           side='right'),\n",
    "           font=dict(\n",
    "                family=\"Arial, monospace\",\n",
    "                size=10,\n",
    "                color=\"white\"\n",
    "            )\n",
    "                 )\n",
    "\n",
    "fig7.update_layout(\n",
    "    legend=dict(\n",
    "        x=0.80,\n",
    "        y=1\n",
    "    )\n",
    ")\n",
    "\n",
    "fig7.update_layout(\n",
    "    xaxis=dict(showgrid=False, zeroline=False),\n",
    "    yaxis=dict(showgrid=False, zeroline=False),\n",
    "    yaxis2=dict(showgrid=False, zeroline=False)\n",
    ")\n",
    "\n",
    "\n",
    "# plot(fig7 ,filename = 'AgeAnalysis.html')\n",
    "fig7.show()"
   ]
  },
  {
   "cell_type": "markdown",
   "metadata": {},
   "source": [
    "<div class=\"alert alert-danger\" role=\"alert\">\n",
    "\n",
    "**Part 7: Analyses for Player Nationality** <br><br>\n",
    "We will analyze whether Player Nationality is a determinant of the nature of the Transfer that take place. Here, we are interested in the quantum of transfers that took place and their cumulative value. We will also analyze the surplus and deficit that transfers for different nationalities warrant.\n",
    "</div>"
   ]
  },
  {
   "cell_type": "code",
   "execution_count": 24,
   "metadata": {},
   "outputs": [
    {
     "data": {
      "text/html": [
       "<div>\n",
       "<style scoped>\n",
       "    .dataframe tbody tr th:only-of-type {\n",
       "        vertical-align: middle;\n",
       "    }\n",
       "\n",
       "    .dataframe tbody tr th {\n",
       "        vertical-align: top;\n",
       "    }\n",
       "\n",
       "    .dataframe thead th {\n",
       "        text-align: right;\n",
       "    }\n",
       "</style>\n",
       "<table border=\"1\" class=\"dataframe\">\n",
       "  <thead>\n",
       "    <tr style=\"text-align: right;\">\n",
       "      <th></th>\n",
       "      <th>Nationality</th>\n",
       "      <th>Transfer_Count</th>\n",
       "      <th>Transfer_Mean</th>\n",
       "      <th>Surplus/Deficit</th>\n",
       "    </tr>\n",
       "  </thead>\n",
       "  <tbody>\n",
       "    <tr>\n",
       "      <td>24</td>\n",
       "      <td>Portugal</td>\n",
       "      <td>600</td>\n",
       "      <td>3.163438e+06</td>\n",
       "      <td>67521.666667</td>\n",
       "    </tr>\n",
       "    <tr>\n",
       "      <td>5</td>\n",
       "      <td>France</td>\n",
       "      <td>1569</td>\n",
       "      <td>2.764709e+06</td>\n",
       "      <td>-81655.194391</td>\n",
       "    </tr>\n",
       "    <tr>\n",
       "      <td>22</td>\n",
       "      <td>Netherlands</td>\n",
       "      <td>697</td>\n",
       "      <td>2.523326e+06</td>\n",
       "      <td>-206731.707317</td>\n",
       "    </tr>\n",
       "    <tr>\n",
       "      <td>7</td>\n",
       "      <td>Spain</td>\n",
       "      <td>1420</td>\n",
       "      <td>2.457454e+06</td>\n",
       "      <td>-154728.802817</td>\n",
       "    </tr>\n",
       "    <tr>\n",
       "      <td>4</td>\n",
       "      <td>Argentina</td>\n",
       "      <td>1819</td>\n",
       "      <td>1.712362e+06</td>\n",
       "      <td>-160037.658054</td>\n",
       "    </tr>\n",
       "    <tr>\n",
       "      <td>6</td>\n",
       "      <td>Germany</td>\n",
       "      <td>1469</td>\n",
       "      <td>1.142332e+06</td>\n",
       "      <td>-209370.319946</td>\n",
       "    </tr>\n",
       "    <tr>\n",
       "      <td>1</td>\n",
       "      <td>Brazil</td>\n",
       "      <td>5192</td>\n",
       "      <td>1.140306e+06</td>\n",
       "      <td>-143586.479199</td>\n",
       "    </tr>\n",
       "    <tr>\n",
       "      <td>3</td>\n",
       "      <td>England</td>\n",
       "      <td>3301</td>\n",
       "      <td>1.016174e+06</td>\n",
       "      <td>95732.505301</td>\n",
       "    </tr>\n",
       "    <tr>\n",
       "      <td>13</td>\n",
       "      <td>Uruguay</td>\n",
       "      <td>1079</td>\n",
       "      <td>7.573040e+05</td>\n",
       "      <td>-206764.596849</td>\n",
       "    </tr>\n",
       "    <tr>\n",
       "      <td>23</td>\n",
       "      <td>Sweden</td>\n",
       "      <td>674</td>\n",
       "      <td>6.457626e+05</td>\n",
       "      <td>-234704.747774</td>\n",
       "    </tr>\n",
       "    <tr>\n",
       "      <td>10</td>\n",
       "      <td>Serbia</td>\n",
       "      <td>1356</td>\n",
       "      <td>6.018127e+05</td>\n",
       "      <td>-145226.401180</td>\n",
       "    </tr>\n",
       "    <tr>\n",
       "      <td>9</td>\n",
       "      <td>Croatia</td>\n",
       "      <td>1383</td>\n",
       "      <td>5.921020e+05</td>\n",
       "      <td>-148881.417209</td>\n",
       "    </tr>\n",
       "    <tr>\n",
       "      <td>21</td>\n",
       "      <td>Scotland</td>\n",
       "      <td>704</td>\n",
       "      <td>5.604261e+05</td>\n",
       "      <td>-90522.727273</td>\n",
       "    </tr>\n",
       "    <tr>\n",
       "      <td>2</td>\n",
       "      <td>Italy</td>\n",
       "      <td>5149</td>\n",
       "      <td>5.592858e+05</td>\n",
       "      <td>-80842.406292</td>\n",
       "    </tr>\n",
       "    <tr>\n",
       "      <td>16</td>\n",
       "      <td>Russia</td>\n",
       "      <td>932</td>\n",
       "      <td>5.305944e+05</td>\n",
       "      <td>-193461.373391</td>\n",
       "    </tr>\n",
       "    <tr>\n",
       "      <td>19</td>\n",
       "      <td>Austria</td>\n",
       "      <td>837</td>\n",
       "      <td>3.112222e+05</td>\n",
       "      <td>-208174.432497</td>\n",
       "    </tr>\n",
       "    <tr>\n",
       "      <td>17</td>\n",
       "      <td>Romania</td>\n",
       "      <td>851</td>\n",
       "      <td>3.030200e+05</td>\n",
       "      <td>-274183.313749</td>\n",
       "    </tr>\n",
       "    <tr>\n",
       "      <td>14</td>\n",
       "      <td>Ukraine</td>\n",
       "      <td>957</td>\n",
       "      <td>3.028642e+05</td>\n",
       "      <td>-193295.715778</td>\n",
       "    </tr>\n",
       "    <tr>\n",
       "      <td>11</td>\n",
       "      <td>Poland</td>\n",
       "      <td>1299</td>\n",
       "      <td>2.461863e+05</td>\n",
       "      <td>-187943.802925</td>\n",
       "    </tr>\n",
       "    <tr>\n",
       "      <td>20</td>\n",
       "      <td>Ecuador</td>\n",
       "      <td>758</td>\n",
       "      <td>2.398021e+05</td>\n",
       "      <td>-206372.031662</td>\n",
       "    </tr>\n",
       "    <tr>\n",
       "      <td>18</td>\n",
       "      <td>Bosnia-Herzegovina</td>\n",
       "      <td>839</td>\n",
       "      <td>2.253349e+05</td>\n",
       "      <td>-209474.374255</td>\n",
       "    </tr>\n",
       "    <tr>\n",
       "      <td>15</td>\n",
       "      <td>United States</td>\n",
       "      <td>943</td>\n",
       "      <td>2.119077e+05</td>\n",
       "      <td>-226591.728526</td>\n",
       "    </tr>\n",
       "    <tr>\n",
       "      <td>8</td>\n",
       "      <td>Greece</td>\n",
       "      <td>1407</td>\n",
       "      <td>1.638060e+05</td>\n",
       "      <td>-244402.985075</td>\n",
       "    </tr>\n",
       "    <tr>\n",
       "      <td>0</td>\n",
       "      <td>Turkey</td>\n",
       "      <td>5496</td>\n",
       "      <td>1.039898e+05</td>\n",
       "      <td>-284207.969432</td>\n",
       "    </tr>\n",
       "    <tr>\n",
       "      <td>12</td>\n",
       "      <td>Hungary</td>\n",
       "      <td>1081</td>\n",
       "      <td>9.494450e+04</td>\n",
       "      <td>-140790.934320</td>\n",
       "    </tr>\n",
       "  </tbody>\n",
       "</table>\n",
       "</div>"
      ],
      "text/plain": [
       "           Nationality  Transfer_Count  Transfer_Mean  Surplus/Deficit\n",
       "24            Portugal             600   3.163438e+06     67521.666667\n",
       "5               France            1569   2.764709e+06    -81655.194391\n",
       "22         Netherlands             697   2.523326e+06   -206731.707317\n",
       "7                Spain            1420   2.457454e+06   -154728.802817\n",
       "4            Argentina            1819   1.712362e+06   -160037.658054\n",
       "6              Germany            1469   1.142332e+06   -209370.319946\n",
       "1               Brazil            5192   1.140306e+06   -143586.479199\n",
       "3              England            3301   1.016174e+06     95732.505301\n",
       "13             Uruguay            1079   7.573040e+05   -206764.596849\n",
       "23              Sweden             674   6.457626e+05   -234704.747774\n",
       "10              Serbia            1356   6.018127e+05   -145226.401180\n",
       "9              Croatia            1383   5.921020e+05   -148881.417209\n",
       "21            Scotland             704   5.604261e+05    -90522.727273\n",
       "2                Italy            5149   5.592858e+05    -80842.406292\n",
       "16              Russia             932   5.305944e+05   -193461.373391\n",
       "19             Austria             837   3.112222e+05   -208174.432497\n",
       "17             Romania             851   3.030200e+05   -274183.313749\n",
       "14             Ukraine             957   3.028642e+05   -193295.715778\n",
       "11              Poland            1299   2.461863e+05   -187943.802925\n",
       "20             Ecuador             758   2.398021e+05   -206372.031662\n",
       "18  Bosnia-Herzegovina             839   2.253349e+05   -209474.374255\n",
       "15       United States             943   2.119077e+05   -226591.728526\n",
       "8               Greece            1407   1.638060e+05   -244402.985075\n",
       "0               Turkey            5496   1.039898e+05   -284207.969432\n",
       "12             Hungary            1081   9.494450e+04   -140790.934320"
      ]
     },
     "execution_count": 24,
     "metadata": {},
     "output_type": "execute_result"
    }
   ],
   "source": [
    "# top 10 countries with most no. of transfers \n",
    "Nation_Transfers = Test_EDA.groupby(\"Nationality\").agg({\"Transfer\":'count'})\n",
    "Nation_Transfers = Nation_Transfers.sort_values(by='Transfer', ascending = False)\n",
    "\n",
    "# top 10 countries based on average transfer amount\n",
    "Nation_AvgFee = Test_EDA.groupby(\"Nationality\").agg({\"Transfer\":'mean'})\n",
    "Nation_AvgFee = Nation_AvgFee.sort_values(by='Transfer', ascending = False)\n",
    "\n",
    "# top 10 countries based on average surplus\n",
    "Nation_AvgSurplus=Test_EDA.groupby(\"Nationality\").agg({\"Surplus/Deficit\":'mean'})\n",
    "Nation_AvgSurplus = Nation_AvgSurplus.sort_values(by='Surplus/Deficit', ascending = False)\n",
    "\n",
    "Nation_Analysis_Intermediate = pd.merge(Nation_Transfers, Nation_AvgFee, \n",
    "                     how = 'inner',\n",
    "                     on = 'Nationality',\n",
    "                    suffixes = ('_Count','_Mean'))\n",
    "\n",
    "Nation_Analysis = pd.merge(Nation_Analysis_Intermediate, Nation_AvgSurplus, \n",
    "                     how = 'inner',\n",
    "                     on = 'Nationality',\n",
    "                    suffixes = ('_Count','_Mean'))\n",
    "\n",
    "Nation_Analysis_Top25 = Nation_Analysis[:25]\n",
    "Nation_Analysis_Top25.reset_index(inplace=True)\n",
    "Nation_Analysis_Top25 = Nation_Analysis_Top25.sort_values(by='Transfer_Mean', ascending = False)\n",
    "Nation_Analysis_Top25"
   ]
  },
  {
   "cell_type": "markdown",
   "metadata": {},
   "source": [
    "<div class=\"alert alert-warning\" role=\"alert\">\n",
    "\n",
    "**Method** <br>\n",
    "In the following graph, we analyze the transfer market data for Player Nationality.\n",
    "</div>"
   ]
  },
  {
   "cell_type": "markdown",
   "metadata": {},
   "source": [
    "<div class=\"alert alert-success\" role=\"alert\">\n",
    "\n",
    "**Inference**<br>\n",
    "As expected, the nation of the player is instrumental in determining the Transfer Fee and the number of transfers that take place. There are a few nations that have been able to produce the best talent in the football world: Portugal, France, Netherlands, Spain, Argentina, Germany, Brazil and England. Players from these nations command the highest transfer fees on average. This may be because football has been developing in these nations for the last 100 years and these nations have good institutions in place to continue to churn out world-class players. <br>\n",
    "Brazil, Italy and (surprisingly) Turkey take the top spot in terms of the number of players transferred underscoring the immense talent pool prevalant in these countries.\n",
    "\n",
    "</div>    "
   ]
  },
  {
   "cell_type": "code",
   "execution_count": 25,
   "metadata": {},
   "outputs": [
    {
     "data": {
      "application/vnd.plotly.v1+json": {
       "config": {
        "plotlyServerURL": "https://plot.ly"
       },
       "data": [
        {
         "alignmentgroup": "True",
         "hoverlabel": {
          "namelength": 0
         },
         "hovertemplate": "<b>%{hovertext}</b><br><br>Nationality=%{x}<br>Transfer_Mean=%{y}<br>Surplus/Deficit=%{marker.color}",
         "hovertext": [
          "Portugal",
          "France",
          "Netherlands",
          "Spain",
          "Argentina",
          "Germany",
          "Brazil",
          "England",
          "Uruguay",
          "Sweden",
          "Serbia",
          "Croatia",
          "Scotland",
          "Italy",
          "Russia",
          "Austria",
          "Romania",
          "Ukraine",
          "Poland",
          "Ecuador",
          "Bosnia-Herzegovina",
          "United States",
          "Greece",
          "Turkey",
          "Hungary"
         ],
         "legendgroup": "",
         "marker": {
          "color": [
           67521.66666666667,
           -81655.19439133206,
           -206731.70731707316,
           -154728.8028169014,
           -160037.65805387576,
           -209370.31994554118,
           -143586.47919876734,
           95732.50530142381,
           -206764.5968489342,
           -234704.74777448073,
           -145226.401179941,
           -148881.417208966,
           -90522.72727272728,
           -80842.40629248398,
           -193461.37339055794,
           -208174.43249701316,
           -274183.31374853116,
           -193295.7157784744,
           -187943.80292532718,
           -206372.03166226912,
           -209474.37425506554,
           -226591.7285259809,
           -244402.98507462686,
           -284207.9694323144,
           -140790.934320074
          ],
          "coloraxis": "coloraxis"
         },
         "name": "",
         "offsetgroup": "",
         "orientation": "v",
         "showlegend": false,
         "textposition": "auto",
         "type": "bar",
         "x": [
          "Portugal",
          "France",
          "Netherlands",
          "Spain",
          "Argentina",
          "Germany",
          "Brazil",
          "England",
          "Uruguay",
          "Sweden",
          "Serbia",
          "Croatia",
          "Scotland",
          "Italy",
          "Russia",
          "Austria",
          "Romania",
          "Ukraine",
          "Poland",
          "Ecuador",
          "Bosnia-Herzegovina",
          "United States",
          "Greece",
          "Turkey",
          "Hungary"
         ],
         "xaxis": "x",
         "y": [
          3163438.3333333335,
          2764708.731676227,
          2523325.681492109,
          2457454.295774648,
          1712362.0120945575,
          1142331.5180394826,
          1140306.0477657935,
          1016173.5837624962,
          757303.9851714551,
          645762.6112759644,
          601812.6843657817,
          592101.9522776572,
          560426.1363636364,
          559285.7739366867,
          530594.4206008584,
          311222.22222222225,
          303019.97649823735,
          302864.15882967605,
          246186.29715165513,
          239802.11081794195,
          225334.92252681765,
          211907.74125132555,
          163805.97014925373,
          103989.81077147016,
          94944.49583718779
         ],
         "yaxis": "y"
        },
        {
         "hovertemplate": "Nationality: %{x}<br>Number of Transfers: %{y:,.0f}",
         "line": {
          "width": 3
         },
         "marker": {
          "color": "rgb(237,239,93)"
         },
         "name": "Number of Transfers",
         "text": [
          600,
          1569,
          697,
          1420,
          1819,
          1469,
          5192,
          3301,
          1079,
          674,
          1356,
          1383,
          704,
          5149,
          932,
          837,
          851,
          957,
          1299,
          758,
          839,
          943,
          1407,
          5496,
          1081
         ],
         "type": "scatter",
         "x": [
          "Portugal",
          "France",
          "Netherlands",
          "Spain",
          "Argentina",
          "Germany",
          "Brazil",
          "England",
          "Uruguay",
          "Sweden",
          "Serbia",
          "Croatia",
          "Scotland",
          "Italy",
          "Russia",
          "Austria",
          "Romania",
          "Ukraine",
          "Poland",
          "Ecuador",
          "Bosnia-Herzegovina",
          "United States",
          "Greece",
          "Turkey",
          "Hungary"
         ],
         "y": [
          600,
          1569,
          697,
          1420,
          1819,
          1469,
          5192,
          3301,
          1079,
          674,
          1356,
          1383,
          704,
          5149,
          932,
          837,
          851,
          957,
          1299,
          758,
          839,
          943,
          1407,
          5496,
          1081
         ],
         "yaxis": "y2"
        }
       ],
       "layout": {
        "barmode": "relative",
        "coloraxis": {
         "colorbar": {
          "title": {
           "text": "Surplus/Deficit"
          }
         },
         "colorscale": [
          [
           0,
           "rgb(247,251,255)"
          ],
          [
           0.125,
           "rgb(222,235,247)"
          ],
          [
           0.25,
           "rgb(198,219,239)"
          ],
          [
           0.375,
           "rgb(158,202,225)"
          ],
          [
           0.5,
           "rgb(107,174,214)"
          ],
          [
           0.625,
           "rgb(66,146,198)"
          ],
          [
           0.75,
           "rgb(33,113,181)"
          ],
          [
           0.875,
           "rgb(8,81,156)"
          ],
          [
           1,
           "rgb(8,48,107)"
          ]
         ]
        },
        "font": {
         "color": "white",
         "family": "Arial, monospace",
         "size": 10
        },
        "hoverlabel": {
         "bgcolor": "black",
         "bordercolor": "black",
         "font": {
          "color": "white",
          "family": "Arial, monospace",
          "size": 14
         }
        },
        "legend": {
         "tracegroupgap": 0,
         "x": 0.8,
         "y": 1
        },
        "template": {
         "data": {
          "bar": [
           {
            "error_x": {
             "color": "#f2f5fa"
            },
            "error_y": {
             "color": "#f2f5fa"
            },
            "marker": {
             "line": {
              "color": "rgb(17,17,17)",
              "width": 0.5
             }
            },
            "type": "bar"
           }
          ],
          "barpolar": [
           {
            "marker": {
             "line": {
              "color": "rgb(17,17,17)",
              "width": 0.5
             }
            },
            "type": "barpolar"
           }
          ],
          "carpet": [
           {
            "aaxis": {
             "endlinecolor": "#A2B1C6",
             "gridcolor": "#506784",
             "linecolor": "#506784",
             "minorgridcolor": "#506784",
             "startlinecolor": "#A2B1C6"
            },
            "baxis": {
             "endlinecolor": "#A2B1C6",
             "gridcolor": "#506784",
             "linecolor": "#506784",
             "minorgridcolor": "#506784",
             "startlinecolor": "#A2B1C6"
            },
            "type": "carpet"
           }
          ],
          "choropleth": [
           {
            "colorbar": {
             "outlinewidth": 0,
             "ticks": ""
            },
            "type": "choropleth"
           }
          ],
          "contour": [
           {
            "colorbar": {
             "outlinewidth": 0,
             "ticks": ""
            },
            "colorscale": [
             [
              0,
              "#0d0887"
             ],
             [
              0.1111111111111111,
              "#46039f"
             ],
             [
              0.2222222222222222,
              "#7201a8"
             ],
             [
              0.3333333333333333,
              "#9c179e"
             ],
             [
              0.4444444444444444,
              "#bd3786"
             ],
             [
              0.5555555555555556,
              "#d8576b"
             ],
             [
              0.6666666666666666,
              "#ed7953"
             ],
             [
              0.7777777777777778,
              "#fb9f3a"
             ],
             [
              0.8888888888888888,
              "#fdca26"
             ],
             [
              1,
              "#f0f921"
             ]
            ],
            "type": "contour"
           }
          ],
          "contourcarpet": [
           {
            "colorbar": {
             "outlinewidth": 0,
             "ticks": ""
            },
            "type": "contourcarpet"
           }
          ],
          "heatmap": [
           {
            "colorbar": {
             "outlinewidth": 0,
             "ticks": ""
            },
            "colorscale": [
             [
              0,
              "#0d0887"
             ],
             [
              0.1111111111111111,
              "#46039f"
             ],
             [
              0.2222222222222222,
              "#7201a8"
             ],
             [
              0.3333333333333333,
              "#9c179e"
             ],
             [
              0.4444444444444444,
              "#bd3786"
             ],
             [
              0.5555555555555556,
              "#d8576b"
             ],
             [
              0.6666666666666666,
              "#ed7953"
             ],
             [
              0.7777777777777778,
              "#fb9f3a"
             ],
             [
              0.8888888888888888,
              "#fdca26"
             ],
             [
              1,
              "#f0f921"
             ]
            ],
            "type": "heatmap"
           }
          ],
          "heatmapgl": [
           {
            "colorbar": {
             "outlinewidth": 0,
             "ticks": ""
            },
            "colorscale": [
             [
              0,
              "#0d0887"
             ],
             [
              0.1111111111111111,
              "#46039f"
             ],
             [
              0.2222222222222222,
              "#7201a8"
             ],
             [
              0.3333333333333333,
              "#9c179e"
             ],
             [
              0.4444444444444444,
              "#bd3786"
             ],
             [
              0.5555555555555556,
              "#d8576b"
             ],
             [
              0.6666666666666666,
              "#ed7953"
             ],
             [
              0.7777777777777778,
              "#fb9f3a"
             ],
             [
              0.8888888888888888,
              "#fdca26"
             ],
             [
              1,
              "#f0f921"
             ]
            ],
            "type": "heatmapgl"
           }
          ],
          "histogram": [
           {
            "marker": {
             "colorbar": {
              "outlinewidth": 0,
              "ticks": ""
             }
            },
            "type": "histogram"
           }
          ],
          "histogram2d": [
           {
            "colorbar": {
             "outlinewidth": 0,
             "ticks": ""
            },
            "colorscale": [
             [
              0,
              "#0d0887"
             ],
             [
              0.1111111111111111,
              "#46039f"
             ],
             [
              0.2222222222222222,
              "#7201a8"
             ],
             [
              0.3333333333333333,
              "#9c179e"
             ],
             [
              0.4444444444444444,
              "#bd3786"
             ],
             [
              0.5555555555555556,
              "#d8576b"
             ],
             [
              0.6666666666666666,
              "#ed7953"
             ],
             [
              0.7777777777777778,
              "#fb9f3a"
             ],
             [
              0.8888888888888888,
              "#fdca26"
             ],
             [
              1,
              "#f0f921"
             ]
            ],
            "type": "histogram2d"
           }
          ],
          "histogram2dcontour": [
           {
            "colorbar": {
             "outlinewidth": 0,
             "ticks": ""
            },
            "colorscale": [
             [
              0,
              "#0d0887"
             ],
             [
              0.1111111111111111,
              "#46039f"
             ],
             [
              0.2222222222222222,
              "#7201a8"
             ],
             [
              0.3333333333333333,
              "#9c179e"
             ],
             [
              0.4444444444444444,
              "#bd3786"
             ],
             [
              0.5555555555555556,
              "#d8576b"
             ],
             [
              0.6666666666666666,
              "#ed7953"
             ],
             [
              0.7777777777777778,
              "#fb9f3a"
             ],
             [
              0.8888888888888888,
              "#fdca26"
             ],
             [
              1,
              "#f0f921"
             ]
            ],
            "type": "histogram2dcontour"
           }
          ],
          "mesh3d": [
           {
            "colorbar": {
             "outlinewidth": 0,
             "ticks": ""
            },
            "type": "mesh3d"
           }
          ],
          "parcoords": [
           {
            "line": {
             "colorbar": {
              "outlinewidth": 0,
              "ticks": ""
             }
            },
            "type": "parcoords"
           }
          ],
          "pie": [
           {
            "automargin": true,
            "type": "pie"
           }
          ],
          "scatter": [
           {
            "marker": {
             "line": {
              "color": "#283442"
             }
            },
            "type": "scatter"
           }
          ],
          "scatter3d": [
           {
            "line": {
             "colorbar": {
              "outlinewidth": 0,
              "ticks": ""
             }
            },
            "marker": {
             "colorbar": {
              "outlinewidth": 0,
              "ticks": ""
             }
            },
            "type": "scatter3d"
           }
          ],
          "scattercarpet": [
           {
            "marker": {
             "colorbar": {
              "outlinewidth": 0,
              "ticks": ""
             }
            },
            "type": "scattercarpet"
           }
          ],
          "scattergeo": [
           {
            "marker": {
             "colorbar": {
              "outlinewidth": 0,
              "ticks": ""
             }
            },
            "type": "scattergeo"
           }
          ],
          "scattergl": [
           {
            "marker": {
             "line": {
              "color": "#283442"
             }
            },
            "type": "scattergl"
           }
          ],
          "scattermapbox": [
           {
            "marker": {
             "colorbar": {
              "outlinewidth": 0,
              "ticks": ""
             }
            },
            "type": "scattermapbox"
           }
          ],
          "scatterpolar": [
           {
            "marker": {
             "colorbar": {
              "outlinewidth": 0,
              "ticks": ""
             }
            },
            "type": "scatterpolar"
           }
          ],
          "scatterpolargl": [
           {
            "marker": {
             "colorbar": {
              "outlinewidth": 0,
              "ticks": ""
             }
            },
            "type": "scatterpolargl"
           }
          ],
          "scatterternary": [
           {
            "marker": {
             "colorbar": {
              "outlinewidth": 0,
              "ticks": ""
             }
            },
            "type": "scatterternary"
           }
          ],
          "surface": [
           {
            "colorbar": {
             "outlinewidth": 0,
             "ticks": ""
            },
            "colorscale": [
             [
              0,
              "#0d0887"
             ],
             [
              0.1111111111111111,
              "#46039f"
             ],
             [
              0.2222222222222222,
              "#7201a8"
             ],
             [
              0.3333333333333333,
              "#9c179e"
             ],
             [
              0.4444444444444444,
              "#bd3786"
             ],
             [
              0.5555555555555556,
              "#d8576b"
             ],
             [
              0.6666666666666666,
              "#ed7953"
             ],
             [
              0.7777777777777778,
              "#fb9f3a"
             ],
             [
              0.8888888888888888,
              "#fdca26"
             ],
             [
              1,
              "#f0f921"
             ]
            ],
            "type": "surface"
           }
          ],
          "table": [
           {
            "cells": {
             "fill": {
              "color": "#506784"
             },
             "line": {
              "color": "rgb(17,17,17)"
             }
            },
            "header": {
             "fill": {
              "color": "#2a3f5f"
             },
             "line": {
              "color": "rgb(17,17,17)"
             }
            },
            "type": "table"
           }
          ]
         },
         "layout": {
          "annotationdefaults": {
           "arrowcolor": "#f2f5fa",
           "arrowhead": 0,
           "arrowwidth": 1
          },
          "coloraxis": {
           "colorbar": {
            "outlinewidth": 0,
            "ticks": ""
           }
          },
          "colorscale": {
           "diverging": [
            [
             0,
             "#8e0152"
            ],
            [
             0.1,
             "#c51b7d"
            ],
            [
             0.2,
             "#de77ae"
            ],
            [
             0.3,
             "#f1b6da"
            ],
            [
             0.4,
             "#fde0ef"
            ],
            [
             0.5,
             "#f7f7f7"
            ],
            [
             0.6,
             "#e6f5d0"
            ],
            [
             0.7,
             "#b8e186"
            ],
            [
             0.8,
             "#7fbc41"
            ],
            [
             0.9,
             "#4d9221"
            ],
            [
             1,
             "#276419"
            ]
           ],
           "sequential": [
            [
             0,
             "#0d0887"
            ],
            [
             0.1111111111111111,
             "#46039f"
            ],
            [
             0.2222222222222222,
             "#7201a8"
            ],
            [
             0.3333333333333333,
             "#9c179e"
            ],
            [
             0.4444444444444444,
             "#bd3786"
            ],
            [
             0.5555555555555556,
             "#d8576b"
            ],
            [
             0.6666666666666666,
             "#ed7953"
            ],
            [
             0.7777777777777778,
             "#fb9f3a"
            ],
            [
             0.8888888888888888,
             "#fdca26"
            ],
            [
             1,
             "#f0f921"
            ]
           ],
           "sequentialminus": [
            [
             0,
             "#0d0887"
            ],
            [
             0.1111111111111111,
             "#46039f"
            ],
            [
             0.2222222222222222,
             "#7201a8"
            ],
            [
             0.3333333333333333,
             "#9c179e"
            ],
            [
             0.4444444444444444,
             "#bd3786"
            ],
            [
             0.5555555555555556,
             "#d8576b"
            ],
            [
             0.6666666666666666,
             "#ed7953"
            ],
            [
             0.7777777777777778,
             "#fb9f3a"
            ],
            [
             0.8888888888888888,
             "#fdca26"
            ],
            [
             1,
             "#f0f921"
            ]
           ]
          },
          "colorway": [
           "#636efa",
           "#EF553B",
           "#00cc96",
           "#ab63fa",
           "#FFA15A",
           "#19d3f3",
           "#FF6692",
           "#B6E880",
           "#FF97FF",
           "#FECB52"
          ],
          "font": {
           "color": "#f2f5fa"
          },
          "geo": {
           "bgcolor": "rgb(17,17,17)",
           "lakecolor": "rgb(17,17,17)",
           "landcolor": "rgb(17,17,17)",
           "showlakes": true,
           "showland": true,
           "subunitcolor": "#506784"
          },
          "hoverlabel": {
           "align": "left"
          },
          "hovermode": "closest",
          "mapbox": {
           "style": "dark"
          },
          "paper_bgcolor": "rgb(17,17,17)",
          "plot_bgcolor": "rgb(17,17,17)",
          "polar": {
           "angularaxis": {
            "gridcolor": "#506784",
            "linecolor": "#506784",
            "ticks": ""
           },
           "bgcolor": "rgb(17,17,17)",
           "radialaxis": {
            "gridcolor": "#506784",
            "linecolor": "#506784",
            "ticks": ""
           }
          },
          "scene": {
           "xaxis": {
            "backgroundcolor": "rgb(17,17,17)",
            "gridcolor": "#506784",
            "gridwidth": 2,
            "linecolor": "#506784",
            "showbackground": true,
            "ticks": "",
            "zerolinecolor": "#C8D4E3"
           },
           "yaxis": {
            "backgroundcolor": "rgb(17,17,17)",
            "gridcolor": "#506784",
            "gridwidth": 2,
            "linecolor": "#506784",
            "showbackground": true,
            "ticks": "",
            "zerolinecolor": "#C8D4E3"
           },
           "zaxis": {
            "backgroundcolor": "rgb(17,17,17)",
            "gridcolor": "#506784",
            "gridwidth": 2,
            "linecolor": "#506784",
            "showbackground": true,
            "ticks": "",
            "zerolinecolor": "#C8D4E3"
           }
          },
          "shapedefaults": {
           "line": {
            "color": "#f2f5fa"
           }
          },
          "sliderdefaults": {
           "bgcolor": "#C8D4E3",
           "bordercolor": "rgb(17,17,17)",
           "borderwidth": 1,
           "tickwidth": 0
          },
          "ternary": {
           "aaxis": {
            "gridcolor": "#506784",
            "linecolor": "#506784",
            "ticks": ""
           },
           "baxis": {
            "gridcolor": "#506784",
            "linecolor": "#506784",
            "ticks": ""
           },
           "bgcolor": "rgb(17,17,17)",
           "caxis": {
            "gridcolor": "#506784",
            "linecolor": "#506784",
            "ticks": ""
           }
          },
          "title": {
           "x": 0.05
          },
          "updatemenudefaults": {
           "bgcolor": "#506784",
           "borderwidth": 0
          },
          "xaxis": {
           "automargin": true,
           "gridcolor": "#283442",
           "linecolor": "#506784",
           "ticks": "",
           "title": {
            "standoff": 15
           },
           "zerolinecolor": "#283442",
           "zerolinewidth": 2
          },
          "yaxis": {
           "automargin": true,
           "gridcolor": "#283442",
           "linecolor": "#506784",
           "ticks": "",
           "title": {
            "standoff": 15
           },
           "zerolinecolor": "#283442",
           "zerolinewidth": 2
          }
         }
        },
        "title": {
         "text": "Transfer Market Analysis based on Player Nationality"
        },
        "xaxis": {
         "linecolor": "white",
         "showgrid": false,
         "showline": true,
         "showticklabels": true,
         "tickfont": {
          "color": "white",
          "family": "Arial",
          "size": 10
         },
         "title": {
          "font": {
           "color": "white",
           "family": "Arial, monospace",
           "size": 14
          },
          "text": "Nationality"
         },
         "zeroline": false
        },
        "yaxis": {
         "linecolor": "white",
         "showgrid": false,
         "showline": false,
         "showticklabels": true,
         "tickfont": {
          "color": "white",
          "family": "Arial",
          "size": 10
         },
         "title": {
          "font": {
           "color": "white",
           "family": "Arial, monospace",
           "size": 14
          },
          "text": "Average Transfer Fee, in Euros"
         },
         "zeroline": false
        },
        "yaxis2": {
         "overlaying": "y",
         "showgrid": false,
         "side": "right",
         "title": {
          "text": ""
         },
         "zeroline": false
        }
       }
      },
      "text/html": [
       "<div>\n",
       "        \n",
       "        \n",
       "            <div id=\"3fdd3286-dfa5-4ba3-a17f-5c836e249c54\" class=\"plotly-graph-div\" style=\"height:525px; width:100%;\"></div>\n",
       "            <script type=\"text/javascript\">\n",
       "                require([\"plotly\"], function(Plotly) {\n",
       "                    window.PLOTLYENV=window.PLOTLYENV || {};\n",
       "                    \n",
       "                if (document.getElementById(\"3fdd3286-dfa5-4ba3-a17f-5c836e249c54\")) {\n",
       "                    Plotly.newPlot(\n",
       "                        '3fdd3286-dfa5-4ba3-a17f-5c836e249c54',\n",
       "                        [{\"alignmentgroup\": \"True\", \"hoverlabel\": {\"namelength\": 0}, \"hovertemplate\": \"<b>%{hovertext}</b><br><br>Nationality=%{x}<br>Transfer_Mean=%{y}<br>Surplus/Deficit=%{marker.color}\", \"hovertext\": [\"Portugal\", \"France\", \"Netherlands\", \"Spain\", \"Argentina\", \"Germany\", \"Brazil\", \"England\", \"Uruguay\", \"Sweden\", \"Serbia\", \"Croatia\", \"Scotland\", \"Italy\", \"Russia\", \"Austria\", \"Romania\", \"Ukraine\", \"Poland\", \"Ecuador\", \"Bosnia-Herzegovina\", \"United States\", \"Greece\", \"Turkey\", \"Hungary\"], \"legendgroup\": \"\", \"marker\": {\"color\": [67521.66666666667, -81655.19439133206, -206731.70731707316, -154728.8028169014, -160037.65805387576, -209370.31994554118, -143586.47919876734, 95732.50530142381, -206764.5968489342, -234704.74777448073, -145226.401179941, -148881.417208966, -90522.72727272728, -80842.40629248398, -193461.37339055794, -208174.43249701316, -274183.31374853116, -193295.7157784744, -187943.80292532718, -206372.03166226912, -209474.37425506554, -226591.7285259809, -244402.98507462686, -284207.9694323144, -140790.934320074], \"coloraxis\": \"coloraxis\"}, \"name\": \"\", \"offsetgroup\": \"\", \"orientation\": \"v\", \"showlegend\": false, \"textposition\": \"auto\", \"type\": \"bar\", \"x\": [\"Portugal\", \"France\", \"Netherlands\", \"Spain\", \"Argentina\", \"Germany\", \"Brazil\", \"England\", \"Uruguay\", \"Sweden\", \"Serbia\", \"Croatia\", \"Scotland\", \"Italy\", \"Russia\", \"Austria\", \"Romania\", \"Ukraine\", \"Poland\", \"Ecuador\", \"Bosnia-Herzegovina\", \"United States\", \"Greece\", \"Turkey\", \"Hungary\"], \"xaxis\": \"x\", \"y\": [3163438.3333333335, 2764708.731676227, 2523325.681492109, 2457454.295774648, 1712362.0120945575, 1142331.5180394826, 1140306.0477657935, 1016173.5837624962, 757303.9851714551, 645762.6112759644, 601812.6843657817, 592101.9522776572, 560426.1363636364, 559285.7739366867, 530594.4206008584, 311222.22222222225, 303019.97649823735, 302864.15882967605, 246186.29715165513, 239802.11081794195, 225334.92252681765, 211907.74125132555, 163805.97014925373, 103989.81077147016, 94944.49583718779], \"yaxis\": \"y\"}, {\"hovertemplate\": \"Nationality: %{x}<br>Number of Transfers: %{y:,.0f}\", \"line\": {\"width\": 3}, \"marker\": {\"color\": \"rgb(237,239,93)\"}, \"name\": \"Number of Transfers\", \"text\": [600.0, 1569.0, 697.0, 1420.0, 1819.0, 1469.0, 5192.0, 3301.0, 1079.0, 674.0, 1356.0, 1383.0, 704.0, 5149.0, 932.0, 837.0, 851.0, 957.0, 1299.0, 758.0, 839.0, 943.0, 1407.0, 5496.0, 1081.0], \"type\": \"scatter\", \"x\": [\"Portugal\", \"France\", \"Netherlands\", \"Spain\", \"Argentina\", \"Germany\", \"Brazil\", \"England\", \"Uruguay\", \"Sweden\", \"Serbia\", \"Croatia\", \"Scotland\", \"Italy\", \"Russia\", \"Austria\", \"Romania\", \"Ukraine\", \"Poland\", \"Ecuador\", \"Bosnia-Herzegovina\", \"United States\", \"Greece\", \"Turkey\", \"Hungary\"], \"y\": [600, 1569, 697, 1420, 1819, 1469, 5192, 3301, 1079, 674, 1356, 1383, 704, 5149, 932, 837, 851, 957, 1299, 758, 839, 943, 1407, 5496, 1081], \"yaxis\": \"y2\"}],\n",
       "                        {\"barmode\": \"relative\", \"coloraxis\": {\"colorbar\": {\"title\": {\"text\": \"Surplus/Deficit\"}}, \"colorscale\": [[0.0, \"rgb(247,251,255)\"], [0.125, \"rgb(222,235,247)\"], [0.25, \"rgb(198,219,239)\"], [0.375, \"rgb(158,202,225)\"], [0.5, \"rgb(107,174,214)\"], [0.625, \"rgb(66,146,198)\"], [0.75, \"rgb(33,113,181)\"], [0.875, \"rgb(8,81,156)\"], [1.0, \"rgb(8,48,107)\"]]}, \"font\": {\"color\": \"white\", \"family\": \"Arial, monospace\", \"size\": 10}, \"hoverlabel\": {\"bgcolor\": \"black\", \"bordercolor\": \"black\", \"font\": {\"color\": \"white\", \"family\": \"Arial, monospace\", \"size\": 14}}, \"legend\": {\"tracegroupgap\": 0, \"x\": 0.8, \"y\": 1}, \"template\": {\"data\": {\"bar\": [{\"error_x\": {\"color\": \"#f2f5fa\"}, \"error_y\": {\"color\": \"#f2f5fa\"}, \"marker\": {\"line\": {\"color\": \"rgb(17,17,17)\", \"width\": 0.5}}, \"type\": \"bar\"}], \"barpolar\": [{\"marker\": {\"line\": {\"color\": \"rgb(17,17,17)\", \"width\": 0.5}}, \"type\": \"barpolar\"}], \"carpet\": [{\"aaxis\": {\"endlinecolor\": \"#A2B1C6\", \"gridcolor\": \"#506784\", \"linecolor\": \"#506784\", \"minorgridcolor\": \"#506784\", \"startlinecolor\": \"#A2B1C6\"}, \"baxis\": {\"endlinecolor\": \"#A2B1C6\", \"gridcolor\": \"#506784\", \"linecolor\": \"#506784\", \"minorgridcolor\": \"#506784\", \"startlinecolor\": \"#A2B1C6\"}, \"type\": \"carpet\"}], \"choropleth\": [{\"colorbar\": {\"outlinewidth\": 0, \"ticks\": \"\"}, \"type\": \"choropleth\"}], \"contour\": [{\"colorbar\": {\"outlinewidth\": 0, \"ticks\": \"\"}, \"colorscale\": [[0.0, \"#0d0887\"], [0.1111111111111111, \"#46039f\"], [0.2222222222222222, \"#7201a8\"], [0.3333333333333333, \"#9c179e\"], [0.4444444444444444, \"#bd3786\"], [0.5555555555555556, \"#d8576b\"], [0.6666666666666666, \"#ed7953\"], [0.7777777777777778, \"#fb9f3a\"], [0.8888888888888888, \"#fdca26\"], [1.0, \"#f0f921\"]], \"type\": \"contour\"}], \"contourcarpet\": [{\"colorbar\": {\"outlinewidth\": 0, \"ticks\": \"\"}, \"type\": \"contourcarpet\"}], \"heatmap\": [{\"colorbar\": {\"outlinewidth\": 0, \"ticks\": \"\"}, \"colorscale\": [[0.0, \"#0d0887\"], [0.1111111111111111, \"#46039f\"], [0.2222222222222222, \"#7201a8\"], [0.3333333333333333, \"#9c179e\"], [0.4444444444444444, \"#bd3786\"], [0.5555555555555556, \"#d8576b\"], [0.6666666666666666, \"#ed7953\"], [0.7777777777777778, \"#fb9f3a\"], [0.8888888888888888, \"#fdca26\"], [1.0, \"#f0f921\"]], \"type\": \"heatmap\"}], \"heatmapgl\": [{\"colorbar\": {\"outlinewidth\": 0, \"ticks\": \"\"}, \"colorscale\": [[0.0, \"#0d0887\"], [0.1111111111111111, \"#46039f\"], [0.2222222222222222, \"#7201a8\"], [0.3333333333333333, \"#9c179e\"], [0.4444444444444444, \"#bd3786\"], [0.5555555555555556, \"#d8576b\"], [0.6666666666666666, \"#ed7953\"], [0.7777777777777778, \"#fb9f3a\"], [0.8888888888888888, \"#fdca26\"], [1.0, \"#f0f921\"]], \"type\": \"heatmapgl\"}], \"histogram\": [{\"marker\": {\"colorbar\": {\"outlinewidth\": 0, \"ticks\": \"\"}}, \"type\": \"histogram\"}], \"histogram2d\": [{\"colorbar\": {\"outlinewidth\": 0, \"ticks\": \"\"}, \"colorscale\": [[0.0, \"#0d0887\"], [0.1111111111111111, \"#46039f\"], [0.2222222222222222, \"#7201a8\"], [0.3333333333333333, \"#9c179e\"], [0.4444444444444444, \"#bd3786\"], [0.5555555555555556, \"#d8576b\"], [0.6666666666666666, \"#ed7953\"], [0.7777777777777778, \"#fb9f3a\"], [0.8888888888888888, \"#fdca26\"], [1.0, \"#f0f921\"]], \"type\": \"histogram2d\"}], \"histogram2dcontour\": [{\"colorbar\": {\"outlinewidth\": 0, \"ticks\": \"\"}, \"colorscale\": [[0.0, \"#0d0887\"], [0.1111111111111111, \"#46039f\"], [0.2222222222222222, \"#7201a8\"], [0.3333333333333333, \"#9c179e\"], [0.4444444444444444, \"#bd3786\"], [0.5555555555555556, \"#d8576b\"], [0.6666666666666666, \"#ed7953\"], [0.7777777777777778, \"#fb9f3a\"], [0.8888888888888888, \"#fdca26\"], [1.0, \"#f0f921\"]], \"type\": \"histogram2dcontour\"}], \"mesh3d\": [{\"colorbar\": {\"outlinewidth\": 0, \"ticks\": \"\"}, \"type\": \"mesh3d\"}], \"parcoords\": [{\"line\": {\"colorbar\": {\"outlinewidth\": 0, \"ticks\": \"\"}}, \"type\": \"parcoords\"}], \"pie\": [{\"automargin\": true, \"type\": \"pie\"}], \"scatter\": [{\"marker\": {\"line\": {\"color\": \"#283442\"}}, \"type\": \"scatter\"}], \"scatter3d\": [{\"line\": {\"colorbar\": {\"outlinewidth\": 0, \"ticks\": \"\"}}, \"marker\": {\"colorbar\": {\"outlinewidth\": 0, \"ticks\": \"\"}}, \"type\": \"scatter3d\"}], \"scattercarpet\": [{\"marker\": {\"colorbar\": {\"outlinewidth\": 0, \"ticks\": \"\"}}, \"type\": \"scattercarpet\"}], \"scattergeo\": [{\"marker\": {\"colorbar\": {\"outlinewidth\": 0, \"ticks\": \"\"}}, \"type\": \"scattergeo\"}], \"scattergl\": [{\"marker\": {\"line\": {\"color\": \"#283442\"}}, \"type\": \"scattergl\"}], \"scattermapbox\": [{\"marker\": {\"colorbar\": {\"outlinewidth\": 0, \"ticks\": \"\"}}, \"type\": \"scattermapbox\"}], \"scatterpolar\": [{\"marker\": {\"colorbar\": {\"outlinewidth\": 0, \"ticks\": \"\"}}, \"type\": \"scatterpolar\"}], \"scatterpolargl\": [{\"marker\": {\"colorbar\": {\"outlinewidth\": 0, \"ticks\": \"\"}}, \"type\": \"scatterpolargl\"}], \"scatterternary\": [{\"marker\": {\"colorbar\": {\"outlinewidth\": 0, \"ticks\": \"\"}}, \"type\": \"scatterternary\"}], \"surface\": [{\"colorbar\": {\"outlinewidth\": 0, \"ticks\": \"\"}, \"colorscale\": [[0.0, \"#0d0887\"], [0.1111111111111111, \"#46039f\"], [0.2222222222222222, \"#7201a8\"], [0.3333333333333333, \"#9c179e\"], [0.4444444444444444, \"#bd3786\"], [0.5555555555555556, \"#d8576b\"], [0.6666666666666666, \"#ed7953\"], [0.7777777777777778, \"#fb9f3a\"], [0.8888888888888888, \"#fdca26\"], [1.0, \"#f0f921\"]], \"type\": \"surface\"}], \"table\": [{\"cells\": {\"fill\": {\"color\": \"#506784\"}, \"line\": {\"color\": \"rgb(17,17,17)\"}}, \"header\": {\"fill\": {\"color\": \"#2a3f5f\"}, \"line\": {\"color\": \"rgb(17,17,17)\"}}, \"type\": \"table\"}]}, \"layout\": {\"annotationdefaults\": {\"arrowcolor\": \"#f2f5fa\", \"arrowhead\": 0, \"arrowwidth\": 1}, \"coloraxis\": {\"colorbar\": {\"outlinewidth\": 0, \"ticks\": \"\"}}, \"colorscale\": {\"diverging\": [[0, \"#8e0152\"], [0.1, \"#c51b7d\"], [0.2, \"#de77ae\"], [0.3, \"#f1b6da\"], [0.4, \"#fde0ef\"], [0.5, \"#f7f7f7\"], [0.6, \"#e6f5d0\"], [0.7, \"#b8e186\"], [0.8, \"#7fbc41\"], [0.9, \"#4d9221\"], [1, \"#276419\"]], \"sequential\": [[0.0, \"#0d0887\"], [0.1111111111111111, \"#46039f\"], [0.2222222222222222, \"#7201a8\"], [0.3333333333333333, \"#9c179e\"], [0.4444444444444444, \"#bd3786\"], [0.5555555555555556, \"#d8576b\"], [0.6666666666666666, \"#ed7953\"], [0.7777777777777778, \"#fb9f3a\"], [0.8888888888888888, \"#fdca26\"], [1.0, \"#f0f921\"]], \"sequentialminus\": [[0.0, \"#0d0887\"], [0.1111111111111111, \"#46039f\"], [0.2222222222222222, \"#7201a8\"], [0.3333333333333333, \"#9c179e\"], [0.4444444444444444, \"#bd3786\"], [0.5555555555555556, \"#d8576b\"], [0.6666666666666666, \"#ed7953\"], [0.7777777777777778, \"#fb9f3a\"], [0.8888888888888888, \"#fdca26\"], [1.0, \"#f0f921\"]]}, \"colorway\": [\"#636efa\", \"#EF553B\", \"#00cc96\", \"#ab63fa\", \"#FFA15A\", \"#19d3f3\", \"#FF6692\", \"#B6E880\", \"#FF97FF\", \"#FECB52\"], \"font\": {\"color\": \"#f2f5fa\"}, \"geo\": {\"bgcolor\": \"rgb(17,17,17)\", \"lakecolor\": \"rgb(17,17,17)\", \"landcolor\": \"rgb(17,17,17)\", \"showlakes\": true, \"showland\": true, \"subunitcolor\": \"#506784\"}, \"hoverlabel\": {\"align\": \"left\"}, \"hovermode\": \"closest\", \"mapbox\": {\"style\": \"dark\"}, \"paper_bgcolor\": \"rgb(17,17,17)\", \"plot_bgcolor\": \"rgb(17,17,17)\", \"polar\": {\"angularaxis\": {\"gridcolor\": \"#506784\", \"linecolor\": \"#506784\", \"ticks\": \"\"}, \"bgcolor\": \"rgb(17,17,17)\", \"radialaxis\": {\"gridcolor\": \"#506784\", \"linecolor\": \"#506784\", \"ticks\": \"\"}}, \"scene\": {\"xaxis\": {\"backgroundcolor\": \"rgb(17,17,17)\", \"gridcolor\": \"#506784\", \"gridwidth\": 2, \"linecolor\": \"#506784\", \"showbackground\": true, \"ticks\": \"\", \"zerolinecolor\": \"#C8D4E3\"}, \"yaxis\": {\"backgroundcolor\": \"rgb(17,17,17)\", \"gridcolor\": \"#506784\", \"gridwidth\": 2, \"linecolor\": \"#506784\", \"showbackground\": true, \"ticks\": \"\", \"zerolinecolor\": \"#C8D4E3\"}, \"zaxis\": {\"backgroundcolor\": \"rgb(17,17,17)\", \"gridcolor\": \"#506784\", \"gridwidth\": 2, \"linecolor\": \"#506784\", \"showbackground\": true, \"ticks\": \"\", \"zerolinecolor\": \"#C8D4E3\"}}, \"shapedefaults\": {\"line\": {\"color\": \"#f2f5fa\"}}, \"sliderdefaults\": {\"bgcolor\": \"#C8D4E3\", \"bordercolor\": \"rgb(17,17,17)\", \"borderwidth\": 1, \"tickwidth\": 0}, \"ternary\": {\"aaxis\": {\"gridcolor\": \"#506784\", \"linecolor\": \"#506784\", \"ticks\": \"\"}, \"baxis\": {\"gridcolor\": \"#506784\", \"linecolor\": \"#506784\", \"ticks\": \"\"}, \"bgcolor\": \"rgb(17,17,17)\", \"caxis\": {\"gridcolor\": \"#506784\", \"linecolor\": \"#506784\", \"ticks\": \"\"}}, \"title\": {\"x\": 0.05}, \"updatemenudefaults\": {\"bgcolor\": \"#506784\", \"borderwidth\": 0}, \"xaxis\": {\"automargin\": true, \"gridcolor\": \"#283442\", \"linecolor\": \"#506784\", \"ticks\": \"\", \"title\": {\"standoff\": 15}, \"zerolinecolor\": \"#283442\", \"zerolinewidth\": 2}, \"yaxis\": {\"automargin\": true, \"gridcolor\": \"#283442\", \"linecolor\": \"#506784\", \"ticks\": \"\", \"title\": {\"standoff\": 15}, \"zerolinecolor\": \"#283442\", \"zerolinewidth\": 2}}}, \"title\": {\"text\": \"Transfer Market Analysis based on Player Nationality\"}, \"xaxis\": {\"linecolor\": \"white\", \"showgrid\": false, \"showline\": true, \"showticklabels\": true, \"tickfont\": {\"color\": \"white\", \"family\": \"Arial\", \"size\": 10}, \"title\": {\"font\": {\"color\": \"white\", \"family\": \"Arial, monospace\", \"size\": 14}, \"text\": \"Nationality\"}, \"zeroline\": false}, \"yaxis\": {\"linecolor\": \"white\", \"showgrid\": false, \"showline\": false, \"showticklabels\": true, \"tickfont\": {\"color\": \"white\", \"family\": \"Arial\", \"size\": 10}, \"title\": {\"font\": {\"color\": \"white\", \"family\": \"Arial, monospace\", \"size\": 14}, \"text\": \"Average Transfer Fee, in Euros\"}, \"zeroline\": false}, \"yaxis2\": {\"overlaying\": \"y\", \"showgrid\": false, \"side\": \"right\", \"title\": {\"text\": \"\"}, \"zeroline\": false}},\n",
       "                        {\"responsive\": true}\n",
       "                    ).then(function(){\n",
       "                            \n",
       "var gd = document.getElementById('3fdd3286-dfa5-4ba3-a17f-5c836e249c54');\n",
       "var x = new MutationObserver(function (mutations, observer) {{\n",
       "        var display = window.getComputedStyle(gd).display;\n",
       "        if (!display || display === 'none') {{\n",
       "            console.log([gd, 'removed!']);\n",
       "            Plotly.purge(gd);\n",
       "            observer.disconnect();\n",
       "        }}\n",
       "}});\n",
       "\n",
       "// Listen for the removal of the full notebook cells\n",
       "var notebookContainer = gd.closest('#notebook-container');\n",
       "if (notebookContainer) {{\n",
       "    x.observe(notebookContainer, {childList: true});\n",
       "}}\n",
       "\n",
       "// Listen for the clearing of the current output cell\n",
       "var outputEl = gd.closest('.output');\n",
       "if (outputEl) {{\n",
       "    x.observe(outputEl, {childList: true});\n",
       "}}\n",
       "\n",
       "                        })\n",
       "                };\n",
       "                });\n",
       "            </script>\n",
       "        </div>"
      ]
     },
     "metadata": {},
     "output_type": "display_data"
    }
   ],
   "source": [
    "fig8 = px.bar(Nation_Analysis_Top25.reset_index(),\n",
    "               x = \"Nationality\",\n",
    "               y = \"Transfer_Mean\",\n",
    "               color = \"Surplus/Deficit\",\n",
    "               color_continuous_scale = px.colors.sequential.Blues,\n",
    "               hover_name = \"Nationality\",\n",
    "               title = 'Transfer Market Analysis based on Player Nationality',\n",
    "               template = 'plotly_dark')\n",
    "fig8.add_trace(\n",
    "    go.Line(# interactive bar object\n",
    "                x = Nation_Analysis_Top25['Nationality'],\n",
    "                y = Nation_Analysis_Top25['Transfer_Count'],\n",
    "                name = \"Number of Transfers\",\n",
    "                marker = dict(color = 'rgb(237,239,93)'),\n",
    "                line = dict(width = 3),\n",
    "                text = Nation_Analysis_Top25['Transfer_Count'],\n",
    "                hovertemplate =\n",
    "                \"Nationality: %{x}<br>\" +\n",
    "                \"Number of Transfers: %{y:,.0f}\",\n",
    "                yaxis='y2')\n",
    ")    \n",
    "\n",
    "fig8.update_layout(\n",
    "    hoverlabel=dict(\n",
    "        bgcolor=\"black\",\n",
    "        font=dict(\n",
    "                family=\"Arial, monospace\",\n",
    "                size=14,\n",
    "                color=\"white\"\n",
    "            ),\n",
    "        bordercolor = \"black\"\n",
    "    ),\n",
    "    xaxis=go.layout.XAxis(\n",
    "        title=go.layout.xaxis.Title(\n",
    "            text=\"Nationality\",\n",
    "            font=dict(\n",
    "                family=\"Arial, monospace\",\n",
    "                size=14,\n",
    "                color=\"white\"\n",
    "            )\n",
    "        ),\n",
    "        showline = True,\n",
    "        linecolor = 'white',\n",
    "        showticklabels = True,\n",
    "        tickfont = dict(\n",
    "            family = 'Arial',\n",
    "            size = 10,\n",
    "            color = 'white'\n",
    "      )\n",
    "    ),\n",
    "    yaxis=go.layout.YAxis(\n",
    "        title=go.layout.yaxis.Title(\n",
    "            text=\"Average Transfer Fee, in Euros\",\n",
    "            font=dict(\n",
    "                family=\"Arial, monospace\",\n",
    "                size=14,\n",
    "                color=\"white\"\n",
    "            )\n",
    "        ),\n",
    "        showline = False,\n",
    "        linecolor = 'white',\n",
    "        showticklabels = True,\n",
    "        tickfont = dict(\n",
    "            family = 'Arial',\n",
    "            size = 10,\n",
    "            color = 'white'\n",
    "        )\n",
    "    ),\n",
    "yaxis2=dict(title='',\n",
    "           overlaying='y',\n",
    "           side='right'),\n",
    "           font=dict(\n",
    "                family=\"Arial, monospace\",\n",
    "                size=10,\n",
    "                color=\"white\"\n",
    "            )\n",
    "                 )\n",
    "\n",
    "fig8.update_layout(\n",
    "    legend=dict(\n",
    "        x=0.8,\n",
    "        y=1\n",
    "    )\n",
    ")\n",
    "\n",
    "fig8.update_layout(\n",
    "    xaxis=dict(showgrid=False, zeroline=False),\n",
    "    yaxis=dict(showgrid=False, zeroline=False),\n",
    "    yaxis2=dict(showgrid=False, zeroline=False)\n",
    ")\n",
    "\n",
    "\n",
    "# plot(fig8 ,filename = 'NationalityAnalysis.html')\n",
    "fig8.show()"
   ]
  },
  {
   "cell_type": "markdown",
   "metadata": {},
   "source": [
    "<div class=\"alert alert-danger\" role=\"alert\">\n",
    "\n",
    "**Part 8: Analyses for Chinese Transfer Data** <br><br>\n",
    "Looking at the activity in the Chinese market in recent years, we wanted to look at how the country is developing its players and the dynamics of the transfer market at its early stage of development.\n",
    "</div>"
   ]
  },
  {
   "cell_type": "code",
   "execution_count": 26,
   "metadata": {},
   "outputs": [
    {
     "data": {
      "text/html": [
       "<div>\n",
       "<style scoped>\n",
       "    .dataframe tbody tr th:only-of-type {\n",
       "        vertical-align: middle;\n",
       "    }\n",
       "\n",
       "    .dataframe tbody tr th {\n",
       "        vertical-align: top;\n",
       "    }\n",
       "\n",
       "    .dataframe thead th {\n",
       "        text-align: right;\n",
       "    }\n",
       "</style>\n",
       "<table border=\"1\" class=\"dataframe\">\n",
       "  <thead>\n",
       "    <tr style=\"text-align: right;\">\n",
       "      <th></th>\n",
       "      <th>Age</th>\n",
       "      <th>Transfer_Count</th>\n",
       "      <th>Surplus/Deficit</th>\n",
       "      <th>Transfer_mean</th>\n",
       "    </tr>\n",
       "  </thead>\n",
       "  <tbody>\n",
       "    <tr>\n",
       "      <td>0</td>\n",
       "      <td>17.0</td>\n",
       "      <td>1</td>\n",
       "      <td>1.415000e+06</td>\n",
       "      <td>1.440000e+06</td>\n",
       "    </tr>\n",
       "    <tr>\n",
       "      <td>1</td>\n",
       "      <td>18.0</td>\n",
       "      <td>4</td>\n",
       "      <td>-2.500000e+04</td>\n",
       "      <td>0.000000e+00</td>\n",
       "    </tr>\n",
       "    <tr>\n",
       "      <td>2</td>\n",
       "      <td>19.0</td>\n",
       "      <td>9</td>\n",
       "      <td>3.888889e+04</td>\n",
       "      <td>6.666667e+04</td>\n",
       "    </tr>\n",
       "    <tr>\n",
       "      <td>3</td>\n",
       "      <td>20.0</td>\n",
       "      <td>32</td>\n",
       "      <td>5.101250e+05</td>\n",
       "      <td>5.851250e+05</td>\n",
       "    </tr>\n",
       "    <tr>\n",
       "      <td>4</td>\n",
       "      <td>21.0</td>\n",
       "      <td>33</td>\n",
       "      <td>6.615455e+05</td>\n",
       "      <td>7.554848e+05</td>\n",
       "    </tr>\n",
       "    <tr>\n",
       "      <td>5</td>\n",
       "      <td>22.0</td>\n",
       "      <td>40</td>\n",
       "      <td>4.545250e+05</td>\n",
       "      <td>5.464000e+05</td>\n",
       "    </tr>\n",
       "    <tr>\n",
       "      <td>6</td>\n",
       "      <td>23.0</td>\n",
       "      <td>49</td>\n",
       "      <td>1.202184e+06</td>\n",
       "      <td>1.372592e+06</td>\n",
       "    </tr>\n",
       "    <tr>\n",
       "      <td>7</td>\n",
       "      <td>24.0</td>\n",
       "      <td>58</td>\n",
       "      <td>8.059310e+05</td>\n",
       "      <td>9.481724e+05</td>\n",
       "    </tr>\n",
       "    <tr>\n",
       "      <td>8</td>\n",
       "      <td>25.0</td>\n",
       "      <td>45</td>\n",
       "      <td>1.036378e+06</td>\n",
       "      <td>1.210267e+06</td>\n",
       "    </tr>\n",
       "    <tr>\n",
       "      <td>9</td>\n",
       "      <td>26.0</td>\n",
       "      <td>49</td>\n",
       "      <td>1.200776e+06</td>\n",
       "      <td>1.447918e+06</td>\n",
       "    </tr>\n",
       "    <tr>\n",
       "      <td>10</td>\n",
       "      <td>27.0</td>\n",
       "      <td>64</td>\n",
       "      <td>1.604031e+06</td>\n",
       "      <td>1.766531e+06</td>\n",
       "    </tr>\n",
       "    <tr>\n",
       "      <td>11</td>\n",
       "      <td>28.0</td>\n",
       "      <td>49</td>\n",
       "      <td>7.607959e+05</td>\n",
       "      <td>8.577347e+05</td>\n",
       "    </tr>\n",
       "    <tr>\n",
       "      <td>12</td>\n",
       "      <td>29.0</td>\n",
       "      <td>47</td>\n",
       "      <td>1.045362e+06</td>\n",
       "      <td>1.262383e+06</td>\n",
       "    </tr>\n",
       "    <tr>\n",
       "      <td>13</td>\n",
       "      <td>30.0</td>\n",
       "      <td>27</td>\n",
       "      <td>1.196481e+06</td>\n",
       "      <td>1.315926e+06</td>\n",
       "    </tr>\n",
       "    <tr>\n",
       "      <td>14</td>\n",
       "      <td>31.0</td>\n",
       "      <td>22</td>\n",
       "      <td>3.280455e+05</td>\n",
       "      <td>4.303182e+05</td>\n",
       "    </tr>\n",
       "    <tr>\n",
       "      <td>15</td>\n",
       "      <td>32.0</td>\n",
       "      <td>18</td>\n",
       "      <td>4.152778e+05</td>\n",
       "      <td>5.013889e+05</td>\n",
       "    </tr>\n",
       "    <tr>\n",
       "      <td>16</td>\n",
       "      <td>33.0</td>\n",
       "      <td>20</td>\n",
       "      <td>4.010000e+05</td>\n",
       "      <td>4.685000e+05</td>\n",
       "    </tr>\n",
       "    <tr>\n",
       "      <td>17</td>\n",
       "      <td>34.0</td>\n",
       "      <td>5</td>\n",
       "      <td>-7.400000e+03</td>\n",
       "      <td>2.760000e+04</td>\n",
       "    </tr>\n",
       "    <tr>\n",
       "      <td>18</td>\n",
       "      <td>35.0</td>\n",
       "      <td>8</td>\n",
       "      <td>-3.125000e+04</td>\n",
       "      <td>0.000000e+00</td>\n",
       "    </tr>\n",
       "    <tr>\n",
       "      <td>19</td>\n",
       "      <td>37.0</td>\n",
       "      <td>3</td>\n",
       "      <td>-5.833333e+04</td>\n",
       "      <td>0.000000e+00</td>\n",
       "    </tr>\n",
       "    <tr>\n",
       "      <td>20</td>\n",
       "      <td>38.0</td>\n",
       "      <td>1</td>\n",
       "      <td>-5.000000e+04</td>\n",
       "      <td>0.000000e+00</td>\n",
       "    </tr>\n",
       "    <tr>\n",
       "      <td>21</td>\n",
       "      <td>39.0</td>\n",
       "      <td>1</td>\n",
       "      <td>-5.000000e+04</td>\n",
       "      <td>0.000000e+00</td>\n",
       "    </tr>\n",
       "  </tbody>\n",
       "</table>\n",
       "</div>"
      ],
      "text/plain": [
       "     Age  Transfer_Count  Surplus/Deficit  Transfer_mean\n",
       "0   17.0               1     1.415000e+06   1.440000e+06\n",
       "1   18.0               4    -2.500000e+04   0.000000e+00\n",
       "2   19.0               9     3.888889e+04   6.666667e+04\n",
       "3   20.0              32     5.101250e+05   5.851250e+05\n",
       "4   21.0              33     6.615455e+05   7.554848e+05\n",
       "5   22.0              40     4.545250e+05   5.464000e+05\n",
       "6   23.0              49     1.202184e+06   1.372592e+06\n",
       "7   24.0              58     8.059310e+05   9.481724e+05\n",
       "8   25.0              45     1.036378e+06   1.210267e+06\n",
       "9   26.0              49     1.200776e+06   1.447918e+06\n",
       "10  27.0              64     1.604031e+06   1.766531e+06\n",
       "11  28.0              49     7.607959e+05   8.577347e+05\n",
       "12  29.0              47     1.045362e+06   1.262383e+06\n",
       "13  30.0              27     1.196481e+06   1.315926e+06\n",
       "14  31.0              22     3.280455e+05   4.303182e+05\n",
       "15  32.0              18     4.152778e+05   5.013889e+05\n",
       "16  33.0              20     4.010000e+05   4.685000e+05\n",
       "17  34.0               5    -7.400000e+03   2.760000e+04\n",
       "18  35.0               8    -3.125000e+04   0.000000e+00\n",
       "19  37.0               3    -5.833333e+04   0.000000e+00\n",
       "20  38.0               1    -5.000000e+04   0.000000e+00\n",
       "21  39.0               1    -5.000000e+04   0.000000e+00"
      ]
     },
     "execution_count": 26,
     "metadata": {},
     "output_type": "execute_result"
    }
   ],
   "source": [
    "China=Test_EDA[Test_EDA.Nationality=='China']\n",
    "\n",
    "China_Age1=China.groupby(\"Age\").agg({\"Transfer\":\"count\", \"Surplus/Deficit\":\"mean\"})\n",
    "China_Age2=China.groupby(\"Age\").agg({\"Transfer\":np.mean})\n",
    "China_Age = pd.merge(China_Age1, China_Age2, \n",
    "                     how = 'outer',\n",
    "                     on = 'Age',\n",
    "                    suffixes = ('_Count','_mean'))\n",
    "China_Age.reset_index(inplace=True)\n",
    "China_Age"
   ]
  },
  {
   "cell_type": "markdown",
   "metadata": {},
   "source": [
    "<div class=\"alert alert-warning\" role=\"alert\">\n",
    "\n",
    "**Method** <br>\n",
    "In the following graph, we analyze the transfer market data for Chinese nationals specifically.\n",
    "</div>"
   ]
  },
  {
   "cell_type": "markdown",
   "metadata": {},
   "source": [
    "<div class=\"alert alert-success\" role=\"alert\">\n",
    "\n",
    "**Inference**<br>\n",
    "One aspect to take note of, that is not shown in the graph, is that Chinese players are transferred mainly among Chinese clubs. International transfers are rare. With this knowsledge, we see that transfer occur when players are at the mature stages of their footbal careers (Age 23-28). This is because clubs are looking for players to have an immediate impact with the team and do not want to spend too much money on their development. Interestingly, the transfer value is high at the age of 16 as the richer clubs look to but potential star players at an early stage.\n",
    "\n",
    "</div>    "
   ]
  },
  {
   "cell_type": "code",
   "execution_count": 27,
   "metadata": {},
   "outputs": [
    {
     "data": {
      "application/vnd.plotly.v1+json": {
       "config": {
        "plotlyServerURL": "https://plot.ly"
       },
       "data": [
        {
         "alignmentgroup": "True",
         "hoverlabel": {
          "namelength": 0
         },
         "hovertemplate": "<b>%{hovertext}</b><br><br>Age=%{x}<br>Transfer_mean=%{y}<br>Surplus/Deficit=%{marker.color}",
         "hovertext": [
          17,
          18,
          19,
          20,
          21,
          22,
          23,
          24,
          25,
          26,
          27,
          28,
          29,
          30,
          31,
          32,
          33,
          34,
          35,
          37,
          38,
          39
         ],
         "legendgroup": "",
         "marker": {
          "color": [
           1415000,
           -25000,
           38888.88888888889,
           510125,
           661545.4545454546,
           454525,
           1202183.6734693877,
           805931.0344827586,
           1036377.7777777778,
           1200775.5102040817,
           1604031.25,
           760795.918367347,
           1045361.7021276596,
           1196481.4814814816,
           328045.45454545453,
           415277.77777777775,
           401000,
           -7400,
           -31250,
           -58333.333333333336,
           -50000,
           -50000
          ],
          "coloraxis": "coloraxis"
         },
         "name": "",
         "offsetgroup": "",
         "orientation": "v",
         "showlegend": false,
         "textposition": "auto",
         "type": "bar",
         "x": [
          17,
          18,
          19,
          20,
          21,
          22,
          23,
          24,
          25,
          26,
          27,
          28,
          29,
          30,
          31,
          32,
          33,
          34,
          35,
          37,
          38,
          39
         ],
         "xaxis": "x",
         "y": [
          1440000,
          0,
          66666.66666666667,
          585125,
          755484.8484848485,
          546400,
          1372591.836734694,
          948172.4137931034,
          1210266.6666666667,
          1447918.3673469387,
          1766531.25,
          857734.693877551,
          1262382.9787234042,
          1315925.9259259258,
          430318.1818181818,
          501388.8888888889,
          468500,
          27600,
          0,
          0,
          0,
          0
         ],
         "yaxis": "y"
        },
        {
         "hovertemplate": "Nationality: %{x}<br>Number of Transfers: %{y:,.0f}",
         "line": {
          "width": 3
         },
         "marker": {
          "color": "rgb(237,239,93)"
         },
         "name": "Number of Transfers",
         "text": [
          1,
          4,
          9,
          32,
          33,
          40,
          49,
          58,
          45,
          49,
          64,
          49,
          47,
          27,
          22,
          18,
          20,
          5,
          8,
          3,
          1,
          1
         ],
         "type": "scatter",
         "x": [
          17,
          18,
          19,
          20,
          21,
          22,
          23,
          24,
          25,
          26,
          27,
          28,
          29,
          30,
          31,
          32,
          33,
          34,
          35,
          37,
          38,
          39
         ],
         "y": [
          1,
          4,
          9,
          32,
          33,
          40,
          49,
          58,
          45,
          49,
          64,
          49,
          47,
          27,
          22,
          18,
          20,
          5,
          8,
          3,
          1,
          1
         ],
         "yaxis": "y2"
        }
       ],
       "layout": {
        "barmode": "relative",
        "coloraxis": {
         "colorbar": {
          "title": {
           "text": "Surplus/Deficit"
          }
         },
         "colorscale": [
          [
           0,
           "rgb(247,251,255)"
          ],
          [
           0.125,
           "rgb(222,235,247)"
          ],
          [
           0.25,
           "rgb(198,219,239)"
          ],
          [
           0.375,
           "rgb(158,202,225)"
          ],
          [
           0.5,
           "rgb(107,174,214)"
          ],
          [
           0.625,
           "rgb(66,146,198)"
          ],
          [
           0.75,
           "rgb(33,113,181)"
          ],
          [
           0.875,
           "rgb(8,81,156)"
          ],
          [
           1,
           "rgb(8,48,107)"
          ]
         ]
        },
        "font": {
         "color": "white",
         "family": "Arial, monospace",
         "size": 10
        },
        "hoverlabel": {
         "bgcolor": "black",
         "bordercolor": "black",
         "font": {
          "color": "white",
          "family": "Arial, monospace",
          "size": 14
         }
        },
        "legend": {
         "tracegroupgap": 0,
         "x": 0.8,
         "y": 1
        },
        "template": {
         "data": {
          "bar": [
           {
            "error_x": {
             "color": "#f2f5fa"
            },
            "error_y": {
             "color": "#f2f5fa"
            },
            "marker": {
             "line": {
              "color": "rgb(17,17,17)",
              "width": 0.5
             }
            },
            "type": "bar"
           }
          ],
          "barpolar": [
           {
            "marker": {
             "line": {
              "color": "rgb(17,17,17)",
              "width": 0.5
             }
            },
            "type": "barpolar"
           }
          ],
          "carpet": [
           {
            "aaxis": {
             "endlinecolor": "#A2B1C6",
             "gridcolor": "#506784",
             "linecolor": "#506784",
             "minorgridcolor": "#506784",
             "startlinecolor": "#A2B1C6"
            },
            "baxis": {
             "endlinecolor": "#A2B1C6",
             "gridcolor": "#506784",
             "linecolor": "#506784",
             "minorgridcolor": "#506784",
             "startlinecolor": "#A2B1C6"
            },
            "type": "carpet"
           }
          ],
          "choropleth": [
           {
            "colorbar": {
             "outlinewidth": 0,
             "ticks": ""
            },
            "type": "choropleth"
           }
          ],
          "contour": [
           {
            "colorbar": {
             "outlinewidth": 0,
             "ticks": ""
            },
            "colorscale": [
             [
              0,
              "#0d0887"
             ],
             [
              0.1111111111111111,
              "#46039f"
             ],
             [
              0.2222222222222222,
              "#7201a8"
             ],
             [
              0.3333333333333333,
              "#9c179e"
             ],
             [
              0.4444444444444444,
              "#bd3786"
             ],
             [
              0.5555555555555556,
              "#d8576b"
             ],
             [
              0.6666666666666666,
              "#ed7953"
             ],
             [
              0.7777777777777778,
              "#fb9f3a"
             ],
             [
              0.8888888888888888,
              "#fdca26"
             ],
             [
              1,
              "#f0f921"
             ]
            ],
            "type": "contour"
           }
          ],
          "contourcarpet": [
           {
            "colorbar": {
             "outlinewidth": 0,
             "ticks": ""
            },
            "type": "contourcarpet"
           }
          ],
          "heatmap": [
           {
            "colorbar": {
             "outlinewidth": 0,
             "ticks": ""
            },
            "colorscale": [
             [
              0,
              "#0d0887"
             ],
             [
              0.1111111111111111,
              "#46039f"
             ],
             [
              0.2222222222222222,
              "#7201a8"
             ],
             [
              0.3333333333333333,
              "#9c179e"
             ],
             [
              0.4444444444444444,
              "#bd3786"
             ],
             [
              0.5555555555555556,
              "#d8576b"
             ],
             [
              0.6666666666666666,
              "#ed7953"
             ],
             [
              0.7777777777777778,
              "#fb9f3a"
             ],
             [
              0.8888888888888888,
              "#fdca26"
             ],
             [
              1,
              "#f0f921"
             ]
            ],
            "type": "heatmap"
           }
          ],
          "heatmapgl": [
           {
            "colorbar": {
             "outlinewidth": 0,
             "ticks": ""
            },
            "colorscale": [
             [
              0,
              "#0d0887"
             ],
             [
              0.1111111111111111,
              "#46039f"
             ],
             [
              0.2222222222222222,
              "#7201a8"
             ],
             [
              0.3333333333333333,
              "#9c179e"
             ],
             [
              0.4444444444444444,
              "#bd3786"
             ],
             [
              0.5555555555555556,
              "#d8576b"
             ],
             [
              0.6666666666666666,
              "#ed7953"
             ],
             [
              0.7777777777777778,
              "#fb9f3a"
             ],
             [
              0.8888888888888888,
              "#fdca26"
             ],
             [
              1,
              "#f0f921"
             ]
            ],
            "type": "heatmapgl"
           }
          ],
          "histogram": [
           {
            "marker": {
             "colorbar": {
              "outlinewidth": 0,
              "ticks": ""
             }
            },
            "type": "histogram"
           }
          ],
          "histogram2d": [
           {
            "colorbar": {
             "outlinewidth": 0,
             "ticks": ""
            },
            "colorscale": [
             [
              0,
              "#0d0887"
             ],
             [
              0.1111111111111111,
              "#46039f"
             ],
             [
              0.2222222222222222,
              "#7201a8"
             ],
             [
              0.3333333333333333,
              "#9c179e"
             ],
             [
              0.4444444444444444,
              "#bd3786"
             ],
             [
              0.5555555555555556,
              "#d8576b"
             ],
             [
              0.6666666666666666,
              "#ed7953"
             ],
             [
              0.7777777777777778,
              "#fb9f3a"
             ],
             [
              0.8888888888888888,
              "#fdca26"
             ],
             [
              1,
              "#f0f921"
             ]
            ],
            "type": "histogram2d"
           }
          ],
          "histogram2dcontour": [
           {
            "colorbar": {
             "outlinewidth": 0,
             "ticks": ""
            },
            "colorscale": [
             [
              0,
              "#0d0887"
             ],
             [
              0.1111111111111111,
              "#46039f"
             ],
             [
              0.2222222222222222,
              "#7201a8"
             ],
             [
              0.3333333333333333,
              "#9c179e"
             ],
             [
              0.4444444444444444,
              "#bd3786"
             ],
             [
              0.5555555555555556,
              "#d8576b"
             ],
             [
              0.6666666666666666,
              "#ed7953"
             ],
             [
              0.7777777777777778,
              "#fb9f3a"
             ],
             [
              0.8888888888888888,
              "#fdca26"
             ],
             [
              1,
              "#f0f921"
             ]
            ],
            "type": "histogram2dcontour"
           }
          ],
          "mesh3d": [
           {
            "colorbar": {
             "outlinewidth": 0,
             "ticks": ""
            },
            "type": "mesh3d"
           }
          ],
          "parcoords": [
           {
            "line": {
             "colorbar": {
              "outlinewidth": 0,
              "ticks": ""
             }
            },
            "type": "parcoords"
           }
          ],
          "pie": [
           {
            "automargin": true,
            "type": "pie"
           }
          ],
          "scatter": [
           {
            "marker": {
             "line": {
              "color": "#283442"
             }
            },
            "type": "scatter"
           }
          ],
          "scatter3d": [
           {
            "line": {
             "colorbar": {
              "outlinewidth": 0,
              "ticks": ""
             }
            },
            "marker": {
             "colorbar": {
              "outlinewidth": 0,
              "ticks": ""
             }
            },
            "type": "scatter3d"
           }
          ],
          "scattercarpet": [
           {
            "marker": {
             "colorbar": {
              "outlinewidth": 0,
              "ticks": ""
             }
            },
            "type": "scattercarpet"
           }
          ],
          "scattergeo": [
           {
            "marker": {
             "colorbar": {
              "outlinewidth": 0,
              "ticks": ""
             }
            },
            "type": "scattergeo"
           }
          ],
          "scattergl": [
           {
            "marker": {
             "line": {
              "color": "#283442"
             }
            },
            "type": "scattergl"
           }
          ],
          "scattermapbox": [
           {
            "marker": {
             "colorbar": {
              "outlinewidth": 0,
              "ticks": ""
             }
            },
            "type": "scattermapbox"
           }
          ],
          "scatterpolar": [
           {
            "marker": {
             "colorbar": {
              "outlinewidth": 0,
              "ticks": ""
             }
            },
            "type": "scatterpolar"
           }
          ],
          "scatterpolargl": [
           {
            "marker": {
             "colorbar": {
              "outlinewidth": 0,
              "ticks": ""
             }
            },
            "type": "scatterpolargl"
           }
          ],
          "scatterternary": [
           {
            "marker": {
             "colorbar": {
              "outlinewidth": 0,
              "ticks": ""
             }
            },
            "type": "scatterternary"
           }
          ],
          "surface": [
           {
            "colorbar": {
             "outlinewidth": 0,
             "ticks": ""
            },
            "colorscale": [
             [
              0,
              "#0d0887"
             ],
             [
              0.1111111111111111,
              "#46039f"
             ],
             [
              0.2222222222222222,
              "#7201a8"
             ],
             [
              0.3333333333333333,
              "#9c179e"
             ],
             [
              0.4444444444444444,
              "#bd3786"
             ],
             [
              0.5555555555555556,
              "#d8576b"
             ],
             [
              0.6666666666666666,
              "#ed7953"
             ],
             [
              0.7777777777777778,
              "#fb9f3a"
             ],
             [
              0.8888888888888888,
              "#fdca26"
             ],
             [
              1,
              "#f0f921"
             ]
            ],
            "type": "surface"
           }
          ],
          "table": [
           {
            "cells": {
             "fill": {
              "color": "#506784"
             },
             "line": {
              "color": "rgb(17,17,17)"
             }
            },
            "header": {
             "fill": {
              "color": "#2a3f5f"
             },
             "line": {
              "color": "rgb(17,17,17)"
             }
            },
            "type": "table"
           }
          ]
         },
         "layout": {
          "annotationdefaults": {
           "arrowcolor": "#f2f5fa",
           "arrowhead": 0,
           "arrowwidth": 1
          },
          "coloraxis": {
           "colorbar": {
            "outlinewidth": 0,
            "ticks": ""
           }
          },
          "colorscale": {
           "diverging": [
            [
             0,
             "#8e0152"
            ],
            [
             0.1,
             "#c51b7d"
            ],
            [
             0.2,
             "#de77ae"
            ],
            [
             0.3,
             "#f1b6da"
            ],
            [
             0.4,
             "#fde0ef"
            ],
            [
             0.5,
             "#f7f7f7"
            ],
            [
             0.6,
             "#e6f5d0"
            ],
            [
             0.7,
             "#b8e186"
            ],
            [
             0.8,
             "#7fbc41"
            ],
            [
             0.9,
             "#4d9221"
            ],
            [
             1,
             "#276419"
            ]
           ],
           "sequential": [
            [
             0,
             "#0d0887"
            ],
            [
             0.1111111111111111,
             "#46039f"
            ],
            [
             0.2222222222222222,
             "#7201a8"
            ],
            [
             0.3333333333333333,
             "#9c179e"
            ],
            [
             0.4444444444444444,
             "#bd3786"
            ],
            [
             0.5555555555555556,
             "#d8576b"
            ],
            [
             0.6666666666666666,
             "#ed7953"
            ],
            [
             0.7777777777777778,
             "#fb9f3a"
            ],
            [
             0.8888888888888888,
             "#fdca26"
            ],
            [
             1,
             "#f0f921"
            ]
           ],
           "sequentialminus": [
            [
             0,
             "#0d0887"
            ],
            [
             0.1111111111111111,
             "#46039f"
            ],
            [
             0.2222222222222222,
             "#7201a8"
            ],
            [
             0.3333333333333333,
             "#9c179e"
            ],
            [
             0.4444444444444444,
             "#bd3786"
            ],
            [
             0.5555555555555556,
             "#d8576b"
            ],
            [
             0.6666666666666666,
             "#ed7953"
            ],
            [
             0.7777777777777778,
             "#fb9f3a"
            ],
            [
             0.8888888888888888,
             "#fdca26"
            ],
            [
             1,
             "#f0f921"
            ]
           ]
          },
          "colorway": [
           "#636efa",
           "#EF553B",
           "#00cc96",
           "#ab63fa",
           "#FFA15A",
           "#19d3f3",
           "#FF6692",
           "#B6E880",
           "#FF97FF",
           "#FECB52"
          ],
          "font": {
           "color": "#f2f5fa"
          },
          "geo": {
           "bgcolor": "rgb(17,17,17)",
           "lakecolor": "rgb(17,17,17)",
           "landcolor": "rgb(17,17,17)",
           "showlakes": true,
           "showland": true,
           "subunitcolor": "#506784"
          },
          "hoverlabel": {
           "align": "left"
          },
          "hovermode": "closest",
          "mapbox": {
           "style": "dark"
          },
          "paper_bgcolor": "rgb(17,17,17)",
          "plot_bgcolor": "rgb(17,17,17)",
          "polar": {
           "angularaxis": {
            "gridcolor": "#506784",
            "linecolor": "#506784",
            "ticks": ""
           },
           "bgcolor": "rgb(17,17,17)",
           "radialaxis": {
            "gridcolor": "#506784",
            "linecolor": "#506784",
            "ticks": ""
           }
          },
          "scene": {
           "xaxis": {
            "backgroundcolor": "rgb(17,17,17)",
            "gridcolor": "#506784",
            "gridwidth": 2,
            "linecolor": "#506784",
            "showbackground": true,
            "ticks": "",
            "zerolinecolor": "#C8D4E3"
           },
           "yaxis": {
            "backgroundcolor": "rgb(17,17,17)",
            "gridcolor": "#506784",
            "gridwidth": 2,
            "linecolor": "#506784",
            "showbackground": true,
            "ticks": "",
            "zerolinecolor": "#C8D4E3"
           },
           "zaxis": {
            "backgroundcolor": "rgb(17,17,17)",
            "gridcolor": "#506784",
            "gridwidth": 2,
            "linecolor": "#506784",
            "showbackground": true,
            "ticks": "",
            "zerolinecolor": "#C8D4E3"
           }
          },
          "shapedefaults": {
           "line": {
            "color": "#f2f5fa"
           }
          },
          "sliderdefaults": {
           "bgcolor": "#C8D4E3",
           "bordercolor": "rgb(17,17,17)",
           "borderwidth": 1,
           "tickwidth": 0
          },
          "ternary": {
           "aaxis": {
            "gridcolor": "#506784",
            "linecolor": "#506784",
            "ticks": ""
           },
           "baxis": {
            "gridcolor": "#506784",
            "linecolor": "#506784",
            "ticks": ""
           },
           "bgcolor": "rgb(17,17,17)",
           "caxis": {
            "gridcolor": "#506784",
            "linecolor": "#506784",
            "ticks": ""
           }
          },
          "title": {
           "x": 0.05
          },
          "updatemenudefaults": {
           "bgcolor": "#506784",
           "borderwidth": 0
          },
          "xaxis": {
           "automargin": true,
           "gridcolor": "#283442",
           "linecolor": "#506784",
           "ticks": "",
           "title": {
            "standoff": 15
           },
           "zerolinecolor": "#283442",
           "zerolinewidth": 2
          },
          "yaxis": {
           "automargin": true,
           "gridcolor": "#283442",
           "linecolor": "#506784",
           "ticks": "",
           "title": {
            "standoff": 15
           },
           "zerolinecolor": "#283442",
           "zerolinewidth": 2
          }
         }
        },
        "title": {
         "text": "Analysis for Chinese Players"
        },
        "xaxis": {
         "linecolor": "white",
         "showgrid": false,
         "showline": true,
         "showticklabels": true,
         "tickfont": {
          "color": "white",
          "family": "Arial",
          "size": 10
         },
         "title": {
          "font": {
           "color": "white",
           "family": "Arial, monospace",
           "size": 14
          },
          "text": "Age"
         },
         "zeroline": false
        },
        "yaxis": {
         "linecolor": "white",
         "showgrid": false,
         "showline": false,
         "showticklabels": true,
         "tickfont": {
          "color": "white",
          "family": "Arial",
          "size": 10
         },
         "title": {
          "font": {
           "color": "white",
           "family": "Arial, monospace",
           "size": 14
          },
          "text": "Average Transfer Fee, in Euros"
         },
         "zeroline": false
        },
        "yaxis2": {
         "overlaying": "y",
         "showgrid": false,
         "side": "right",
         "title": {
          "text": ""
         },
         "zeroline": false
        }
       }
      },
      "text/html": [
       "<div>\n",
       "        \n",
       "        \n",
       "            <div id=\"6889fded-7554-4988-9af2-d04a982878a2\" class=\"plotly-graph-div\" style=\"height:525px; width:100%;\"></div>\n",
       "            <script type=\"text/javascript\">\n",
       "                require([\"plotly\"], function(Plotly) {\n",
       "                    window.PLOTLYENV=window.PLOTLYENV || {};\n",
       "                    \n",
       "                if (document.getElementById(\"6889fded-7554-4988-9af2-d04a982878a2\")) {\n",
       "                    Plotly.newPlot(\n",
       "                        '6889fded-7554-4988-9af2-d04a982878a2',\n",
       "                        [{\"alignmentgroup\": \"True\", \"hoverlabel\": {\"namelength\": 0}, \"hovertemplate\": \"<b>%{hovertext}</b><br><br>Age=%{x}<br>Transfer_mean=%{y}<br>Surplus/Deficit=%{marker.color}\", \"hovertext\": [17.0, 18.0, 19.0, 20.0, 21.0, 22.0, 23.0, 24.0, 25.0, 26.0, 27.0, 28.0, 29.0, 30.0, 31.0, 32.0, 33.0, 34.0, 35.0, 37.0, 38.0, 39.0], \"legendgroup\": \"\", \"marker\": {\"color\": [1415000.0, -25000.0, 38888.88888888889, 510125.0, 661545.4545454546, 454525.0, 1202183.6734693877, 805931.0344827586, 1036377.7777777778, 1200775.5102040817, 1604031.25, 760795.918367347, 1045361.7021276596, 1196481.4814814816, 328045.45454545453, 415277.77777777775, 401000.0, -7400.0, -31250.0, -58333.333333333336, -50000.0, -50000.0], \"coloraxis\": \"coloraxis\"}, \"name\": \"\", \"offsetgroup\": \"\", \"orientation\": \"v\", \"showlegend\": false, \"textposition\": \"auto\", \"type\": \"bar\", \"x\": [17.0, 18.0, 19.0, 20.0, 21.0, 22.0, 23.0, 24.0, 25.0, 26.0, 27.0, 28.0, 29.0, 30.0, 31.0, 32.0, 33.0, 34.0, 35.0, 37.0, 38.0, 39.0], \"xaxis\": \"x\", \"y\": [1440000.0, 0.0, 66666.66666666667, 585125.0, 755484.8484848485, 546400.0, 1372591.836734694, 948172.4137931034, 1210266.6666666667, 1447918.3673469387, 1766531.25, 857734.693877551, 1262382.9787234042, 1315925.9259259258, 430318.1818181818, 501388.8888888889, 468500.0, 27600.0, 0.0, 0.0, 0.0, 0.0], \"yaxis\": \"y\"}, {\"hovertemplate\": \"Nationality: %{x}<br>Number of Transfers: %{y:,.0f}\", \"line\": {\"width\": 3}, \"marker\": {\"color\": \"rgb(237,239,93)\"}, \"name\": \"Number of Transfers\", \"text\": [1.0, 4.0, 9.0, 32.0, 33.0, 40.0, 49.0, 58.0, 45.0, 49.0, 64.0, 49.0, 47.0, 27.0, 22.0, 18.0, 20.0, 5.0, 8.0, 3.0, 1.0, 1.0], \"type\": \"scatter\", \"x\": [17.0, 18.0, 19.0, 20.0, 21.0, 22.0, 23.0, 24.0, 25.0, 26.0, 27.0, 28.0, 29.0, 30.0, 31.0, 32.0, 33.0, 34.0, 35.0, 37.0, 38.0, 39.0], \"y\": [1, 4, 9, 32, 33, 40, 49, 58, 45, 49, 64, 49, 47, 27, 22, 18, 20, 5, 8, 3, 1, 1], \"yaxis\": \"y2\"}],\n",
       "                        {\"barmode\": \"relative\", \"coloraxis\": {\"colorbar\": {\"title\": {\"text\": \"Surplus/Deficit\"}}, \"colorscale\": [[0.0, \"rgb(247,251,255)\"], [0.125, \"rgb(222,235,247)\"], [0.25, \"rgb(198,219,239)\"], [0.375, \"rgb(158,202,225)\"], [0.5, \"rgb(107,174,214)\"], [0.625, \"rgb(66,146,198)\"], [0.75, \"rgb(33,113,181)\"], [0.875, \"rgb(8,81,156)\"], [1.0, \"rgb(8,48,107)\"]]}, \"font\": {\"color\": \"white\", \"family\": \"Arial, monospace\", \"size\": 10}, \"hoverlabel\": {\"bgcolor\": \"black\", \"bordercolor\": \"black\", \"font\": {\"color\": \"white\", \"family\": \"Arial, monospace\", \"size\": 14}}, \"legend\": {\"tracegroupgap\": 0, \"x\": 0.8, \"y\": 1}, \"template\": {\"data\": {\"bar\": [{\"error_x\": {\"color\": \"#f2f5fa\"}, \"error_y\": {\"color\": \"#f2f5fa\"}, \"marker\": {\"line\": {\"color\": \"rgb(17,17,17)\", \"width\": 0.5}}, \"type\": \"bar\"}], \"barpolar\": [{\"marker\": {\"line\": {\"color\": \"rgb(17,17,17)\", \"width\": 0.5}}, \"type\": \"barpolar\"}], \"carpet\": [{\"aaxis\": {\"endlinecolor\": \"#A2B1C6\", \"gridcolor\": \"#506784\", \"linecolor\": \"#506784\", \"minorgridcolor\": \"#506784\", \"startlinecolor\": \"#A2B1C6\"}, \"baxis\": {\"endlinecolor\": \"#A2B1C6\", \"gridcolor\": \"#506784\", \"linecolor\": \"#506784\", \"minorgridcolor\": \"#506784\", \"startlinecolor\": \"#A2B1C6\"}, \"type\": \"carpet\"}], \"choropleth\": [{\"colorbar\": {\"outlinewidth\": 0, \"ticks\": \"\"}, \"type\": \"choropleth\"}], \"contour\": [{\"colorbar\": {\"outlinewidth\": 0, \"ticks\": \"\"}, \"colorscale\": [[0.0, \"#0d0887\"], [0.1111111111111111, \"#46039f\"], [0.2222222222222222, \"#7201a8\"], [0.3333333333333333, \"#9c179e\"], [0.4444444444444444, \"#bd3786\"], [0.5555555555555556, \"#d8576b\"], [0.6666666666666666, \"#ed7953\"], [0.7777777777777778, \"#fb9f3a\"], [0.8888888888888888, \"#fdca26\"], [1.0, \"#f0f921\"]], \"type\": \"contour\"}], \"contourcarpet\": [{\"colorbar\": {\"outlinewidth\": 0, \"ticks\": \"\"}, \"type\": \"contourcarpet\"}], \"heatmap\": [{\"colorbar\": {\"outlinewidth\": 0, \"ticks\": \"\"}, \"colorscale\": [[0.0, \"#0d0887\"], [0.1111111111111111, \"#46039f\"], [0.2222222222222222, \"#7201a8\"], [0.3333333333333333, \"#9c179e\"], [0.4444444444444444, \"#bd3786\"], [0.5555555555555556, \"#d8576b\"], [0.6666666666666666, \"#ed7953\"], [0.7777777777777778, \"#fb9f3a\"], [0.8888888888888888, \"#fdca26\"], [1.0, \"#f0f921\"]], \"type\": \"heatmap\"}], \"heatmapgl\": [{\"colorbar\": {\"outlinewidth\": 0, \"ticks\": \"\"}, \"colorscale\": [[0.0, \"#0d0887\"], [0.1111111111111111, \"#46039f\"], [0.2222222222222222, \"#7201a8\"], [0.3333333333333333, \"#9c179e\"], [0.4444444444444444, \"#bd3786\"], [0.5555555555555556, \"#d8576b\"], [0.6666666666666666, \"#ed7953\"], [0.7777777777777778, \"#fb9f3a\"], [0.8888888888888888, \"#fdca26\"], [1.0, \"#f0f921\"]], \"type\": \"heatmapgl\"}], \"histogram\": [{\"marker\": {\"colorbar\": {\"outlinewidth\": 0, \"ticks\": \"\"}}, \"type\": \"histogram\"}], \"histogram2d\": [{\"colorbar\": {\"outlinewidth\": 0, \"ticks\": \"\"}, \"colorscale\": [[0.0, \"#0d0887\"], [0.1111111111111111, \"#46039f\"], [0.2222222222222222, \"#7201a8\"], [0.3333333333333333, \"#9c179e\"], [0.4444444444444444, \"#bd3786\"], [0.5555555555555556, \"#d8576b\"], [0.6666666666666666, \"#ed7953\"], [0.7777777777777778, \"#fb9f3a\"], [0.8888888888888888, \"#fdca26\"], [1.0, \"#f0f921\"]], \"type\": \"histogram2d\"}], \"histogram2dcontour\": [{\"colorbar\": {\"outlinewidth\": 0, \"ticks\": \"\"}, \"colorscale\": [[0.0, \"#0d0887\"], [0.1111111111111111, \"#46039f\"], [0.2222222222222222, \"#7201a8\"], [0.3333333333333333, \"#9c179e\"], [0.4444444444444444, \"#bd3786\"], [0.5555555555555556, \"#d8576b\"], [0.6666666666666666, \"#ed7953\"], [0.7777777777777778, \"#fb9f3a\"], [0.8888888888888888, \"#fdca26\"], [1.0, \"#f0f921\"]], \"type\": \"histogram2dcontour\"}], \"mesh3d\": [{\"colorbar\": {\"outlinewidth\": 0, \"ticks\": \"\"}, \"type\": \"mesh3d\"}], \"parcoords\": [{\"line\": {\"colorbar\": {\"outlinewidth\": 0, \"ticks\": \"\"}}, \"type\": \"parcoords\"}], \"pie\": [{\"automargin\": true, \"type\": \"pie\"}], \"scatter\": [{\"marker\": {\"line\": {\"color\": \"#283442\"}}, \"type\": \"scatter\"}], \"scatter3d\": [{\"line\": {\"colorbar\": {\"outlinewidth\": 0, \"ticks\": \"\"}}, \"marker\": {\"colorbar\": {\"outlinewidth\": 0, \"ticks\": \"\"}}, \"type\": \"scatter3d\"}], \"scattercarpet\": [{\"marker\": {\"colorbar\": {\"outlinewidth\": 0, \"ticks\": \"\"}}, \"type\": \"scattercarpet\"}], \"scattergeo\": [{\"marker\": {\"colorbar\": {\"outlinewidth\": 0, \"ticks\": \"\"}}, \"type\": \"scattergeo\"}], \"scattergl\": [{\"marker\": {\"line\": {\"color\": \"#283442\"}}, \"type\": \"scattergl\"}], \"scattermapbox\": [{\"marker\": {\"colorbar\": {\"outlinewidth\": 0, \"ticks\": \"\"}}, \"type\": \"scattermapbox\"}], \"scatterpolar\": [{\"marker\": {\"colorbar\": {\"outlinewidth\": 0, \"ticks\": \"\"}}, \"type\": \"scatterpolar\"}], \"scatterpolargl\": [{\"marker\": {\"colorbar\": {\"outlinewidth\": 0, \"ticks\": \"\"}}, \"type\": \"scatterpolargl\"}], \"scatterternary\": [{\"marker\": {\"colorbar\": {\"outlinewidth\": 0, \"ticks\": \"\"}}, \"type\": \"scatterternary\"}], \"surface\": [{\"colorbar\": {\"outlinewidth\": 0, \"ticks\": \"\"}, \"colorscale\": [[0.0, \"#0d0887\"], [0.1111111111111111, \"#46039f\"], [0.2222222222222222, \"#7201a8\"], [0.3333333333333333, \"#9c179e\"], [0.4444444444444444, \"#bd3786\"], [0.5555555555555556, \"#d8576b\"], [0.6666666666666666, \"#ed7953\"], [0.7777777777777778, \"#fb9f3a\"], [0.8888888888888888, \"#fdca26\"], [1.0, \"#f0f921\"]], \"type\": \"surface\"}], \"table\": [{\"cells\": {\"fill\": {\"color\": \"#506784\"}, \"line\": {\"color\": \"rgb(17,17,17)\"}}, \"header\": {\"fill\": {\"color\": \"#2a3f5f\"}, \"line\": {\"color\": \"rgb(17,17,17)\"}}, \"type\": \"table\"}]}, \"layout\": {\"annotationdefaults\": {\"arrowcolor\": \"#f2f5fa\", \"arrowhead\": 0, \"arrowwidth\": 1}, \"coloraxis\": {\"colorbar\": {\"outlinewidth\": 0, \"ticks\": \"\"}}, \"colorscale\": {\"diverging\": [[0, \"#8e0152\"], [0.1, \"#c51b7d\"], [0.2, \"#de77ae\"], [0.3, \"#f1b6da\"], [0.4, \"#fde0ef\"], [0.5, \"#f7f7f7\"], [0.6, \"#e6f5d0\"], [0.7, \"#b8e186\"], [0.8, \"#7fbc41\"], [0.9, \"#4d9221\"], [1, \"#276419\"]], \"sequential\": [[0.0, \"#0d0887\"], [0.1111111111111111, \"#46039f\"], [0.2222222222222222, \"#7201a8\"], [0.3333333333333333, \"#9c179e\"], [0.4444444444444444, \"#bd3786\"], [0.5555555555555556, \"#d8576b\"], [0.6666666666666666, \"#ed7953\"], [0.7777777777777778, \"#fb9f3a\"], [0.8888888888888888, \"#fdca26\"], [1.0, \"#f0f921\"]], \"sequentialminus\": [[0.0, \"#0d0887\"], [0.1111111111111111, \"#46039f\"], [0.2222222222222222, \"#7201a8\"], [0.3333333333333333, \"#9c179e\"], [0.4444444444444444, \"#bd3786\"], [0.5555555555555556, \"#d8576b\"], [0.6666666666666666, \"#ed7953\"], [0.7777777777777778, \"#fb9f3a\"], [0.8888888888888888, \"#fdca26\"], [1.0, \"#f0f921\"]]}, \"colorway\": [\"#636efa\", \"#EF553B\", \"#00cc96\", \"#ab63fa\", \"#FFA15A\", \"#19d3f3\", \"#FF6692\", \"#B6E880\", \"#FF97FF\", \"#FECB52\"], \"font\": {\"color\": \"#f2f5fa\"}, \"geo\": {\"bgcolor\": \"rgb(17,17,17)\", \"lakecolor\": \"rgb(17,17,17)\", \"landcolor\": \"rgb(17,17,17)\", \"showlakes\": true, \"showland\": true, \"subunitcolor\": \"#506784\"}, \"hoverlabel\": {\"align\": \"left\"}, \"hovermode\": \"closest\", \"mapbox\": {\"style\": \"dark\"}, \"paper_bgcolor\": \"rgb(17,17,17)\", \"plot_bgcolor\": \"rgb(17,17,17)\", \"polar\": {\"angularaxis\": {\"gridcolor\": \"#506784\", \"linecolor\": \"#506784\", \"ticks\": \"\"}, \"bgcolor\": \"rgb(17,17,17)\", \"radialaxis\": {\"gridcolor\": \"#506784\", \"linecolor\": \"#506784\", \"ticks\": \"\"}}, \"scene\": {\"xaxis\": {\"backgroundcolor\": \"rgb(17,17,17)\", \"gridcolor\": \"#506784\", \"gridwidth\": 2, \"linecolor\": \"#506784\", \"showbackground\": true, \"ticks\": \"\", \"zerolinecolor\": \"#C8D4E3\"}, \"yaxis\": {\"backgroundcolor\": \"rgb(17,17,17)\", \"gridcolor\": \"#506784\", \"gridwidth\": 2, \"linecolor\": \"#506784\", \"showbackground\": true, \"ticks\": \"\", \"zerolinecolor\": \"#C8D4E3\"}, \"zaxis\": {\"backgroundcolor\": \"rgb(17,17,17)\", \"gridcolor\": \"#506784\", \"gridwidth\": 2, \"linecolor\": \"#506784\", \"showbackground\": true, \"ticks\": \"\", \"zerolinecolor\": \"#C8D4E3\"}}, \"shapedefaults\": {\"line\": {\"color\": \"#f2f5fa\"}}, \"sliderdefaults\": {\"bgcolor\": \"#C8D4E3\", \"bordercolor\": \"rgb(17,17,17)\", \"borderwidth\": 1, \"tickwidth\": 0}, \"ternary\": {\"aaxis\": {\"gridcolor\": \"#506784\", \"linecolor\": \"#506784\", \"ticks\": \"\"}, \"baxis\": {\"gridcolor\": \"#506784\", \"linecolor\": \"#506784\", \"ticks\": \"\"}, \"bgcolor\": \"rgb(17,17,17)\", \"caxis\": {\"gridcolor\": \"#506784\", \"linecolor\": \"#506784\", \"ticks\": \"\"}}, \"title\": {\"x\": 0.05}, \"updatemenudefaults\": {\"bgcolor\": \"#506784\", \"borderwidth\": 0}, \"xaxis\": {\"automargin\": true, \"gridcolor\": \"#283442\", \"linecolor\": \"#506784\", \"ticks\": \"\", \"title\": {\"standoff\": 15}, \"zerolinecolor\": \"#283442\", \"zerolinewidth\": 2}, \"yaxis\": {\"automargin\": true, \"gridcolor\": \"#283442\", \"linecolor\": \"#506784\", \"ticks\": \"\", \"title\": {\"standoff\": 15}, \"zerolinecolor\": \"#283442\", \"zerolinewidth\": 2}}}, \"title\": {\"text\": \"Analysis for Chinese Players\"}, \"xaxis\": {\"linecolor\": \"white\", \"showgrid\": false, \"showline\": true, \"showticklabels\": true, \"tickfont\": {\"color\": \"white\", \"family\": \"Arial\", \"size\": 10}, \"title\": {\"font\": {\"color\": \"white\", \"family\": \"Arial, monospace\", \"size\": 14}, \"text\": \"Age\"}, \"zeroline\": false}, \"yaxis\": {\"linecolor\": \"white\", \"showgrid\": false, \"showline\": false, \"showticklabels\": true, \"tickfont\": {\"color\": \"white\", \"family\": \"Arial\", \"size\": 10}, \"title\": {\"font\": {\"color\": \"white\", \"family\": \"Arial, monospace\", \"size\": 14}, \"text\": \"Average Transfer Fee, in Euros\"}, \"zeroline\": false}, \"yaxis2\": {\"overlaying\": \"y\", \"showgrid\": false, \"side\": \"right\", \"title\": {\"text\": \"\"}, \"zeroline\": false}},\n",
       "                        {\"responsive\": true}\n",
       "                    ).then(function(){\n",
       "                            \n",
       "var gd = document.getElementById('6889fded-7554-4988-9af2-d04a982878a2');\n",
       "var x = new MutationObserver(function (mutations, observer) {{\n",
       "        var display = window.getComputedStyle(gd).display;\n",
       "        if (!display || display === 'none') {{\n",
       "            console.log([gd, 'removed!']);\n",
       "            Plotly.purge(gd);\n",
       "            observer.disconnect();\n",
       "        }}\n",
       "}});\n",
       "\n",
       "// Listen for the removal of the full notebook cells\n",
       "var notebookContainer = gd.closest('#notebook-container');\n",
       "if (notebookContainer) {{\n",
       "    x.observe(notebookContainer, {childList: true});\n",
       "}}\n",
       "\n",
       "// Listen for the clearing of the current output cell\n",
       "var outputEl = gd.closest('.output');\n",
       "if (outputEl) {{\n",
       "    x.observe(outputEl, {childList: true});\n",
       "}}\n",
       "\n",
       "                        })\n",
       "                };\n",
       "                });\n",
       "            </script>\n",
       "        </div>"
      ]
     },
     "metadata": {},
     "output_type": "display_data"
    }
   ],
   "source": [
    "fig9 = px.bar(China_Age.reset_index(),\n",
    "               x = \"Age\",\n",
    "               y = \"Transfer_mean\",\n",
    "               color = \"Surplus/Deficit\",\n",
    "               color_continuous_scale = px.colors.sequential.Blues,\n",
    "               hover_name = \"Age\",\n",
    "               title = 'Analysis for Chinese Players',\n",
    "               template = 'plotly_dark')\n",
    "fig9.add_trace(\n",
    "    go.Line(# interactive bar object\n",
    "                x = China_Age['Age'],\n",
    "                y = China_Age['Transfer_Count'],\n",
    "                name = \"Number of Transfers\",\n",
    "                marker = dict(color = 'rgb(237,239,93)'),\n",
    "                line = dict(width = 3),\n",
    "                text = China_Age['Transfer_Count'],\n",
    "                hovertemplate =\n",
    "                \"Nationality: %{x}<br>\" +\n",
    "                \"Number of Transfers: %{y:,.0f}\",\n",
    "                yaxis='y2')\n",
    ")    \n",
    "\n",
    "fig9.update_layout(\n",
    "    hoverlabel=dict(\n",
    "        bgcolor=\"black\",\n",
    "        font=dict(\n",
    "                family=\"Arial, monospace\",\n",
    "                size=14,\n",
    "                color=\"white\"\n",
    "            ),\n",
    "        bordercolor = \"black\"\n",
    "    ),\n",
    "    xaxis=go.layout.XAxis(\n",
    "        title=go.layout.xaxis.Title(\n",
    "            text=\"Age\",\n",
    "            font=dict(\n",
    "                family=\"Arial, monospace\",\n",
    "                size=14,\n",
    "                color=\"white\"\n",
    "            )\n",
    "        ),\n",
    "        showline = True,\n",
    "        linecolor = 'white',\n",
    "        showticklabels = True,\n",
    "        tickfont = dict(\n",
    "            family = 'Arial',\n",
    "            size = 10,\n",
    "            color = 'white'\n",
    "      )\n",
    "    ),\n",
    "    yaxis=go.layout.YAxis(\n",
    "        title=go.layout.yaxis.Title(\n",
    "            text=\"Average Transfer Fee, in Euros\",\n",
    "            font=dict(\n",
    "                family=\"Arial, monospace\",\n",
    "                size=14,\n",
    "                color=\"white\"\n",
    "            )\n",
    "        ),\n",
    "        showline = False,\n",
    "        linecolor = 'white',\n",
    "        showticklabels = True,\n",
    "        tickfont = dict(\n",
    "            family = 'Arial',\n",
    "            size = 10,\n",
    "            color = 'white'\n",
    "        )\n",
    "    ),\n",
    "yaxis2=dict(title='',\n",
    "           overlaying='y',\n",
    "           side='right'),\n",
    "           font=dict(\n",
    "                family=\"Arial, monospace\",\n",
    "                size=10,\n",
    "                color=\"white\"\n",
    "            )\n",
    "                 )\n",
    "\n",
    "fig9.update_layout(\n",
    "    legend=dict(\n",
    "        x=0.8,\n",
    "        y=1\n",
    "    )\n",
    ")\n",
    "\n",
    "fig9.update_layout(\n",
    "    xaxis=dict(showgrid=False, zeroline=False),\n",
    "    yaxis=dict(showgrid=False, zeroline=False),\n",
    "    yaxis2=dict(showgrid=False, zeroline=False)\n",
    ")\n",
    "\n",
    "\n",
    "# plot(fig9 ,filename = 'ChinaAgeAnalysis.html')\n",
    "fig9.show()"
   ]
  },
  {
   "cell_type": "markdown",
   "metadata": {},
   "source": [
    "<div class=\"alert alert-info\" role=\"alert\">\n",
    "  \n",
    "**CONCLUSION** <br>\n",
    "While this is just a stylized analysis, we are able to understand the varied underlying features of the Transfer including, but not limited to, bargaining power dynamics, importance of certain attributes and the benefits and curse of having wealthy owners. The aim is to develop further analysis based on this dataset to understand the dynamics of the Transfer Market in football.\n",
    "\n",
    "</div>"
   ]
  },
  {
   "cell_type": "code",
   "execution_count": null,
   "metadata": {},
   "outputs": [],
   "source": []
  }
 ],
 "metadata": {
  "kernelspec": {
   "display_name": "Python 3",
   "language": "python",
   "name": "python3"
  },
  "language_info": {
   "codemirror_mode": {
    "name": "ipython",
    "version": 3
   },
   "file_extension": ".py",
   "mimetype": "text/x-python",
   "name": "python",
   "nbconvert_exporter": "python",
   "pygments_lexer": "ipython3",
   "version": "3.7.4"
  }
 },
 "nbformat": 4,
 "nbformat_minor": 4
}
